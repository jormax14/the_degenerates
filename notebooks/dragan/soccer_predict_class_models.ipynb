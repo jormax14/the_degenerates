{
 "metadata": {
  "language_info": {
   "codemirror_mode": {
    "name": "ipython",
    "version": 3
   },
   "file_extension": ".py",
   "mimetype": "text/x-python",
   "name": "python",
   "nbconvert_exporter": "python",
   "pygments_lexer": "ipython3",
   "version": "3.7.7-final"
  },
  "orig_nbformat": 2,
  "kernelspec": {
   "name": "python3",
   "display_name": "Python 3.7.7 64-bit ('pyvizenv': conda)",
   "metadata": {
    "interpreter": {
     "hash": "6d180c226e1fb546a2a1623a132f2a8812479d52f4604fddc733d95b32da65e3"
    }
   }
  }
 },
 "nbformat": 4,
 "nbformat_minor": 2,
 "cells": [
  {
   "source": [
    "# Random Forest Model Home - Away Soccer Team Prediction\n",
    "___________________________\n",
    "## Seasons 2016 - 2017 Model Train Data / Season 2018 Test Data"
   ],
   "cell_type": "markdown",
   "metadata": {}
  },
  {
   "cell_type": "code",
   "execution_count": 3,
   "metadata": {},
   "outputs": [
    {
     "output_type": "stream",
     "name": "stderr",
     "text": [
      "\nBad key \"text.kerning_factor\" on line 4 in\n/Users/draganbogatic/opt/anaconda3/envs/pyvizenv/lib/python3.7/site-packages/matplotlib/mpl-data/stylelib/_classic_test_patch.mplstyle.\nYou probably need to get an updated matplotlibrc file from\nhttp://github.com/matplotlib/matplotlib/blob/master/matplotlibrc.template\nor from the matplotlib source distribution\n"
     ]
    },
    {
     "output_type": "display_data",
     "data": {
      "application/javascript": "\n(function(root) {\n  function now() {\n    return new Date();\n  }\n\n  var force = true;\n\n  if (typeof root._bokeh_onload_callbacks === \"undefined\" || force === true) {\n    root._bokeh_onload_callbacks = [];\n    root._bokeh_is_loading = undefined;\n  }\n\n  if (typeof (root._bokeh_timeout) === \"undefined\" || force === true) {\n    root._bokeh_timeout = Date.now() + 5000;\n    root._bokeh_failed_load = false;\n  }\n\n  function run_callbacks() {\n    try {\n      root._bokeh_onload_callbacks.forEach(function(callback) {\n        if (callback != null)\n          callback();\n      });\n    } finally {\n      delete root._bokeh_onload_callbacks\n    }\n    console.debug(\"Bokeh: all callbacks have finished\");\n  }\n\n  function load_libs(css_urls, js_urls, callback) {\n    if (css_urls == null) css_urls = [];\n    if (js_urls == null) js_urls = [];\n\n    root._bokeh_onload_callbacks.push(callback);\n    if (root._bokeh_is_loading > 0) {\n      console.debug(\"Bokeh: BokehJS is being loaded, scheduling callback at\", now());\n      return null;\n    }\n    if (js_urls == null || js_urls.length === 0) {\n      run_callbacks();\n      return null;\n    }\n    console.debug(\"Bokeh: BokehJS not loaded, scheduling load and callback at\", now());\n    root._bokeh_is_loading = css_urls.length + js_urls.length;\n\n    function on_load() {\n      root._bokeh_is_loading--;\n      if (root._bokeh_is_loading === 0) {\n        console.debug(\"Bokeh: all BokehJS libraries/stylesheets loaded\");\n        run_callbacks()\n      }\n    }\n\n    function on_error() {\n      console.error(\"failed to load \" + url);\n    }\n\n    for (var i = 0; i < css_urls.length; i++) {\n      var url = css_urls[i];\n      const element = document.createElement(\"link\");\n      element.onload = on_load;\n      element.onerror = on_error;\n      element.rel = \"stylesheet\";\n      element.type = \"text/css\";\n      element.href = url;\n      console.debug(\"Bokeh: injecting link tag for BokehJS stylesheet: \", url);\n      document.body.appendChild(element);\n    }\n\n    var skip = [];\n    if (window.requirejs) {\n      window.requirejs.config({'paths': {'plotly': 'https://cdn.plot.ly/plotly-latest.min'}});\n      require([\"plotly\"], function(Plotly,) {\n        window.Plotly = Plotly;\n      })\n    }\n    if (((window['Plotly'] !== undefined) && (!(window['Plotly'] instanceof HTMLElement))) || window.requirejs) {\n      var urls = ['https://cdn.plot.ly/plotly-latest.min.js'];\n      for (var i = 0; i < urls.length; i++) {\n        skip.push(urls[i])\n      }\n    }\n    for (var i = 0; i < js_urls.length; i++) {\n      var url = js_urls[i];\n      if (skip.indexOf(url) >= 0) { on_load(); continue; }\n      var element = document.createElement('script');\n      element.onload = on_load;\n      element.onerror = on_error;\n      element.async = false;\n      element.src = url;\n      console.debug(\"Bokeh: injecting script tag for BokehJS library: \", url);\n      document.head.appendChild(element);\n    }\n\tif (!js_urls.length) {\n      on_load()\n    }\n  };\n\n  function inject_raw_css(css) {\n    const element = document.createElement(\"style\");\n    element.appendChild(document.createTextNode(css));\n    document.body.appendChild(element);\n  }\n\n  var js_urls = [\"https://code.jquery.com/jquery-3.4.1.min.js\", \"https://cdn.plot.ly/plotly-latest.min.js\", \"https://cdn.bokeh.org/bokeh/release/bokeh-2.2.3.min.js\", \"https://cdn.bokeh.org/bokeh/release/bokeh-widgets-2.2.3.min.js\", \"https://cdn.bokeh.org/bokeh/release/bokeh-tables-2.2.3.min.js\", \"https://unpkg.com/@holoviz/panel@^0.10.2/dist/panel.min.js\"];\n  var css_urls = [\"https://unpkg.com/@holoviz/panel@0.10.2/dist/css/alerts.css\", \"https://unpkg.com/@holoviz/panel@0.10.2/dist/css/card.css\", \"https://unpkg.com/@holoviz/panel@0.10.2/dist/css/widgets.css\", \"https://unpkg.com/@holoviz/panel@0.10.2/dist/css/markdown.css\", \"https://unpkg.com/@holoviz/panel@0.10.2/dist/css/json.css\", \"https://unpkg.com/@holoviz/panel@0.10.2/dist/css/dataframe.css\"];\n\n  var inline_js = [\n    function(Bokeh) {\n      Bokeh.set_log_level(\"info\");\n    },\n    function(Bokeh) {} // ensure no trailing comma for IE\n  ];\n\n  function run_inline_js() {\n    if ((root.Bokeh !== undefined) || (force === true)) {\n      for (var i = 0; i < inline_js.length; i++) {\n        inline_js[i].call(root, root.Bokeh);\n      }} else if (Date.now() < root._bokeh_timeout) {\n      setTimeout(run_inline_js, 100);\n    } else if (!root._bokeh_failed_load) {\n      console.log(\"Bokeh: BokehJS failed to load within specified timeout.\");\n      root._bokeh_failed_load = true;\n    }\n  }\n\n  if (root._bokeh_is_loading === 0) {\n    console.debug(\"Bokeh: BokehJS loaded, going straight to plotting\");\n    run_inline_js();\n  } else {\n    load_libs(css_urls, js_urls, function() {\n      console.debug(\"Bokeh: BokehJS plotting callback run at\", now());\n      run_inline_js();\n    });\n  }\n}(window));",
      "application/vnd.holoviews_load.v0+json": "\n(function(root) {\n  function now() {\n    return new Date();\n  }\n\n  var force = true;\n\n  if (typeof root._bokeh_onload_callbacks === \"undefined\" || force === true) {\n    root._bokeh_onload_callbacks = [];\n    root._bokeh_is_loading = undefined;\n  }\n\n  if (typeof (root._bokeh_timeout) === \"undefined\" || force === true) {\n    root._bokeh_timeout = Date.now() + 5000;\n    root._bokeh_failed_load = false;\n  }\n\n  function run_callbacks() {\n    try {\n      root._bokeh_onload_callbacks.forEach(function(callback) {\n        if (callback != null)\n          callback();\n      });\n    } finally {\n      delete root._bokeh_onload_callbacks\n    }\n    console.debug(\"Bokeh: all callbacks have finished\");\n  }\n\n  function load_libs(css_urls, js_urls, callback) {\n    if (css_urls == null) css_urls = [];\n    if (js_urls == null) js_urls = [];\n\n    root._bokeh_onload_callbacks.push(callback);\n    if (root._bokeh_is_loading > 0) {\n      console.debug(\"Bokeh: BokehJS is being loaded, scheduling callback at\", now());\n      return null;\n    }\n    if (js_urls == null || js_urls.length === 0) {\n      run_callbacks();\n      return null;\n    }\n    console.debug(\"Bokeh: BokehJS not loaded, scheduling load and callback at\", now());\n    root._bokeh_is_loading = css_urls.length + js_urls.length;\n\n    function on_load() {\n      root._bokeh_is_loading--;\n      if (root._bokeh_is_loading === 0) {\n        console.debug(\"Bokeh: all BokehJS libraries/stylesheets loaded\");\n        run_callbacks()\n      }\n    }\n\n    function on_error() {\n      console.error(\"failed to load \" + url);\n    }\n\n    for (var i = 0; i < css_urls.length; i++) {\n      var url = css_urls[i];\n      const element = document.createElement(\"link\");\n      element.onload = on_load;\n      element.onerror = on_error;\n      element.rel = \"stylesheet\";\n      element.type = \"text/css\";\n      element.href = url;\n      console.debug(\"Bokeh: injecting link tag for BokehJS stylesheet: \", url);\n      document.body.appendChild(element);\n    }\n\n    var skip = [];\n    if (window.requirejs) {\n      window.requirejs.config({'paths': {'plotly': 'https://cdn.plot.ly/plotly-latest.min'}});\n      require([\"plotly\"], function(Plotly,) {\n        window.Plotly = Plotly;\n      })\n    }\n    if (((window['Plotly'] !== undefined) && (!(window['Plotly'] instanceof HTMLElement))) || window.requirejs) {\n      var urls = ['https://cdn.plot.ly/plotly-latest.min.js'];\n      for (var i = 0; i < urls.length; i++) {\n        skip.push(urls[i])\n      }\n    }\n    for (var i = 0; i < js_urls.length; i++) {\n      var url = js_urls[i];\n      if (skip.indexOf(url) >= 0) { on_load(); continue; }\n      var element = document.createElement('script');\n      element.onload = on_load;\n      element.onerror = on_error;\n      element.async = false;\n      element.src = url;\n      console.debug(\"Bokeh: injecting script tag for BokehJS library: \", url);\n      document.head.appendChild(element);\n    }\n\tif (!js_urls.length) {\n      on_load()\n    }\n  };\n\n  function inject_raw_css(css) {\n    const element = document.createElement(\"style\");\n    element.appendChild(document.createTextNode(css));\n    document.body.appendChild(element);\n  }\n\n  var js_urls = [\"https://code.jquery.com/jquery-3.4.1.min.js\", \"https://cdn.plot.ly/plotly-latest.min.js\", \"https://cdn.bokeh.org/bokeh/release/bokeh-2.2.3.min.js\", \"https://cdn.bokeh.org/bokeh/release/bokeh-widgets-2.2.3.min.js\", \"https://cdn.bokeh.org/bokeh/release/bokeh-tables-2.2.3.min.js\", \"https://unpkg.com/@holoviz/panel@^0.10.2/dist/panel.min.js\"];\n  var css_urls = [\"https://unpkg.com/@holoviz/panel@0.10.2/dist/css/alerts.css\", \"https://unpkg.com/@holoviz/panel@0.10.2/dist/css/card.css\", \"https://unpkg.com/@holoviz/panel@0.10.2/dist/css/widgets.css\", \"https://unpkg.com/@holoviz/panel@0.10.2/dist/css/markdown.css\", \"https://unpkg.com/@holoviz/panel@0.10.2/dist/css/json.css\", \"https://unpkg.com/@holoviz/panel@0.10.2/dist/css/dataframe.css\"];\n\n  var inline_js = [\n    function(Bokeh) {\n      Bokeh.set_log_level(\"info\");\n    },\n    function(Bokeh) {} // ensure no trailing comma for IE\n  ];\n\n  function run_inline_js() {\n    if ((root.Bokeh !== undefined) || (force === true)) {\n      for (var i = 0; i < inline_js.length; i++) {\n        inline_js[i].call(root, root.Bokeh);\n      }} else if (Date.now() < root._bokeh_timeout) {\n      setTimeout(run_inline_js, 100);\n    } else if (!root._bokeh_failed_load) {\n      console.log(\"Bokeh: BokehJS failed to load within specified timeout.\");\n      root._bokeh_failed_load = true;\n    }\n  }\n\n  if (root._bokeh_is_loading === 0) {\n    console.debug(\"Bokeh: BokehJS loaded, going straight to plotting\");\n    run_inline_js();\n  } else {\n    load_libs(css_urls, js_urls, function() {\n      console.debug(\"Bokeh: BokehJS plotting callback run at\", now());\n      run_inline_js();\n    });\n  }\n}(window));"
     },
     "metadata": {}
    },
    {
     "output_type": "display_data",
     "data": {
      "application/vnd.holoviews_load.v0+json": "\nif ((window.PyViz === undefined) || (window.PyViz instanceof HTMLElement)) {\n  window.PyViz = {comms: {}, comm_status:{}, kernels:{}, receivers: {}, plot_index: []}\n}\n\n\n    function JupyterCommManager() {\n    }\n\n    JupyterCommManager.prototype.register_target = function(plot_id, comm_id, msg_handler) {\n      if (window.comm_manager || ((window.Jupyter !== undefined) && (Jupyter.notebook.kernel != null))) {\n        var comm_manager = window.comm_manager || Jupyter.notebook.kernel.comm_manager;\n        comm_manager.register_target(comm_id, function(comm) {\n          comm.on_msg(msg_handler);\n        });\n      } else if ((plot_id in window.PyViz.kernels) && (window.PyViz.kernels[plot_id])) {\n        window.PyViz.kernels[plot_id].registerCommTarget(comm_id, function(comm) {\n          comm.onMsg = msg_handler;\n        });\n      } else if (typeof google != 'undefined' && google.colab.kernel != null) {\n        google.colab.kernel.comms.registerTarget(comm_id, (comm) => {\n          var messages = comm.messages[Symbol.asyncIterator]();\n          function processIteratorResult(result) {\n            var message = result.value;\n            console.log(message)\n            var content = {data: message.data, comm_id};\n            var buffers = []\n            for (var buffer of message.buffers || []) {\n              buffers.push(new DataView(buffer))\n            }\n            var metadata = message.metadata || {};\n            var msg = {content, buffers, metadata}\n            msg_handler(msg);\n            return messages.next().then(processIteratorResult);\n          }\n          return messages.next().then(processIteratorResult);\n        })\n      }\n    }\n\n    JupyterCommManager.prototype.get_client_comm = function(plot_id, comm_id, msg_handler) {\n      if (comm_id in window.PyViz.comms) {\n        return window.PyViz.comms[comm_id];\n      } else if (window.comm_manager || ((window.Jupyter !== undefined) && (Jupyter.notebook.kernel != null))) {\n        var comm_manager = window.comm_manager || Jupyter.notebook.kernel.comm_manager;\n        var comm = comm_manager.new_comm(comm_id, {}, {}, {}, comm_id);\n        if (msg_handler) {\n          comm.on_msg(msg_handler);\n        }\n      } else if ((plot_id in window.PyViz.kernels) && (window.PyViz.kernels[plot_id])) {\n        var comm = window.PyViz.kernels[plot_id].connectToComm(comm_id);\n        comm.open();\n        if (msg_handler) {\n          comm.onMsg = msg_handler;\n        }\n      } else if (typeof google != 'undefined' && google.colab.kernel != null) {\n        var comm_promise = google.colab.kernel.comms.open(comm_id)\n        comm_promise.then((comm) => {\n          window.PyViz.comms[comm_id] = comm;\n          if (msg_handler) {\n            var messages = comm.messages[Symbol.asyncIterator]();\n            function processIteratorResult(result) {\n              var message = result.value;\n              var content = {data: message.data};\n              var metadata = message.metadata || {comm_id};\n              var msg = {content, metadata}\n              msg_handler(msg);\n              return messages.next().then(processIteratorResult);\n            }\n            return messages.next().then(processIteratorResult);\n          }\n        }) \n        var sendClosure = (data, metadata, buffers, disposeOnDone) => {\n          return comm_promise.then((comm) => {\n            comm.send(data, metadata, buffers, disposeOnDone);\n          });\n        };\n        var comm = {\n          send: sendClosure\n        };\n      }\n      window.PyViz.comms[comm_id] = comm;\n      return comm;\n    }\n    window.PyViz.comm_manager = new JupyterCommManager();\n    \n\n\nvar JS_MIME_TYPE = 'application/javascript';\nvar HTML_MIME_TYPE = 'text/html';\nvar EXEC_MIME_TYPE = 'application/vnd.holoviews_exec.v0+json';\nvar CLASS_NAME = 'output';\n\n/**\n * Render data to the DOM node\n */\nfunction render(props, node) {\n  var div = document.createElement(\"div\");\n  var script = document.createElement(\"script\");\n  node.appendChild(div);\n  node.appendChild(script);\n}\n\n/**\n * Handle when a new output is added\n */\nfunction handle_add_output(event, handle) {\n  var output_area = handle.output_area;\n  var output = handle.output;\n  if ((output.data == undefined) || (!output.data.hasOwnProperty(EXEC_MIME_TYPE))) {\n    return\n  }\n  var id = output.metadata[EXEC_MIME_TYPE][\"id\"];\n  var toinsert = output_area.element.find(\".\" + CLASS_NAME.split(' ')[0]);\n  if (id !== undefined) {\n    var nchildren = toinsert.length;\n    var html_node = toinsert[nchildren-1].children[0];\n    html_node.innerHTML = output.data[HTML_MIME_TYPE];\n    var scripts = [];\n    var nodelist = html_node.querySelectorAll(\"script\");\n    for (var i in nodelist) {\n      if (nodelist.hasOwnProperty(i)) {\n        scripts.push(nodelist[i])\n      }\n    }\n\n    scripts.forEach( function (oldScript) {\n      var newScript = document.createElement(\"script\");\n      var attrs = [];\n      var nodemap = oldScript.attributes;\n      for (var j in nodemap) {\n        if (nodemap.hasOwnProperty(j)) {\n          attrs.push(nodemap[j])\n        }\n      }\n      attrs.forEach(function(attr) { newScript.setAttribute(attr.name, attr.value) });\n      newScript.appendChild(document.createTextNode(oldScript.innerHTML));\n      oldScript.parentNode.replaceChild(newScript, oldScript);\n    });\n    if (JS_MIME_TYPE in output.data) {\n      toinsert[nchildren-1].children[1].textContent = output.data[JS_MIME_TYPE];\n    }\n    output_area._hv_plot_id = id;\n    if ((window.Bokeh !== undefined) && (id in Bokeh.index)) {\n      window.PyViz.plot_index[id] = Bokeh.index[id];\n    } else {\n      window.PyViz.plot_index[id] = null;\n    }\n  } else if (output.metadata[EXEC_MIME_TYPE][\"server_id\"] !== undefined) {\n    var bk_div = document.createElement(\"div\");\n    bk_div.innerHTML = output.data[HTML_MIME_TYPE];\n    var script_attrs = bk_div.children[0].attributes;\n    for (var i = 0; i < script_attrs.length; i++) {\n      toinsert[toinsert.length - 1].childNodes[1].setAttribute(script_attrs[i].name, script_attrs[i].value);\n    }\n    // store reference to server id on output_area\n    output_area._bokeh_server_id = output.metadata[EXEC_MIME_TYPE][\"server_id\"];\n  }\n}\n\n/**\n * Handle when an output is cleared or removed\n */\nfunction handle_clear_output(event, handle) {\n  var id = handle.cell.output_area._hv_plot_id;\n  var server_id = handle.cell.output_area._bokeh_server_id;\n  if (((id === undefined) || !(id in PyViz.plot_index)) && (server_id !== undefined)) { return; }\n  var comm = window.PyViz.comm_manager.get_client_comm(\"hv-extension-comm\", \"hv-extension-comm\", function () {});\n  if (server_id !== null) {\n    comm.send({event_type: 'server_delete', 'id': server_id});\n    return;\n  } else if (comm !== null) {\n    comm.send({event_type: 'delete', 'id': id});\n  }\n  delete PyViz.plot_index[id];\n  if ((window.Bokeh !== undefined) & (id in window.Bokeh.index)) {\n    var doc = window.Bokeh.index[id].model.document\n    doc.clear();\n    const i = window.Bokeh.documents.indexOf(doc);\n    if (i > -1) {\n      window.Bokeh.documents.splice(i, 1);\n    }\n  }\n}\n\n/**\n * Handle kernel restart event\n */\nfunction handle_kernel_cleanup(event, handle) {\n  delete PyViz.comms[\"hv-extension-comm\"];\n  window.PyViz.plot_index = {}\n}\n\n/**\n * Handle update_display_data messages\n */\nfunction handle_update_output(event, handle) {\n  handle_clear_output(event, {cell: {output_area: handle.output_area}})\n  handle_add_output(event, handle)\n}\n\nfunction register_renderer(events, OutputArea) {\n  function append_mime(data, metadata, element) {\n    // create a DOM node to render to\n    var toinsert = this.create_output_subarea(\n    metadata,\n    CLASS_NAME,\n    EXEC_MIME_TYPE\n    );\n    this.keyboard_manager.register_events(toinsert);\n    // Render to node\n    var props = {data: data, metadata: metadata[EXEC_MIME_TYPE]};\n    render(props, toinsert[0]);\n    element.append(toinsert);\n    return toinsert\n  }\n\n  events.on('output_added.OutputArea', handle_add_output);\n  events.on('output_updated.OutputArea', handle_update_output);\n  events.on('clear_output.CodeCell', handle_clear_output);\n  events.on('delete.Cell', handle_clear_output);\n  events.on('kernel_ready.Kernel', handle_kernel_cleanup);\n\n  OutputArea.prototype.register_mime_type(EXEC_MIME_TYPE, append_mime, {\n    safe: true,\n    index: 0\n  });\n}\n\nif (window.Jupyter !== undefined) {\n  try {\n    var events = require('base/js/events');\n    var OutputArea = require('notebook/js/outputarea').OutputArea;\n    if (OutputArea.prototype.mime_types().indexOf(EXEC_MIME_TYPE) == -1) {\n      register_renderer(events, OutputArea);\n    }\n  } catch(err) {\n  }\n}\n",
      "application/javascript": "\nif ((window.PyViz === undefined) || (window.PyViz instanceof HTMLElement)) {\n  window.PyViz = {comms: {}, comm_status:{}, kernels:{}, receivers: {}, plot_index: []}\n}\n\n\n    function JupyterCommManager() {\n    }\n\n    JupyterCommManager.prototype.register_target = function(plot_id, comm_id, msg_handler) {\n      if (window.comm_manager || ((window.Jupyter !== undefined) && (Jupyter.notebook.kernel != null))) {\n        var comm_manager = window.comm_manager || Jupyter.notebook.kernel.comm_manager;\n        comm_manager.register_target(comm_id, function(comm) {\n          comm.on_msg(msg_handler);\n        });\n      } else if ((plot_id in window.PyViz.kernels) && (window.PyViz.kernels[plot_id])) {\n        window.PyViz.kernels[plot_id].registerCommTarget(comm_id, function(comm) {\n          comm.onMsg = msg_handler;\n        });\n      } else if (typeof google != 'undefined' && google.colab.kernel != null) {\n        google.colab.kernel.comms.registerTarget(comm_id, (comm) => {\n          var messages = comm.messages[Symbol.asyncIterator]();\n          function processIteratorResult(result) {\n            var message = result.value;\n            console.log(message)\n            var content = {data: message.data, comm_id};\n            var buffers = []\n            for (var buffer of message.buffers || []) {\n              buffers.push(new DataView(buffer))\n            }\n            var metadata = message.metadata || {};\n            var msg = {content, buffers, metadata}\n            msg_handler(msg);\n            return messages.next().then(processIteratorResult);\n          }\n          return messages.next().then(processIteratorResult);\n        })\n      }\n    }\n\n    JupyterCommManager.prototype.get_client_comm = function(plot_id, comm_id, msg_handler) {\n      if (comm_id in window.PyViz.comms) {\n        return window.PyViz.comms[comm_id];\n      } else if (window.comm_manager || ((window.Jupyter !== undefined) && (Jupyter.notebook.kernel != null))) {\n        var comm_manager = window.comm_manager || Jupyter.notebook.kernel.comm_manager;\n        var comm = comm_manager.new_comm(comm_id, {}, {}, {}, comm_id);\n        if (msg_handler) {\n          comm.on_msg(msg_handler);\n        }\n      } else if ((plot_id in window.PyViz.kernels) && (window.PyViz.kernels[plot_id])) {\n        var comm = window.PyViz.kernels[plot_id].connectToComm(comm_id);\n        comm.open();\n        if (msg_handler) {\n          comm.onMsg = msg_handler;\n        }\n      } else if (typeof google != 'undefined' && google.colab.kernel != null) {\n        var comm_promise = google.colab.kernel.comms.open(comm_id)\n        comm_promise.then((comm) => {\n          window.PyViz.comms[comm_id] = comm;\n          if (msg_handler) {\n            var messages = comm.messages[Symbol.asyncIterator]();\n            function processIteratorResult(result) {\n              var message = result.value;\n              var content = {data: message.data};\n              var metadata = message.metadata || {comm_id};\n              var msg = {content, metadata}\n              msg_handler(msg);\n              return messages.next().then(processIteratorResult);\n            }\n            return messages.next().then(processIteratorResult);\n          }\n        }) \n        var sendClosure = (data, metadata, buffers, disposeOnDone) => {\n          return comm_promise.then((comm) => {\n            comm.send(data, metadata, buffers, disposeOnDone);\n          });\n        };\n        var comm = {\n          send: sendClosure\n        };\n      }\n      window.PyViz.comms[comm_id] = comm;\n      return comm;\n    }\n    window.PyViz.comm_manager = new JupyterCommManager();\n    \n\n\nvar JS_MIME_TYPE = 'application/javascript';\nvar HTML_MIME_TYPE = 'text/html';\nvar EXEC_MIME_TYPE = 'application/vnd.holoviews_exec.v0+json';\nvar CLASS_NAME = 'output';\n\n/**\n * Render data to the DOM node\n */\nfunction render(props, node) {\n  var div = document.createElement(\"div\");\n  var script = document.createElement(\"script\");\n  node.appendChild(div);\n  node.appendChild(script);\n}\n\n/**\n * Handle when a new output is added\n */\nfunction handle_add_output(event, handle) {\n  var output_area = handle.output_area;\n  var output = handle.output;\n  if ((output.data == undefined) || (!output.data.hasOwnProperty(EXEC_MIME_TYPE))) {\n    return\n  }\n  var id = output.metadata[EXEC_MIME_TYPE][\"id\"];\n  var toinsert = output_area.element.find(\".\" + CLASS_NAME.split(' ')[0]);\n  if (id !== undefined) {\n    var nchildren = toinsert.length;\n    var html_node = toinsert[nchildren-1].children[0];\n    html_node.innerHTML = output.data[HTML_MIME_TYPE];\n    var scripts = [];\n    var nodelist = html_node.querySelectorAll(\"script\");\n    for (var i in nodelist) {\n      if (nodelist.hasOwnProperty(i)) {\n        scripts.push(nodelist[i])\n      }\n    }\n\n    scripts.forEach( function (oldScript) {\n      var newScript = document.createElement(\"script\");\n      var attrs = [];\n      var nodemap = oldScript.attributes;\n      for (var j in nodemap) {\n        if (nodemap.hasOwnProperty(j)) {\n          attrs.push(nodemap[j])\n        }\n      }\n      attrs.forEach(function(attr) { newScript.setAttribute(attr.name, attr.value) });\n      newScript.appendChild(document.createTextNode(oldScript.innerHTML));\n      oldScript.parentNode.replaceChild(newScript, oldScript);\n    });\n    if (JS_MIME_TYPE in output.data) {\n      toinsert[nchildren-1].children[1].textContent = output.data[JS_MIME_TYPE];\n    }\n    output_area._hv_plot_id = id;\n    if ((window.Bokeh !== undefined) && (id in Bokeh.index)) {\n      window.PyViz.plot_index[id] = Bokeh.index[id];\n    } else {\n      window.PyViz.plot_index[id] = null;\n    }\n  } else if (output.metadata[EXEC_MIME_TYPE][\"server_id\"] !== undefined) {\n    var bk_div = document.createElement(\"div\");\n    bk_div.innerHTML = output.data[HTML_MIME_TYPE];\n    var script_attrs = bk_div.children[0].attributes;\n    for (var i = 0; i < script_attrs.length; i++) {\n      toinsert[toinsert.length - 1].childNodes[1].setAttribute(script_attrs[i].name, script_attrs[i].value);\n    }\n    // store reference to server id on output_area\n    output_area._bokeh_server_id = output.metadata[EXEC_MIME_TYPE][\"server_id\"];\n  }\n}\n\n/**\n * Handle when an output is cleared or removed\n */\nfunction handle_clear_output(event, handle) {\n  var id = handle.cell.output_area._hv_plot_id;\n  var server_id = handle.cell.output_area._bokeh_server_id;\n  if (((id === undefined) || !(id in PyViz.plot_index)) && (server_id !== undefined)) { return; }\n  var comm = window.PyViz.comm_manager.get_client_comm(\"hv-extension-comm\", \"hv-extension-comm\", function () {});\n  if (server_id !== null) {\n    comm.send({event_type: 'server_delete', 'id': server_id});\n    return;\n  } else if (comm !== null) {\n    comm.send({event_type: 'delete', 'id': id});\n  }\n  delete PyViz.plot_index[id];\n  if ((window.Bokeh !== undefined) & (id in window.Bokeh.index)) {\n    var doc = window.Bokeh.index[id].model.document\n    doc.clear();\n    const i = window.Bokeh.documents.indexOf(doc);\n    if (i > -1) {\n      window.Bokeh.documents.splice(i, 1);\n    }\n  }\n}\n\n/**\n * Handle kernel restart event\n */\nfunction handle_kernel_cleanup(event, handle) {\n  delete PyViz.comms[\"hv-extension-comm\"];\n  window.PyViz.plot_index = {}\n}\n\n/**\n * Handle update_display_data messages\n */\nfunction handle_update_output(event, handle) {\n  handle_clear_output(event, {cell: {output_area: handle.output_area}})\n  handle_add_output(event, handle)\n}\n\nfunction register_renderer(events, OutputArea) {\n  function append_mime(data, metadata, element) {\n    // create a DOM node to render to\n    var toinsert = this.create_output_subarea(\n    metadata,\n    CLASS_NAME,\n    EXEC_MIME_TYPE\n    );\n    this.keyboard_manager.register_events(toinsert);\n    // Render to node\n    var props = {data: data, metadata: metadata[EXEC_MIME_TYPE]};\n    render(props, toinsert[0]);\n    element.append(toinsert);\n    return toinsert\n  }\n\n  events.on('output_added.OutputArea', handle_add_output);\n  events.on('output_updated.OutputArea', handle_update_output);\n  events.on('clear_output.CodeCell', handle_clear_output);\n  events.on('delete.Cell', handle_clear_output);\n  events.on('kernel_ready.Kernel', handle_kernel_cleanup);\n\n  OutputArea.prototype.register_mime_type(EXEC_MIME_TYPE, append_mime, {\n    safe: true,\n    index: 0\n  });\n}\n\nif (window.Jupyter !== undefined) {\n  try {\n    var events = require('base/js/events');\n    var OutputArea = require('notebook/js/outputarea').OutputArea;\n    if (OutputArea.prototype.mime_types().indexOf(EXEC_MIME_TYPE) == -1) {\n      register_renderer(events, OutputArea);\n    }\n  } catch(err) {\n  }\n}\n"
     },
     "metadata": {}
    }
   ],
   "source": [
    "import warnings\n",
    "warnings.filterwarnings('ignore')\n",
    "from collections import Counter\n",
    "\n",
    "import pandas as pd\n",
    "import numpy as np\n",
    "\n",
    "import matplotlib.pyplot as plt\n",
    "import plotly.express as px\n",
    "import panel as pn\n",
    "from panel.interact import interact\n",
    "from panel import widgets\n",
    "pn.extension('plotly')\n",
    "\n",
    "from sklearn import metrics\n",
    "from sklearn.metrics import balanced_accuracy_score\n",
    "from sklearn.metrics import confusion_matrix\n",
    "from imblearn.metrics import classification_report_imbalanced\n",
    "\n",
    "%matplotlib inline\n",
    "\n",
    "%matplotlib inline"
   ]
  },
  {
   "cell_type": "code",
   "execution_count": 4,
   "metadata": {},
   "outputs": [],
   "source": [
    "''' Source: https://www.freecodecamp.org/news/how-to-combine-multiple-csv-files-with-8-lines-of-code-265183e0854/\n",
    "'''\n",
    "import os\n",
    "#import glob\n",
    "\n",
    "#os.chdir('premier_league/test/team_fixtures_2019')\n",
    "#extension = 'csv'"
   ]
  },
  {
   "cell_type": "code",
   "execution_count": 5,
   "metadata": {},
   "outputs": [],
   "source": [
    "# Reading in and printing all .csv files by season to create complete datasets per season and then create train dataset 2016-2018 seasons and test dataset 2019 season; run the code below one by one and replace the year in os.chdir code in the above cell.\n",
    "\n",
    "#all_files_2016 = [i for i in glob.glob('*.{}'.format(extension))]\n",
    "\n",
    "# combine all files in the list\n",
    "\n",
    "#season_2016 = pd.concat([pd.read_csv(f) for f in all_files_2016])\n",
    "# export to csv\n",
    "\n",
    "#season_2016.to_csv(\"complete_2016.csv\", index=False)\n",
    "\n",
    "#all_files_2017 = [i for i in glob.glob('*.{}'.format(extension))]\n",
    "#season_2017 = pd.concat([pd.read_csv(f) for f in all_files_2017])\n",
    "#season_2017.to_csv(\"complete_2017.csv\", index=False)\n",
    "\n",
    "#all_files_2018 = [i for i in glob.glob('*.{}'.format(extension))]\n",
    "#season_2018 = pd.concat([pd.read_csv(f) for f in all_files_2018])\n",
    "#season_2018.to_csv(\"complete_2018.csv\", index=False)\n",
    "\n",
    "#all_files_2019 = [i for i in glob.glob('*.{}'.format(extension))]\n",
    "#season_2019 = pd.concat([pd.read_csv(f) for f in all_files_2019])\n",
    "#season_2019.to_csv(\"complete_2019.csv\", index=False)"
   ]
  },
  {
   "cell_type": "code",
   "execution_count": 6,
   "metadata": {},
   "outputs": [],
   "source": [
    "# Printed complete seasons are moved to data folder to be cleaned further; I had to use full path because VsCode would not recognize relative path; adjust it in your code\n",
    "\n",
    "df_2016 = pd.read_csv('/Users/draganbogatic/Documents/Fin_Tech/soccer_win_predict/data/complete_2016.csv')\n",
    "df_2017 = pd.read_csv('/Users/draganbogatic/Documents/Fin_Tech/soccer_win_predict/data/complete_2017.csv')\n",
    "df_2018 = pd.read_csv('/Users/draganbogatic/Documents/Fin_Tech/soccer_win_predict/data/complete_2018.csv')\n",
    "df_2019 = pd.read_csv('/Users/draganbogatic/Documents/Fin_Tech/soccer_win_predict/data/complete_2019.csv')"
   ]
  },
  {
   "cell_type": "code",
   "execution_count": 7,
   "metadata": {},
   "outputs": [
    {
     "output_type": "execute_result",
     "data": {
      "text/plain": [
       "   Unnamed: 0  fixture_id  h_result                 event_date  \\\n",
       "0           0       17692         0  2016-08-13T14:00:00+00:00   \n",
       "1           1       17682         2  2016-08-20T14:00:00+00:00   \n",
       "2           2       17671         1  2016-08-27T14:00:00+00:00   \n",
       "3           3       17663         0  2016-09-10T14:00:00+00:00   \n",
       "4           4       17648         2  2016-09-18T13:15:00+00:00   \n",
       "\n",
       "             venue  h_team  a_team  h_halftime_score  a_haftime_score  \\\n",
       "0    Selhurst Park      52      60                 0                0   \n",
       "1  White Hart Lane      47      52                 0                0   \n",
       "2    Selhurst Park      52      35                 0                1   \n",
       "3        Riverside      70      52                 1                1   \n",
       "4    Selhurst Park      52      75                 2                0   \n",
       "\n",
       "   h_fulltime_score  ...  h_red_cards  a_red_cards  h_goalkeeper_saves  \\\n",
       "0                 0  ...          NaN          NaN                 2.0   \n",
       "1                 1  ...          NaN          NaN                 2.0   \n",
       "2                 1  ...          NaN          NaN                 2.0   \n",
       "3                 1  ...          NaN          NaN                 2.0   \n",
       "4                 4  ...          NaN          NaN                 3.0   \n",
       "\n",
       "   a_goalkeeper_saves  h_total_passes  a_total_passes  h_accurate_passes  \\\n",
       "0                 4.0             414             245                298   \n",
       "1                 4.0             440             325                353   \n",
       "2                 3.0             447             326                380   \n",
       "3                 3.0             526             390                450   \n",
       "4                 3.0             459             350                376   \n",
       "\n",
       "   a_accurate_passes  h_pass_percentage  a_pass_percentage  \n",
       "0                143                72%                58%  \n",
       "1                234                80%                72%  \n",
       "2                246                85%                75%  \n",
       "3                306                86%                78%  \n",
       "4                259                82%                74%  \n",
       "\n",
       "[5 rows x 43 columns]"
      ],
      "text/html": "<div>\n<style scoped>\n    .dataframe tbody tr th:only-of-type {\n        vertical-align: middle;\n    }\n\n    .dataframe tbody tr th {\n        vertical-align: top;\n    }\n\n    .dataframe thead th {\n        text-align: right;\n    }\n</style>\n<table border=\"1\" class=\"dataframe\">\n  <thead>\n    <tr style=\"text-align: right;\">\n      <th></th>\n      <th>Unnamed: 0</th>\n      <th>fixture_id</th>\n      <th>h_result</th>\n      <th>event_date</th>\n      <th>venue</th>\n      <th>h_team</th>\n      <th>a_team</th>\n      <th>h_halftime_score</th>\n      <th>a_haftime_score</th>\n      <th>h_fulltime_score</th>\n      <th>...</th>\n      <th>h_red_cards</th>\n      <th>a_red_cards</th>\n      <th>h_goalkeeper_saves</th>\n      <th>a_goalkeeper_saves</th>\n      <th>h_total_passes</th>\n      <th>a_total_passes</th>\n      <th>h_accurate_passes</th>\n      <th>a_accurate_passes</th>\n      <th>h_pass_percentage</th>\n      <th>a_pass_percentage</th>\n    </tr>\n  </thead>\n  <tbody>\n    <tr>\n      <th>0</th>\n      <td>0</td>\n      <td>17692</td>\n      <td>0</td>\n      <td>2016-08-13T14:00:00+00:00</td>\n      <td>Selhurst Park</td>\n      <td>52</td>\n      <td>60</td>\n      <td>0</td>\n      <td>0</td>\n      <td>0</td>\n      <td>...</td>\n      <td>NaN</td>\n      <td>NaN</td>\n      <td>2.0</td>\n      <td>4.0</td>\n      <td>414</td>\n      <td>245</td>\n      <td>298</td>\n      <td>143</td>\n      <td>72%</td>\n      <td>58%</td>\n    </tr>\n    <tr>\n      <th>1</th>\n      <td>1</td>\n      <td>17682</td>\n      <td>2</td>\n      <td>2016-08-20T14:00:00+00:00</td>\n      <td>White Hart Lane</td>\n      <td>47</td>\n      <td>52</td>\n      <td>0</td>\n      <td>0</td>\n      <td>1</td>\n      <td>...</td>\n      <td>NaN</td>\n      <td>NaN</td>\n      <td>2.0</td>\n      <td>4.0</td>\n      <td>440</td>\n      <td>325</td>\n      <td>353</td>\n      <td>234</td>\n      <td>80%</td>\n      <td>72%</td>\n    </tr>\n    <tr>\n      <th>2</th>\n      <td>2</td>\n      <td>17671</td>\n      <td>1</td>\n      <td>2016-08-27T14:00:00+00:00</td>\n      <td>Selhurst Park</td>\n      <td>52</td>\n      <td>35</td>\n      <td>0</td>\n      <td>1</td>\n      <td>1</td>\n      <td>...</td>\n      <td>NaN</td>\n      <td>NaN</td>\n      <td>2.0</td>\n      <td>3.0</td>\n      <td>447</td>\n      <td>326</td>\n      <td>380</td>\n      <td>246</td>\n      <td>85%</td>\n      <td>75%</td>\n    </tr>\n    <tr>\n      <th>3</th>\n      <td>3</td>\n      <td>17663</td>\n      <td>0</td>\n      <td>2016-09-10T14:00:00+00:00</td>\n      <td>Riverside</td>\n      <td>70</td>\n      <td>52</td>\n      <td>1</td>\n      <td>1</td>\n      <td>1</td>\n      <td>...</td>\n      <td>NaN</td>\n      <td>NaN</td>\n      <td>2.0</td>\n      <td>3.0</td>\n      <td>526</td>\n      <td>390</td>\n      <td>450</td>\n      <td>306</td>\n      <td>86%</td>\n      <td>78%</td>\n    </tr>\n    <tr>\n      <th>4</th>\n      <td>4</td>\n      <td>17648</td>\n      <td>2</td>\n      <td>2016-09-18T13:15:00+00:00</td>\n      <td>Selhurst Park</td>\n      <td>52</td>\n      <td>75</td>\n      <td>2</td>\n      <td>0</td>\n      <td>4</td>\n      <td>...</td>\n      <td>NaN</td>\n      <td>NaN</td>\n      <td>3.0</td>\n      <td>3.0</td>\n      <td>459</td>\n      <td>350</td>\n      <td>376</td>\n      <td>259</td>\n      <td>82%</td>\n      <td>74%</td>\n    </tr>\n  </tbody>\n</table>\n<p>5 rows × 43 columns</p>\n</div>"
     },
     "metadata": {},
     "execution_count": 7
    }
   ],
   "source": [
    "# Create raw train dataset seasons 2016-2018\n",
    "\n",
    "train_df = pd.concat([df_2016,df_2017])\n",
    "train_df.head()"
   ]
  },
  {
   "cell_type": "code",
   "execution_count": 8,
   "metadata": {},
   "outputs": [
    {
     "output_type": "execute_result",
     "data": {
      "text/plain": [
       "   h_result  h_shot_on_goal  a_shot_on_goal  h_shot_off_goal  a_shot_off_goal  \\\n",
       "0         0               4               3                7                8   \n",
       "1         1               5               2                9                6   \n",
       "2         0               5               3               12                4   \n",
       "3         0               4               4                5                4   \n",
       "4         1               8               4                2                6   \n",
       "\n",
       "   h_total_shots  a_total_shots  h_blocked_shots  a_blocked_shots  \\\n",
       "0             14             13                3                2   \n",
       "1             20             10                6                2   \n",
       "2             24             10                7                3   \n",
       "3             12             12                3                4   \n",
       "4             14             11                4                1   \n",
       "\n",
       "   h_shots_inside_box  ...  h_red_cards  a_red_cards  h_goalkeeper_saves  \\\n",
       "0                   7  ...          0.0          0.0                 2.0   \n",
       "1                  10  ...          0.0          0.0                 2.0   \n",
       "2                  16  ...          0.0          0.0                 2.0   \n",
       "3                   7  ...          0.0          0.0                 2.0   \n",
       "4                   9  ...          0.0          0.0                 3.0   \n",
       "\n",
       "   a_goalkeeper_saves  h_total_passes  a_total_passes  h_accurate_passes  \\\n",
       "0                 4.0             414             245                298   \n",
       "1                 4.0             440             325                353   \n",
       "2                 3.0             447             326                380   \n",
       "3                 3.0             526             390                450   \n",
       "4                 3.0             459             350                376   \n",
       "\n",
       "   a_accurate_passes  h_pass_percentage a_pass_percentage  \n",
       "0                143                 72                58  \n",
       "1                234                 80                72  \n",
       "2                246                 85                75  \n",
       "3                306                 86                78  \n",
       "4                259                 82                74  \n",
       "\n",
       "[5 rows x 33 columns]"
      ],
      "text/html": "<div>\n<style scoped>\n    .dataframe tbody tr th:only-of-type {\n        vertical-align: middle;\n    }\n\n    .dataframe tbody tr th {\n        vertical-align: top;\n    }\n\n    .dataframe thead th {\n        text-align: right;\n    }\n</style>\n<table border=\"1\" class=\"dataframe\">\n  <thead>\n    <tr style=\"text-align: right;\">\n      <th></th>\n      <th>h_result</th>\n      <th>h_shot_on_goal</th>\n      <th>a_shot_on_goal</th>\n      <th>h_shot_off_goal</th>\n      <th>a_shot_off_goal</th>\n      <th>h_total_shots</th>\n      <th>a_total_shots</th>\n      <th>h_blocked_shots</th>\n      <th>a_blocked_shots</th>\n      <th>h_shots_inside_box</th>\n      <th>...</th>\n      <th>h_red_cards</th>\n      <th>a_red_cards</th>\n      <th>h_goalkeeper_saves</th>\n      <th>a_goalkeeper_saves</th>\n      <th>h_total_passes</th>\n      <th>a_total_passes</th>\n      <th>h_accurate_passes</th>\n      <th>a_accurate_passes</th>\n      <th>h_pass_percentage</th>\n      <th>a_pass_percentage</th>\n    </tr>\n  </thead>\n  <tbody>\n    <tr>\n      <th>0</th>\n      <td>0</td>\n      <td>4</td>\n      <td>3</td>\n      <td>7</td>\n      <td>8</td>\n      <td>14</td>\n      <td>13</td>\n      <td>3</td>\n      <td>2</td>\n      <td>7</td>\n      <td>...</td>\n      <td>0.0</td>\n      <td>0.0</td>\n      <td>2.0</td>\n      <td>4.0</td>\n      <td>414</td>\n      <td>245</td>\n      <td>298</td>\n      <td>143</td>\n      <td>72</td>\n      <td>58</td>\n    </tr>\n    <tr>\n      <th>1</th>\n      <td>1</td>\n      <td>5</td>\n      <td>2</td>\n      <td>9</td>\n      <td>6</td>\n      <td>20</td>\n      <td>10</td>\n      <td>6</td>\n      <td>2</td>\n      <td>10</td>\n      <td>...</td>\n      <td>0.0</td>\n      <td>0.0</td>\n      <td>2.0</td>\n      <td>4.0</td>\n      <td>440</td>\n      <td>325</td>\n      <td>353</td>\n      <td>234</td>\n      <td>80</td>\n      <td>72</td>\n    </tr>\n    <tr>\n      <th>2</th>\n      <td>0</td>\n      <td>5</td>\n      <td>3</td>\n      <td>12</td>\n      <td>4</td>\n      <td>24</td>\n      <td>10</td>\n      <td>7</td>\n      <td>3</td>\n      <td>16</td>\n      <td>...</td>\n      <td>0.0</td>\n      <td>0.0</td>\n      <td>2.0</td>\n      <td>3.0</td>\n      <td>447</td>\n      <td>326</td>\n      <td>380</td>\n      <td>246</td>\n      <td>85</td>\n      <td>75</td>\n    </tr>\n    <tr>\n      <th>3</th>\n      <td>0</td>\n      <td>4</td>\n      <td>4</td>\n      <td>5</td>\n      <td>4</td>\n      <td>12</td>\n      <td>12</td>\n      <td>3</td>\n      <td>4</td>\n      <td>7</td>\n      <td>...</td>\n      <td>0.0</td>\n      <td>0.0</td>\n      <td>2.0</td>\n      <td>3.0</td>\n      <td>526</td>\n      <td>390</td>\n      <td>450</td>\n      <td>306</td>\n      <td>86</td>\n      <td>78</td>\n    </tr>\n    <tr>\n      <th>4</th>\n      <td>1</td>\n      <td>8</td>\n      <td>4</td>\n      <td>2</td>\n      <td>6</td>\n      <td>14</td>\n      <td>11</td>\n      <td>4</td>\n      <td>1</td>\n      <td>9</td>\n      <td>...</td>\n      <td>0.0</td>\n      <td>0.0</td>\n      <td>3.0</td>\n      <td>3.0</td>\n      <td>459</td>\n      <td>350</td>\n      <td>376</td>\n      <td>259</td>\n      <td>82</td>\n      <td>74</td>\n    </tr>\n  </tbody>\n</table>\n<p>5 rows × 33 columns</p>\n</div>"
     },
     "metadata": {},
     "execution_count": 8
    }
   ],
   "source": [
    "# Data cleaning process: drop columns,replace NaN with 0, remove % sign, make prediction values 1 and 0 (h_result) for predictions.\n",
    "\n",
    "train_df = train_df.drop(columns= ['Unnamed: 0','venue','fixture_id','event_date','h_fulltime_score', 'a_fulltime_score', 'h_halftime_score', 'a_haftime_score', 'h_team', 'a_team'])\n",
    "\n",
    "train_df = train_df.replace({'%' : ''}, regex = True)\n",
    "\n",
    "train_df = train_df.fillna(0)\n",
    "\n",
    "train_df['h_result'] = np.where(train_df['h_result'] == 2, 1, np.where(train_df['h_result'] == 1, 0, 0))\n",
    "\n",
    "train_df.head()"
   ]
  },
  {
   "cell_type": "code",
   "execution_count": 9,
   "metadata": {},
   "outputs": [],
   "source": [
    "# Print train dataframe to csv\n",
    "\n",
    "#train_df.to_csv('train_data.csv')"
   ]
  },
  {
   "cell_type": "code",
   "execution_count": 10,
   "metadata": {},
   "outputs": [
    {
     "output_type": "execute_result",
     "data": {
      "text/plain": [
       "(1416664, 33)"
      ]
     },
     "metadata": {},
     "execution_count": 10
    }
   ],
   "source": [
    "train_df.shape"
   ]
  },
  {
   "cell_type": "code",
   "execution_count": 11,
   "metadata": {},
   "outputs": [
    {
     "output_type": "execute_result",
     "data": {
      "text/plain": [
       "   Unnamed: 0  fixture_id  h_result                 event_date  \\\n",
       "0           0          72         2  2018-08-12T12:30:00+00:00   \n",
       "1           1          84         0  2018-08-20T19:00:00+00:00   \n",
       "2           2          91         2  2018-08-25T16:30:00+00:00   \n",
       "3           3          95         0  2018-09-01T11:30:00+00:00   \n",
       "4           4         105         0  2018-09-15T11:30:00+00:00   \n",
       "\n",
       "                venue  h_team  a_team  h_halftime_score  a_haftime_score  \\\n",
       "0             Anfield      40      48                 2                0   \n",
       "1       Selhurst Park      52      40                 0                1   \n",
       "2             Anfield      40      51                 1                0   \n",
       "3  King Power Stadium      46      40                 0                2   \n",
       "4     Wembley Stadium      47      40                 0                1   \n",
       "\n",
       "   h_fulltime_score  ...  h_red_cards  a_red_cards  h_goalkeeper_saves  \\\n",
       "0                 4  ...          NaN          NaN                 2.0   \n",
       "1                 0  ...          1.0          0.0                 4.0   \n",
       "2                 1  ...          NaN          NaN                 2.0   \n",
       "3                 1  ...          NaN          NaN                 2.0   \n",
       "4                 1  ...          NaN          NaN                 8.0   \n",
       "\n",
       "   a_goalkeeper_saves  h_total_passes  a_total_passes  h_accurate_passes  \\\n",
       "0                 4.0             673             360                606   \n",
       "1                 2.0             359             625                280   \n",
       "2                 6.0             765             327                669   \n",
       "3                 4.0             496             473                401   \n",
       "4                 2.0             549             356                443   \n",
       "\n",
       "   a_accurate_passes  h_pass_percentage  a_pass_percentage  \n",
       "0                297                90%                83%  \n",
       "1                559                78%                89%  \n",
       "2                238                87%                73%  \n",
       "3                374                81%                79%  \n",
       "4                267                81%                75%  \n",
       "\n",
       "[5 rows x 43 columns]"
      ],
      "text/html": "<div>\n<style scoped>\n    .dataframe tbody tr th:only-of-type {\n        vertical-align: middle;\n    }\n\n    .dataframe tbody tr th {\n        vertical-align: top;\n    }\n\n    .dataframe thead th {\n        text-align: right;\n    }\n</style>\n<table border=\"1\" class=\"dataframe\">\n  <thead>\n    <tr style=\"text-align: right;\">\n      <th></th>\n      <th>Unnamed: 0</th>\n      <th>fixture_id</th>\n      <th>h_result</th>\n      <th>event_date</th>\n      <th>venue</th>\n      <th>h_team</th>\n      <th>a_team</th>\n      <th>h_halftime_score</th>\n      <th>a_haftime_score</th>\n      <th>h_fulltime_score</th>\n      <th>...</th>\n      <th>h_red_cards</th>\n      <th>a_red_cards</th>\n      <th>h_goalkeeper_saves</th>\n      <th>a_goalkeeper_saves</th>\n      <th>h_total_passes</th>\n      <th>a_total_passes</th>\n      <th>h_accurate_passes</th>\n      <th>a_accurate_passes</th>\n      <th>h_pass_percentage</th>\n      <th>a_pass_percentage</th>\n    </tr>\n  </thead>\n  <tbody>\n    <tr>\n      <th>0</th>\n      <td>0</td>\n      <td>72</td>\n      <td>2</td>\n      <td>2018-08-12T12:30:00+00:00</td>\n      <td>Anfield</td>\n      <td>40</td>\n      <td>48</td>\n      <td>2</td>\n      <td>0</td>\n      <td>4</td>\n      <td>...</td>\n      <td>NaN</td>\n      <td>NaN</td>\n      <td>2.0</td>\n      <td>4.0</td>\n      <td>673</td>\n      <td>360</td>\n      <td>606</td>\n      <td>297</td>\n      <td>90%</td>\n      <td>83%</td>\n    </tr>\n    <tr>\n      <th>1</th>\n      <td>1</td>\n      <td>84</td>\n      <td>0</td>\n      <td>2018-08-20T19:00:00+00:00</td>\n      <td>Selhurst Park</td>\n      <td>52</td>\n      <td>40</td>\n      <td>0</td>\n      <td>1</td>\n      <td>0</td>\n      <td>...</td>\n      <td>1.0</td>\n      <td>0.0</td>\n      <td>4.0</td>\n      <td>2.0</td>\n      <td>359</td>\n      <td>625</td>\n      <td>280</td>\n      <td>559</td>\n      <td>78%</td>\n      <td>89%</td>\n    </tr>\n    <tr>\n      <th>2</th>\n      <td>2</td>\n      <td>91</td>\n      <td>2</td>\n      <td>2018-08-25T16:30:00+00:00</td>\n      <td>Anfield</td>\n      <td>40</td>\n      <td>51</td>\n      <td>1</td>\n      <td>0</td>\n      <td>1</td>\n      <td>...</td>\n      <td>NaN</td>\n      <td>NaN</td>\n      <td>2.0</td>\n      <td>6.0</td>\n      <td>765</td>\n      <td>327</td>\n      <td>669</td>\n      <td>238</td>\n      <td>87%</td>\n      <td>73%</td>\n    </tr>\n    <tr>\n      <th>3</th>\n      <td>3</td>\n      <td>95</td>\n      <td>0</td>\n      <td>2018-09-01T11:30:00+00:00</td>\n      <td>King Power Stadium</td>\n      <td>46</td>\n      <td>40</td>\n      <td>0</td>\n      <td>2</td>\n      <td>1</td>\n      <td>...</td>\n      <td>NaN</td>\n      <td>NaN</td>\n      <td>2.0</td>\n      <td>4.0</td>\n      <td>496</td>\n      <td>473</td>\n      <td>401</td>\n      <td>374</td>\n      <td>81%</td>\n      <td>79%</td>\n    </tr>\n    <tr>\n      <th>4</th>\n      <td>4</td>\n      <td>105</td>\n      <td>0</td>\n      <td>2018-09-15T11:30:00+00:00</td>\n      <td>Wembley Stadium</td>\n      <td>47</td>\n      <td>40</td>\n      <td>0</td>\n      <td>1</td>\n      <td>1</td>\n      <td>...</td>\n      <td>NaN</td>\n      <td>NaN</td>\n      <td>8.0</td>\n      <td>2.0</td>\n      <td>549</td>\n      <td>356</td>\n      <td>443</td>\n      <td>267</td>\n      <td>81%</td>\n      <td>75%</td>\n    </tr>\n  </tbody>\n</table>\n<p>5 rows × 43 columns</p>\n</div>"
     },
     "metadata": {},
     "execution_count": 11
    }
   ],
   "source": [
    "# Create test dataframe from 2018 csv file\n",
    "\n",
    "test_df = pd.read_csv(('/Users/draganbogatic/Documents/Fin_Tech/soccer_win_predict/data/complete_2018.csv'))\n",
    "test_df.head()"
   ]
  },
  {
   "cell_type": "code",
   "execution_count": 12,
   "metadata": {},
   "outputs": [],
   "source": [
    "# Perform the same cleaning process as on the train dataset\n",
    "\n",
    "test_df = test_df.drop(columns= ['Unnamed: 0','venue','fixture_id','event_date','h_fulltime_score', 'a_fulltime_score', 'h_halftime_score', 'a_haftime_score', 'h_team', 'a_team'])\n",
    "\n",
    "test_df = test_df.replace({'%' : ''}, regex = True)\n",
    "\n",
    "test_df = test_df.fillna(0)\n",
    "\n",
    "test_df['h_result'] = np.where(test_df['h_result'] == 2, 1, np.where(test_df['h_result'] == 1, 0, 0))"
   ]
  },
  {
   "cell_type": "code",
   "execution_count": 13,
   "metadata": {},
   "outputs": [
    {
     "output_type": "execute_result",
     "data": {
      "text/plain": [
       "   h_result  h_shot_on_goal  a_shot_on_goal  h_shot_off_goal  a_shot_off_goal  \\\n",
       "0         1               8               2                7                2   \n",
       "1         0               2               6                5                4   \n",
       "2         1               8               2                7                2   \n",
       "3         0               5               4                3                4   \n",
       "4         0               3              10                5                5   \n",
       "\n",
       "   h_total_shots  a_total_shots  h_blocked_shots  a_blocked_shots  \\\n",
       "0             18              5                3                1   \n",
       "1              8             16                1                6   \n",
       "2             22              6                7                2   \n",
       "3             12             10                4                2   \n",
       "4             11             17                3                2   \n",
       "\n",
       "   h_shots_inside_box  ...  h_red_cards  a_red_cards  h_goalkeeper_saves  \\\n",
       "0                  13  ...          0.0          0.0                 2.0   \n",
       "1                   4  ...          1.0          0.0                 4.0   \n",
       "2                  16  ...          0.0          0.0                 2.0   \n",
       "3                   3  ...          0.0          0.0                 2.0   \n",
       "4                   7  ...          0.0          0.0                 8.0   \n",
       "\n",
       "   a_goalkeeper_saves  h_total_passes  a_total_passes  h_accurate_passes  \\\n",
       "0                 4.0             673             360                606   \n",
       "1                 2.0             359             625                280   \n",
       "2                 6.0             765             327                669   \n",
       "3                 4.0             496             473                401   \n",
       "4                 2.0             549             356                443   \n",
       "\n",
       "   a_accurate_passes  h_pass_percentage a_pass_percentage  \n",
       "0                297                 90                83  \n",
       "1                559                 78                89  \n",
       "2                238                 87                73  \n",
       "3                374                 81                79  \n",
       "4                267                 81                75  \n",
       "\n",
       "[5 rows x 33 columns]"
      ],
      "text/html": "<div>\n<style scoped>\n    .dataframe tbody tr th:only-of-type {\n        vertical-align: middle;\n    }\n\n    .dataframe tbody tr th {\n        vertical-align: top;\n    }\n\n    .dataframe thead th {\n        text-align: right;\n    }\n</style>\n<table border=\"1\" class=\"dataframe\">\n  <thead>\n    <tr style=\"text-align: right;\">\n      <th></th>\n      <th>h_result</th>\n      <th>h_shot_on_goal</th>\n      <th>a_shot_on_goal</th>\n      <th>h_shot_off_goal</th>\n      <th>a_shot_off_goal</th>\n      <th>h_total_shots</th>\n      <th>a_total_shots</th>\n      <th>h_blocked_shots</th>\n      <th>a_blocked_shots</th>\n      <th>h_shots_inside_box</th>\n      <th>...</th>\n      <th>h_red_cards</th>\n      <th>a_red_cards</th>\n      <th>h_goalkeeper_saves</th>\n      <th>a_goalkeeper_saves</th>\n      <th>h_total_passes</th>\n      <th>a_total_passes</th>\n      <th>h_accurate_passes</th>\n      <th>a_accurate_passes</th>\n      <th>h_pass_percentage</th>\n      <th>a_pass_percentage</th>\n    </tr>\n  </thead>\n  <tbody>\n    <tr>\n      <th>0</th>\n      <td>1</td>\n      <td>8</td>\n      <td>2</td>\n      <td>7</td>\n      <td>2</td>\n      <td>18</td>\n      <td>5</td>\n      <td>3</td>\n      <td>1</td>\n      <td>13</td>\n      <td>...</td>\n      <td>0.0</td>\n      <td>0.0</td>\n      <td>2.0</td>\n      <td>4.0</td>\n      <td>673</td>\n      <td>360</td>\n      <td>606</td>\n      <td>297</td>\n      <td>90</td>\n      <td>83</td>\n    </tr>\n    <tr>\n      <th>1</th>\n      <td>0</td>\n      <td>2</td>\n      <td>6</td>\n      <td>5</td>\n      <td>4</td>\n      <td>8</td>\n      <td>16</td>\n      <td>1</td>\n      <td>6</td>\n      <td>4</td>\n      <td>...</td>\n      <td>1.0</td>\n      <td>0.0</td>\n      <td>4.0</td>\n      <td>2.0</td>\n      <td>359</td>\n      <td>625</td>\n      <td>280</td>\n      <td>559</td>\n      <td>78</td>\n      <td>89</td>\n    </tr>\n    <tr>\n      <th>2</th>\n      <td>1</td>\n      <td>8</td>\n      <td>2</td>\n      <td>7</td>\n      <td>2</td>\n      <td>22</td>\n      <td>6</td>\n      <td>7</td>\n      <td>2</td>\n      <td>16</td>\n      <td>...</td>\n      <td>0.0</td>\n      <td>0.0</td>\n      <td>2.0</td>\n      <td>6.0</td>\n      <td>765</td>\n      <td>327</td>\n      <td>669</td>\n      <td>238</td>\n      <td>87</td>\n      <td>73</td>\n    </tr>\n    <tr>\n      <th>3</th>\n      <td>0</td>\n      <td>5</td>\n      <td>4</td>\n      <td>3</td>\n      <td>4</td>\n      <td>12</td>\n      <td>10</td>\n      <td>4</td>\n      <td>2</td>\n      <td>3</td>\n      <td>...</td>\n      <td>0.0</td>\n      <td>0.0</td>\n      <td>2.0</td>\n      <td>4.0</td>\n      <td>496</td>\n      <td>473</td>\n      <td>401</td>\n      <td>374</td>\n      <td>81</td>\n      <td>79</td>\n    </tr>\n    <tr>\n      <th>4</th>\n      <td>0</td>\n      <td>3</td>\n      <td>10</td>\n      <td>5</td>\n      <td>5</td>\n      <td>11</td>\n      <td>17</td>\n      <td>3</td>\n      <td>2</td>\n      <td>7</td>\n      <td>...</td>\n      <td>0.0</td>\n      <td>0.0</td>\n      <td>8.0</td>\n      <td>2.0</td>\n      <td>549</td>\n      <td>356</td>\n      <td>443</td>\n      <td>267</td>\n      <td>81</td>\n      <td>75</td>\n    </tr>\n  </tbody>\n</table>\n<p>5 rows × 33 columns</p>\n</div>"
     },
     "metadata": {},
     "execution_count": 13
    }
   ],
   "source": [
    "test_df.head()"
   ]
  },
  {
   "cell_type": "code",
   "execution_count": 14,
   "metadata": {},
   "outputs": [
    {
     "output_type": "execute_result",
     "data": {
      "text/plain": [
       "(1520, 33)"
      ]
     },
     "metadata": {},
     "execution_count": 14
    }
   ],
   "source": [
    "test_df.shape"
   ]
  },
  {
   "cell_type": "code",
   "execution_count": 15,
   "metadata": {},
   "outputs": [],
   "source": [
    "#test_df.to_csv('test_data.csv')"
   ]
  },
  {
   "cell_type": "code",
   "execution_count": 16,
   "metadata": {},
   "outputs": [
    {
     "output_type": "execute_result",
     "data": {
      "text/plain": [
       "   h_shot_on_goal  a_shot_on_goal  h_shot_off_goal  a_shot_off_goal  \\\n",
       "0             4.0             3.0              7.0              8.0   \n",
       "1             5.0             2.0              9.0              6.0   \n",
       "2             5.0             3.0             12.0              4.0   \n",
       "3             4.0             4.0              5.0              4.0   \n",
       "4             8.0             4.0              2.0              6.0   \n",
       "\n",
       "   h_total_shots  a_total_shots  h_blocked_shots  a_blocked_shots  \\\n",
       "0           14.0           13.0              3.0              2.0   \n",
       "1           20.0           10.0              6.0              2.0   \n",
       "2           24.0           10.0              7.0              3.0   \n",
       "3           12.0           12.0              3.0              4.0   \n",
       "4           14.0           11.0              4.0              1.0   \n",
       "\n",
       "   h_shots_inside_box  a_shots_inside_box  ...  h_red_cards  a_red_cards  \\\n",
       "0                 7.0                 8.0  ...          0.0          0.0   \n",
       "1                10.0                 4.0  ...          0.0          0.0   \n",
       "2                16.0                 5.0  ...          0.0          0.0   \n",
       "3                 7.0                 6.0  ...          0.0          0.0   \n",
       "4                 9.0                 6.0  ...          0.0          0.0   \n",
       "\n",
       "   h_goalkeeper_saves  a_goalkeeper_saves  h_total_passes  a_total_passes  \\\n",
       "0                 2.0                 4.0           414.0           245.0   \n",
       "1                 2.0                 4.0           440.0           325.0   \n",
       "2                 2.0                 3.0           447.0           326.0   \n",
       "3                 2.0                 3.0           526.0           390.0   \n",
       "4                 3.0                 3.0           459.0           350.0   \n",
       "\n",
       "   h_accurate_passes  a_accurate_passes  h_pass_percentage  a_pass_percentage  \n",
       "0              298.0              143.0               72.0               58.0  \n",
       "1              353.0              234.0               80.0               72.0  \n",
       "2              380.0              246.0               85.0               75.0  \n",
       "3              450.0              306.0               86.0               78.0  \n",
       "4              376.0              259.0               82.0               74.0  \n",
       "\n",
       "[5 rows x 32 columns]"
      ],
      "text/html": "<div>\n<style scoped>\n    .dataframe tbody tr th:only-of-type {\n        vertical-align: middle;\n    }\n\n    .dataframe tbody tr th {\n        vertical-align: top;\n    }\n\n    .dataframe thead th {\n        text-align: right;\n    }\n</style>\n<table border=\"1\" class=\"dataframe\">\n  <thead>\n    <tr style=\"text-align: right;\">\n      <th></th>\n      <th>h_shot_on_goal</th>\n      <th>a_shot_on_goal</th>\n      <th>h_shot_off_goal</th>\n      <th>a_shot_off_goal</th>\n      <th>h_total_shots</th>\n      <th>a_total_shots</th>\n      <th>h_blocked_shots</th>\n      <th>a_blocked_shots</th>\n      <th>h_shots_inside_box</th>\n      <th>a_shots_inside_box</th>\n      <th>...</th>\n      <th>h_red_cards</th>\n      <th>a_red_cards</th>\n      <th>h_goalkeeper_saves</th>\n      <th>a_goalkeeper_saves</th>\n      <th>h_total_passes</th>\n      <th>a_total_passes</th>\n      <th>h_accurate_passes</th>\n      <th>a_accurate_passes</th>\n      <th>h_pass_percentage</th>\n      <th>a_pass_percentage</th>\n    </tr>\n  </thead>\n  <tbody>\n    <tr>\n      <th>0</th>\n      <td>4.0</td>\n      <td>3.0</td>\n      <td>7.0</td>\n      <td>8.0</td>\n      <td>14.0</td>\n      <td>13.0</td>\n      <td>3.0</td>\n      <td>2.0</td>\n      <td>7.0</td>\n      <td>8.0</td>\n      <td>...</td>\n      <td>0.0</td>\n      <td>0.0</td>\n      <td>2.0</td>\n      <td>4.0</td>\n      <td>414.0</td>\n      <td>245.0</td>\n      <td>298.0</td>\n      <td>143.0</td>\n      <td>72.0</td>\n      <td>58.0</td>\n    </tr>\n    <tr>\n      <th>1</th>\n      <td>5.0</td>\n      <td>2.0</td>\n      <td>9.0</td>\n      <td>6.0</td>\n      <td>20.0</td>\n      <td>10.0</td>\n      <td>6.0</td>\n      <td>2.0</td>\n      <td>10.0</td>\n      <td>4.0</td>\n      <td>...</td>\n      <td>0.0</td>\n      <td>0.0</td>\n      <td>2.0</td>\n      <td>4.0</td>\n      <td>440.0</td>\n      <td>325.0</td>\n      <td>353.0</td>\n      <td>234.0</td>\n      <td>80.0</td>\n      <td>72.0</td>\n    </tr>\n    <tr>\n      <th>2</th>\n      <td>5.0</td>\n      <td>3.0</td>\n      <td>12.0</td>\n      <td>4.0</td>\n      <td>24.0</td>\n      <td>10.0</td>\n      <td>7.0</td>\n      <td>3.0</td>\n      <td>16.0</td>\n      <td>5.0</td>\n      <td>...</td>\n      <td>0.0</td>\n      <td>0.0</td>\n      <td>2.0</td>\n      <td>3.0</td>\n      <td>447.0</td>\n      <td>326.0</td>\n      <td>380.0</td>\n      <td>246.0</td>\n      <td>85.0</td>\n      <td>75.0</td>\n    </tr>\n    <tr>\n      <th>3</th>\n      <td>4.0</td>\n      <td>4.0</td>\n      <td>5.0</td>\n      <td>4.0</td>\n      <td>12.0</td>\n      <td>12.0</td>\n      <td>3.0</td>\n      <td>4.0</td>\n      <td>7.0</td>\n      <td>6.0</td>\n      <td>...</td>\n      <td>0.0</td>\n      <td>0.0</td>\n      <td>2.0</td>\n      <td>3.0</td>\n      <td>526.0</td>\n      <td>390.0</td>\n      <td>450.0</td>\n      <td>306.0</td>\n      <td>86.0</td>\n      <td>78.0</td>\n    </tr>\n    <tr>\n      <th>4</th>\n      <td>8.0</td>\n      <td>4.0</td>\n      <td>2.0</td>\n      <td>6.0</td>\n      <td>14.0</td>\n      <td>11.0</td>\n      <td>4.0</td>\n      <td>1.0</td>\n      <td>9.0</td>\n      <td>6.0</td>\n      <td>...</td>\n      <td>0.0</td>\n      <td>0.0</td>\n      <td>3.0</td>\n      <td>3.0</td>\n      <td>459.0</td>\n      <td>350.0</td>\n      <td>376.0</td>\n      <td>259.0</td>\n      <td>82.0</td>\n      <td>74.0</td>\n    </tr>\n  </tbody>\n</table>\n<p>5 rows × 32 columns</p>\n</div>"
     },
     "metadata": {},
     "execution_count": 16
    }
   ],
   "source": [
    "# Create features dataframe\n",
    "\n",
    "X = train_df.drop(columns=['h_result'])\n",
    "\n",
    "X = X.astype('float')\n",
    "\n",
    "X = X.iloc[:1520]\n",
    "\n",
    "X.head()"
   ]
  },
  {
   "cell_type": "code",
   "execution_count": 17,
   "metadata": {},
   "outputs": [
    {
     "output_type": "execute_result",
     "data": {
      "text/plain": [
       "(1520, 32)"
      ]
     },
     "metadata": {},
     "execution_count": 17
    }
   ],
   "source": [
    "X.shape"
   ]
  },
  {
   "cell_type": "code",
   "execution_count": 18,
   "metadata": {},
   "outputs": [
    {
     "output_type": "execute_result",
     "data": {
      "text/plain": [
       "0    1\n",
       "1    0\n",
       "2    1\n",
       "3    0\n",
       "4    0\n",
       "Name: h_result, dtype: int64"
      ]
     },
     "metadata": {},
     "execution_count": 18
    }
   ],
   "source": [
    "y = test_df['h_result']\n",
    "y.head()"
   ]
  },
  {
   "cell_type": "code",
   "execution_count": 19,
   "metadata": {},
   "outputs": [
    {
     "output_type": "execute_result",
     "data": {
      "text/plain": [
       "0    796\n",
       "1    724\n",
       "Name: h_result, dtype: int64"
      ]
     },
     "metadata": {},
     "execution_count": 19
    }
   ],
   "source": [
    "y.value_counts()"
   ]
  },
  {
   "cell_type": "code",
   "execution_count": 20,
   "metadata": {},
   "outputs": [],
   "source": [
    "# Split the X and y into X_train, X_test, y_train, y_test\n",
    "\n",
    "from sklearn.model_selection import train_test_split\n",
    "\n",
    "X_train, X_test, y_train, y_test = train_test_split(X, y, random_state=1)\n"
   ]
  },
  {
   "cell_type": "code",
   "execution_count": 21,
   "metadata": {},
   "outputs": [],
   "source": [
    "# Create the StandardScaler instance\n",
    "\n",
    "from sklearn.preprocessing import StandardScaler\n",
    "scaler = StandardScaler()"
   ]
  },
  {
   "cell_type": "code",
   "execution_count": 22,
   "metadata": {},
   "outputs": [],
   "source": [
    "# Fit the Standard Scaler with the training data\n",
    "\n",
    "X_scaler = scaler.fit(X_train)"
   ]
  },
  {
   "cell_type": "code",
   "execution_count": 23,
   "metadata": {},
   "outputs": [],
   "source": [
    "# Scale the training and testing data\n",
    "\n",
    "X_train_scaled = X_scaler.transform(X_train)\n",
    "X_test_scaled = X_scaler.transform(X_test)"
   ]
  },
  {
   "cell_type": "code",
   "execution_count": 24,
   "metadata": {},
   "outputs": [],
   "source": [
    "# Resample the training data with the BalancedRandomForestClassifier\n",
    "\n",
    "from imblearn.ensemble import BalancedRandomForestClassifier\n",
    "\n",
    "brf_model = BalancedRandomForestClassifier()\n",
    "\n",
    "brf_model = BalancedRandomForestClassifier(bootstrap=True, class_weight=None,criterion='gini', max_depth=None, max_features='auto',max_leaf_nodes=None, min_impurity_decrease=0.0,min_samples_leaf=2, min_samples_split=2,min_weight_fraction_leaf=0.0,n_estimators=128, n_jobs=1,oob_score=False, random_state=1,replacement=False,sampling_strategy='auto', verbose=0,warm_start=False)\n",
    "\n",
    "# Fitting the BFR model\n",
    "\n",
    "brf_model = brf_model.fit(X_train_scaled, y_train)\n",
    "\n",
    "# Make predictions\n",
    "\n",
    "predictions_brf = brf_model.predict(X_test_scaled)"
   ]
  },
  {
   "cell_type": "code",
   "execution_count": 25,
   "metadata": {},
   "outputs": [
    {
     "output_type": "stream",
     "name": "stdout",
     "text": [
      "Balanced Accuracy Score : 0.6418001610261251\n"
     ]
    }
   ],
   "source": [
    "# Calculate the balanced accuracy score\n",
    "\n",
    "bal_acc_score = balanced_accuracy_score(y_test, predictions_brf)\n",
    "print(f\"Balanced Accuracy Score : {bal_acc_score}\")"
   ]
  },
  {
   "cell_type": "code",
   "execution_count": 26,
   "metadata": {},
   "outputs": [
    {
     "output_type": "display_data",
     "data": {
      "text/plain": "          Predicted 0  Predicted 1\nActual 0          129           70\nActual 1           66          115",
      "text/html": "<div>\n<style scoped>\n    .dataframe tbody tr th:only-of-type {\n        vertical-align: middle;\n    }\n\n    .dataframe tbody tr th {\n        vertical-align: top;\n    }\n\n    .dataframe thead th {\n        text-align: right;\n    }\n</style>\n<table border=\"1\" class=\"dataframe\">\n  <thead>\n    <tr style=\"text-align: right;\">\n      <th></th>\n      <th>Predicted 0</th>\n      <th>Predicted 1</th>\n    </tr>\n  </thead>\n  <tbody>\n    <tr>\n      <th>Actual 0</th>\n      <td>129</td>\n      <td>70</td>\n    </tr>\n    <tr>\n      <th>Actual 1</th>\n      <td>66</td>\n      <td>115</td>\n    </tr>\n  </tbody>\n</table>\n</div>"
     },
     "metadata": {}
    }
   ],
   "source": [
    "cm_brf = confusion_matrix(y_test, predictions_brf)\n",
    "cm_brf_df = pd.DataFrame(cm_brf, index=[\"Actual 0\", \"Actual 1\"],columns=[\"Predicted 0\", \"Predicted 1\"])\n",
    "\n",
    "display(cm_brf_df)"
   ]
  },
  {
   "cell_type": "code",
   "execution_count": 27,
   "metadata": {},
   "outputs": [
    {
     "output_type": "stream",
     "name": "stdout",
     "text": [
      "Classification Report\n                   pre       rec       spe        f1       geo       iba       sup\n\n          0       0.66      0.65      0.64      0.65      0.64      0.41       199\n          1       0.62      0.64      0.65      0.63      0.64      0.41       181\n\navg / total       0.64      0.64      0.64      0.64      0.64      0.41       380\n\n"
     ]
    }
   ],
   "source": [
    "print(\"Classification Report\")\n",
    "classification_report = print(classification_report_imbalanced(y_test, predictions_brf))"
   ]
  },
  {
   "cell_type": "code",
   "execution_count": 28,
   "metadata": {},
   "outputs": [
    {
     "output_type": "stream",
     "name": "stdout",
     "text": [
      "Classification Report\n"
     ]
    },
    {
     "output_type": "execute_result",
     "data": {
      "text/plain": [
       "              f1-score  precision    recall     support\n",
       "0             0.654822   0.661538  0.648241  199.000000\n",
       "1             0.628415   0.621622  0.635359  181.000000\n",
       "accuracy      0.642105   0.642105  0.642105    0.642105\n",
       "macro avg     0.641619   0.641580  0.641800  380.000000\n",
       "weighted avg  0.642244   0.642525  0.642105  380.000000"
      ],
      "text/html": "<div>\n<style scoped>\n    .dataframe tbody tr th:only-of-type {\n        vertical-align: middle;\n    }\n\n    .dataframe tbody tr th {\n        vertical-align: top;\n    }\n\n    .dataframe thead th {\n        text-align: right;\n    }\n</style>\n<table border=\"1\" class=\"dataframe\">\n  <thead>\n    <tr style=\"text-align: right;\">\n      <th></th>\n      <th>f1-score</th>\n      <th>precision</th>\n      <th>recall</th>\n      <th>support</th>\n    </tr>\n  </thead>\n  <tbody>\n    <tr>\n      <th>0</th>\n      <td>0.654822</td>\n      <td>0.661538</td>\n      <td>0.648241</td>\n      <td>199.000000</td>\n    </tr>\n    <tr>\n      <th>1</th>\n      <td>0.628415</td>\n      <td>0.621622</td>\n      <td>0.635359</td>\n      <td>181.000000</td>\n    </tr>\n    <tr>\n      <th>accuracy</th>\n      <td>0.642105</td>\n      <td>0.642105</td>\n      <td>0.642105</td>\n      <td>0.642105</td>\n    </tr>\n    <tr>\n      <th>macro avg</th>\n      <td>0.641619</td>\n      <td>0.641580</td>\n      <td>0.641800</td>\n      <td>380.000000</td>\n    </tr>\n    <tr>\n      <th>weighted avg</th>\n      <td>0.642244</td>\n      <td>0.642525</td>\n      <td>0.642105</td>\n      <td>380.000000</td>\n    </tr>\n  </tbody>\n</table>\n</div>"
     },
     "metadata": {},
     "execution_count": 28
    }
   ],
   "source": [
    "# Print classification report to dataframe to be presented in dashboard.\n",
    "'''Source: https://stackoverflow.com/questions/39662398/scikit-learn-output-metrics-classification-report-into-csv-tab-delimited-format\n",
    "'''\n",
    "\n",
    "print('Classification Report')\n",
    "classification_report = metrics.classification_report(y_test, predictions_brf, output_dict=True)\n",
    "classification_report_df = pd.DataFrame(classification_report)\n",
    "classification_report_df = classification_report_df.transpose()\n",
    "classification_report_df"
   ]
  },
  {
   "cell_type": "code",
   "execution_count": 29,
   "metadata": {},
   "outputs": [
    {
     "output_type": "execute_result",
     "data": {
      "text/plain": [
       "[(0.04810013821422902, 'h_accurate_passes'),\n",
       " (0.04666782359762534, 'h_total_passes'),\n",
       " (0.044189413144872174, 'a_total_passes'),\n",
       " (0.03944067426210459, 'h_pass_percentage'),\n",
       " (0.03927389597668354, 'a_accurate_passes'),\n",
       " (0.03804805611499009, 'a_total_shots'),\n",
       " (0.03754267088918516, 'a_ball_possession'),\n",
       " (0.037237171777494416, 'h_ball_possession'),\n",
       " (0.03653010460876491, 'h_total_shots'),\n",
       " (0.03628095069729653, 'h_fouls')]"
      ]
     },
     "metadata": {},
     "execution_count": 29
    }
   ],
   "source": [
    "# List the features sorted in descending order by feature importance\n",
    "\n",
    "importances = brf_model.feature_importances_\n",
    "sorted(zip(brf_model.feature_importances_, X.columns), reverse=True)[:10]"
   ]
  },
  {
   "cell_type": "code",
   "execution_count": 30,
   "metadata": {},
   "outputs": [
    {
     "output_type": "display_data",
     "data": {
      "text/plain": "<Figure size 432x288 with 1 Axes>",
      "image/svg+xml": "<?xml version=\"1.0\" encoding=\"utf-8\" standalone=\"no\"?>\n<!DOCTYPE svg PUBLIC \"-//W3C//DTD SVG 1.1//EN\"\n  \"http://www.w3.org/Graphics/SVG/1.1/DTD/svg11.dtd\">\n<!-- Created with matplotlib (https://matplotlib.org/) -->\n<svg height=\"263.63625pt\" version=\"1.1\" viewBox=\"0 0 474.043567 263.63625\" width=\"474.043567pt\" xmlns=\"http://www.w3.org/2000/svg\" xmlns:xlink=\"http://www.w3.org/1999/xlink\">\n <defs>\n  <style type=\"text/css\">\n*{stroke-linecap:butt;stroke-linejoin:round;}\n  </style>\n </defs>\n <g id=\"figure_1\">\n  <g id=\"patch_1\">\n   <path d=\"M 0 263.63625 \nL 474.043567 263.63625 \nL 474.043567 0 \nL 0 0 \nz\n\" style=\"fill:none;\"/>\n  </g>\n  <g id=\"axes_1\">\n   <g id=\"patch_2\">\n    <path d=\"M 124.259375 239.758125 \nL 459.059375 239.758125 \nL 459.059375 22.318125 \nL 124.259375 22.318125 \nz\n\" style=\"fill:#ffffff;\"/>\n   </g>\n   <g id=\"patch_3\">\n    <path clip-path=\"url(#pe148dfe44b)\" d=\"M 124.259375 234.322125 \nL 364.766798 234.322125 \nL 364.766798 223.450125 \nL 124.259375 223.450125 \nz\n\" style=\"fill:#90ee90;\"/>\n   </g>\n   <g id=\"patch_4\">\n    <path clip-path=\"url(#pe148dfe44b)\" d=\"M 124.259375 212.578125 \nL 366.418446 212.578125 \nL 366.418446 201.706125 \nL 124.259375 201.706125 \nz\n\" style=\"fill:#90ee90;\"/>\n   </g>\n   <g id=\"patch_5\">\n    <path clip-path=\"url(#pe148dfe44b)\" d=\"M 124.259375 190.834125 \nL 371.105614 190.834125 \nL 371.105614 179.962125 \nL 124.259375 179.962125 \nz\n\" style=\"fill:#90ee90;\"/>\n   </g>\n   <g id=\"patch_6\">\n    <path clip-path=\"url(#pe148dfe44b)\" d=\"M 124.259375 169.090125 \nL 373.130776 169.090125 \nL 373.130776 158.218125 \nL 124.259375 158.218125 \nz\n\" style=\"fill:#90ee90;\"/>\n   </g>\n   <g id=\"patch_7\">\n    <path clip-path=\"url(#pe148dfe44b)\" d=\"M 124.259375 147.346125 \nL 376.480988 147.346125 \nL 376.480988 136.474125 \nL 124.259375 136.474125 \nz\n\" style=\"fill:#90ee90;\"/>\n   </g>\n   <g id=\"patch_8\">\n    <path clip-path=\"url(#pe148dfe44b)\" d=\"M 124.259375 125.602125 \nL 384.607115 125.602125 \nL 384.607115 114.730125 \nL 124.259375 114.730125 \nz\n\" style=\"fill:#90ee90;\"/>\n   </g>\n   <g id=\"patch_9\">\n    <path clip-path=\"url(#pe148dfe44b)\" d=\"M 124.259375 103.858125 \nL 385.712692 103.858125 \nL 385.712692 92.986125 \nL 124.259375 92.986125 \nz\n\" style=\"fill:#90ee90;\"/>\n   </g>\n   <g id=\"patch_10\">\n    <path clip-path=\"url(#pe148dfe44b)\" d=\"M 124.259375 82.114125 \nL 417.192214 82.114125 \nL 417.192214 71.242125 \nL 124.259375 71.242125 \nz\n\" style=\"fill:#90ee90;\"/>\n   </g>\n   <g id=\"patch_11\">\n    <path clip-path=\"url(#pe148dfe44b)\" d=\"M 124.259375 60.370125 \nL 433.621665 60.370125 \nL 433.621665 49.498125 \nL 124.259375 49.498125 \nz\n\" style=\"fill:#90ee90;\"/>\n   </g>\n   <g id=\"patch_12\">\n    <path clip-path=\"url(#pe148dfe44b)\" d=\"M 124.259375 38.626125 \nL 443.116518 38.626125 \nL 443.116518 27.754125 \nL 124.259375 27.754125 \nz\n\" style=\"fill:#90ee90;\"/>\n   </g>\n   <g id=\"matplotlib.axis_1\">\n    <g id=\"xtick_1\">\n     <g id=\"line2d_1\">\n      <defs>\n       <path d=\"M 0 0 \nL 0 3.5 \n\" id=\"m8f791b1c16\" style=\"stroke:#000000;stroke-width:0.8;\"/>\n      </defs>\n      <g>\n       <use style=\"stroke:#000000;stroke-width:0.8;\" x=\"124.259375\" xlink:href=\"#m8f791b1c16\" y=\"239.758125\"/>\n      </g>\n     </g>\n     <g id=\"text_1\">\n      <!-- 0.00 -->\n      <defs>\n       <path d=\"M 31.78125 66.40625 \nQ 24.171875 66.40625 20.328125 58.90625 \nQ 16.5 51.421875 16.5 36.375 \nQ 16.5 21.390625 20.328125 13.890625 \nQ 24.171875 6.390625 31.78125 6.390625 \nQ 39.453125 6.390625 43.28125 13.890625 \nQ 47.125 21.390625 47.125 36.375 \nQ 47.125 51.421875 43.28125 58.90625 \nQ 39.453125 66.40625 31.78125 66.40625 \nz\nM 31.78125 74.21875 \nQ 44.046875 74.21875 50.515625 64.515625 \nQ 56.984375 54.828125 56.984375 36.375 \nQ 56.984375 17.96875 50.515625 8.265625 \nQ 44.046875 -1.421875 31.78125 -1.421875 \nQ 19.53125 -1.421875 13.0625 8.265625 \nQ 6.59375 17.96875 6.59375 36.375 \nQ 6.59375 54.828125 13.0625 64.515625 \nQ 19.53125 74.21875 31.78125 74.21875 \nz\n\" id=\"DejaVuSans-48\"/>\n       <path d=\"M 10.6875 12.40625 \nL 21 12.40625 \nL 21 0 \nL 10.6875 0 \nz\n\" id=\"DejaVuSans-46\"/>\n      </defs>\n      <g transform=\"translate(113.126563 254.356563)scale(0.1 -0.1)\">\n       <use xlink:href=\"#DejaVuSans-48\"/>\n       <use x=\"63.623047\" xlink:href=\"#DejaVuSans-46\"/>\n       <use x=\"95.410156\" xlink:href=\"#DejaVuSans-48\"/>\n       <use x=\"159.033203\" xlink:href=\"#DejaVuSans-48\"/>\n      </g>\n     </g>\n    </g>\n    <g id=\"xtick_2\">\n     <g id=\"line2d_2\">\n      <g>\n       <use style=\"stroke:#000000;stroke-width:0.8;\" x=\"190.549651\" xlink:href=\"#m8f791b1c16\" y=\"239.758125\"/>\n      </g>\n     </g>\n     <g id=\"text_2\">\n      <!-- 0.01 -->\n      <defs>\n       <path d=\"M 12.40625 8.296875 \nL 28.515625 8.296875 \nL 28.515625 63.921875 \nL 10.984375 60.40625 \nL 10.984375 69.390625 \nL 28.421875 72.90625 \nL 38.28125 72.90625 \nL 38.28125 8.296875 \nL 54.390625 8.296875 \nL 54.390625 0 \nL 12.40625 0 \nz\n\" id=\"DejaVuSans-49\"/>\n      </defs>\n      <g transform=\"translate(179.416838 254.356563)scale(0.1 -0.1)\">\n       <use xlink:href=\"#DejaVuSans-48\"/>\n       <use x=\"63.623047\" xlink:href=\"#DejaVuSans-46\"/>\n       <use x=\"95.410156\" xlink:href=\"#DejaVuSans-48\"/>\n       <use x=\"159.033203\" xlink:href=\"#DejaVuSans-49\"/>\n      </g>\n     </g>\n    </g>\n    <g id=\"xtick_3\">\n     <g id=\"line2d_3\">\n      <g>\n       <use style=\"stroke:#000000;stroke-width:0.8;\" x=\"256.839927\" xlink:href=\"#m8f791b1c16\" y=\"239.758125\"/>\n      </g>\n     </g>\n     <g id=\"text_3\">\n      <!-- 0.02 -->\n      <defs>\n       <path d=\"M 19.1875 8.296875 \nL 53.609375 8.296875 \nL 53.609375 0 \nL 7.328125 0 \nL 7.328125 8.296875 \nQ 12.9375 14.109375 22.625 23.890625 \nQ 32.328125 33.6875 34.8125 36.53125 \nQ 39.546875 41.84375 41.421875 45.53125 \nQ 43.3125 49.21875 43.3125 52.78125 \nQ 43.3125 58.59375 39.234375 62.25 \nQ 35.15625 65.921875 28.609375 65.921875 \nQ 23.96875 65.921875 18.8125 64.3125 \nQ 13.671875 62.703125 7.8125 59.421875 \nL 7.8125 69.390625 \nQ 13.765625 71.78125 18.9375 73 \nQ 24.125 74.21875 28.421875 74.21875 \nQ 39.75 74.21875 46.484375 68.546875 \nQ 53.21875 62.890625 53.21875 53.421875 \nQ 53.21875 48.921875 51.53125 44.890625 \nQ 49.859375 40.875 45.40625 35.40625 \nQ 44.1875 33.984375 37.640625 27.21875 \nQ 31.109375 20.453125 19.1875 8.296875 \nz\n\" id=\"DejaVuSans-50\"/>\n      </defs>\n      <g transform=\"translate(245.707114 254.356563)scale(0.1 -0.1)\">\n       <use xlink:href=\"#DejaVuSans-48\"/>\n       <use x=\"63.623047\" xlink:href=\"#DejaVuSans-46\"/>\n       <use x=\"95.410156\" xlink:href=\"#DejaVuSans-48\"/>\n       <use x=\"159.033203\" xlink:href=\"#DejaVuSans-50\"/>\n      </g>\n     </g>\n    </g>\n    <g id=\"xtick_4\">\n     <g id=\"line2d_4\">\n      <g>\n       <use style=\"stroke:#000000;stroke-width:0.8;\" x=\"323.130202\" xlink:href=\"#m8f791b1c16\" y=\"239.758125\"/>\n      </g>\n     </g>\n     <g id=\"text_4\">\n      <!-- 0.03 -->\n      <defs>\n       <path d=\"M 40.578125 39.3125 \nQ 47.65625 37.796875 51.625 33 \nQ 55.609375 28.21875 55.609375 21.1875 \nQ 55.609375 10.40625 48.1875 4.484375 \nQ 40.765625 -1.421875 27.09375 -1.421875 \nQ 22.515625 -1.421875 17.65625 -0.515625 \nQ 12.796875 0.390625 7.625 2.203125 \nL 7.625 11.71875 \nQ 11.71875 9.328125 16.59375 8.109375 \nQ 21.484375 6.890625 26.8125 6.890625 \nQ 36.078125 6.890625 40.9375 10.546875 \nQ 45.796875 14.203125 45.796875 21.1875 \nQ 45.796875 27.640625 41.28125 31.265625 \nQ 36.765625 34.90625 28.71875 34.90625 \nL 20.21875 34.90625 \nL 20.21875 43.015625 \nL 29.109375 43.015625 \nQ 36.375 43.015625 40.234375 45.921875 \nQ 44.09375 48.828125 44.09375 54.296875 \nQ 44.09375 59.90625 40.109375 62.90625 \nQ 36.140625 65.921875 28.71875 65.921875 \nQ 24.65625 65.921875 20.015625 65.03125 \nQ 15.375 64.15625 9.8125 62.3125 \nL 9.8125 71.09375 \nQ 15.4375 72.65625 20.34375 73.4375 \nQ 25.25 74.21875 29.59375 74.21875 \nQ 40.828125 74.21875 47.359375 69.109375 \nQ 53.90625 64.015625 53.90625 55.328125 \nQ 53.90625 49.265625 50.4375 45.09375 \nQ 46.96875 40.921875 40.578125 39.3125 \nz\n\" id=\"DejaVuSans-51\"/>\n      </defs>\n      <g transform=\"translate(311.99739 254.356563)scale(0.1 -0.1)\">\n       <use xlink:href=\"#DejaVuSans-48\"/>\n       <use x=\"63.623047\" xlink:href=\"#DejaVuSans-46\"/>\n       <use x=\"95.410156\" xlink:href=\"#DejaVuSans-48\"/>\n       <use x=\"159.033203\" xlink:href=\"#DejaVuSans-51\"/>\n      </g>\n     </g>\n    </g>\n    <g id=\"xtick_5\">\n     <g id=\"line2d_5\">\n      <g>\n       <use style=\"stroke:#000000;stroke-width:0.8;\" x=\"389.420478\" xlink:href=\"#m8f791b1c16\" y=\"239.758125\"/>\n      </g>\n     </g>\n     <g id=\"text_5\">\n      <!-- 0.04 -->\n      <defs>\n       <path d=\"M 37.796875 64.3125 \nL 12.890625 25.390625 \nL 37.796875 25.390625 \nz\nM 35.203125 72.90625 \nL 47.609375 72.90625 \nL 47.609375 25.390625 \nL 58.015625 25.390625 \nL 58.015625 17.1875 \nL 47.609375 17.1875 \nL 47.609375 0 \nL 37.796875 0 \nL 37.796875 17.1875 \nL 4.890625 17.1875 \nL 4.890625 26.703125 \nz\n\" id=\"DejaVuSans-52\"/>\n      </defs>\n      <g transform=\"translate(378.287666 254.356563)scale(0.1 -0.1)\">\n       <use xlink:href=\"#DejaVuSans-48\"/>\n       <use x=\"63.623047\" xlink:href=\"#DejaVuSans-46\"/>\n       <use x=\"95.410156\" xlink:href=\"#DejaVuSans-48\"/>\n       <use x=\"159.033203\" xlink:href=\"#DejaVuSans-52\"/>\n      </g>\n     </g>\n    </g>\n    <g id=\"xtick_6\">\n     <g id=\"line2d_6\">\n      <g>\n       <use style=\"stroke:#000000;stroke-width:0.8;\" x=\"455.710754\" xlink:href=\"#m8f791b1c16\" y=\"239.758125\"/>\n      </g>\n     </g>\n     <g id=\"text_6\">\n      <!-- 0.05 -->\n      <defs>\n       <path d=\"M 10.796875 72.90625 \nL 49.515625 72.90625 \nL 49.515625 64.59375 \nL 19.828125 64.59375 \nL 19.828125 46.734375 \nQ 21.96875 47.46875 24.109375 47.828125 \nQ 26.265625 48.1875 28.421875 48.1875 \nQ 40.625 48.1875 47.75 41.5 \nQ 54.890625 34.8125 54.890625 23.390625 \nQ 54.890625 11.625 47.5625 5.09375 \nQ 40.234375 -1.421875 26.90625 -1.421875 \nQ 22.3125 -1.421875 17.546875 -0.640625 \nQ 12.796875 0.140625 7.71875 1.703125 \nL 7.71875 11.625 \nQ 12.109375 9.234375 16.796875 8.0625 \nQ 21.484375 6.890625 26.703125 6.890625 \nQ 35.15625 6.890625 40.078125 11.328125 \nQ 45.015625 15.765625 45.015625 23.390625 \nQ 45.015625 31 40.078125 35.4375 \nQ 35.15625 39.890625 26.703125 39.890625 \nQ 22.75 39.890625 18.8125 39.015625 \nQ 14.890625 38.140625 10.796875 36.28125 \nz\n\" id=\"DejaVuSans-53\"/>\n      </defs>\n      <g transform=\"translate(444.577942 254.356563)scale(0.1 -0.1)\">\n       <use xlink:href=\"#DejaVuSans-48\"/>\n       <use x=\"63.623047\" xlink:href=\"#DejaVuSans-46\"/>\n       <use x=\"95.410156\" xlink:href=\"#DejaVuSans-48\"/>\n       <use x=\"159.033203\" xlink:href=\"#DejaVuSans-53\"/>\n      </g>\n     </g>\n    </g>\n   </g>\n   <g id=\"matplotlib.axis_2\">\n    <g id=\"ytick_1\">\n     <g id=\"line2d_7\">\n      <defs>\n       <path d=\"M 0 0 \nL -3.5 0 \n\" id=\"mae2e211be0\" style=\"stroke:#000000;stroke-width:0.8;\"/>\n      </defs>\n      <g>\n       <use style=\"stroke:#000000;stroke-width:0.8;\" x=\"124.259375\" xlink:href=\"#mae2e211be0\" y=\"228.886125\"/>\n      </g>\n     </g>\n     <g id=\"text_7\">\n      <!-- h_fouls -->\n      <defs>\n       <path d=\"M 54.890625 33.015625 \nL 54.890625 0 \nL 45.90625 0 \nL 45.90625 32.71875 \nQ 45.90625 40.484375 42.875 44.328125 \nQ 39.84375 48.1875 33.796875 48.1875 \nQ 26.515625 48.1875 22.3125 43.546875 \nQ 18.109375 38.921875 18.109375 30.90625 \nL 18.109375 0 \nL 9.078125 0 \nL 9.078125 75.984375 \nL 18.109375 75.984375 \nL 18.109375 46.1875 \nQ 21.34375 51.125 25.703125 53.5625 \nQ 30.078125 56 35.796875 56 \nQ 45.21875 56 50.046875 50.171875 \nQ 54.890625 44.34375 54.890625 33.015625 \nz\n\" id=\"DejaVuSans-104\"/>\n       <path d=\"M 50.984375 -16.609375 \nL 50.984375 -23.578125 \nL -0.984375 -23.578125 \nL -0.984375 -16.609375 \nz\n\" id=\"DejaVuSans-95\"/>\n       <path d=\"M 37.109375 75.984375 \nL 37.109375 68.5 \nL 28.515625 68.5 \nQ 23.6875 68.5 21.796875 66.546875 \nQ 19.921875 64.59375 19.921875 59.515625 \nL 19.921875 54.6875 \nL 34.71875 54.6875 \nL 34.71875 47.703125 \nL 19.921875 47.703125 \nL 19.921875 0 \nL 10.890625 0 \nL 10.890625 47.703125 \nL 2.296875 47.703125 \nL 2.296875 54.6875 \nL 10.890625 54.6875 \nL 10.890625 58.5 \nQ 10.890625 67.625 15.140625 71.796875 \nQ 19.390625 75.984375 28.609375 75.984375 \nz\n\" id=\"DejaVuSans-102\"/>\n       <path d=\"M 30.609375 48.390625 \nQ 23.390625 48.390625 19.1875 42.75 \nQ 14.984375 37.109375 14.984375 27.296875 \nQ 14.984375 17.484375 19.15625 11.84375 \nQ 23.34375 6.203125 30.609375 6.203125 \nQ 37.796875 6.203125 41.984375 11.859375 \nQ 46.1875 17.53125 46.1875 27.296875 \nQ 46.1875 37.015625 41.984375 42.703125 \nQ 37.796875 48.390625 30.609375 48.390625 \nz\nM 30.609375 56 \nQ 42.328125 56 49.015625 48.375 \nQ 55.71875 40.765625 55.71875 27.296875 \nQ 55.71875 13.875 49.015625 6.21875 \nQ 42.328125 -1.421875 30.609375 -1.421875 \nQ 18.84375 -1.421875 12.171875 6.21875 \nQ 5.515625 13.875 5.515625 27.296875 \nQ 5.515625 40.765625 12.171875 48.375 \nQ 18.84375 56 30.609375 56 \nz\n\" id=\"DejaVuSans-111\"/>\n       <path d=\"M 8.5 21.578125 \nL 8.5 54.6875 \nL 17.484375 54.6875 \nL 17.484375 21.921875 \nQ 17.484375 14.15625 20.5 10.265625 \nQ 23.53125 6.390625 29.59375 6.390625 \nQ 36.859375 6.390625 41.078125 11.03125 \nQ 45.3125 15.671875 45.3125 23.6875 \nL 45.3125 54.6875 \nL 54.296875 54.6875 \nL 54.296875 0 \nL 45.3125 0 \nL 45.3125 8.40625 \nQ 42.046875 3.421875 37.71875 1 \nQ 33.40625 -1.421875 27.6875 -1.421875 \nQ 18.265625 -1.421875 13.375 4.4375 \nQ 8.5 10.296875 8.5 21.578125 \nz\nM 31.109375 56 \nz\n\" id=\"DejaVuSans-117\"/>\n       <path d=\"M 9.421875 75.984375 \nL 18.40625 75.984375 \nL 18.40625 0 \nL 9.421875 0 \nz\n\" id=\"DejaVuSans-108\"/>\n       <path d=\"M 44.28125 53.078125 \nL 44.28125 44.578125 \nQ 40.484375 46.53125 36.375 47.5 \nQ 32.28125 48.484375 27.875 48.484375 \nQ 21.1875 48.484375 17.84375 46.4375 \nQ 14.5 44.390625 14.5 40.28125 \nQ 14.5 37.15625 16.890625 35.375 \nQ 19.28125 33.59375 26.515625 31.984375 \nL 29.59375 31.296875 \nQ 39.15625 29.25 43.1875 25.515625 \nQ 47.21875 21.78125 47.21875 15.09375 \nQ 47.21875 7.46875 41.1875 3.015625 \nQ 35.15625 -1.421875 24.609375 -1.421875 \nQ 20.21875 -1.421875 15.453125 -0.5625 \nQ 10.6875 0.296875 5.421875 2 \nL 5.421875 11.28125 \nQ 10.40625 8.6875 15.234375 7.390625 \nQ 20.0625 6.109375 24.8125 6.109375 \nQ 31.15625 6.109375 34.5625 8.28125 \nQ 37.984375 10.453125 37.984375 14.40625 \nQ 37.984375 18.0625 35.515625 20.015625 \nQ 33.0625 21.96875 24.703125 23.78125 \nL 21.578125 24.515625 \nQ 13.234375 26.265625 9.515625 29.90625 \nQ 5.8125 33.546875 5.8125 39.890625 \nQ 5.8125 47.609375 11.28125 51.796875 \nQ 16.75 56 26.8125 56 \nQ 31.78125 56 36.171875 55.265625 \nQ 40.578125 54.546875 44.28125 53.078125 \nz\n\" id=\"DejaVuSans-115\"/>\n      </defs>\n      <g transform=\"translate(81.957813 232.685344)scale(0.1 -0.1)\">\n       <use xlink:href=\"#DejaVuSans-104\"/>\n       <use x=\"63.378906\" xlink:href=\"#DejaVuSans-95\"/>\n       <use x=\"113.378906\" xlink:href=\"#DejaVuSans-102\"/>\n       <use x=\"148.583984\" xlink:href=\"#DejaVuSans-111\"/>\n       <use x=\"209.765625\" xlink:href=\"#DejaVuSans-117\"/>\n       <use x=\"273.144531\" xlink:href=\"#DejaVuSans-108\"/>\n       <use x=\"300.927734\" xlink:href=\"#DejaVuSans-115\"/>\n      </g>\n     </g>\n    </g>\n    <g id=\"ytick_2\">\n     <g id=\"line2d_8\">\n      <g>\n       <use style=\"stroke:#000000;stroke-width:0.8;\" x=\"124.259375\" xlink:href=\"#mae2e211be0\" y=\"207.142125\"/>\n      </g>\n     </g>\n     <g id=\"text_8\">\n      <!-- h_total_shots -->\n      <defs>\n       <path d=\"M 18.3125 70.21875 \nL 18.3125 54.6875 \nL 36.8125 54.6875 \nL 36.8125 47.703125 \nL 18.3125 47.703125 \nL 18.3125 18.015625 \nQ 18.3125 11.328125 20.140625 9.421875 \nQ 21.96875 7.515625 27.59375 7.515625 \nL 36.8125 7.515625 \nL 36.8125 0 \nL 27.59375 0 \nQ 17.1875 0 13.234375 3.875 \nQ 9.28125 7.765625 9.28125 18.015625 \nL 9.28125 47.703125 \nL 2.6875 47.703125 \nL 2.6875 54.6875 \nL 9.28125 54.6875 \nL 9.28125 70.21875 \nz\n\" id=\"DejaVuSans-116\"/>\n       <path d=\"M 34.28125 27.484375 \nQ 23.390625 27.484375 19.1875 25 \nQ 14.984375 22.515625 14.984375 16.5 \nQ 14.984375 11.71875 18.140625 8.90625 \nQ 21.296875 6.109375 26.703125 6.109375 \nQ 34.1875 6.109375 38.703125 11.40625 \nQ 43.21875 16.703125 43.21875 25.484375 \nL 43.21875 27.484375 \nz\nM 52.203125 31.203125 \nL 52.203125 0 \nL 43.21875 0 \nL 43.21875 8.296875 \nQ 40.140625 3.328125 35.546875 0.953125 \nQ 30.953125 -1.421875 24.3125 -1.421875 \nQ 15.921875 -1.421875 10.953125 3.296875 \nQ 6 8.015625 6 15.921875 \nQ 6 25.140625 12.171875 29.828125 \nQ 18.359375 34.515625 30.609375 34.515625 \nL 43.21875 34.515625 \nL 43.21875 35.40625 \nQ 43.21875 41.609375 39.140625 45 \nQ 35.0625 48.390625 27.6875 48.390625 \nQ 23 48.390625 18.546875 47.265625 \nQ 14.109375 46.140625 10.015625 43.890625 \nL 10.015625 52.203125 \nQ 14.9375 54.109375 19.578125 55.046875 \nQ 24.21875 56 28.609375 56 \nQ 40.484375 56 46.34375 49.84375 \nQ 52.203125 43.703125 52.203125 31.203125 \nz\n\" id=\"DejaVuSans-97\"/>\n      </defs>\n      <g transform=\"translate(51.260937 210.941344)scale(0.1 -0.1)\">\n       <use xlink:href=\"#DejaVuSans-104\"/>\n       <use x=\"63.378906\" xlink:href=\"#DejaVuSans-95\"/>\n       <use x=\"113.378906\" xlink:href=\"#DejaVuSans-116\"/>\n       <use x=\"152.587891\" xlink:href=\"#DejaVuSans-111\"/>\n       <use x=\"213.769531\" xlink:href=\"#DejaVuSans-116\"/>\n       <use x=\"252.978516\" xlink:href=\"#DejaVuSans-97\"/>\n       <use x=\"314.257812\" xlink:href=\"#DejaVuSans-108\"/>\n       <use x=\"342.041016\" xlink:href=\"#DejaVuSans-95\"/>\n       <use x=\"392.041016\" xlink:href=\"#DejaVuSans-115\"/>\n       <use x=\"444.140625\" xlink:href=\"#DejaVuSans-104\"/>\n       <use x=\"507.519531\" xlink:href=\"#DejaVuSans-111\"/>\n       <use x=\"568.701172\" xlink:href=\"#DejaVuSans-116\"/>\n       <use x=\"607.910156\" xlink:href=\"#DejaVuSans-115\"/>\n      </g>\n     </g>\n    </g>\n    <g id=\"ytick_3\">\n     <g id=\"line2d_9\">\n      <g>\n       <use style=\"stroke:#000000;stroke-width:0.8;\" x=\"124.259375\" xlink:href=\"#mae2e211be0\" y=\"185.398125\"/>\n      </g>\n     </g>\n     <g id=\"text_9\">\n      <!-- h_ball_possession -->\n      <defs>\n       <path d=\"M 48.6875 27.296875 \nQ 48.6875 37.203125 44.609375 42.84375 \nQ 40.53125 48.484375 33.40625 48.484375 \nQ 26.265625 48.484375 22.1875 42.84375 \nQ 18.109375 37.203125 18.109375 27.296875 \nQ 18.109375 17.390625 22.1875 11.75 \nQ 26.265625 6.109375 33.40625 6.109375 \nQ 40.53125 6.109375 44.609375 11.75 \nQ 48.6875 17.390625 48.6875 27.296875 \nz\nM 18.109375 46.390625 \nQ 20.953125 51.265625 25.265625 53.625 \nQ 29.59375 56 35.59375 56 \nQ 45.5625 56 51.78125 48.09375 \nQ 58.015625 40.1875 58.015625 27.296875 \nQ 58.015625 14.40625 51.78125 6.484375 \nQ 45.5625 -1.421875 35.59375 -1.421875 \nQ 29.59375 -1.421875 25.265625 0.953125 \nQ 20.953125 3.328125 18.109375 8.203125 \nL 18.109375 0 \nL 9.078125 0 \nL 9.078125 75.984375 \nL 18.109375 75.984375 \nz\n\" id=\"DejaVuSans-98\"/>\n       <path d=\"M 18.109375 8.203125 \nL 18.109375 -20.796875 \nL 9.078125 -20.796875 \nL 9.078125 54.6875 \nL 18.109375 54.6875 \nL 18.109375 46.390625 \nQ 20.953125 51.265625 25.265625 53.625 \nQ 29.59375 56 35.59375 56 \nQ 45.5625 56 51.78125 48.09375 \nQ 58.015625 40.1875 58.015625 27.296875 \nQ 58.015625 14.40625 51.78125 6.484375 \nQ 45.5625 -1.421875 35.59375 -1.421875 \nQ 29.59375 -1.421875 25.265625 0.953125 \nQ 20.953125 3.328125 18.109375 8.203125 \nz\nM 48.6875 27.296875 \nQ 48.6875 37.203125 44.609375 42.84375 \nQ 40.53125 48.484375 33.40625 48.484375 \nQ 26.265625 48.484375 22.1875 42.84375 \nQ 18.109375 37.203125 18.109375 27.296875 \nQ 18.109375 17.390625 22.1875 11.75 \nQ 26.265625 6.109375 33.40625 6.109375 \nQ 40.53125 6.109375 44.609375 11.75 \nQ 48.6875 17.390625 48.6875 27.296875 \nz\n\" id=\"DejaVuSans-112\"/>\n       <path d=\"M 56.203125 29.59375 \nL 56.203125 25.203125 \nL 14.890625 25.203125 \nQ 15.484375 15.921875 20.484375 11.0625 \nQ 25.484375 6.203125 34.421875 6.203125 \nQ 39.59375 6.203125 44.453125 7.46875 \nQ 49.3125 8.734375 54.109375 11.28125 \nL 54.109375 2.78125 \nQ 49.265625 0.734375 44.1875 -0.34375 \nQ 39.109375 -1.421875 33.890625 -1.421875 \nQ 20.796875 -1.421875 13.15625 6.1875 \nQ 5.515625 13.8125 5.515625 26.8125 \nQ 5.515625 40.234375 12.765625 48.109375 \nQ 20.015625 56 32.328125 56 \nQ 43.359375 56 49.78125 48.890625 \nQ 56.203125 41.796875 56.203125 29.59375 \nz\nM 47.21875 32.234375 \nQ 47.125 39.59375 43.09375 43.984375 \nQ 39.0625 48.390625 32.421875 48.390625 \nQ 24.90625 48.390625 20.390625 44.140625 \nQ 15.875 39.890625 15.1875 32.171875 \nz\n\" id=\"DejaVuSans-101\"/>\n       <path d=\"M 9.421875 54.6875 \nL 18.40625 54.6875 \nL 18.40625 0 \nL 9.421875 0 \nz\nM 9.421875 75.984375 \nL 18.40625 75.984375 \nL 18.40625 64.59375 \nL 9.421875 64.59375 \nz\n\" id=\"DejaVuSans-105\"/>\n       <path d=\"M 54.890625 33.015625 \nL 54.890625 0 \nL 45.90625 0 \nL 45.90625 32.71875 \nQ 45.90625 40.484375 42.875 44.328125 \nQ 39.84375 48.1875 33.796875 48.1875 \nQ 26.515625 48.1875 22.3125 43.546875 \nQ 18.109375 38.921875 18.109375 30.90625 \nL 18.109375 0 \nL 9.078125 0 \nL 9.078125 54.6875 \nL 18.109375 54.6875 \nL 18.109375 46.1875 \nQ 21.34375 51.125 25.703125 53.5625 \nQ 30.078125 56 35.796875 56 \nQ 45.21875 56 50.046875 50.171875 \nQ 54.890625 44.34375 54.890625 33.015625 \nz\n\" id=\"DejaVuSans-110\"/>\n      </defs>\n      <g transform=\"translate(28.196875 189.197344)scale(0.1 -0.1)\">\n       <use xlink:href=\"#DejaVuSans-104\"/>\n       <use x=\"63.378906\" xlink:href=\"#DejaVuSans-95\"/>\n       <use x=\"113.378906\" xlink:href=\"#DejaVuSans-98\"/>\n       <use x=\"176.855469\" xlink:href=\"#DejaVuSans-97\"/>\n       <use x=\"238.134766\" xlink:href=\"#DejaVuSans-108\"/>\n       <use x=\"265.917969\" xlink:href=\"#DejaVuSans-108\"/>\n       <use x=\"293.701172\" xlink:href=\"#DejaVuSans-95\"/>\n       <use x=\"343.701172\" xlink:href=\"#DejaVuSans-112\"/>\n       <use x=\"407.177734\" xlink:href=\"#DejaVuSans-111\"/>\n       <use x=\"468.359375\" xlink:href=\"#DejaVuSans-115\"/>\n       <use x=\"520.458984\" xlink:href=\"#DejaVuSans-115\"/>\n       <use x=\"572.558594\" xlink:href=\"#DejaVuSans-101\"/>\n       <use x=\"634.082031\" xlink:href=\"#DejaVuSans-115\"/>\n       <use x=\"686.181641\" xlink:href=\"#DejaVuSans-115\"/>\n       <use x=\"738.28125\" xlink:href=\"#DejaVuSans-105\"/>\n       <use x=\"766.064453\" xlink:href=\"#DejaVuSans-111\"/>\n       <use x=\"827.246094\" xlink:href=\"#DejaVuSans-110\"/>\n      </g>\n     </g>\n    </g>\n    <g id=\"ytick_4\">\n     <g id=\"line2d_10\">\n      <g>\n       <use style=\"stroke:#000000;stroke-width:0.8;\" x=\"124.259375\" xlink:href=\"#mae2e211be0\" y=\"163.654125\"/>\n      </g>\n     </g>\n     <g id=\"text_10\">\n      <!-- a_ball_possession -->\n      <g transform=\"translate(28.40625 167.453344)scale(0.1 -0.1)\">\n       <use xlink:href=\"#DejaVuSans-97\"/>\n       <use x=\"61.279297\" xlink:href=\"#DejaVuSans-95\"/>\n       <use x=\"111.279297\" xlink:href=\"#DejaVuSans-98\"/>\n       <use x=\"174.755859\" xlink:href=\"#DejaVuSans-97\"/>\n       <use x=\"236.035156\" xlink:href=\"#DejaVuSans-108\"/>\n       <use x=\"263.818359\" xlink:href=\"#DejaVuSans-108\"/>\n       <use x=\"291.601562\" xlink:href=\"#DejaVuSans-95\"/>\n       <use x=\"341.601562\" xlink:href=\"#DejaVuSans-112\"/>\n       <use x=\"405.078125\" xlink:href=\"#DejaVuSans-111\"/>\n       <use x=\"466.259766\" xlink:href=\"#DejaVuSans-115\"/>\n       <use x=\"518.359375\" xlink:href=\"#DejaVuSans-115\"/>\n       <use x=\"570.458984\" xlink:href=\"#DejaVuSans-101\"/>\n       <use x=\"631.982422\" xlink:href=\"#DejaVuSans-115\"/>\n       <use x=\"684.082031\" xlink:href=\"#DejaVuSans-115\"/>\n       <use x=\"736.181641\" xlink:href=\"#DejaVuSans-105\"/>\n       <use x=\"763.964844\" xlink:href=\"#DejaVuSans-111\"/>\n       <use x=\"825.146484\" xlink:href=\"#DejaVuSans-110\"/>\n      </g>\n     </g>\n    </g>\n    <g id=\"ytick_5\">\n     <g id=\"line2d_11\">\n      <g>\n       <use style=\"stroke:#000000;stroke-width:0.8;\" x=\"124.259375\" xlink:href=\"#mae2e211be0\" y=\"141.910125\"/>\n      </g>\n     </g>\n     <g id=\"text_11\">\n      <!-- a_total_shots -->\n      <g transform=\"translate(51.470313 145.709344)scale(0.1 -0.1)\">\n       <use xlink:href=\"#DejaVuSans-97\"/>\n       <use x=\"61.279297\" xlink:href=\"#DejaVuSans-95\"/>\n       <use x=\"111.279297\" xlink:href=\"#DejaVuSans-116\"/>\n       <use x=\"150.488281\" xlink:href=\"#DejaVuSans-111\"/>\n       <use x=\"211.669922\" xlink:href=\"#DejaVuSans-116\"/>\n       <use x=\"250.878906\" xlink:href=\"#DejaVuSans-97\"/>\n       <use x=\"312.158203\" xlink:href=\"#DejaVuSans-108\"/>\n       <use x=\"339.941406\" xlink:href=\"#DejaVuSans-95\"/>\n       <use x=\"389.941406\" xlink:href=\"#DejaVuSans-115\"/>\n       <use x=\"442.041016\" xlink:href=\"#DejaVuSans-104\"/>\n       <use x=\"505.419922\" xlink:href=\"#DejaVuSans-111\"/>\n       <use x=\"566.601562\" xlink:href=\"#DejaVuSans-116\"/>\n       <use x=\"605.810547\" xlink:href=\"#DejaVuSans-115\"/>\n      </g>\n     </g>\n    </g>\n    <g id=\"ytick_6\">\n     <g id=\"line2d_12\">\n      <g>\n       <use style=\"stroke:#000000;stroke-width:0.8;\" x=\"124.259375\" xlink:href=\"#mae2e211be0\" y=\"120.166125\"/>\n      </g>\n     </g>\n     <g id=\"text_12\">\n      <!-- a_accurate_passes -->\n      <defs>\n       <path d=\"M 48.78125 52.59375 \nL 48.78125 44.1875 \nQ 44.96875 46.296875 41.140625 47.34375 \nQ 37.3125 48.390625 33.40625 48.390625 \nQ 24.65625 48.390625 19.8125 42.84375 \nQ 14.984375 37.3125 14.984375 27.296875 \nQ 14.984375 17.28125 19.8125 11.734375 \nQ 24.65625 6.203125 33.40625 6.203125 \nQ 37.3125 6.203125 41.140625 7.25 \nQ 44.96875 8.296875 48.78125 10.40625 \nL 48.78125 2.09375 \nQ 45.015625 0.34375 40.984375 -0.53125 \nQ 36.96875 -1.421875 32.421875 -1.421875 \nQ 20.0625 -1.421875 12.78125 6.34375 \nQ 5.515625 14.109375 5.515625 27.296875 \nQ 5.515625 40.671875 12.859375 48.328125 \nQ 20.21875 56 33.015625 56 \nQ 37.15625 56 41.109375 55.140625 \nQ 45.0625 54.296875 48.78125 52.59375 \nz\n\" id=\"DejaVuSans-99\"/>\n       <path d=\"M 41.109375 46.296875 \nQ 39.59375 47.171875 37.8125 47.578125 \nQ 36.03125 48 33.890625 48 \nQ 26.265625 48 22.1875 43.046875 \nQ 18.109375 38.09375 18.109375 28.8125 \nL 18.109375 0 \nL 9.078125 0 \nL 9.078125 54.6875 \nL 18.109375 54.6875 \nL 18.109375 46.1875 \nQ 20.953125 51.171875 25.484375 53.578125 \nQ 30.03125 56 36.53125 56 \nQ 37.453125 56 38.578125 55.875 \nQ 39.703125 55.765625 41.0625 55.515625 \nz\n\" id=\"DejaVuSans-114\"/>\n      </defs>\n      <g transform=\"translate(23.098438 123.826281)scale(0.1 -0.1)\">\n       <use xlink:href=\"#DejaVuSans-97\"/>\n       <use x=\"61.279297\" xlink:href=\"#DejaVuSans-95\"/>\n       <use x=\"111.279297\" xlink:href=\"#DejaVuSans-97\"/>\n       <use x=\"172.558594\" xlink:href=\"#DejaVuSans-99\"/>\n       <use x=\"227.539062\" xlink:href=\"#DejaVuSans-99\"/>\n       <use x=\"282.519531\" xlink:href=\"#DejaVuSans-117\"/>\n       <use x=\"345.898438\" xlink:href=\"#DejaVuSans-114\"/>\n       <use x=\"387.011719\" xlink:href=\"#DejaVuSans-97\"/>\n       <use x=\"448.291016\" xlink:href=\"#DejaVuSans-116\"/>\n       <use x=\"487.5\" xlink:href=\"#DejaVuSans-101\"/>\n       <use x=\"549.023438\" xlink:href=\"#DejaVuSans-95\"/>\n       <use x=\"599.023438\" xlink:href=\"#DejaVuSans-112\"/>\n       <use x=\"662.5\" xlink:href=\"#DejaVuSans-97\"/>\n       <use x=\"723.779297\" xlink:href=\"#DejaVuSans-115\"/>\n       <use x=\"775.878906\" xlink:href=\"#DejaVuSans-115\"/>\n       <use x=\"827.978516\" xlink:href=\"#DejaVuSans-101\"/>\n       <use x=\"889.501953\" xlink:href=\"#DejaVuSans-115\"/>\n      </g>\n     </g>\n    </g>\n    <g id=\"ytick_7\">\n     <g id=\"line2d_13\">\n      <g>\n       <use style=\"stroke:#000000;stroke-width:0.8;\" x=\"124.259375\" xlink:href=\"#mae2e211be0\" y=\"98.422125\"/>\n      </g>\n     </g>\n     <g id=\"text_13\">\n      <!-- h_pass_percentage -->\n      <defs>\n       <path d=\"M 45.40625 27.984375 \nQ 45.40625 37.75 41.375 43.109375 \nQ 37.359375 48.484375 30.078125 48.484375 \nQ 22.859375 48.484375 18.828125 43.109375 \nQ 14.796875 37.75 14.796875 27.984375 \nQ 14.796875 18.265625 18.828125 12.890625 \nQ 22.859375 7.515625 30.078125 7.515625 \nQ 37.359375 7.515625 41.375 12.890625 \nQ 45.40625 18.265625 45.40625 27.984375 \nz\nM 54.390625 6.78125 \nQ 54.390625 -7.171875 48.1875 -13.984375 \nQ 42 -20.796875 29.203125 -20.796875 \nQ 24.46875 -20.796875 20.265625 -20.09375 \nQ 16.0625 -19.390625 12.109375 -17.921875 \nL 12.109375 -9.1875 \nQ 16.0625 -11.328125 19.921875 -12.34375 \nQ 23.78125 -13.375 27.78125 -13.375 \nQ 36.625 -13.375 41.015625 -8.765625 \nQ 45.40625 -4.15625 45.40625 5.171875 \nL 45.40625 9.625 \nQ 42.625 4.78125 38.28125 2.390625 \nQ 33.9375 0 27.875 0 \nQ 17.828125 0 11.671875 7.65625 \nQ 5.515625 15.328125 5.515625 27.984375 \nQ 5.515625 40.671875 11.671875 48.328125 \nQ 17.828125 56 27.875 56 \nQ 33.9375 56 38.28125 53.609375 \nQ 42.625 51.21875 45.40625 46.390625 \nL 45.40625 54.6875 \nL 54.390625 54.6875 \nz\n\" id=\"DejaVuSans-103\"/>\n      </defs>\n      <g transform=\"translate(20.878125 102.221344)scale(0.1 -0.1)\">\n       <use xlink:href=\"#DejaVuSans-104\"/>\n       <use x=\"63.378906\" xlink:href=\"#DejaVuSans-95\"/>\n       <use x=\"113.378906\" xlink:href=\"#DejaVuSans-112\"/>\n       <use x=\"176.855469\" xlink:href=\"#DejaVuSans-97\"/>\n       <use x=\"238.134766\" xlink:href=\"#DejaVuSans-115\"/>\n       <use x=\"290.234375\" xlink:href=\"#DejaVuSans-115\"/>\n       <use x=\"342.333984\" xlink:href=\"#DejaVuSans-95\"/>\n       <use x=\"392.333984\" xlink:href=\"#DejaVuSans-112\"/>\n       <use x=\"455.810547\" xlink:href=\"#DejaVuSans-101\"/>\n       <use x=\"517.333984\" xlink:href=\"#DejaVuSans-114\"/>\n       <use x=\"558.416016\" xlink:href=\"#DejaVuSans-99\"/>\n       <use x=\"613.396484\" xlink:href=\"#DejaVuSans-101\"/>\n       <use x=\"674.919922\" xlink:href=\"#DejaVuSans-110\"/>\n       <use x=\"738.298828\" xlink:href=\"#DejaVuSans-116\"/>\n       <use x=\"777.507812\" xlink:href=\"#DejaVuSans-97\"/>\n       <use x=\"838.787109\" xlink:href=\"#DejaVuSans-103\"/>\n       <use x=\"902.263672\" xlink:href=\"#DejaVuSans-101\"/>\n      </g>\n     </g>\n    </g>\n    <g id=\"ytick_8\">\n     <g id=\"line2d_14\">\n      <g>\n       <use style=\"stroke:#000000;stroke-width:0.8;\" x=\"124.259375\" xlink:href=\"#mae2e211be0\" y=\"76.678125\"/>\n      </g>\n     </g>\n     <g id=\"text_14\">\n      <!-- a_total_passes -->\n      <g transform=\"translate(44.007812 80.477344)scale(0.1 -0.1)\">\n       <use xlink:href=\"#DejaVuSans-97\"/>\n       <use x=\"61.279297\" xlink:href=\"#DejaVuSans-95\"/>\n       <use x=\"111.279297\" xlink:href=\"#DejaVuSans-116\"/>\n       <use x=\"150.488281\" xlink:href=\"#DejaVuSans-111\"/>\n       <use x=\"211.669922\" xlink:href=\"#DejaVuSans-116\"/>\n       <use x=\"250.878906\" xlink:href=\"#DejaVuSans-97\"/>\n       <use x=\"312.158203\" xlink:href=\"#DejaVuSans-108\"/>\n       <use x=\"339.941406\" xlink:href=\"#DejaVuSans-95\"/>\n       <use x=\"389.941406\" xlink:href=\"#DejaVuSans-112\"/>\n       <use x=\"453.417969\" xlink:href=\"#DejaVuSans-97\"/>\n       <use x=\"514.697266\" xlink:href=\"#DejaVuSans-115\"/>\n       <use x=\"566.796875\" xlink:href=\"#DejaVuSans-115\"/>\n       <use x=\"618.896484\" xlink:href=\"#DejaVuSans-101\"/>\n       <use x=\"680.419922\" xlink:href=\"#DejaVuSans-115\"/>\n      </g>\n     </g>\n    </g>\n    <g id=\"ytick_9\">\n     <g id=\"line2d_15\">\n      <g>\n       <use style=\"stroke:#000000;stroke-width:0.8;\" x=\"124.259375\" xlink:href=\"#mae2e211be0\" y=\"54.934125\"/>\n      </g>\n     </g>\n     <g id=\"text_15\">\n      <!-- h_total_passes -->\n      <g transform=\"translate(43.798438 58.733344)scale(0.1 -0.1)\">\n       <use xlink:href=\"#DejaVuSans-104\"/>\n       <use x=\"63.378906\" xlink:href=\"#DejaVuSans-95\"/>\n       <use x=\"113.378906\" xlink:href=\"#DejaVuSans-116\"/>\n       <use x=\"152.587891\" xlink:href=\"#DejaVuSans-111\"/>\n       <use x=\"213.769531\" xlink:href=\"#DejaVuSans-116\"/>\n       <use x=\"252.978516\" xlink:href=\"#DejaVuSans-97\"/>\n       <use x=\"314.257812\" xlink:href=\"#DejaVuSans-108\"/>\n       <use x=\"342.041016\" xlink:href=\"#DejaVuSans-95\"/>\n       <use x=\"392.041016\" xlink:href=\"#DejaVuSans-112\"/>\n       <use x=\"455.517578\" xlink:href=\"#DejaVuSans-97\"/>\n       <use x=\"516.796875\" xlink:href=\"#DejaVuSans-115\"/>\n       <use x=\"568.896484\" xlink:href=\"#DejaVuSans-115\"/>\n       <use x=\"620.996094\" xlink:href=\"#DejaVuSans-101\"/>\n       <use x=\"682.519531\" xlink:href=\"#DejaVuSans-115\"/>\n      </g>\n     </g>\n    </g>\n    <g id=\"ytick_10\">\n     <g id=\"line2d_16\">\n      <g>\n       <use style=\"stroke:#000000;stroke-width:0.8;\" x=\"124.259375\" xlink:href=\"#mae2e211be0\" y=\"33.190125\"/>\n      </g>\n     </g>\n     <g id=\"text_16\">\n      <!-- h_accurate_passes -->\n      <g transform=\"translate(22.889062 36.989344)scale(0.1 -0.1)\">\n       <use xlink:href=\"#DejaVuSans-104\"/>\n       <use x=\"63.378906\" xlink:href=\"#DejaVuSans-95\"/>\n       <use x=\"113.378906\" xlink:href=\"#DejaVuSans-97\"/>\n       <use x=\"174.658203\" xlink:href=\"#DejaVuSans-99\"/>\n       <use x=\"229.638672\" xlink:href=\"#DejaVuSans-99\"/>\n       <use x=\"284.619141\" xlink:href=\"#DejaVuSans-117\"/>\n       <use x=\"347.998047\" xlink:href=\"#DejaVuSans-114\"/>\n       <use x=\"389.111328\" xlink:href=\"#DejaVuSans-97\"/>\n       <use x=\"450.390625\" xlink:href=\"#DejaVuSans-116\"/>\n       <use x=\"489.599609\" xlink:href=\"#DejaVuSans-101\"/>\n       <use x=\"551.123047\" xlink:href=\"#DejaVuSans-95\"/>\n       <use x=\"601.123047\" xlink:href=\"#DejaVuSans-112\"/>\n       <use x=\"664.599609\" xlink:href=\"#DejaVuSans-97\"/>\n       <use x=\"725.878906\" xlink:href=\"#DejaVuSans-115\"/>\n       <use x=\"777.978516\" xlink:href=\"#DejaVuSans-115\"/>\n       <use x=\"830.078125\" xlink:href=\"#DejaVuSans-101\"/>\n       <use x=\"891.601562\" xlink:href=\"#DejaVuSans-115\"/>\n      </g>\n     </g>\n    </g>\n    <g id=\"text_17\">\n     <!-- 1 -->\n     <g transform=\"translate(14.798437 134.219375)rotate(-90)scale(0.1 -0.1)\">\n      <use xlink:href=\"#DejaVuSans-49\"/>\n     </g>\n    </g>\n   </g>\n   <g id=\"patch_13\">\n    <path d=\"M 124.259375 239.758125 \nL 124.259375 22.318125 \n\" style=\"fill:none;stroke:#000000;stroke-linecap:square;stroke-linejoin:miter;stroke-width:0.8;\"/>\n   </g>\n   <g id=\"patch_14\">\n    <path d=\"M 459.059375 239.758125 \nL 459.059375 22.318125 \n\" style=\"fill:none;stroke:#000000;stroke-linecap:square;stroke-linejoin:miter;stroke-width:0.8;\"/>\n   </g>\n   <g id=\"patch_15\">\n    <path d=\"M 124.259375 239.758125 \nL 459.059375 239.758125 \n\" style=\"fill:none;stroke:#000000;stroke-linecap:square;stroke-linejoin:miter;stroke-width:0.8;\"/>\n   </g>\n   <g id=\"patch_16\">\n    <path d=\"M 124.259375 22.318125 \nL 459.059375 22.318125 \n\" style=\"fill:none;stroke:#000000;stroke-linecap:square;stroke-linejoin:miter;stroke-width:0.8;\"/>\n   </g>\n   <g id=\"text_18\">\n    <!-- Features Importances -->\n    <defs>\n     <path d=\"M 9.8125 72.90625 \nL 51.703125 72.90625 \nL 51.703125 64.59375 \nL 19.671875 64.59375 \nL 19.671875 43.109375 \nL 48.578125 43.109375 \nL 48.578125 34.8125 \nL 19.671875 34.8125 \nL 19.671875 0 \nL 9.8125 0 \nz\n\" id=\"DejaVuSans-70\"/>\n     <path id=\"DejaVuSans-32\"/>\n     <path d=\"M 9.8125 72.90625 \nL 19.671875 72.90625 \nL 19.671875 0 \nL 9.8125 0 \nz\n\" id=\"DejaVuSans-73\"/>\n     <path d=\"M 52 44.1875 \nQ 55.375 50.25 60.0625 53.125 \nQ 64.75 56 71.09375 56 \nQ 79.640625 56 84.28125 50.015625 \nQ 88.921875 44.046875 88.921875 33.015625 \nL 88.921875 0 \nL 79.890625 0 \nL 79.890625 32.71875 \nQ 79.890625 40.578125 77.09375 44.375 \nQ 74.3125 48.1875 68.609375 48.1875 \nQ 61.625 48.1875 57.5625 43.546875 \nQ 53.515625 38.921875 53.515625 30.90625 \nL 53.515625 0 \nL 44.484375 0 \nL 44.484375 32.71875 \nQ 44.484375 40.625 41.703125 44.40625 \nQ 38.921875 48.1875 33.109375 48.1875 \nQ 26.21875 48.1875 22.15625 43.53125 \nQ 18.109375 38.875 18.109375 30.90625 \nL 18.109375 0 \nL 9.078125 0 \nL 9.078125 54.6875 \nL 18.109375 54.6875 \nL 18.109375 46.1875 \nQ 21.1875 51.21875 25.484375 53.609375 \nQ 29.78125 56 35.6875 56 \nQ 41.65625 56 45.828125 52.96875 \nQ 50 49.953125 52 44.1875 \nz\n\" id=\"DejaVuSans-109\"/>\n    </defs>\n    <g transform=\"translate(225.99125 16.318125)scale(0.12 -0.12)\">\n     <use xlink:href=\"#DejaVuSans-70\"/>\n     <use x=\"57.441406\" xlink:href=\"#DejaVuSans-101\"/>\n     <use x=\"118.964844\" xlink:href=\"#DejaVuSans-97\"/>\n     <use x=\"180.244141\" xlink:href=\"#DejaVuSans-116\"/>\n     <use x=\"219.453125\" xlink:href=\"#DejaVuSans-117\"/>\n     <use x=\"282.832031\" xlink:href=\"#DejaVuSans-114\"/>\n     <use x=\"323.914062\" xlink:href=\"#DejaVuSans-101\"/>\n     <use x=\"385.4375\" xlink:href=\"#DejaVuSans-115\"/>\n     <use x=\"437.537109\" xlink:href=\"#DejaVuSans-32\"/>\n     <use x=\"469.324219\" xlink:href=\"#DejaVuSans-73\"/>\n     <use x=\"498.816406\" xlink:href=\"#DejaVuSans-109\"/>\n     <use x=\"596.228516\" xlink:href=\"#DejaVuSans-112\"/>\n     <use x=\"659.705078\" xlink:href=\"#DejaVuSans-111\"/>\n     <use x=\"720.886719\" xlink:href=\"#DejaVuSans-114\"/>\n     <use x=\"762\" xlink:href=\"#DejaVuSans-116\"/>\n     <use x=\"801.208984\" xlink:href=\"#DejaVuSans-97\"/>\n     <use x=\"862.488281\" xlink:href=\"#DejaVuSans-110\"/>\n     <use x=\"925.867188\" xlink:href=\"#DejaVuSans-99\"/>\n     <use x=\"980.847656\" xlink:href=\"#DejaVuSans-101\"/>\n     <use x=\"1042.371094\" xlink:href=\"#DejaVuSans-115\"/>\n    </g>\n   </g>\n  </g>\n </g>\n <defs>\n  <clipPath id=\"pe148dfe44b\">\n   <rect height=\"217.44\" width=\"334.8\" x=\"124.259375\" y=\"22.318125\"/>\n  </clipPath>\n </defs>\n</svg>\n",
      "image/png": "[encoded data removed]"
     },
     "metadata": {
      "needs_background": "light"
     }
    }
   ],
   "source": [
    "# Visualize the features by importance\n",
    "\n",
    "importances_df = pd.DataFrame(sorted(zip(brf_model.feature_importances_,    X.columns), reverse=True))[:10]\n",
    "importances_df.set_index(importances_df[1], inplace=True)\n",
    "importances_df.drop(columns=1, inplace=True)\n",
    "importances_df.rename(columns={0: 'Feature Importances'}, inplace=True)\n",
    "\n",
    "importances_sorted = importances_df.sort_values(by=\n",
    "'Feature Importances')\n",
    "\n",
    "importances_plot = importances_sorted.plot(kind='barh', color='lightgreen', title='Features Importances', legend=False)"
   ]
  },
  {
   "cell_type": "code",
   "execution_count": 31,
   "metadata": {},
   "outputs": [],
   "source": [
    "# Create panel dashboard\n",
    "\n",
    "score_column = pn.Column('## Balanced Accuracy Score', bal_acc_score)\n",
    "\n",
    "matrix_column = pn.Column('## Confusion Matrix', cm_brf_df)\n",
    "\n",
    "classification_column = pn.Column('## Classification Report',classification_report_df)\n",
    "\n",
    "features_column = pn.Column('## Most Important Features', importances_plot)"
   ]
  },
  {
   "cell_type": "code",
   "execution_count": 32,
   "metadata": {},
   "outputs": [],
   "source": [
    "nba_random_forest_predict_dashbord = pn.Tabs(\n",
    "(\"Balanced Accuracy Score\", score_column),\n",
    "(\"Confusion Matrix\", matrix_column),\n",
    "(\"Classification Report\", classification_column),\n",
    "(\"Most Important Features\", features_column))"
   ]
  },
  {
   "cell_type": "code",
   "execution_count": 33,
   "metadata": {},
   "outputs": [
    {
     "output_type": "execute_result",
     "data": {
      "text/html": "<div id='1001'>\n\n\n\n\n\n  <div class=\"bk-root\" id=\"3f58ceb3-dcfa-475b-afb3-70826e52ba09\" data-root-id=\"1001\"></div>\n</div>\n<script type=\"application/javascript\">(function(root) {\n  function embed_document(root) {\n    var docs_json = {\"f843c179-9e7f-4f26-ad6f-9429ac3283a7\":{\"roots\":{\"references\":[{\"attributes\":{\"children\":[{\"id\":\"1003\"},{\"id\":\"1004\"}],\"margin\":[0,0,0,0],\"name\":\"Column00011\"},\"id\":\"1002\",\"type\":\"Column\"},{\"attributes\":{\"margin\":[5,5,5,5],\"name\":\"Str00009\",\"text\":\"&lt;pre&gt;0.6418001610261251&lt;/pre&gt;\"},\"id\":\"1004\",\"type\":\"panel.models.markup.HTML\"},{\"attributes\":{\"css_classes\":[\"markdown\"],\"margin\":[5,5,5,5],\"name\":\"Markdown00007\",\"text\":\"&lt;h2&gt;Balanced Accuracy Score&lt;/h2&gt;\"},\"id\":\"1003\",\"type\":\"panel.models.markup.HTML\"},{\"attributes\":{\"child\":{\"id\":\"1010\"},\"name\":\"Column00021\",\"title\":\"Classification Report\"},\"id\":\"1013\",\"type\":\"Panel\"},{\"attributes\":{\"client_comm_id\":\"820251ce1b8e42b9aec5de5bb2481b36\",\"comm_id\":\"93e4141dc5ec4a39b4faec616498d796\",\"plot_id\":\"1001\"},\"id\":\"1018\",\"type\":\"panel.models.comm_manager.CommManager\"},{\"attributes\":{\"children\":[{\"id\":\"1007\"},{\"id\":\"1008\"}],\"margin\":[0,0,0,0],\"name\":\"Column00016\"},\"id\":\"1006\",\"type\":\"Column\"},{\"attributes\":{\"css_classes\":[\"markdown\"],\"margin\":[5,5,5,5],\"name\":\"Markdown00017\",\"text\":\"&lt;h2&gt;Classification Report&lt;/h2&gt;\"},\"id\":\"1011\",\"type\":\"panel.models.markup.HTML\"},{\"attributes\":{\"margin\":[5,5,5,5],\"name\":\"Str00024\",\"text\":\"&lt;pre&gt;AxesSubplot(0.125,0.125;0.775x0.755)&lt;/pre&gt;\"},\"id\":\"1016\",\"type\":\"panel.models.markup.HTML\"},{\"attributes\":{\"child\":{\"id\":\"1006\"},\"name\":\"Column00016\",\"title\":\"Confusion Matrix\"},\"id\":\"1009\",\"type\":\"Panel\"},{\"attributes\":{\"child\":{\"id\":\"1014\"},\"name\":\"Column00026\",\"title\":\"Most Important Features\"},\"id\":\"1017\",\"type\":\"Panel\"},{\"attributes\":{\"margin\":[5,5,5,5],\"name\":\"DataFrame00019\",\"text\":\"&lt;table border=&quot;0&quot; class=&quot;dataframe panel-df&quot;&gt;\\n  &lt;thead&gt;\\n    &lt;tr style=&quot;text-align: right;&quot;&gt;\\n      &lt;th&gt;&lt;/th&gt;\\n      &lt;th&gt;f1-score&lt;/th&gt;\\n      &lt;th&gt;precision&lt;/th&gt;\\n      &lt;th&gt;recall&lt;/th&gt;\\n      &lt;th&gt;support&lt;/th&gt;\\n    &lt;/tr&gt;\\n  &lt;/thead&gt;\\n  &lt;tbody&gt;\\n    &lt;tr&gt;\\n      &lt;th&gt;0&lt;/th&gt;\\n      &lt;td&gt;0.654822&lt;/td&gt;\\n      &lt;td&gt;0.661538&lt;/td&gt;\\n      &lt;td&gt;0.648241&lt;/td&gt;\\n      &lt;td&gt;199.000000&lt;/td&gt;\\n    &lt;/tr&gt;\\n    &lt;tr&gt;\\n      &lt;th&gt;1&lt;/th&gt;\\n      &lt;td&gt;0.628415&lt;/td&gt;\\n      &lt;td&gt;0.621622&lt;/td&gt;\\n      &lt;td&gt;0.635359&lt;/td&gt;\\n      &lt;td&gt;181.000000&lt;/td&gt;\\n    &lt;/tr&gt;\\n    &lt;tr&gt;\\n      &lt;th&gt;accuracy&lt;/th&gt;\\n      &lt;td&gt;0.642105&lt;/td&gt;\\n      &lt;td&gt;0.642105&lt;/td&gt;\\n      &lt;td&gt;0.642105&lt;/td&gt;\\n      &lt;td&gt;0.642105&lt;/td&gt;\\n    &lt;/tr&gt;\\n    &lt;tr&gt;\\n      &lt;th&gt;macro avg&lt;/th&gt;\\n      &lt;td&gt;0.641619&lt;/td&gt;\\n      &lt;td&gt;0.641580&lt;/td&gt;\\n      &lt;td&gt;0.641800&lt;/td&gt;\\n      &lt;td&gt;380.000000&lt;/td&gt;\\n    &lt;/tr&gt;\\n    &lt;tr&gt;\\n      &lt;th&gt;weighted avg&lt;/th&gt;\\n      &lt;td&gt;0.642244&lt;/td&gt;\\n      &lt;td&gt;0.642525&lt;/td&gt;\\n      &lt;td&gt;0.642105&lt;/td&gt;\\n      &lt;td&gt;380.000000&lt;/td&gt;\\n    &lt;/tr&gt;\\n  &lt;/tbody&gt;\\n&lt;/table&gt;\"},\"id\":\"1012\",\"type\":\"panel.models.markup.HTML\"},{\"attributes\":{\"css_classes\":[\"markdown\"],\"margin\":[5,5,5,5],\"name\":\"Markdown00022\",\"text\":\"&lt;h2&gt;Most Important Features&lt;/h2&gt;\"},\"id\":\"1015\",\"type\":\"panel.models.markup.HTML\"},{\"attributes\":{\"children\":[{\"id\":\"1011\"},{\"id\":\"1012\"}],\"margin\":[0,0,0,0],\"name\":\"Column00021\"},\"id\":\"1010\",\"type\":\"Column\"},{\"attributes\":{\"css_classes\":[\"markdown\"],\"margin\":[5,5,5,5],\"name\":\"Markdown00012\",\"text\":\"&lt;h2&gt;Confusion Matrix&lt;/h2&gt;\"},\"id\":\"1007\",\"type\":\"panel.models.markup.HTML\"},{\"attributes\":{\"margin\":[0,0,0,0],\"tabs\":[{\"id\":\"1005\"},{\"id\":\"1009\"},{\"id\":\"1013\"},{\"id\":\"1017\"}]},\"id\":\"1001\",\"type\":\"Tabs\"},{\"attributes\":{\"child\":{\"id\":\"1002\"},\"name\":\"Column00011\",\"title\":\"Balanced Accuracy Score\"},\"id\":\"1005\",\"type\":\"Panel\"},{\"attributes\":{\"reload\":false},\"id\":\"1019\",\"type\":\"panel.models.location.Location\"},{\"attributes\":{\"margin\":[5,5,5,5],\"name\":\"DataFrame00014\",\"text\":\"&lt;table border=&quot;0&quot; class=&quot;dataframe panel-df&quot;&gt;\\n  &lt;thead&gt;\\n    &lt;tr style=&quot;text-align: right;&quot;&gt;\\n      &lt;th&gt;&lt;/th&gt;\\n      &lt;th&gt;Predicted 0&lt;/th&gt;\\n      &lt;th&gt;Predicted 1&lt;/th&gt;\\n    &lt;/tr&gt;\\n  &lt;/thead&gt;\\n  &lt;tbody&gt;\\n    &lt;tr&gt;\\n      &lt;th&gt;Actual 0&lt;/th&gt;\\n      &lt;td&gt;129&lt;/td&gt;\\n      &lt;td&gt;70&lt;/td&gt;\\n    &lt;/tr&gt;\\n    &lt;tr&gt;\\n      &lt;th&gt;Actual 1&lt;/th&gt;\\n      &lt;td&gt;66&lt;/td&gt;\\n      &lt;td&gt;115&lt;/td&gt;\\n    &lt;/tr&gt;\\n  &lt;/tbody&gt;\\n&lt;/table&gt;\"},\"id\":\"1008\",\"type\":\"panel.models.markup.HTML\"},{\"attributes\":{\"children\":[{\"id\":\"1015\"},{\"id\":\"1016\"}],\"margin\":[0,0,0,0],\"name\":\"Column00026\"},\"id\":\"1014\",\"type\":\"Column\"}],\"root_ids\":[\"1001\",\"1018\",\"1019\"]},\"title\":\"Bokeh Application\",\"version\":\"2.2.3\"}};\n    var render_items = [{\"docid\":\"f843c179-9e7f-4f26-ad6f-9429ac3283a7\",\"root_ids\":[\"1001\"],\"roots\":{\"1001\":\"3f58ceb3-dcfa-475b-afb3-70826e52ba09\"}}];\n    root.Bokeh.embed.embed_items_notebook(docs_json, render_items);\n  }\n  if (root.Bokeh !== undefined && root.Bokeh.Panel !== undefined && root['Plotly'] !== undefined ) {\n    embed_document(root);\n  } else {\n    var attempts = 0;\n    var timer = setInterval(function(root) {\n      if (root.Bokeh !== undefined && root.Bokeh.Panel !== undefined && root['Plotly'] !== undefined) {\n        clearInterval(timer);\n        embed_document(root);\n      } else if (document.readyState == \"complete\") {\n        attempts++;\n        if (attempts > 100) {\n          clearInterval(timer);\n          console.log(\"Bokeh: ERROR: Unable to run BokehJS code because BokehJS library is missing\");\n        }\n      }\n    }, 10, root)\n  }\n})(window);</script>",
      "application/vnd.holoviews_exec.v0+json": "",
      "text/plain": [
       "Tabs\n",
       "    [0] Column\n",
       "        [0] Markdown(str)\n",
       "        [1] Str(float64)\n",
       "    [1] Column\n",
       "        [0] Markdown(str)\n",
       "        [1] DataFrame(DataFrame)\n",
       "    [2] Column\n",
       "        [0] Markdown(str)\n",
       "        [1] DataFrame(DataFrame)\n",
       "    [3] Column\n",
       "        [0] Markdown(str)\n",
       "        [1] Str(AxesSubplot)"
      ]
     },
     "metadata": {
      "application/vnd.holoviews_exec.v0+json": {
       "id": "1001"
      }
     },
     "execution_count": 33
    }
   ],
   "source": [
    "# Display dashboard\n",
    "\n",
    "nba_random_forest_predict_dashbord.servable()"
   ]
  },
  {
   "source": [
    "_____________________\n",
    "# Alternative Classification Models \n",
    "_____________________"
   ],
   "cell_type": "markdown",
   "metadata": {}
  },
  {
   "source": [
    "# Easy Ensamble Classifier"
   ],
   "cell_type": "markdown",
   "metadata": {}
  },
  {
   "cell_type": "code",
   "execution_count": 39,
   "metadata": {},
   "outputs": [],
   "source": [
    "# Run Easy Ensable Classifier\n",
    "from imblearn.ensemble import EasyEnsembleClassifier\n",
    "\n",
    "eec_model = EasyEnsembleClassifier()\n",
    "\n",
    "EasyEnsembleClassifier(base_estimator=None, n_estimators=100, n_jobs=1,random_state=1, replacement=False, sampling_strategy='auto',verbose=0, warm_start=False)\n",
    "\n",
    "eec_model = eec_model.fit(X_train_scaled, y_train)\n",
    "\n",
    "predictions_eec = eec_model.predict(X_test_scaled)"
   ]
  },
  {
   "cell_type": "code",
   "execution_count": 40,
   "metadata": {},
   "outputs": [
    {
     "output_type": "stream",
     "name": "stdout",
     "text": [
      "Balanced Accuracy Score : 0.608900857880563\n"
     ]
    }
   ],
   "source": [
    "# Calculated the balanced accuracy score\n",
    "\n",
    "bal_acc_score_eec = balanced_accuracy_score(y_test, predictions_eec)\n",
    "print(f\"Balanced Accuracy Score : {bal_acc_score_eec}\")"
   ]
  },
  {
   "cell_type": "code",
   "execution_count": 41,
   "metadata": {},
   "outputs": [
    {
     "output_type": "stream",
     "name": "stdout",
     "text": [
      "Classification Report\n                   pre       rec       spe        f1       geo       iba       sup\n\n          0       0.62      0.64      0.57      0.63      0.61      0.37       199\n          1       0.59      0.57      0.64      0.58      0.61      0.37       181\n\navg / total       0.61      0.61      0.61      0.61      0.61      0.37       380\n\n"
     ]
    }
   ],
   "source": [
    "# Print the imbalanced classification report\n",
    "\n",
    "print(\"Classification Report\")\n",
    "print(classification_report_imbalanced(y_test, predictions_eec))"
   ]
  },
  {
   "source": [
    "# SMOTEENN Model"
   ],
   "cell_type": "markdown",
   "metadata": {}
  },
  {
   "cell_type": "code",
   "execution_count": 42,
   "metadata": {},
   "outputs": [
    {
     "output_type": "execute_result",
     "data": {
      "text/plain": [
       "Counter({0: 176, 1: 172})"
      ]
     },
     "metadata": {},
     "execution_count": 42
    }
   ],
   "source": [
    "# Run Smoteenn Model\n",
    "\n",
    "from imblearn.combine import SMOTEENN\n",
    "\n",
    "smten = SMOTEENN(random_state=1)\n",
    "X_resampled_smten, y_resampled_smten = smten.fit_resample(X_train_scaled, y_train)\n",
    "\n",
    "Counter(y_resampled_smten)"
   ]
  },
  {
   "cell_type": "code",
   "execution_count": 48,
   "metadata": {},
   "outputs": [
    {
     "output_type": "execute_result",
     "data": {
      "text/plain": [
       "LogisticRegression(multi_class='warn', random_state=1, solver='warn')"
      ]
     },
     "metadata": {},
     "execution_count": 48
    }
   ],
   "source": [
    "# Train the Logistic Regression model using the resampled data\n",
    "from sklearn.linear_model import LogisticRegression\n",
    "\n",
    "# Train the Logistic Regression model using the resampled data\n",
    "model = LogisticRegression()\n",
    "model.fit(X_resampled_smten, y_resampled_smten)\n",
    "\n",
    "LogisticRegression(C=1.0, class_weight=None, dual=False, fit_intercept=True,intercept_scaling=1, l1_ratio=None, max_iter=100,multi_class='warn', n_jobs=None, penalty='l2',random_state=1, solver='warn', tol=0.0001, verbose=0,warm_start=False)"
   ]
  },
  {
   "cell_type": "code",
   "execution_count": 49,
   "metadata": {},
   "outputs": [
    {
     "output_type": "execute_result",
     "data": {
      "text/plain": [
       "0.4908381687442739"
      ]
     },
     "metadata": {},
     "execution_count": 49
    }
   ],
   "source": [
    "# Calculated the balanced accuracy score\n",
    "\n",
    "y_pred_smten = model.predict(X_test_scaled)\n",
    "balanced_accuracy_score(y_test, y_pred_smten)"
   ]
  },
  {
   "cell_type": "code",
   "execution_count": 50,
   "metadata": {},
   "outputs": [
    {
     "output_type": "execute_result",
     "data": {
      "text/plain": [
       "array([[103,  96],\n",
       "       [ 97,  84]])"
      ]
     },
     "metadata": {},
     "execution_count": 50
    }
   ],
   "source": [
    "# Display the confusion matrix\n",
    "\n",
    "confusion_matrix(y_test, y_pred_smten)"
   ]
  },
  {
   "cell_type": "code",
   "execution_count": 51,
   "metadata": {},
   "outputs": [
    {
     "output_type": "stream",
     "name": "stdout",
     "text": [
      "                   pre       rec       spe        f1       geo       iba       sup\n\n          0       0.52      0.52      0.46      0.52      0.49      0.24       199\n          1       0.47      0.46      0.52      0.47      0.49      0.24       181\n\navg / total       0.49      0.49      0.49      0.49      0.49      0.24       380\n\n"
     ]
    }
   ],
   "source": [
    "# Print the imbalanced classification report\n",
    "\n",
    "print(classification_report_imbalanced(y_test, y_pred_smten))"
   ]
  }
 ]
}