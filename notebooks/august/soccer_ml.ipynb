{
 "metadata": {
  "language_info": {
   "codemirror_mode": {
    "name": "ipython",
    "version": 3
   },
   "file_extension": ".py",
   "mimetype": "text/x-python",
   "name": "python",
   "nbconvert_exporter": "python",
   "pygments_lexer": "ipython3",
   "version": "3.7.9-final"
  },
  "orig_nbformat": 2,
  "kernelspec": {
   "name": "python3",
   "display_name": "Python 3",
   "language": "python"
  }
 },
 "nbformat": 4,
 "nbformat_minor": 2,
 "cells": [
  {
   "cell_type": "code",
   "execution_count": 1,
   "metadata": {},
   "outputs": [],
   "source": [
    "import pandas as pd \n",
    "import numpy as np \n",
    "import requests, json\n",
    "from pathlib import Path \n",
    "from os import listdir\n",
    "from os.path import isfile, join"
   ]
  },
  {
   "cell_type": "code",
   "execution_count": 4,
   "metadata": {},
   "outputs": [
    {
     "output_type": "execute_result",
     "data": {
      "text/plain": [
       "['1396_odds.csv',\n",
       " '1397_odds.csv',\n",
       " '2652_odds.csv',\n",
       " '2664_odds.csv',\n",
       " '2743_odds.csv',\n",
       " '2755_odds.csv',\n",
       " '2790_odds.csv',\n",
       " '2794_odds.csv',\n",
       " '2833_odds.csv',\n",
       " '2857_odds.csv',\n",
       " '2946_odds.csv',\n",
       " '3023_odds.csv']"
      ]
     },
     "metadata": {},
     "execution_count": 4
    }
   ],
   "source": [
    "fixture_path = Path(\"../../data/premier_league/odds\")\n",
    "onlyfiles = [f for f in listdir(fixture_path) if isfile(join(fixture_path, f))]\n",
    "onlyfiles"
   ]
  },
  {
   "cell_type": "code",
   "execution_count": null,
   "metadata": {},
   "outputs": [],
   "source": []
  }
 ]
}