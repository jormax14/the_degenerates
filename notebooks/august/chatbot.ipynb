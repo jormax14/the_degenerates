{
 "metadata": {
  "language_info": {
   "codemirror_mode": {
    "name": "ipython",
    "version": 3
   },
   "file_extension": ".py",
   "mimetype": "text/x-python",
   "name": "python",
   "nbconvert_exporter": "python",
   "pygments_lexer": "ipython3",
   "version": "3.7.9-final"
  },
  "orig_nbformat": 2,
  "kernelspec": {
   "name": "python3",
   "display_name": "Python 3",
   "language": "python"
  }
 },
 "nbformat": 4,
 "nbformat_minor": 2,
 "cells": [
  {
   "cell_type": "code",
   "execution_count": 1,
   "metadata": {},
   "outputs": [],
   "source": [
    "import pandas as pd \n",
    "import numpy as np \n",
    "import requests, json\n",
    "from pathlib import Path \n",
    "from os import listdir\n",
    "from os.path import isfile, join"
   ]
  },
  {
   "cell_type": "code",
   "execution_count": 103,
   "metadata": {},
   "outputs": [],
   "source": [
    "teamIDs_path = Path(\"../../data/premier_league/teamIDs.csv\")\n",
    "leagueIDs_path = Path(\"../../data/premier_league/leagueIDs.csv\")\n",
    "teamIDs_df = pd.read_csv(teamIDs_path)\n",
    "leagueIDs_df = pd.read_csv(leagueIDs_path)\n",
    "eplIDs_df = leagueIDs_df[leagueIDs_df.League == \"Premier League\"]\n",
    "eplIDs_df.set_index(\"ID\", drop=True, inplace=True)\n",
    "teamIDs_df.set_index(\"Team\", drop=True, inplace=True)"
   ]
  },
  {
   "cell_type": "code",
   "execution_count": 109,
   "metadata": {},
   "outputs": [
    {
     "output_type": "stream",
     "name": "stdout",
     "text": [
      "34\n"
     ]
    }
   ],
   "source": [
    "try:\n",
    "    print(teamIDs_df.loc['Newcastle'][-1])\n",
    "except Exception:\n",
    "    print(\"sorry, that doesn't appear to be an EPL team this year\")"
   ]
  },
  {
   "cell_type": "code",
   "execution_count": 13,
   "metadata": {},
   "outputs": [],
   "source": [
    "mu_path = Path(\"../../data/premier_league/team_fixtures_2020/MU_2020_fs.csv\")\n",
    "lv_path = Path(\"../../data/premier_league/team_fixtures_2020/LV_2020_fs.csv\")\n",
    "mu_df = pd.read_csv(mu_path)\n",
    "lv_df = pd.read_csv(lv_path)"
   ]
  },
  {
   "cell_type": "code",
   "execution_count": 14,
   "metadata": {},
   "outputs": [],
   "source": [
    "mu_df.dropna(inplace=True)\n",
    "lv_df.dropna(inplace=True)"
   ]
  },
  {
   "cell_type": "code",
   "execution_count": 15,
   "metadata": {},
   "outputs": [
    {
     "output_type": "execute_result",
     "data": {
      "text/plain": [
       "    Unnamed: 0  fixture_id  h_result                 event_date  \\\n",
       "0            0      592144         2  2020-09-12T16:30:00+00:00   \n",
       "1            1      592153         0  2020-09-20T15:30:00+00:00   \n",
       "2            2      592165         2  2020-09-28T19:00:00+00:00   \n",
       "3            3      592172         2  2020-10-04T18:15:00+00:00   \n",
       "4            4      592183         1  2020-10-17T11:30:00+00:00   \n",
       "5            5      592196         2  2020-10-24T19:00:00+00:00   \n",
       "6            6      592205         2  2020-10-31T17:30:00+00:00   \n",
       "7            7      592217         1  2020-11-08T16:30:00+00:00   \n",
       "8            8      592225         2  2020-11-22T19:15:00+00:00   \n",
       "9            9      592232         1  2020-11-28T12:30:00+00:00   \n",
       "10          10      592245         2  2020-12-06T19:15:00+00:00   \n",
       "11          11      592254         1  2020-12-13T16:30:00+00:00   \n",
       "12          12      592269         2  2020-12-16T20:00:00+00:00   \n",
       "13          13      592274         0  2020-12-19T12:30:00+00:00   \n",
       "14          14      592286         1  2020-12-27T16:30:00+00:00   \n",
       "15          15      592297         1  2020-12-30T20:00:00+00:00   \n",
       "16          16      592308         2  2021-01-04T20:00:00+00:00   \n",
       "\n",
       "                                     venue  h_team  a_team  h_halftime_score  \\\n",
       "0                                  Anfield      40      63               3.0   \n",
       "1                          Stamford Bridge      49      40               0.0   \n",
       "2                                  Anfield      40      42               2.0   \n",
       "3                               Villa Park      66      40               4.0   \n",
       "4                            Goodison Park      45      40               1.0   \n",
       "5                                  Anfield      40      62               1.0   \n",
       "6                                  Anfield      40      48               1.0   \n",
       "7                           Etihad Stadium      50      40               1.0   \n",
       "8                                  Anfield      40      46               2.0   \n",
       "9   The American Express Community Stadium      51      40               0.0   \n",
       "10                                 Anfield      40      39               1.0   \n",
       "11                          Craven Cottage      36      40               1.0   \n",
       "12                                 Anfield      40      47               1.0   \n",
       "13                           Selhurst Park      52      40               0.0   \n",
       "14                                 Anfield      40      60               1.0   \n",
       "15                         St. James' Park      34      40               0.0   \n",
       "16                      St. Mary's Stadium      41      40               1.0   \n",
       "\n",
       "    a_haftime_score  h_fulltime_score  ...  h_red_cards  a_red_cards  \\\n",
       "0               2.0               4.0  ...          0.0          0.0   \n",
       "1               0.0               0.0  ...          1.0          0.0   \n",
       "2               1.0               3.0  ...          0.0          0.0   \n",
       "3               1.0               7.0  ...          0.0          0.0   \n",
       "4               1.0               2.0  ...          1.0          0.0   \n",
       "5               1.0               2.0  ...          0.0          0.0   \n",
       "6               1.0               2.0  ...          0.0          0.0   \n",
       "7               1.0               1.0  ...          0.0          0.0   \n",
       "8               0.0               3.0  ...          0.0          0.0   \n",
       "9               0.0               1.0  ...          0.0          0.0   \n",
       "10              0.0               4.0  ...          0.0          0.0   \n",
       "11              0.0               1.0  ...          0.0          0.0   \n",
       "12              1.0               2.0  ...          0.0          0.0   \n",
       "13              3.0               0.0  ...          0.0          0.0   \n",
       "14              0.0               1.0  ...          0.0          0.0   \n",
       "15              0.0               0.0  ...          0.0          0.0   \n",
       "16              0.0               1.0  ...          0.0          0.0   \n",
       "\n",
       "    h_goalkeeper_saves  a_goalkeeper_saves  h_total_passes  a_total_passes  \\\n",
       "0                  0.0                 3.0           432.0           459.0   \n",
       "1                  3.0                 3.0           488.0           764.0   \n",
       "2                  2.0                 5.0           772.0           395.0   \n",
       "3                  6.0                 4.0           285.0           650.0   \n",
       "4                  6.0                 3.0           380.0           524.0   \n",
       "5                  1.0                 3.0           683.0           406.0   \n",
       "6                  2.0                 4.0           828.0           304.0   \n",
       "7                  2.0                 1.0           555.0           458.0   \n",
       "8                  4.0                 9.0           572.0           441.0   \n",
       "9                  1.0                 2.0           352.0           526.0   \n",
       "10                 3.0                 3.0           626.0           395.0   \n",
       "11                 5.0                 4.0           227.0           707.0   \n",
       "12                 1.0                 9.0           813.0           254.0   \n",
       "13                 0.0                 3.0           397.0           743.0   \n",
       "14                 2.0                 1.0           773.0           213.0   \n",
       "15                 4.0                 2.0           241.0           661.0   \n",
       "16                 1.0                 1.0           350.0           674.0   \n",
       "\n",
       "    h_accurate_passes  a_accurate_passes  h_pass_percentage  a_pass_percentage  \n",
       "0               328.0              347.0                76%                76%  \n",
       "1               412.0              681.0                84%                89%  \n",
       "2               683.0              299.0                88%                76%  \n",
       "3               194.0              554.0                68%                85%  \n",
       "4               284.0              437.0                75%                83%  \n",
       "5               589.0              309.0                86%                76%  \n",
       "6               732.0              210.0                88%                69%  \n",
       "7               472.0              374.0                85%                82%  \n",
       "8               488.0              346.0                85%                78%  \n",
       "9               272.0              428.0                77%                81%  \n",
       "10              564.0              333.0                90%                84%  \n",
       "11              153.0              614.0                67%                87%  \n",
       "12              718.0              156.0                88%                61%  \n",
       "13              300.0              649.0                76%                87%  \n",
       "14              682.0              121.0                88%                57%  \n",
       "15              159.0              571.0                66%                86%  \n",
       "16              230.0              540.0                66%                80%  \n",
       "\n",
       "[17 rows x 43 columns]"
      ],
      "text/html": "<div>\n<style scoped>\n    .dataframe tbody tr th:only-of-type {\n        vertical-align: middle;\n    }\n\n    .dataframe tbody tr th {\n        vertical-align: top;\n    }\n\n    .dataframe thead th {\n        text-align: right;\n    }\n</style>\n<table border=\"1\" class=\"dataframe\">\n  <thead>\n    <tr style=\"text-align: right;\">\n      <th></th>\n      <th>Unnamed: 0</th>\n      <th>fixture_id</th>\n      <th>h_result</th>\n      <th>event_date</th>\n      <th>venue</th>\n      <th>h_team</th>\n      <th>a_team</th>\n      <th>h_halftime_score</th>\n      <th>a_haftime_score</th>\n      <th>h_fulltime_score</th>\n      <th>...</th>\n      <th>h_red_cards</th>\n      <th>a_red_cards</th>\n      <th>h_goalkeeper_saves</th>\n      <th>a_goalkeeper_saves</th>\n      <th>h_total_passes</th>\n      <th>a_total_passes</th>\n      <th>h_accurate_passes</th>\n      <th>a_accurate_passes</th>\n      <th>h_pass_percentage</th>\n      <th>a_pass_percentage</th>\n    </tr>\n  </thead>\n  <tbody>\n    <tr>\n      <th>0</th>\n      <td>0</td>\n      <td>592144</td>\n      <td>2</td>\n      <td>2020-09-12T16:30:00+00:00</td>\n      <td>Anfield</td>\n      <td>40</td>\n      <td>63</td>\n      <td>3.0</td>\n      <td>2.0</td>\n      <td>4.0</td>\n      <td>...</td>\n      <td>0.0</td>\n      <td>0.0</td>\n      <td>0.0</td>\n      <td>3.0</td>\n      <td>432.0</td>\n      <td>459.0</td>\n      <td>328.0</td>\n      <td>347.0</td>\n      <td>76%</td>\n      <td>76%</td>\n    </tr>\n    <tr>\n      <th>1</th>\n      <td>1</td>\n      <td>592153</td>\n      <td>0</td>\n      <td>2020-09-20T15:30:00+00:00</td>\n      <td>Stamford Bridge</td>\n      <td>49</td>\n      <td>40</td>\n      <td>0.0</td>\n      <td>0.0</td>\n      <td>0.0</td>\n      <td>...</td>\n      <td>1.0</td>\n      <td>0.0</td>\n      <td>3.0</td>\n      <td>3.0</td>\n      <td>488.0</td>\n      <td>764.0</td>\n      <td>412.0</td>\n      <td>681.0</td>\n      <td>84%</td>\n      <td>89%</td>\n    </tr>\n    <tr>\n      <th>2</th>\n      <td>2</td>\n      <td>592165</td>\n      <td>2</td>\n      <td>2020-09-28T19:00:00+00:00</td>\n      <td>Anfield</td>\n      <td>40</td>\n      <td>42</td>\n      <td>2.0</td>\n      <td>1.0</td>\n      <td>3.0</td>\n      <td>...</td>\n      <td>0.0</td>\n      <td>0.0</td>\n      <td>2.0</td>\n      <td>5.0</td>\n      <td>772.0</td>\n      <td>395.0</td>\n      <td>683.0</td>\n      <td>299.0</td>\n      <td>88%</td>\n      <td>76%</td>\n    </tr>\n    <tr>\n      <th>3</th>\n      <td>3</td>\n      <td>592172</td>\n      <td>2</td>\n      <td>2020-10-04T18:15:00+00:00</td>\n      <td>Villa Park</td>\n      <td>66</td>\n      <td>40</td>\n      <td>4.0</td>\n      <td>1.0</td>\n      <td>7.0</td>\n      <td>...</td>\n      <td>0.0</td>\n      <td>0.0</td>\n      <td>6.0</td>\n      <td>4.0</td>\n      <td>285.0</td>\n      <td>650.0</td>\n      <td>194.0</td>\n      <td>554.0</td>\n      <td>68%</td>\n      <td>85%</td>\n    </tr>\n    <tr>\n      <th>4</th>\n      <td>4</td>\n      <td>592183</td>\n      <td>1</td>\n      <td>2020-10-17T11:30:00+00:00</td>\n      <td>Goodison Park</td>\n      <td>45</td>\n      <td>40</td>\n      <td>1.0</td>\n      <td>1.0</td>\n      <td>2.0</td>\n      <td>...</td>\n      <td>1.0</td>\n      <td>0.0</td>\n      <td>6.0</td>\n      <td>3.0</td>\n      <td>380.0</td>\n      <td>524.0</td>\n      <td>284.0</td>\n      <td>437.0</td>\n      <td>75%</td>\n      <td>83%</td>\n    </tr>\n    <tr>\n      <th>5</th>\n      <td>5</td>\n      <td>592196</td>\n      <td>2</td>\n      <td>2020-10-24T19:00:00+00:00</td>\n      <td>Anfield</td>\n      <td>40</td>\n      <td>62</td>\n      <td>1.0</td>\n      <td>1.0</td>\n      <td>2.0</td>\n      <td>...</td>\n      <td>0.0</td>\n      <td>0.0</td>\n      <td>1.0</td>\n      <td>3.0</td>\n      <td>683.0</td>\n      <td>406.0</td>\n      <td>589.0</td>\n      <td>309.0</td>\n      <td>86%</td>\n      <td>76%</td>\n    </tr>\n    <tr>\n      <th>6</th>\n      <td>6</td>\n      <td>592205</td>\n      <td>2</td>\n      <td>2020-10-31T17:30:00+00:00</td>\n      <td>Anfield</td>\n      <td>40</td>\n      <td>48</td>\n      <td>1.0</td>\n      <td>1.0</td>\n      <td>2.0</td>\n      <td>...</td>\n      <td>0.0</td>\n      <td>0.0</td>\n      <td>2.0</td>\n      <td>4.0</td>\n      <td>828.0</td>\n      <td>304.0</td>\n      <td>732.0</td>\n      <td>210.0</td>\n      <td>88%</td>\n      <td>69%</td>\n    </tr>\n    <tr>\n      <th>7</th>\n      <td>7</td>\n      <td>592217</td>\n      <td>1</td>\n      <td>2020-11-08T16:30:00+00:00</td>\n      <td>Etihad Stadium</td>\n      <td>50</td>\n      <td>40</td>\n      <td>1.0</td>\n      <td>1.0</td>\n      <td>1.0</td>\n      <td>...</td>\n      <td>0.0</td>\n      <td>0.0</td>\n      <td>2.0</td>\n      <td>1.0</td>\n      <td>555.0</td>\n      <td>458.0</td>\n      <td>472.0</td>\n      <td>374.0</td>\n      <td>85%</td>\n      <td>82%</td>\n    </tr>\n    <tr>\n      <th>8</th>\n      <td>8</td>\n      <td>592225</td>\n      <td>2</td>\n      <td>2020-11-22T19:15:00+00:00</td>\n      <td>Anfield</td>\n      <td>40</td>\n      <td>46</td>\n      <td>2.0</td>\n      <td>0.0</td>\n      <td>3.0</td>\n      <td>...</td>\n      <td>0.0</td>\n      <td>0.0</td>\n      <td>4.0</td>\n      <td>9.0</td>\n      <td>572.0</td>\n      <td>441.0</td>\n      <td>488.0</td>\n      <td>346.0</td>\n      <td>85%</td>\n      <td>78%</td>\n    </tr>\n    <tr>\n      <th>9</th>\n      <td>9</td>\n      <td>592232</td>\n      <td>1</td>\n      <td>2020-11-28T12:30:00+00:00</td>\n      <td>The American Express Community Stadium</td>\n      <td>51</td>\n      <td>40</td>\n      <td>0.0</td>\n      <td>0.0</td>\n      <td>1.0</td>\n      <td>...</td>\n      <td>0.0</td>\n      <td>0.0</td>\n      <td>1.0</td>\n      <td>2.0</td>\n      <td>352.0</td>\n      <td>526.0</td>\n      <td>272.0</td>\n      <td>428.0</td>\n      <td>77%</td>\n      <td>81%</td>\n    </tr>\n    <tr>\n      <th>10</th>\n      <td>10</td>\n      <td>592245</td>\n      <td>2</td>\n      <td>2020-12-06T19:15:00+00:00</td>\n      <td>Anfield</td>\n      <td>40</td>\n      <td>39</td>\n      <td>1.0</td>\n      <td>0.0</td>\n      <td>4.0</td>\n      <td>...</td>\n      <td>0.0</td>\n      <td>0.0</td>\n      <td>3.0</td>\n      <td>3.0</td>\n      <td>626.0</td>\n      <td>395.0</td>\n      <td>564.0</td>\n      <td>333.0</td>\n      <td>90%</td>\n      <td>84%</td>\n    </tr>\n    <tr>\n      <th>11</th>\n      <td>11</td>\n      <td>592254</td>\n      <td>1</td>\n      <td>2020-12-13T16:30:00+00:00</td>\n      <td>Craven Cottage</td>\n      <td>36</td>\n      <td>40</td>\n      <td>1.0</td>\n      <td>0.0</td>\n      <td>1.0</td>\n      <td>...</td>\n      <td>0.0</td>\n      <td>0.0</td>\n      <td>5.0</td>\n      <td>4.0</td>\n      <td>227.0</td>\n      <td>707.0</td>\n      <td>153.0</td>\n      <td>614.0</td>\n      <td>67%</td>\n      <td>87%</td>\n    </tr>\n    <tr>\n      <th>12</th>\n      <td>12</td>\n      <td>592269</td>\n      <td>2</td>\n      <td>2020-12-16T20:00:00+00:00</td>\n      <td>Anfield</td>\n      <td>40</td>\n      <td>47</td>\n      <td>1.0</td>\n      <td>1.0</td>\n      <td>2.0</td>\n      <td>...</td>\n      <td>0.0</td>\n      <td>0.0</td>\n      <td>1.0</td>\n      <td>9.0</td>\n      <td>813.0</td>\n      <td>254.0</td>\n      <td>718.0</td>\n      <td>156.0</td>\n      <td>88%</td>\n      <td>61%</td>\n    </tr>\n    <tr>\n      <th>13</th>\n      <td>13</td>\n      <td>592274</td>\n      <td>0</td>\n      <td>2020-12-19T12:30:00+00:00</td>\n      <td>Selhurst Park</td>\n      <td>52</td>\n      <td>40</td>\n      <td>0.0</td>\n      <td>3.0</td>\n      <td>0.0</td>\n      <td>...</td>\n      <td>0.0</td>\n      <td>0.0</td>\n      <td>0.0</td>\n      <td>3.0</td>\n      <td>397.0</td>\n      <td>743.0</td>\n      <td>300.0</td>\n      <td>649.0</td>\n      <td>76%</td>\n      <td>87%</td>\n    </tr>\n    <tr>\n      <th>14</th>\n      <td>14</td>\n      <td>592286</td>\n      <td>1</td>\n      <td>2020-12-27T16:30:00+00:00</td>\n      <td>Anfield</td>\n      <td>40</td>\n      <td>60</td>\n      <td>1.0</td>\n      <td>0.0</td>\n      <td>1.0</td>\n      <td>...</td>\n      <td>0.0</td>\n      <td>0.0</td>\n      <td>2.0</td>\n      <td>1.0</td>\n      <td>773.0</td>\n      <td>213.0</td>\n      <td>682.0</td>\n      <td>121.0</td>\n      <td>88%</td>\n      <td>57%</td>\n    </tr>\n    <tr>\n      <th>15</th>\n      <td>15</td>\n      <td>592297</td>\n      <td>1</td>\n      <td>2020-12-30T20:00:00+00:00</td>\n      <td>St. James' Park</td>\n      <td>34</td>\n      <td>40</td>\n      <td>0.0</td>\n      <td>0.0</td>\n      <td>0.0</td>\n      <td>...</td>\n      <td>0.0</td>\n      <td>0.0</td>\n      <td>4.0</td>\n      <td>2.0</td>\n      <td>241.0</td>\n      <td>661.0</td>\n      <td>159.0</td>\n      <td>571.0</td>\n      <td>66%</td>\n      <td>86%</td>\n    </tr>\n    <tr>\n      <th>16</th>\n      <td>16</td>\n      <td>592308</td>\n      <td>2</td>\n      <td>2021-01-04T20:00:00+00:00</td>\n      <td>St. Mary's Stadium</td>\n      <td>41</td>\n      <td>40</td>\n      <td>1.0</td>\n      <td>0.0</td>\n      <td>1.0</td>\n      <td>...</td>\n      <td>0.0</td>\n      <td>0.0</td>\n      <td>1.0</td>\n      <td>1.0</td>\n      <td>350.0</td>\n      <td>674.0</td>\n      <td>230.0</td>\n      <td>540.0</td>\n      <td>66%</td>\n      <td>80%</td>\n    </tr>\n  </tbody>\n</table>\n<p>17 rows × 43 columns</p>\n</div>"
     },
     "metadata": {},
     "execution_count": 15
    }
   ],
   "source": [
    "lv_df"
   ]
  },
  {
   "cell_type": "code",
   "execution_count": 16,
   "metadata": {},
   "outputs": [],
   "source": [
    "h_drop = [\n",
    "    'Unnamed: 0',\n",
    "    'fixture_id',\n",
    "    'h_result',\n",
    "    'event_date',\n",
    "    'venue',\n",
    "    'a_team',\n",
    "    'h_team', \n",
    "    'a_haftime_score', \n",
    "    'a_fulltime_score',\n",
    "    'a_shot_on_goal',\n",
    "    'a_shot_off_goal',\n",
    "    'a_total_shots',\n",
    "    'a_blocked_shots',\n",
    "    'a_shots_inside_box',\n",
    "    'a_shots_outside_box',\n",
    "    'a_fouls',\n",
    "    'a_corner_kicks',\n",
    "    'a_offsides',\n",
    "    'a_ball_possession',\n",
    "    'a_yellow_cards',\n",
    "    'a_red_cards',\n",
    "    'a_goalkeeper_saves',\n",
    "    'a_total_passes',\n",
    "    'a_accurate_passes',\n",
    "    'a_pass_percentage'\n",
    "]\n",
    "a_drop = [\n",
    "    'Unnamed: 0',\n",
    "    'fixture_id',\n",
    "    'h_result',\n",
    "    'event_date',\n",
    "    'venue',\n",
    "    'h_team',\n",
    "    'a_team',\n",
    "    'h_halftime_score', \n",
    "    'h_fulltime_score', \n",
    "    'h_shot_on_goal',\n",
    "    'h_shot_off_goal',\n",
    "    'h_total_shots',\n",
    "    'h_blocked_shots',\n",
    "    'h_shots_inside_box',\n",
    "    'h_shots_outside_box',\n",
    "    'h_fouls',\n",
    "    'h_corner_kicks',\n",
    "    'h_offsides',\n",
    "    'h_ball_possession',\n",
    "    'h_yellow_cards',\n",
    "    'h_red_cards',\n",
    "    'h_goalkeeper_saves',\n",
    "    'h_total_passes',\n",
    "    'h_accurate_passes',\n",
    "    'h_pass_percentage'\n",
    "]"
   ]
  },
  {
   "cell_type": "code",
   "execution_count": 44,
   "metadata": {},
   "outputs": [],
   "source": [
    "a_lv_df = lv_df.where(lv_df['a_team'] == 40)\n",
    "a_lv_df['home_field'] = 0\n",
    "a_lv_df['a_pass_percentage'] = a_lv_df['a_pass_percentage'].str.strip('%')\n",
    "a_lv_df['a_ball_possession'] = a_lv_df['a_ball_possession'].str.strip('%')\n",
    "a_lv_df.dropna(inplace=True)\n",
    "a_lv_df.drop(columns=a_drop, inplace=True)\n",
    "h_lv_df = lv_df.where(lv_df['h_team'] == 40)\n",
    "h_lv_df['h_pass_percentage'] = h_lv_df['h_pass_percentage'].str.strip('%')\n",
    "h_lv_df['h_ball_possession'] = h_lv_df['h_ball_possession'].str.strip('%')\n",
    "h_lv_df['home_field'] = 1\n",
    "h_lv_df.dropna(inplace=True)\n",
    "h_lv_df.drop(columns=h_drop, inplace=True)"
   ]
  },
  {
   "cell_type": "code",
   "execution_count": 45,
   "metadata": {},
   "outputs": [
    {
     "output_type": "execute_result",
     "data": {
      "text/plain": [
       "    a_haftime_score  a_fulltime_score  a_shot_on_goal  a_shot_off_goal  \\\n",
       "1               0.0               2.0             6.0              9.0   \n",
       "3               1.0               2.0             8.0              1.0   \n",
       "4               1.0               2.0             8.0              8.0   \n",
       "7               1.0               1.0             3.0              4.0   \n",
       "9               0.0               1.0             2.0              1.0   \n",
       "11              0.0               1.0             6.0              2.0   \n",
       "13              3.0               7.0             8.0              4.0   \n",
       "15              0.0               0.0             4.0              4.0   \n",
       "16              0.0               0.0             1.0             11.0   \n",
       "\n",
       "    a_total_shots  a_blocked_shots  a_shots_inside_box  a_shots_outside_box  \\\n",
       "1            18.0              3.0                10.0                  8.0   \n",
       "3            14.0              5.0                10.0                  4.0   \n",
       "4            22.0              6.0                15.0                  7.0   \n",
       "7            10.0              3.0                 5.0                  5.0   \n",
       "9             6.0              3.0                 3.0                  3.0   \n",
       "11           12.0              4.0                 7.0                  5.0   \n",
       "13           14.0              2.0                11.0                  3.0   \n",
       "15           11.0              3.0                 6.0                  5.0   \n",
       "16           16.0              4.0                11.0                  5.0   \n",
       "\n",
       "    a_fouls  a_corner_kicks  a_offsides a_ball_possession  a_yellow_cards  \\\n",
       "1       6.0            11.0         1.0                62             0.0   \n",
       "3      10.0             7.0         1.0                70             1.0   \n",
       "4       9.0             5.0         3.0                59             2.0   \n",
       "7      11.0             2.0         5.0                46             1.0   \n",
       "9      13.0             3.0         2.0                60             1.0   \n",
       "11      5.0             8.0         2.0                76             1.0   \n",
       "13     11.0             4.0         0.0                65             0.0   \n",
       "15     13.0            12.0         4.0                74             3.0   \n",
       "16     12.0            10.0         1.0                68             3.0   \n",
       "\n",
       "    a_red_cards  a_goalkeeper_saves  a_total_passes  a_accurate_passes  \\\n",
       "1           0.0                 3.0           764.0              681.0   \n",
       "3           0.0                 4.0           650.0              554.0   \n",
       "4           0.0                 3.0           524.0              437.0   \n",
       "7           0.0                 1.0           458.0              374.0   \n",
       "9           0.0                 2.0           526.0              428.0   \n",
       "11          0.0                 4.0           707.0              614.0   \n",
       "13          0.0                 3.0           743.0              649.0   \n",
       "15          0.0                 2.0           661.0              571.0   \n",
       "16          0.0                 1.0           674.0              540.0   \n",
       "\n",
       "   a_pass_percentage  home_field  \n",
       "1                 89           0  \n",
       "3                 85           0  \n",
       "4                 83           0  \n",
       "7                 82           0  \n",
       "9                 81           0  \n",
       "11                87           0  \n",
       "13                87           0  \n",
       "15                86           0  \n",
       "16                80           0  "
      ],
      "text/html": "<div>\n<style scoped>\n    .dataframe tbody tr th:only-of-type {\n        vertical-align: middle;\n    }\n\n    .dataframe tbody tr th {\n        vertical-align: top;\n    }\n\n    .dataframe thead th {\n        text-align: right;\n    }\n</style>\n<table border=\"1\" class=\"dataframe\">\n  <thead>\n    <tr style=\"text-align: right;\">\n      <th></th>\n      <th>a_haftime_score</th>\n      <th>a_fulltime_score</th>\n      <th>a_shot_on_goal</th>\n      <th>a_shot_off_goal</th>\n      <th>a_total_shots</th>\n      <th>a_blocked_shots</th>\n      <th>a_shots_inside_box</th>\n      <th>a_shots_outside_box</th>\n      <th>a_fouls</th>\n      <th>a_corner_kicks</th>\n      <th>a_offsides</th>\n      <th>a_ball_possession</th>\n      <th>a_yellow_cards</th>\n      <th>a_red_cards</th>\n      <th>a_goalkeeper_saves</th>\n      <th>a_total_passes</th>\n      <th>a_accurate_passes</th>\n      <th>a_pass_percentage</th>\n      <th>home_field</th>\n    </tr>\n  </thead>\n  <tbody>\n    <tr>\n      <th>1</th>\n      <td>0.0</td>\n      <td>2.0</td>\n      <td>6.0</td>\n      <td>9.0</td>\n      <td>18.0</td>\n      <td>3.0</td>\n      <td>10.0</td>\n      <td>8.0</td>\n      <td>6.0</td>\n      <td>11.0</td>\n      <td>1.0</td>\n      <td>62</td>\n      <td>0.0</td>\n      <td>0.0</td>\n      <td>3.0</td>\n      <td>764.0</td>\n      <td>681.0</td>\n      <td>89</td>\n      <td>0</td>\n    </tr>\n    <tr>\n      <th>3</th>\n      <td>1.0</td>\n      <td>2.0</td>\n      <td>8.0</td>\n      <td>1.0</td>\n      <td>14.0</td>\n      <td>5.0</td>\n      <td>10.0</td>\n      <td>4.0</td>\n      <td>10.0</td>\n      <td>7.0</td>\n      <td>1.0</td>\n      <td>70</td>\n      <td>1.0</td>\n      <td>0.0</td>\n      <td>4.0</td>\n      <td>650.0</td>\n      <td>554.0</td>\n      <td>85</td>\n      <td>0</td>\n    </tr>\n    <tr>\n      <th>4</th>\n      <td>1.0</td>\n      <td>2.0</td>\n      <td>8.0</td>\n      <td>8.0</td>\n      <td>22.0</td>\n      <td>6.0</td>\n      <td>15.0</td>\n      <td>7.0</td>\n      <td>9.0</td>\n      <td>5.0</td>\n      <td>3.0</td>\n      <td>59</td>\n      <td>2.0</td>\n      <td>0.0</td>\n      <td>3.0</td>\n      <td>524.0</td>\n      <td>437.0</td>\n      <td>83</td>\n      <td>0</td>\n    </tr>\n    <tr>\n      <th>7</th>\n      <td>1.0</td>\n      <td>1.0</td>\n      <td>3.0</td>\n      <td>4.0</td>\n      <td>10.0</td>\n      <td>3.0</td>\n      <td>5.0</td>\n      <td>5.0</td>\n      <td>11.0</td>\n      <td>2.0</td>\n      <td>5.0</td>\n      <td>46</td>\n      <td>1.0</td>\n      <td>0.0</td>\n      <td>1.0</td>\n      <td>458.0</td>\n      <td>374.0</td>\n      <td>82</td>\n      <td>0</td>\n    </tr>\n    <tr>\n      <th>9</th>\n      <td>0.0</td>\n      <td>1.0</td>\n      <td>2.0</td>\n      <td>1.0</td>\n      <td>6.0</td>\n      <td>3.0</td>\n      <td>3.0</td>\n      <td>3.0</td>\n      <td>13.0</td>\n      <td>3.0</td>\n      <td>2.0</td>\n      <td>60</td>\n      <td>1.0</td>\n      <td>0.0</td>\n      <td>2.0</td>\n      <td>526.0</td>\n      <td>428.0</td>\n      <td>81</td>\n      <td>0</td>\n    </tr>\n    <tr>\n      <th>11</th>\n      <td>0.0</td>\n      <td>1.0</td>\n      <td>6.0</td>\n      <td>2.0</td>\n      <td>12.0</td>\n      <td>4.0</td>\n      <td>7.0</td>\n      <td>5.0</td>\n      <td>5.0</td>\n      <td>8.0</td>\n      <td>2.0</td>\n      <td>76</td>\n      <td>1.0</td>\n      <td>0.0</td>\n      <td>4.0</td>\n      <td>707.0</td>\n      <td>614.0</td>\n      <td>87</td>\n      <td>0</td>\n    </tr>\n    <tr>\n      <th>13</th>\n      <td>3.0</td>\n      <td>7.0</td>\n      <td>8.0</td>\n      <td>4.0</td>\n      <td>14.0</td>\n      <td>2.0</td>\n      <td>11.0</td>\n      <td>3.0</td>\n      <td>11.0</td>\n      <td>4.0</td>\n      <td>0.0</td>\n      <td>65</td>\n      <td>0.0</td>\n      <td>0.0</td>\n      <td>3.0</td>\n      <td>743.0</td>\n      <td>649.0</td>\n      <td>87</td>\n      <td>0</td>\n    </tr>\n    <tr>\n      <th>15</th>\n      <td>0.0</td>\n      <td>0.0</td>\n      <td>4.0</td>\n      <td>4.0</td>\n      <td>11.0</td>\n      <td>3.0</td>\n      <td>6.0</td>\n      <td>5.0</td>\n      <td>13.0</td>\n      <td>12.0</td>\n      <td>4.0</td>\n      <td>74</td>\n      <td>3.0</td>\n      <td>0.0</td>\n      <td>2.0</td>\n      <td>661.0</td>\n      <td>571.0</td>\n      <td>86</td>\n      <td>0</td>\n    </tr>\n    <tr>\n      <th>16</th>\n      <td>0.0</td>\n      <td>0.0</td>\n      <td>1.0</td>\n      <td>11.0</td>\n      <td>16.0</td>\n      <td>4.0</td>\n      <td>11.0</td>\n      <td>5.0</td>\n      <td>12.0</td>\n      <td>10.0</td>\n      <td>1.0</td>\n      <td>68</td>\n      <td>3.0</td>\n      <td>0.0</td>\n      <td>1.0</td>\n      <td>674.0</td>\n      <td>540.0</td>\n      <td>80</td>\n      <td>0</td>\n    </tr>\n  </tbody>\n</table>\n</div>"
     },
     "metadata": {},
     "execution_count": 45
    }
   ],
   "source": [
    "a_lv_df"
   ]
  },
  {
   "cell_type": "code",
   "execution_count": 46,
   "metadata": {},
   "outputs": [
    {
     "output_type": "execute_result",
     "data": {
      "text/plain": [
       "    h_halftime_score  h_fulltime_score  h_shot_on_goal  h_shot_off_goal  \\\n",
       "0                3.0               4.0             6.0              3.0   \n",
       "2                2.0               3.0             8.0              7.0   \n",
       "5                1.0               2.0             5.0              7.0   \n",
       "6                1.0               2.0             5.0              3.0   \n",
       "8                2.0               3.0            13.0              8.0   \n",
       "10               1.0               4.0             6.0              4.0   \n",
       "12               1.0               2.0            11.0              1.0   \n",
       "14               1.0               1.0             2.0             11.0   \n",
       "\n",
       "    h_total_shots  h_blocked_shots  h_shots_inside_box  h_shots_outside_box  \\\n",
       "0            22.0             13.0                17.0                  5.0   \n",
       "2            21.0              6.0                12.0                  9.0   \n",
       "5            17.0              5.0                10.0                  7.0   \n",
       "6             9.0              1.0                 6.0                  3.0   \n",
       "8            24.0              3.0                19.0                  5.0   \n",
       "10           11.0              1.0                 7.0                  4.0   \n",
       "12           17.0              5.0                15.0                  2.0   \n",
       "14           17.0              4.0                 8.0                  9.0   \n",
       "\n",
       "    h_fouls  h_corner_kicks  h_offsides h_ball_possession  h_yellow_cards  \\\n",
       "0       9.0             9.0         2.0                48             1.0   \n",
       "2      11.0             7.0         0.0                66             2.0   \n",
       "5       7.0             7.0         2.0                62             0.0   \n",
       "6      13.0             1.0         1.0                72             0.0   \n",
       "8      15.0            10.0         2.0                56             0.0   \n",
       "10      8.0             4.0         1.0                60             1.0   \n",
       "12      8.0             7.0         2.0                75             0.0   \n",
       "14      8.0             7.0         1.0                78             0.0   \n",
       "\n",
       "    h_red_cards  h_goalkeeper_saves  h_total_passes  h_accurate_passes  \\\n",
       "0           0.0                 0.0           432.0              328.0   \n",
       "2           0.0                 2.0           772.0              683.0   \n",
       "5           0.0                 1.0           683.0              589.0   \n",
       "6           0.0                 2.0           828.0              732.0   \n",
       "8           0.0                 4.0           572.0              488.0   \n",
       "10          0.0                 3.0           626.0              564.0   \n",
       "12          0.0                 1.0           813.0              718.0   \n",
       "14          0.0                 2.0           773.0              682.0   \n",
       "\n",
       "   h_pass_percentage  home_field  \n",
       "0                 76           1  \n",
       "2                 88           1  \n",
       "5                 86           1  \n",
       "6                 88           1  \n",
       "8                 85           1  \n",
       "10                90           1  \n",
       "12                88           1  \n",
       "14                88           1  "
      ],
      "text/html": "<div>\n<style scoped>\n    .dataframe tbody tr th:only-of-type {\n        vertical-align: middle;\n    }\n\n    .dataframe tbody tr th {\n        vertical-align: top;\n    }\n\n    .dataframe thead th {\n        text-align: right;\n    }\n</style>\n<table border=\"1\" class=\"dataframe\">\n  <thead>\n    <tr style=\"text-align: right;\">\n      <th></th>\n      <th>h_halftime_score</th>\n      <th>h_fulltime_score</th>\n      <th>h_shot_on_goal</th>\n      <th>h_shot_off_goal</th>\n      <th>h_total_shots</th>\n      <th>h_blocked_shots</th>\n      <th>h_shots_inside_box</th>\n      <th>h_shots_outside_box</th>\n      <th>h_fouls</th>\n      <th>h_corner_kicks</th>\n      <th>h_offsides</th>\n      <th>h_ball_possession</th>\n      <th>h_yellow_cards</th>\n      <th>h_red_cards</th>\n      <th>h_goalkeeper_saves</th>\n      <th>h_total_passes</th>\n      <th>h_accurate_passes</th>\n      <th>h_pass_percentage</th>\n      <th>home_field</th>\n    </tr>\n  </thead>\n  <tbody>\n    <tr>\n      <th>0</th>\n      <td>3.0</td>\n      <td>4.0</td>\n      <td>6.0</td>\n      <td>3.0</td>\n      <td>22.0</td>\n      <td>13.0</td>\n      <td>17.0</td>\n      <td>5.0</td>\n      <td>9.0</td>\n      <td>9.0</td>\n      <td>2.0</td>\n      <td>48</td>\n      <td>1.0</td>\n      <td>0.0</td>\n      <td>0.0</td>\n      <td>432.0</td>\n      <td>328.0</td>\n      <td>76</td>\n      <td>1</td>\n    </tr>\n    <tr>\n      <th>2</th>\n      <td>2.0</td>\n      <td>3.0</td>\n      <td>8.0</td>\n      <td>7.0</td>\n      <td>21.0</td>\n      <td>6.0</td>\n      <td>12.0</td>\n      <td>9.0</td>\n      <td>11.0</td>\n      <td>7.0</td>\n      <td>0.0</td>\n      <td>66</td>\n      <td>2.0</td>\n      <td>0.0</td>\n      <td>2.0</td>\n      <td>772.0</td>\n      <td>683.0</td>\n      <td>88</td>\n      <td>1</td>\n    </tr>\n    <tr>\n      <th>5</th>\n      <td>1.0</td>\n      <td>2.0</td>\n      <td>5.0</td>\n      <td>7.0</td>\n      <td>17.0</td>\n      <td>5.0</td>\n      <td>10.0</td>\n      <td>7.0</td>\n      <td>7.0</td>\n      <td>7.0</td>\n      <td>2.0</td>\n      <td>62</td>\n      <td>0.0</td>\n      <td>0.0</td>\n      <td>1.0</td>\n      <td>683.0</td>\n      <td>589.0</td>\n      <td>86</td>\n      <td>1</td>\n    </tr>\n    <tr>\n      <th>6</th>\n      <td>1.0</td>\n      <td>2.0</td>\n      <td>5.0</td>\n      <td>3.0</td>\n      <td>9.0</td>\n      <td>1.0</td>\n      <td>6.0</td>\n      <td>3.0</td>\n      <td>13.0</td>\n      <td>1.0</td>\n      <td>1.0</td>\n      <td>72</td>\n      <td>0.0</td>\n      <td>0.0</td>\n      <td>2.0</td>\n      <td>828.0</td>\n      <td>732.0</td>\n      <td>88</td>\n      <td>1</td>\n    </tr>\n    <tr>\n      <th>8</th>\n      <td>2.0</td>\n      <td>3.0</td>\n      <td>13.0</td>\n      <td>8.0</td>\n      <td>24.0</td>\n      <td>3.0</td>\n      <td>19.0</td>\n      <td>5.0</td>\n      <td>15.0</td>\n      <td>10.0</td>\n      <td>2.0</td>\n      <td>56</td>\n      <td>0.0</td>\n      <td>0.0</td>\n      <td>4.0</td>\n      <td>572.0</td>\n      <td>488.0</td>\n      <td>85</td>\n      <td>1</td>\n    </tr>\n    <tr>\n      <th>10</th>\n      <td>1.0</td>\n      <td>4.0</td>\n      <td>6.0</td>\n      <td>4.0</td>\n      <td>11.0</td>\n      <td>1.0</td>\n      <td>7.0</td>\n      <td>4.0</td>\n      <td>8.0</td>\n      <td>4.0</td>\n      <td>1.0</td>\n      <td>60</td>\n      <td>1.0</td>\n      <td>0.0</td>\n      <td>3.0</td>\n      <td>626.0</td>\n      <td>564.0</td>\n      <td>90</td>\n      <td>1</td>\n    </tr>\n    <tr>\n      <th>12</th>\n      <td>1.0</td>\n      <td>2.0</td>\n      <td>11.0</td>\n      <td>1.0</td>\n      <td>17.0</td>\n      <td>5.0</td>\n      <td>15.0</td>\n      <td>2.0</td>\n      <td>8.0</td>\n      <td>7.0</td>\n      <td>2.0</td>\n      <td>75</td>\n      <td>0.0</td>\n      <td>0.0</td>\n      <td>1.0</td>\n      <td>813.0</td>\n      <td>718.0</td>\n      <td>88</td>\n      <td>1</td>\n    </tr>\n    <tr>\n      <th>14</th>\n      <td>1.0</td>\n      <td>1.0</td>\n      <td>2.0</td>\n      <td>11.0</td>\n      <td>17.0</td>\n      <td>4.0</td>\n      <td>8.0</td>\n      <td>9.0</td>\n      <td>8.0</td>\n      <td>7.0</td>\n      <td>1.0</td>\n      <td>78</td>\n      <td>0.0</td>\n      <td>0.0</td>\n      <td>2.0</td>\n      <td>773.0</td>\n      <td>682.0</td>\n      <td>88</td>\n      <td>1</td>\n    </tr>\n  </tbody>\n</table>\n</div>"
     },
     "metadata": {},
     "execution_count": 46
    }
   ],
   "source": [
    "h_lv_df"
   ]
  },
  {
   "cell_type": "code",
   "execution_count": 47,
   "metadata": {},
   "outputs": [],
   "source": [
    "a_mu_df = mu_df.where(mu_df['a_team'] == 33)\n",
    "a_mu_df['home_field'] = 0\n",
    "a_mu_df['a_pass_percentage'] = a_mu_df['a_pass_percentage'].str.strip('%')\n",
    "a_mu_df['a_ball_possession'] = a_mu_df['a_ball_possession'].str.strip('%')\n",
    "a_mu_df.dropna(inplace=True)\n",
    "a_mu_df.drop(columns=a_drop, inplace=True)\n",
    "h_mu_df = mu_df.where(mu_df['h_team'] == 33)\n",
    "h_mu_df['home_field'] = 1\n",
    "h_mu_df['h_pass_percentage'] = h_mu_df['h_pass_percentage'].str.strip('%')\n",
    "h_mu_df['h_ball_possession'] = h_mu_df['h_ball_possession'].str.strip('%')\n",
    "h_mu_df.dropna(inplace=True)\n",
    "h_mu_df.drop(columns=h_drop, inplace=True)"
   ]
  },
  {
   "cell_type": "code",
   "execution_count": 48,
   "metadata": {},
   "outputs": [
    {
     "output_type": "execute_result",
     "data": {
      "text/plain": [
       "    a_haftime_score  a_fulltime_score  a_shot_on_goal  a_shot_off_goal  \\\n",
       "1               1.0               3.0             3.0              1.0   \n",
       "3               1.0               4.0            14.0              6.0   \n",
       "6               2.0               3.0             5.0              5.0   \n",
       "8               0.0               3.0             6.0              5.0   \n",
       "9               0.0               3.0             6.0              6.0   \n",
       "11              2.0               3.0             8.0              4.0   \n",
       "13              1.0               2.0             4.0              4.0   \n",
       "16              0.0               1.0             7.0              2.0   \n",
       "\n",
       "    a_total_shots  a_blocked_shots  a_shots_inside_box  a_shots_outside_box  \\\n",
       "1             7.0              3.0                 6.0                  1.0   \n",
       "3            28.0              8.0                15.0                 13.0   \n",
       "6            13.0              3.0                 7.0                  6.0   \n",
       "8            15.0              4.0                10.0                  5.0   \n",
       "9            15.0              3.0                10.0                  5.0   \n",
       "11           14.0              2.0                 8.0                  6.0   \n",
       "13            9.0              1.0                 8.0                  1.0   \n",
       "16           13.0              4.0                 9.0                  4.0   \n",
       "\n",
       "    a_fouls  a_corner_kicks  a_offsides a_ball_possession  a_yellow_cards  \\\n",
       "1      16.0             1.0         4.0                47             2.0   \n",
       "3      12.0             7.0         2.0                64             1.0   \n",
       "6      19.0             2.0         1.0                46             2.0   \n",
       "8      12.0             9.0         0.0                51             0.0   \n",
       "9      10.0             4.0         3.0                61             0.0   \n",
       "11      8.0             3.0         4.0                60             2.0   \n",
       "13     17.0             0.0         4.0                46             1.0   \n",
       "16     13.0             4.0         2.0                63             2.0   \n",
       "\n",
       "    a_red_cards  a_goalkeeper_saves  a_total_passes  a_accurate_passes  \\\n",
       "1           0.0                 3.0           445.0              372.0   \n",
       "3           0.0                 4.0           629.0              541.0   \n",
       "6           0.0                 0.0           453.0              369.0   \n",
       "8           0.0                 3.0           519.0              417.0   \n",
       "9           0.0                 5.0           631.0              544.0   \n",
       "11          0.0                 4.0           557.0              464.0   \n",
       "13          0.0                 1.0           439.0              351.0   \n",
       "16          0.0                 0.0           566.0              475.0   \n",
       "\n",
       "   a_pass_percentage  home_field  \n",
       "1                 84           0  \n",
       "3                 86           0  \n",
       "6                 81           0  \n",
       "8                 80           0  \n",
       "9                 86           0  \n",
       "11                83           0  \n",
       "13                80           0  \n",
       "16                84           0  "
      ],
      "text/html": "<div>\n<style scoped>\n    .dataframe tbody tr th:only-of-type {\n        vertical-align: middle;\n    }\n\n    .dataframe tbody tr th {\n        vertical-align: top;\n    }\n\n    .dataframe thead th {\n        text-align: right;\n    }\n</style>\n<table border=\"1\" class=\"dataframe\">\n  <thead>\n    <tr style=\"text-align: right;\">\n      <th></th>\n      <th>a_haftime_score</th>\n      <th>a_fulltime_score</th>\n      <th>a_shot_on_goal</th>\n      <th>a_shot_off_goal</th>\n      <th>a_total_shots</th>\n      <th>a_blocked_shots</th>\n      <th>a_shots_inside_box</th>\n      <th>a_shots_outside_box</th>\n      <th>a_fouls</th>\n      <th>a_corner_kicks</th>\n      <th>a_offsides</th>\n      <th>a_ball_possession</th>\n      <th>a_yellow_cards</th>\n      <th>a_red_cards</th>\n      <th>a_goalkeeper_saves</th>\n      <th>a_total_passes</th>\n      <th>a_accurate_passes</th>\n      <th>a_pass_percentage</th>\n      <th>home_field</th>\n    </tr>\n  </thead>\n  <tbody>\n    <tr>\n      <th>1</th>\n      <td>1.0</td>\n      <td>3.0</td>\n      <td>3.0</td>\n      <td>1.0</td>\n      <td>7.0</td>\n      <td>3.0</td>\n      <td>6.0</td>\n      <td>1.0</td>\n      <td>16.0</td>\n      <td>1.0</td>\n      <td>4.0</td>\n      <td>47</td>\n      <td>2.0</td>\n      <td>0.0</td>\n      <td>3.0</td>\n      <td>445.0</td>\n      <td>372.0</td>\n      <td>84</td>\n      <td>0</td>\n    </tr>\n    <tr>\n      <th>3</th>\n      <td>1.0</td>\n      <td>4.0</td>\n      <td>14.0</td>\n      <td>6.0</td>\n      <td>28.0</td>\n      <td>8.0</td>\n      <td>15.0</td>\n      <td>13.0</td>\n      <td>12.0</td>\n      <td>7.0</td>\n      <td>2.0</td>\n      <td>64</td>\n      <td>1.0</td>\n      <td>0.0</td>\n      <td>4.0</td>\n      <td>629.0</td>\n      <td>541.0</td>\n      <td>86</td>\n      <td>0</td>\n    </tr>\n    <tr>\n      <th>6</th>\n      <td>2.0</td>\n      <td>3.0</td>\n      <td>5.0</td>\n      <td>5.0</td>\n      <td>13.0</td>\n      <td>3.0</td>\n      <td>7.0</td>\n      <td>6.0</td>\n      <td>19.0</td>\n      <td>2.0</td>\n      <td>1.0</td>\n      <td>46</td>\n      <td>2.0</td>\n      <td>0.0</td>\n      <td>0.0</td>\n      <td>453.0</td>\n      <td>369.0</td>\n      <td>81</td>\n      <td>0</td>\n    </tr>\n    <tr>\n      <th>8</th>\n      <td>0.0</td>\n      <td>3.0</td>\n      <td>6.0</td>\n      <td>5.0</td>\n      <td>15.0</td>\n      <td>4.0</td>\n      <td>10.0</td>\n      <td>5.0</td>\n      <td>12.0</td>\n      <td>9.0</td>\n      <td>0.0</td>\n      <td>51</td>\n      <td>0.0</td>\n      <td>0.0</td>\n      <td>3.0</td>\n      <td>519.0</td>\n      <td>417.0</td>\n      <td>80</td>\n      <td>0</td>\n    </tr>\n    <tr>\n      <th>9</th>\n      <td>0.0</td>\n      <td>3.0</td>\n      <td>6.0</td>\n      <td>6.0</td>\n      <td>15.0</td>\n      <td>3.0</td>\n      <td>10.0</td>\n      <td>5.0</td>\n      <td>10.0</td>\n      <td>4.0</td>\n      <td>3.0</td>\n      <td>61</td>\n      <td>0.0</td>\n      <td>0.0</td>\n      <td>5.0</td>\n      <td>631.0</td>\n      <td>544.0</td>\n      <td>86</td>\n      <td>0</td>\n    </tr>\n    <tr>\n      <th>11</th>\n      <td>2.0</td>\n      <td>3.0</td>\n      <td>8.0</td>\n      <td>4.0</td>\n      <td>14.0</td>\n      <td>2.0</td>\n      <td>8.0</td>\n      <td>6.0</td>\n      <td>8.0</td>\n      <td>3.0</td>\n      <td>4.0</td>\n      <td>60</td>\n      <td>2.0</td>\n      <td>0.0</td>\n      <td>4.0</td>\n      <td>557.0</td>\n      <td>464.0</td>\n      <td>83</td>\n      <td>0</td>\n    </tr>\n    <tr>\n      <th>13</th>\n      <td>1.0</td>\n      <td>2.0</td>\n      <td>4.0</td>\n      <td>4.0</td>\n      <td>9.0</td>\n      <td>1.0</td>\n      <td>8.0</td>\n      <td>1.0</td>\n      <td>17.0</td>\n      <td>0.0</td>\n      <td>4.0</td>\n      <td>46</td>\n      <td>1.0</td>\n      <td>0.0</td>\n      <td>1.0</td>\n      <td>439.0</td>\n      <td>351.0</td>\n      <td>80</td>\n      <td>0</td>\n    </tr>\n    <tr>\n      <th>16</th>\n      <td>0.0</td>\n      <td>1.0</td>\n      <td>7.0</td>\n      <td>2.0</td>\n      <td>13.0</td>\n      <td>4.0</td>\n      <td>9.0</td>\n      <td>4.0</td>\n      <td>13.0</td>\n      <td>4.0</td>\n      <td>2.0</td>\n      <td>63</td>\n      <td>2.0</td>\n      <td>0.0</td>\n      <td>0.0</td>\n      <td>566.0</td>\n      <td>475.0</td>\n      <td>84</td>\n      <td>0</td>\n    </tr>\n  </tbody>\n</table>\n</div>"
     },
     "metadata": {},
     "execution_count": 48
    }
   ],
   "source": [
    "a_mu_df"
   ]
  },
  {
   "cell_type": "code",
   "execution_count": 49,
   "metadata": {},
   "outputs": [
    {
     "output_type": "execute_result",
     "data": {
      "text/plain": [
       "    h_halftime_score  h_fulltime_score  h_shot_on_goal  h_shot_off_goal  \\\n",
       "0                0.0               1.0             4.0              4.0   \n",
       "2                1.0               1.0             2.0              2.0   \n",
       "4                0.0               0.0             4.0              5.0   \n",
       "5                0.0               0.0             2.0              3.0   \n",
       "7                0.0               1.0             7.0              2.0   \n",
       "10               0.0               0.0             2.0              6.0   \n",
       "12               4.0               6.0            14.0              6.0   \n",
       "14               0.0               1.0             3.0              5.0   \n",
       "15               1.0               2.0             9.0              5.0   \n",
       "\n",
       "    h_total_shots  h_blocked_shots  h_shots_inside_box  h_shots_outside_box  \\\n",
       "0            17.0              9.0                 7.0                 10.0   \n",
       "2             5.0              1.0                 2.0                  3.0   \n",
       "4            14.0              5.0                 7.0                  7.0   \n",
       "5             8.0              3.0                 4.0                  4.0   \n",
       "7            17.0              8.0                11.0                  6.0   \n",
       "10           11.0              3.0                 7.0                  4.0   \n",
       "12           26.0              6.0                19.0                  7.0   \n",
       "14           11.0              3.0                 6.0                  5.0   \n",
       "15           19.0              5.0                12.0                  7.0   \n",
       "\n",
       "    h_fouls  h_corner_kicks  h_offsides h_ball_possession  h_yellow_cards  \\\n",
       "0      13.0             9.0         1.0                75             2.0   \n",
       "2      14.0             2.0         1.0                38             2.0   \n",
       "4       8.0             9.0         2.0                50             3.0   \n",
       "5      12.0             6.0         4.0                53             3.0   \n",
       "7      12.0             8.0         1.0                63             1.0   \n",
       "10     13.0             4.0         2.0                46             1.0   \n",
       "12      6.0            11.0         2.0                41             1.0   \n",
       "14     11.0             2.0         4.0                58             1.0   \n",
       "15     22.0             5.0         1.0                48             4.0   \n",
       "\n",
       "    h_red_cards  h_goalkeeper_saves  h_total_passes  h_accurate_passes  \\\n",
       "0           0.0                 2.0           705.0              606.0   \n",
       "2           1.0                 2.0           416.0              348.0   \n",
       "4           0.0                 1.0           582.0              484.0   \n",
       "5           0.0                 1.0           556.0              471.0   \n",
       "7           0.0                 2.0           663.0              563.0   \n",
       "10          0.0                 2.0           502.0              427.0   \n",
       "12          0.0                 1.0           354.0              273.0   \n",
       "14          0.0                 5.0           611.0              534.0   \n",
       "15          0.0                 4.0           407.0              337.0   \n",
       "\n",
       "   h_pass_percentage  home_field  \n",
       "0                 86           1  \n",
       "2                 84           1  \n",
       "4                 83           1  \n",
       "5                 85           1  \n",
       "7                 85           1  \n",
       "10                85           1  \n",
       "12                77           1  \n",
       "14                87           1  \n",
       "15                83           1  "
      ],
      "text/html": "<div>\n<style scoped>\n    .dataframe tbody tr th:only-of-type {\n        vertical-align: middle;\n    }\n\n    .dataframe tbody tr th {\n        vertical-align: top;\n    }\n\n    .dataframe thead th {\n        text-align: right;\n    }\n</style>\n<table border=\"1\" class=\"dataframe\">\n  <thead>\n    <tr style=\"text-align: right;\">\n      <th></th>\n      <th>h_halftime_score</th>\n      <th>h_fulltime_score</th>\n      <th>h_shot_on_goal</th>\n      <th>h_shot_off_goal</th>\n      <th>h_total_shots</th>\n      <th>h_blocked_shots</th>\n      <th>h_shots_inside_box</th>\n      <th>h_shots_outside_box</th>\n      <th>h_fouls</th>\n      <th>h_corner_kicks</th>\n      <th>h_offsides</th>\n      <th>h_ball_possession</th>\n      <th>h_yellow_cards</th>\n      <th>h_red_cards</th>\n      <th>h_goalkeeper_saves</th>\n      <th>h_total_passes</th>\n      <th>h_accurate_passes</th>\n      <th>h_pass_percentage</th>\n      <th>home_field</th>\n    </tr>\n  </thead>\n  <tbody>\n    <tr>\n      <th>0</th>\n      <td>0.0</td>\n      <td>1.0</td>\n      <td>4.0</td>\n      <td>4.0</td>\n      <td>17.0</td>\n      <td>9.0</td>\n      <td>7.0</td>\n      <td>10.0</td>\n      <td>13.0</td>\n      <td>9.0</td>\n      <td>1.0</td>\n      <td>75</td>\n      <td>2.0</td>\n      <td>0.0</td>\n      <td>2.0</td>\n      <td>705.0</td>\n      <td>606.0</td>\n      <td>86</td>\n      <td>1</td>\n    </tr>\n    <tr>\n      <th>2</th>\n      <td>1.0</td>\n      <td>1.0</td>\n      <td>2.0</td>\n      <td>2.0</td>\n      <td>5.0</td>\n      <td>1.0</td>\n      <td>2.0</td>\n      <td>3.0</td>\n      <td>14.0</td>\n      <td>2.0</td>\n      <td>1.0</td>\n      <td>38</td>\n      <td>2.0</td>\n      <td>1.0</td>\n      <td>2.0</td>\n      <td>416.0</td>\n      <td>348.0</td>\n      <td>84</td>\n      <td>1</td>\n    </tr>\n    <tr>\n      <th>4</th>\n      <td>0.0</td>\n      <td>0.0</td>\n      <td>4.0</td>\n      <td>5.0</td>\n      <td>14.0</td>\n      <td>5.0</td>\n      <td>7.0</td>\n      <td>7.0</td>\n      <td>8.0</td>\n      <td>9.0</td>\n      <td>2.0</td>\n      <td>50</td>\n      <td>3.0</td>\n      <td>0.0</td>\n      <td>1.0</td>\n      <td>582.0</td>\n      <td>484.0</td>\n      <td>83</td>\n      <td>1</td>\n    </tr>\n    <tr>\n      <th>5</th>\n      <td>0.0</td>\n      <td>0.0</td>\n      <td>2.0</td>\n      <td>3.0</td>\n      <td>8.0</td>\n      <td>3.0</td>\n      <td>4.0</td>\n      <td>4.0</td>\n      <td>12.0</td>\n      <td>6.0</td>\n      <td>4.0</td>\n      <td>53</td>\n      <td>3.0</td>\n      <td>0.0</td>\n      <td>1.0</td>\n      <td>556.0</td>\n      <td>471.0</td>\n      <td>85</td>\n      <td>1</td>\n    </tr>\n    <tr>\n      <th>7</th>\n      <td>0.0</td>\n      <td>1.0</td>\n      <td>7.0</td>\n      <td>2.0</td>\n      <td>17.0</td>\n      <td>8.0</td>\n      <td>11.0</td>\n      <td>6.0</td>\n      <td>12.0</td>\n      <td>8.0</td>\n      <td>1.0</td>\n      <td>63</td>\n      <td>1.0</td>\n      <td>0.0</td>\n      <td>2.0</td>\n      <td>663.0</td>\n      <td>563.0</td>\n      <td>85</td>\n      <td>1</td>\n    </tr>\n    <tr>\n      <th>10</th>\n      <td>0.0</td>\n      <td>0.0</td>\n      <td>2.0</td>\n      <td>6.0</td>\n      <td>11.0</td>\n      <td>3.0</td>\n      <td>7.0</td>\n      <td>4.0</td>\n      <td>13.0</td>\n      <td>4.0</td>\n      <td>2.0</td>\n      <td>46</td>\n      <td>1.0</td>\n      <td>0.0</td>\n      <td>2.0</td>\n      <td>502.0</td>\n      <td>427.0</td>\n      <td>85</td>\n      <td>1</td>\n    </tr>\n    <tr>\n      <th>12</th>\n      <td>4.0</td>\n      <td>6.0</td>\n      <td>14.0</td>\n      <td>6.0</td>\n      <td>26.0</td>\n      <td>6.0</td>\n      <td>19.0</td>\n      <td>7.0</td>\n      <td>6.0</td>\n      <td>11.0</td>\n      <td>2.0</td>\n      <td>41</td>\n      <td>1.0</td>\n      <td>0.0</td>\n      <td>1.0</td>\n      <td>354.0</td>\n      <td>273.0</td>\n      <td>77</td>\n      <td>1</td>\n    </tr>\n    <tr>\n      <th>14</th>\n      <td>0.0</td>\n      <td>1.0</td>\n      <td>3.0</td>\n      <td>5.0</td>\n      <td>11.0</td>\n      <td>3.0</td>\n      <td>6.0</td>\n      <td>5.0</td>\n      <td>11.0</td>\n      <td>2.0</td>\n      <td>4.0</td>\n      <td>58</td>\n      <td>1.0</td>\n      <td>0.0</td>\n      <td>5.0</td>\n      <td>611.0</td>\n      <td>534.0</td>\n      <td>87</td>\n      <td>1</td>\n    </tr>\n    <tr>\n      <th>15</th>\n      <td>1.0</td>\n      <td>2.0</td>\n      <td>9.0</td>\n      <td>5.0</td>\n      <td>19.0</td>\n      <td>5.0</td>\n      <td>12.0</td>\n      <td>7.0</td>\n      <td>22.0</td>\n      <td>5.0</td>\n      <td>1.0</td>\n      <td>48</td>\n      <td>4.0</td>\n      <td>0.0</td>\n      <td>4.0</td>\n      <td>407.0</td>\n      <td>337.0</td>\n      <td>83</td>\n      <td>1</td>\n    </tr>\n  </tbody>\n</table>\n</div>"
     },
     "metadata": {},
     "execution_count": 49
    }
   ],
   "source": [
    "h_mu_df"
   ]
  },
  {
   "cell_type": "code",
   "execution_count": 51,
   "metadata": {},
   "outputs": [],
   "source": [
    "new_columns = [\n",
    "    'halftime_score', \n",
    "    'fulltime_score', \n",
    "    'shot_on_goal',\n",
    "    'shot_off_goal',\n",
    "    'total_shots',\n",
    "    'blocked_shots',\n",
    "    'shots_inside_box',\n",
    "    'shots_outside_box',\n",
    "    'fouls',\n",
    "    'corner_kicks',\n",
    "    'offsides',\n",
    "    'ball_possession',\n",
    "    'yellow_cards',\n",
    "    'red_cards',\n",
    "    'goalkeeper_saves',\n",
    "    'total_passes',\n",
    "    'accurate_passes',\n",
    "    'pass_percentage',\n",
    "    'home_field'\n",
    "]\n",
    "old_h = [\n",
    "    'h_halftime_score', \n",
    "    'h_fulltime_score', \n",
    "    'h_shot_on_goal',\n",
    "    'h_shot_off_goal',\n",
    "    'h_total_shots',\n",
    "    'h_blocked_shots',\n",
    "    'h_shots_inside_box',\n",
    "    'h_shots_outside_box',\n",
    "    'h_fouls',\n",
    "    'h_corner_kicks',\n",
    "    'h_offsides',\n",
    "    'h_ball_possession',\n",
    "    'h_yellow_cards',\n",
    "    'h_red_cards',\n",
    "    'h_goalkeeper_saves',\n",
    "    'h_total_passes',\n",
    "    'h_accurate_passes',\n",
    "    'h_pass_percentage'\n",
    "]\n",
    "old_a = [\n",
    "    'a_haftime_score', \n",
    "    'a_fulltime_score',\n",
    "    'a_shot_on_goal',\n",
    "    'a_shot_off_goal',\n",
    "    'a_total_shots',\n",
    "    'a_blocked_shots',\n",
    "    'a_shots_inside_box',\n",
    "    'a_shots_outside_box',\n",
    "    'a_fouls',\n",
    "    'a_corner_kicks',\n",
    "    'a_offsides',\n",
    "    'a_ball_possession',\n",
    "    'a_yellow_cards',\n",
    "    'a_red_cards',\n",
    "    'a_goalkeeper_saves',\n",
    "    'a_total_passes',\n",
    "    'a_accurate_passes',\n",
    "    'a_pass_percentage'\n",
    "]"
   ]
  },
  {
   "cell_type": "code",
   "execution_count": 52,
   "metadata": {},
   "outputs": [],
   "source": [
    "a_lv_df.columns = new_columns\n",
    "h_lv_df.columns = new_columns\n",
    "a_mu_df.columns = new_columns\n",
    "h_mu_df.columns = new_columns"
   ]
  },
  {
   "cell_type": "code",
   "execution_count": 56,
   "metadata": {},
   "outputs": [],
   "source": [
    "mu_clean = pd.concat([a_mu_df, h_mu_df]).sort_index()\n",
    "lv_clean = pd.concat([a_lv_df, h_lv_df]).sort_index()"
   ]
  },
  {
   "cell_type": "code",
   "execution_count": 57,
   "metadata": {},
   "outputs": [
    {
     "output_type": "execute_result",
     "data": {
      "text/plain": [
       "    halftime_score  fulltime_score  shot_on_goal  shot_off_goal  total_shots  \\\n",
       "0              3.0             4.0           6.0            3.0         22.0   \n",
       "1              0.0             2.0           6.0            9.0         18.0   \n",
       "2              2.0             3.0           8.0            7.0         21.0   \n",
       "3              1.0             2.0           8.0            1.0         14.0   \n",
       "4              1.0             2.0           8.0            8.0         22.0   \n",
       "5              1.0             2.0           5.0            7.0         17.0   \n",
       "6              1.0             2.0           5.0            3.0          9.0   \n",
       "7              1.0             1.0           3.0            4.0         10.0   \n",
       "8              2.0             3.0          13.0            8.0         24.0   \n",
       "9              0.0             1.0           2.0            1.0          6.0   \n",
       "10             1.0             4.0           6.0            4.0         11.0   \n",
       "11             0.0             1.0           6.0            2.0         12.0   \n",
       "12             1.0             2.0          11.0            1.0         17.0   \n",
       "13             3.0             7.0           8.0            4.0         14.0   \n",
       "14             1.0             1.0           2.0           11.0         17.0   \n",
       "15             0.0             0.0           4.0            4.0         11.0   \n",
       "16             0.0             0.0           1.0           11.0         16.0   \n",
       "\n",
       "    blocked_shots  shots_inside_box  shots_outside_box  fouls  corner_kicks  \\\n",
       "0            13.0              17.0                5.0    9.0           9.0   \n",
       "1             3.0              10.0                8.0    6.0          11.0   \n",
       "2             6.0              12.0                9.0   11.0           7.0   \n",
       "3             5.0              10.0                4.0   10.0           7.0   \n",
       "4             6.0              15.0                7.0    9.0           5.0   \n",
       "5             5.0              10.0                7.0    7.0           7.0   \n",
       "6             1.0               6.0                3.0   13.0           1.0   \n",
       "7             3.0               5.0                5.0   11.0           2.0   \n",
       "8             3.0              19.0                5.0   15.0          10.0   \n",
       "9             3.0               3.0                3.0   13.0           3.0   \n",
       "10            1.0               7.0                4.0    8.0           4.0   \n",
       "11            4.0               7.0                5.0    5.0           8.0   \n",
       "12            5.0              15.0                2.0    8.0           7.0   \n",
       "13            2.0              11.0                3.0   11.0           4.0   \n",
       "14            4.0               8.0                9.0    8.0           7.0   \n",
       "15            3.0               6.0                5.0   13.0          12.0   \n",
       "16            4.0              11.0                5.0   12.0          10.0   \n",
       "\n",
       "    offsides ball_possession  yellow_cards  red_cards  goalkeeper_saves  \\\n",
       "0        2.0              48           1.0        0.0               0.0   \n",
       "1        1.0              62           0.0        0.0               3.0   \n",
       "2        0.0              66           2.0        0.0               2.0   \n",
       "3        1.0              70           1.0        0.0               4.0   \n",
       "4        3.0              59           2.0        0.0               3.0   \n",
       "5        2.0              62           0.0        0.0               1.0   \n",
       "6        1.0              72           0.0        0.0               2.0   \n",
       "7        5.0              46           1.0        0.0               1.0   \n",
       "8        2.0              56           0.0        0.0               4.0   \n",
       "9        2.0              60           1.0        0.0               2.0   \n",
       "10       1.0              60           1.0        0.0               3.0   \n",
       "11       2.0              76           1.0        0.0               4.0   \n",
       "12       2.0              75           0.0        0.0               1.0   \n",
       "13       0.0              65           0.0        0.0               3.0   \n",
       "14       1.0              78           0.0        0.0               2.0   \n",
       "15       4.0              74           3.0        0.0               2.0   \n",
       "16       1.0              68           3.0        0.0               1.0   \n",
       "\n",
       "    total_passes  accurate_passes pass_percentage  home_field  \n",
       "0          432.0            328.0              76           1  \n",
       "1          764.0            681.0              89           0  \n",
       "2          772.0            683.0              88           1  \n",
       "3          650.0            554.0              85           0  \n",
       "4          524.0            437.0              83           0  \n",
       "5          683.0            589.0              86           1  \n",
       "6          828.0            732.0              88           1  \n",
       "7          458.0            374.0              82           0  \n",
       "8          572.0            488.0              85           1  \n",
       "9          526.0            428.0              81           0  \n",
       "10         626.0            564.0              90           1  \n",
       "11         707.0            614.0              87           0  \n",
       "12         813.0            718.0              88           1  \n",
       "13         743.0            649.0              87           0  \n",
       "14         773.0            682.0              88           1  \n",
       "15         661.0            571.0              86           0  \n",
       "16         674.0            540.0              80           0  "
      ],
      "text/html": "<div>\n<style scoped>\n    .dataframe tbody tr th:only-of-type {\n        vertical-align: middle;\n    }\n\n    .dataframe tbody tr th {\n        vertical-align: top;\n    }\n\n    .dataframe thead th {\n        text-align: right;\n    }\n</style>\n<table border=\"1\" class=\"dataframe\">\n  <thead>\n    <tr style=\"text-align: right;\">\n      <th></th>\n      <th>halftime_score</th>\n      <th>fulltime_score</th>\n      <th>shot_on_goal</th>\n      <th>shot_off_goal</th>\n      <th>total_shots</th>\n      <th>blocked_shots</th>\n      <th>shots_inside_box</th>\n      <th>shots_outside_box</th>\n      <th>fouls</th>\n      <th>corner_kicks</th>\n      <th>offsides</th>\n      <th>ball_possession</th>\n      <th>yellow_cards</th>\n      <th>red_cards</th>\n      <th>goalkeeper_saves</th>\n      <th>total_passes</th>\n      <th>accurate_passes</th>\n      <th>pass_percentage</th>\n      <th>home_field</th>\n    </tr>\n  </thead>\n  <tbody>\n    <tr>\n      <th>0</th>\n      <td>3.0</td>\n      <td>4.0</td>\n      <td>6.0</td>\n      <td>3.0</td>\n      <td>22.0</td>\n      <td>13.0</td>\n      <td>17.0</td>\n      <td>5.0</td>\n      <td>9.0</td>\n      <td>9.0</td>\n      <td>2.0</td>\n      <td>48</td>\n      <td>1.0</td>\n      <td>0.0</td>\n      <td>0.0</td>\n      <td>432.0</td>\n      <td>328.0</td>\n      <td>76</td>\n      <td>1</td>\n    </tr>\n    <tr>\n      <th>1</th>\n      <td>0.0</td>\n      <td>2.0</td>\n      <td>6.0</td>\n      <td>9.0</td>\n      <td>18.0</td>\n      <td>3.0</td>\n      <td>10.0</td>\n      <td>8.0</td>\n      <td>6.0</td>\n      <td>11.0</td>\n      <td>1.0</td>\n      <td>62</td>\n      <td>0.0</td>\n      <td>0.0</td>\n      <td>3.0</td>\n      <td>764.0</td>\n      <td>681.0</td>\n      <td>89</td>\n      <td>0</td>\n    </tr>\n    <tr>\n      <th>2</th>\n      <td>2.0</td>\n      <td>3.0</td>\n      <td>8.0</td>\n      <td>7.0</td>\n      <td>21.0</td>\n      <td>6.0</td>\n      <td>12.0</td>\n      <td>9.0</td>\n      <td>11.0</td>\n      <td>7.0</td>\n      <td>0.0</td>\n      <td>66</td>\n      <td>2.0</td>\n      <td>0.0</td>\n      <td>2.0</td>\n      <td>772.0</td>\n      <td>683.0</td>\n      <td>88</td>\n      <td>1</td>\n    </tr>\n    <tr>\n      <th>3</th>\n      <td>1.0</td>\n      <td>2.0</td>\n      <td>8.0</td>\n      <td>1.0</td>\n      <td>14.0</td>\n      <td>5.0</td>\n      <td>10.0</td>\n      <td>4.0</td>\n      <td>10.0</td>\n      <td>7.0</td>\n      <td>1.0</td>\n      <td>70</td>\n      <td>1.0</td>\n      <td>0.0</td>\n      <td>4.0</td>\n      <td>650.0</td>\n      <td>554.0</td>\n      <td>85</td>\n      <td>0</td>\n    </tr>\n    <tr>\n      <th>4</th>\n      <td>1.0</td>\n      <td>2.0</td>\n      <td>8.0</td>\n      <td>8.0</td>\n      <td>22.0</td>\n      <td>6.0</td>\n      <td>15.0</td>\n      <td>7.0</td>\n      <td>9.0</td>\n      <td>5.0</td>\n      <td>3.0</td>\n      <td>59</td>\n      <td>2.0</td>\n      <td>0.0</td>\n      <td>3.0</td>\n      <td>524.0</td>\n      <td>437.0</td>\n      <td>83</td>\n      <td>0</td>\n    </tr>\n    <tr>\n      <th>5</th>\n      <td>1.0</td>\n      <td>2.0</td>\n      <td>5.0</td>\n      <td>7.0</td>\n      <td>17.0</td>\n      <td>5.0</td>\n      <td>10.0</td>\n      <td>7.0</td>\n      <td>7.0</td>\n      <td>7.0</td>\n      <td>2.0</td>\n      <td>62</td>\n      <td>0.0</td>\n      <td>0.0</td>\n      <td>1.0</td>\n      <td>683.0</td>\n      <td>589.0</td>\n      <td>86</td>\n      <td>1</td>\n    </tr>\n    <tr>\n      <th>6</th>\n      <td>1.0</td>\n      <td>2.0</td>\n      <td>5.0</td>\n      <td>3.0</td>\n      <td>9.0</td>\n      <td>1.0</td>\n      <td>6.0</td>\n      <td>3.0</td>\n      <td>13.0</td>\n      <td>1.0</td>\n      <td>1.0</td>\n      <td>72</td>\n      <td>0.0</td>\n      <td>0.0</td>\n      <td>2.0</td>\n      <td>828.0</td>\n      <td>732.0</td>\n      <td>88</td>\n      <td>1</td>\n    </tr>\n    <tr>\n      <th>7</th>\n      <td>1.0</td>\n      <td>1.0</td>\n      <td>3.0</td>\n      <td>4.0</td>\n      <td>10.0</td>\n      <td>3.0</td>\n      <td>5.0</td>\n      <td>5.0</td>\n      <td>11.0</td>\n      <td>2.0</td>\n      <td>5.0</td>\n      <td>46</td>\n      <td>1.0</td>\n      <td>0.0</td>\n      <td>1.0</td>\n      <td>458.0</td>\n      <td>374.0</td>\n      <td>82</td>\n      <td>0</td>\n    </tr>\n    <tr>\n      <th>8</th>\n      <td>2.0</td>\n      <td>3.0</td>\n      <td>13.0</td>\n      <td>8.0</td>\n      <td>24.0</td>\n      <td>3.0</td>\n      <td>19.0</td>\n      <td>5.0</td>\n      <td>15.0</td>\n      <td>10.0</td>\n      <td>2.0</td>\n      <td>56</td>\n      <td>0.0</td>\n      <td>0.0</td>\n      <td>4.0</td>\n      <td>572.0</td>\n      <td>488.0</td>\n      <td>85</td>\n      <td>1</td>\n    </tr>\n    <tr>\n      <th>9</th>\n      <td>0.0</td>\n      <td>1.0</td>\n      <td>2.0</td>\n      <td>1.0</td>\n      <td>6.0</td>\n      <td>3.0</td>\n      <td>3.0</td>\n      <td>3.0</td>\n      <td>13.0</td>\n      <td>3.0</td>\n      <td>2.0</td>\n      <td>60</td>\n      <td>1.0</td>\n      <td>0.0</td>\n      <td>2.0</td>\n      <td>526.0</td>\n      <td>428.0</td>\n      <td>81</td>\n      <td>0</td>\n    </tr>\n    <tr>\n      <th>10</th>\n      <td>1.0</td>\n      <td>4.0</td>\n      <td>6.0</td>\n      <td>4.0</td>\n      <td>11.0</td>\n      <td>1.0</td>\n      <td>7.0</td>\n      <td>4.0</td>\n      <td>8.0</td>\n      <td>4.0</td>\n      <td>1.0</td>\n      <td>60</td>\n      <td>1.0</td>\n      <td>0.0</td>\n      <td>3.0</td>\n      <td>626.0</td>\n      <td>564.0</td>\n      <td>90</td>\n      <td>1</td>\n    </tr>\n    <tr>\n      <th>11</th>\n      <td>0.0</td>\n      <td>1.0</td>\n      <td>6.0</td>\n      <td>2.0</td>\n      <td>12.0</td>\n      <td>4.0</td>\n      <td>7.0</td>\n      <td>5.0</td>\n      <td>5.0</td>\n      <td>8.0</td>\n      <td>2.0</td>\n      <td>76</td>\n      <td>1.0</td>\n      <td>0.0</td>\n      <td>4.0</td>\n      <td>707.0</td>\n      <td>614.0</td>\n      <td>87</td>\n      <td>0</td>\n    </tr>\n    <tr>\n      <th>12</th>\n      <td>1.0</td>\n      <td>2.0</td>\n      <td>11.0</td>\n      <td>1.0</td>\n      <td>17.0</td>\n      <td>5.0</td>\n      <td>15.0</td>\n      <td>2.0</td>\n      <td>8.0</td>\n      <td>7.0</td>\n      <td>2.0</td>\n      <td>75</td>\n      <td>0.0</td>\n      <td>0.0</td>\n      <td>1.0</td>\n      <td>813.0</td>\n      <td>718.0</td>\n      <td>88</td>\n      <td>1</td>\n    </tr>\n    <tr>\n      <th>13</th>\n      <td>3.0</td>\n      <td>7.0</td>\n      <td>8.0</td>\n      <td>4.0</td>\n      <td>14.0</td>\n      <td>2.0</td>\n      <td>11.0</td>\n      <td>3.0</td>\n      <td>11.0</td>\n      <td>4.0</td>\n      <td>0.0</td>\n      <td>65</td>\n      <td>0.0</td>\n      <td>0.0</td>\n      <td>3.0</td>\n      <td>743.0</td>\n      <td>649.0</td>\n      <td>87</td>\n      <td>0</td>\n    </tr>\n    <tr>\n      <th>14</th>\n      <td>1.0</td>\n      <td>1.0</td>\n      <td>2.0</td>\n      <td>11.0</td>\n      <td>17.0</td>\n      <td>4.0</td>\n      <td>8.0</td>\n      <td>9.0</td>\n      <td>8.0</td>\n      <td>7.0</td>\n      <td>1.0</td>\n      <td>78</td>\n      <td>0.0</td>\n      <td>0.0</td>\n      <td>2.0</td>\n      <td>773.0</td>\n      <td>682.0</td>\n      <td>88</td>\n      <td>1</td>\n    </tr>\n    <tr>\n      <th>15</th>\n      <td>0.0</td>\n      <td>0.0</td>\n      <td>4.0</td>\n      <td>4.0</td>\n      <td>11.0</td>\n      <td>3.0</td>\n      <td>6.0</td>\n      <td>5.0</td>\n      <td>13.0</td>\n      <td>12.0</td>\n      <td>4.0</td>\n      <td>74</td>\n      <td>3.0</td>\n      <td>0.0</td>\n      <td>2.0</td>\n      <td>661.0</td>\n      <td>571.0</td>\n      <td>86</td>\n      <td>0</td>\n    </tr>\n    <tr>\n      <th>16</th>\n      <td>0.0</td>\n      <td>0.0</td>\n      <td>1.0</td>\n      <td>11.0</td>\n      <td>16.0</td>\n      <td>4.0</td>\n      <td>11.0</td>\n      <td>5.0</td>\n      <td>12.0</td>\n      <td>10.0</td>\n      <td>1.0</td>\n      <td>68</td>\n      <td>3.0</td>\n      <td>0.0</td>\n      <td>1.0</td>\n      <td>674.0</td>\n      <td>540.0</td>\n      <td>80</td>\n      <td>0</td>\n    </tr>\n  </tbody>\n</table>\n</div>"
     },
     "metadata": {},
     "execution_count": 57
    }
   ],
   "source": [
    "lv_clean"
   ]
  },
  {
   "source": [
    "# Using wieghted moving averages on Number of Passes, Pass Accuracy, and Total Shots"
   ],
   "cell_type": "markdown",
   "metadata": {}
  },
  {
   "cell_type": "code",
   "execution_count": 89,
   "metadata": {},
   "outputs": [],
   "source": [
    "# Weights from /dragan/soccer_win_predict_rf_improved.ipynb\n",
    "h_weights = {\n",
    "\t'total_passes': 0.04666782359762534,\n",
    "\t'accurate_passes': 0.04810013821422902,\n",
    "\t'total_shots': 0.03653010460876491,\n",
    "\t'ball_possession': 0.037237171777494416\n",
    "}\n",
    "\n",
    "a_weights = {\n",
    "\t'total_passes': 0.044189413144872174,\n",
    "\t'accurate_passes': 0.03927389597668354,\n",
    "\t'total_shots': 0.03804805611499009,\n",
    "\t'ball_possession': 0.03754267088918516\n",
    "}"
   ]
  },
  {
   "cell_type": "code",
   "execution_count": 90,
   "metadata": {},
   "outputs": [],
   "source": [
    "mu_tpass_avg = mu_clean.total_passes.rolling(window=4).mean().iloc[-1]\n",
    "mu_passacc_avg = mu_clean.accurate_passes.rolling(window=4).mean().iloc[-1]\n",
    "mu_tshots_avg = mu_clean.total_shots.rolling(window=4).mean().iloc[-1]\n",
    "mu_bposs_avg = mu_clean.ball_possession.rolling(window=4).mean().iloc[-1]\n",
    "lv_tpass_avg = lv_clean.total_passes.rolling(window=4).mean().iloc[-1]\n",
    "lv_passacc_avg = lv_clean.accurate_passes.rolling(window=4).mean().iloc[-1]\n",
    "lv_tshots_avg = lv_clean.total_shots.rolling(window=4).mean().iloc[-1]\n",
    "lv_bposs_avg = lv_clean.ball_possession.rolling(window=4).mean().iloc[-1]"
   ]
  },
  {
   "cell_type": "code",
   "execution_count": 91,
   "metadata": {},
   "outputs": [],
   "source": [
    "# liverpool is home team in this simulation\n",
    "lv_score = (lv_tpass_avg * h_weights['total_passes']) + (lv_passacc_avg * h_weights['accurate_passes']) + (lv_tshots_avg * h_weights['total_shots']) + (lv_bposs_avg * h_weights['ball_possession'])\n",
    "mu_score = (mu_tpass_avg * a_weights['total_passes']) + (mu_passacc_avg * a_weights['accurate_passes']) + (mu_tshots_avg * a_weights['total_shots']) + (mu_bposs_avg * a_weights['ball_possession'])"
   ]
  },
  {
   "cell_type": "code",
   "execution_count": 92,
   "metadata": {},
   "outputs": [
    {
     "output_type": "stream",
     "name": "stdout",
     "text": [
      "Liverpool wins!\n"
     ]
    }
   ],
   "source": [
    "if lv_score > mu_score:\n",
    "    print('Liverpool wins!')\n",
    "elif mu_score > lv_score:\n",
    "    print('Manchester United wins!')\n",
    "else:\n",
    "    print('looks like a draw')"
   ]
  },
  {
   "source": [
    "# Running Linear Regressions on Number of Passes, Pass Accuracy, and total shots"
   ],
   "cell_type": "markdown",
   "metadata": {}
  },
  {
   "cell_type": "code",
   "execution_count": 68,
   "metadata": {},
   "outputs": [],
   "source": [
    "from sklearn.linear_model import LinearRegression"
   ]
  },
  {
   "cell_type": "code",
   "execution_count": 69,
   "metadata": {},
   "outputs": [],
   "source": [
    "y_mu = mu_clean['fulltime_score']\n",
    "y_lv = lv_clean['fulltime_score']\n",
    "x_mu = pd.DataFrame()\n",
    "x_mu['total_shots'] = mu_clean['total_shots']\n",
    "x_mu['total_passes'] = mu_clean['total_passes']\n",
    "x_mu['accurate_passes'] = mu_clean['accurate_passes']\n",
    "x_lv = pd.DataFrame()\n",
    "x_lv['total_shots'] = lv_clean['total_shots']\n",
    "x_lv['total_passes'] = lv_clean['total_passes']\n",
    "x_lv['accurate_passes'] = lv_clean['accurate_passes']"
   ]
  },
  {
   "cell_type": "code",
   "execution_count": 70,
   "metadata": {},
   "outputs": [
    {
     "output_type": "execute_result",
     "data": {
      "text/plain": [
       "LinearRegression()"
      ]
     },
     "metadata": {},
     "execution_count": 70
    }
   ],
   "source": [
    "mu_model = LinearRegression()\n",
    "lv_model = LinearRegression()\n",
    "mu_model.fit(x_mu, y_mu)\n",
    "lv_model.fit(x_lv, y_lv)"
   ]
  },
  {
   "cell_type": "code",
   "execution_count": 71,
   "metadata": {},
   "outputs": [],
   "source": [
    "mu_predictions = mu_model.predict(x_mu)\n",
    "lv_predictions = lv_model.predict(x_lv)"
   ]
  },
  {
   "cell_type": "code",
   "execution_count": 72,
   "metadata": {},
   "outputs": [
    {
     "output_type": "execute_result",
     "data": {
      "text/plain": [
       "array([1.19949854, 1.28235253, 1.10364829, 3.57186448, 1.72674662,\n",
       "       0.69732078, 2.4337554 , 1.5789319 , 2.51046676, 1.29227091,\n",
       "       1.5145328 , 1.85897474, 5.48408215, 1.93063698, 0.60670496,\n",
       "       3.63316254, 1.57504962])"
      ]
     },
     "metadata": {},
     "execution_count": 72
    }
   ],
   "source": [
    "mu_predictions"
   ]
  },
  {
   "cell_type": "code",
   "execution_count": 73,
   "metadata": {},
   "outputs": [
    {
     "output_type": "execute_result",
     "data": {
      "text/plain": [
       "array([2.18520208, 2.86872009, 2.91555524, 1.91164314, 2.91518272,\n",
       "       2.28938587, 1.57340827, 1.88101331, 3.25028492, 1.01020577,\n",
       "       2.95162731, 1.88418595, 2.33980432, 2.05417909, 2.46906243,\n",
       "       1.87790738, 0.62263211])"
      ]
     },
     "metadata": {},
     "execution_count": 73
    }
   ],
   "source": [
    "lv_predictions"
   ]
  },
  {
   "cell_type": "code",
   "execution_count": null,
   "metadata": {},
   "outputs": [],
   "source": []
  }
 ]
}