{
 "metadata": {
  "language_info": {
   "codemirror_mode": {
    "name": "ipython",
    "version": 3
   },
   "file_extension": ".py",
   "mimetype": "text/x-python",
   "name": "python",
   "nbconvert_exporter": "python",
   "pygments_lexer": "ipython3",
   "version": "3.7.9-final"
  },
  "orig_nbformat": 2,
  "kernelspec": {
   "name": "python3",
   "display_name": "Python 3",
   "language": "python"
  }
 },
 "nbformat": 4,
 "nbformat_minor": 2,
 "cells": [
  {
   "source": [
    "# API-Basketball Data"
   ],
   "cell_type": "markdown",
   "metadata": {}
  },
  {
   "cell_type": "code",
   "execution_count": 2,
   "metadata": {},
   "outputs": [],
   "source": [
    "import pandas as pd \n",
    "import numpy as np \n",
    "import requests, json\n",
    "from pathlib import Path \n",
    "from os import listdir\n",
    "from os.path import isfile, join"
   ]
  },
  {
   "cell_type": "code",
   "execution_count": 19,
   "metadata": {},
   "outputs": [
    {
     "output_type": "execute_result",
     "data": {
      "text/plain": [
       "        GAME_CODE  OUTCOME  PERIOD  TIME_REMAINING  GAME_TIME  HT_POSS  \\\n",
       "0              31      1.0     2.0           443.0      997.0      0.0   \n",
       "1              31      1.0     2.0           435.0     1005.0      1.0   \n",
       "2              31      1.0     2.0           431.0     1009.0      1.0   \n",
       "3              31      1.0     2.0           479.0      961.0      0.0   \n",
       "4              31      1.0     2.0           465.0      975.0      0.0   \n",
       "...           ...      ...     ...             ...        ...      ...   \n",
       "585045       1274      1.0     3.0           108.0     2052.0      0.0   \n",
       "585046       1274      1.0     3.0           108.0     2052.0      1.0   \n",
       "585047       1274      1.0     3.0           108.0     2052.0      0.0   \n",
       "585048       1274      1.0     3.0           108.0     2052.0      1.0   \n",
       "585049       1274      1.0     3.0           194.0     1966.0      1.0   \n",
       "\n",
       "        HT_SCORE_DIFF            EVENT  HT_FOUL  HT_ORBD  ...  AT_15_S  \\\n",
       "0                 2.0  Field Goal Made      0.0      0.0  ...      0.0   \n",
       "1                 2.0         Turnover      0.0      0.0  ...      0.0   \n",
       "2                 2.0             Foul      1.0      0.0  ...      0.0   \n",
       "3                 6.0     Substitution      1.0      0.0  ...      0.0   \n",
       "4                 4.0  Field Goal Made      1.0      0.0  ...      0.0   \n",
       "...               ...              ...      ...      ...  ...      ...   \n",
       "585045            5.0             Foul     26.0     13.0  ...      0.0   \n",
       "585046            6.0  Free Throw Made     26.0     13.0  ...      0.0   \n",
       "585047            6.0     Substitution     26.0     13.0  ...      0.0   \n",
       "585048            6.0     Substitution     26.0     13.0  ...      0.0   \n",
       "585049            7.0     Substitution     26.0     13.0  ...      0.0   \n",
       "\n",
       "        AT_15_A  AT_15_GP  AT_15_GS  AT_15_MP  AT_15_PM  AT_15_MPG  \\\n",
       "0           1.0      59.0       4.0    1155.0     -88.0  19.576271   \n",
       "1           1.0      59.0       4.0    1155.0     -88.0  19.576271   \n",
       "2           1.0      59.0       4.0    1155.0     -88.0  19.576271   \n",
       "3           1.0      59.0       4.0    1155.0     -88.0  19.576271   \n",
       "4           1.0      59.0       4.0    1155.0     -88.0  19.576271   \n",
       "...         ...       ...       ...       ...       ...        ...   \n",
       "585045      1.0       2.0       0.0      28.0      10.0  14.000000   \n",
       "585046      1.0       2.0       0.0      28.0      10.0  14.000000   \n",
       "585047      1.0       2.0       0.0      28.0      10.0  14.000000   \n",
       "585048      1.0       2.0       0.0      28.0      10.0  14.000000   \n",
       "585049      1.0       2.0       0.0      28.0      10.0  14.000000   \n",
       "\n",
       "        AT_15_PMPG  AT_15_FPG  AT_15_O  \n",
       "0        -1.491525   2.627119      1.0  \n",
       "1        -1.491525   2.627119      1.0  \n",
       "2        -1.491525   2.627119      1.0  \n",
       "3        -1.491525   2.627119      1.0  \n",
       "4        -1.491525   2.627119      1.0  \n",
       "...            ...        ...      ...  \n",
       "585045    5.000000   1.500000      0.0  \n",
       "585046    5.000000   1.500000      0.0  \n",
       "585047    5.000000   1.500000      0.0  \n",
       "585048    5.000000   1.500000      0.0  \n",
       "585049    5.000000   1.500000      0.0  \n",
       "\n",
       "[585050 rows x 326 columns]"
      ],
      "text/html": "<div>\n<style scoped>\n    .dataframe tbody tr th:only-of-type {\n        vertical-align: middle;\n    }\n\n    .dataframe tbody tr th {\n        vertical-align: top;\n    }\n\n    .dataframe thead th {\n        text-align: right;\n    }\n</style>\n<table border=\"1\" class=\"dataframe\">\n  <thead>\n    <tr style=\"text-align: right;\">\n      <th></th>\n      <th>GAME_CODE</th>\n      <th>OUTCOME</th>\n      <th>PERIOD</th>\n      <th>TIME_REMAINING</th>\n      <th>GAME_TIME</th>\n      <th>HT_POSS</th>\n      <th>HT_SCORE_DIFF</th>\n      <th>EVENT</th>\n      <th>HT_FOUL</th>\n      <th>HT_ORBD</th>\n      <th>...</th>\n      <th>AT_15_S</th>\n      <th>AT_15_A</th>\n      <th>AT_15_GP</th>\n      <th>AT_15_GS</th>\n      <th>AT_15_MP</th>\n      <th>AT_15_PM</th>\n      <th>AT_15_MPG</th>\n      <th>AT_15_PMPG</th>\n      <th>AT_15_FPG</th>\n      <th>AT_15_O</th>\n    </tr>\n  </thead>\n  <tbody>\n    <tr>\n      <th>0</th>\n      <td>31</td>\n      <td>1.0</td>\n      <td>2.0</td>\n      <td>443.0</td>\n      <td>997.0</td>\n      <td>0.0</td>\n      <td>2.0</td>\n      <td>Field Goal Made</td>\n      <td>0.0</td>\n      <td>0.0</td>\n      <td>...</td>\n      <td>0.0</td>\n      <td>1.0</td>\n      <td>59.0</td>\n      <td>4.0</td>\n      <td>1155.0</td>\n      <td>-88.0</td>\n      <td>19.576271</td>\n      <td>-1.491525</td>\n      <td>2.627119</td>\n      <td>1.0</td>\n    </tr>\n    <tr>\n      <th>1</th>\n      <td>31</td>\n      <td>1.0</td>\n      <td>2.0</td>\n      <td>435.0</td>\n      <td>1005.0</td>\n      <td>1.0</td>\n      <td>2.0</td>\n      <td>Turnover</td>\n      <td>0.0</td>\n      <td>0.0</td>\n      <td>...</td>\n      <td>0.0</td>\n      <td>1.0</td>\n      <td>59.0</td>\n      <td>4.0</td>\n      <td>1155.0</td>\n      <td>-88.0</td>\n      <td>19.576271</td>\n      <td>-1.491525</td>\n      <td>2.627119</td>\n      <td>1.0</td>\n    </tr>\n    <tr>\n      <th>2</th>\n      <td>31</td>\n      <td>1.0</td>\n      <td>2.0</td>\n      <td>431.0</td>\n      <td>1009.0</td>\n      <td>1.0</td>\n      <td>2.0</td>\n      <td>Foul</td>\n      <td>1.0</td>\n      <td>0.0</td>\n      <td>...</td>\n      <td>0.0</td>\n      <td>1.0</td>\n      <td>59.0</td>\n      <td>4.0</td>\n      <td>1155.0</td>\n      <td>-88.0</td>\n      <td>19.576271</td>\n      <td>-1.491525</td>\n      <td>2.627119</td>\n      <td>1.0</td>\n    </tr>\n    <tr>\n      <th>3</th>\n      <td>31</td>\n      <td>1.0</td>\n      <td>2.0</td>\n      <td>479.0</td>\n      <td>961.0</td>\n      <td>0.0</td>\n      <td>6.0</td>\n      <td>Substitution</td>\n      <td>1.0</td>\n      <td>0.0</td>\n      <td>...</td>\n      <td>0.0</td>\n      <td>1.0</td>\n      <td>59.0</td>\n      <td>4.0</td>\n      <td>1155.0</td>\n      <td>-88.0</td>\n      <td>19.576271</td>\n      <td>-1.491525</td>\n      <td>2.627119</td>\n      <td>1.0</td>\n    </tr>\n    <tr>\n      <th>4</th>\n      <td>31</td>\n      <td>1.0</td>\n      <td>2.0</td>\n      <td>465.0</td>\n      <td>975.0</td>\n      <td>0.0</td>\n      <td>4.0</td>\n      <td>Field Goal Made</td>\n      <td>1.0</td>\n      <td>0.0</td>\n      <td>...</td>\n      <td>0.0</td>\n      <td>1.0</td>\n      <td>59.0</td>\n      <td>4.0</td>\n      <td>1155.0</td>\n      <td>-88.0</td>\n      <td>19.576271</td>\n      <td>-1.491525</td>\n      <td>2.627119</td>\n      <td>1.0</td>\n    </tr>\n    <tr>\n      <th>...</th>\n      <td>...</td>\n      <td>...</td>\n      <td>...</td>\n      <td>...</td>\n      <td>...</td>\n      <td>...</td>\n      <td>...</td>\n      <td>...</td>\n      <td>...</td>\n      <td>...</td>\n      <td>...</td>\n      <td>...</td>\n      <td>...</td>\n      <td>...</td>\n      <td>...</td>\n      <td>...</td>\n      <td>...</td>\n      <td>...</td>\n      <td>...</td>\n      <td>...</td>\n      <td>...</td>\n    </tr>\n    <tr>\n      <th>585045</th>\n      <td>1274</td>\n      <td>1.0</td>\n      <td>3.0</td>\n      <td>108.0</td>\n      <td>2052.0</td>\n      <td>0.0</td>\n      <td>5.0</td>\n      <td>Foul</td>\n      <td>26.0</td>\n      <td>13.0</td>\n      <td>...</td>\n      <td>0.0</td>\n      <td>1.0</td>\n      <td>2.0</td>\n      <td>0.0</td>\n      <td>28.0</td>\n      <td>10.0</td>\n      <td>14.000000</td>\n      <td>5.000000</td>\n      <td>1.500000</td>\n      <td>0.0</td>\n    </tr>\n    <tr>\n      <th>585046</th>\n      <td>1274</td>\n      <td>1.0</td>\n      <td>3.0</td>\n      <td>108.0</td>\n      <td>2052.0</td>\n      <td>1.0</td>\n      <td>6.0</td>\n      <td>Free Throw Made</td>\n      <td>26.0</td>\n      <td>13.0</td>\n      <td>...</td>\n      <td>0.0</td>\n      <td>1.0</td>\n      <td>2.0</td>\n      <td>0.0</td>\n      <td>28.0</td>\n      <td>10.0</td>\n      <td>14.000000</td>\n      <td>5.000000</td>\n      <td>1.500000</td>\n      <td>0.0</td>\n    </tr>\n    <tr>\n      <th>585047</th>\n      <td>1274</td>\n      <td>1.0</td>\n      <td>3.0</td>\n      <td>108.0</td>\n      <td>2052.0</td>\n      <td>0.0</td>\n      <td>6.0</td>\n      <td>Substitution</td>\n      <td>26.0</td>\n      <td>13.0</td>\n      <td>...</td>\n      <td>0.0</td>\n      <td>1.0</td>\n      <td>2.0</td>\n      <td>0.0</td>\n      <td>28.0</td>\n      <td>10.0</td>\n      <td>14.000000</td>\n      <td>5.000000</td>\n      <td>1.500000</td>\n      <td>0.0</td>\n    </tr>\n    <tr>\n      <th>585048</th>\n      <td>1274</td>\n      <td>1.0</td>\n      <td>3.0</td>\n      <td>108.0</td>\n      <td>2052.0</td>\n      <td>1.0</td>\n      <td>6.0</td>\n      <td>Substitution</td>\n      <td>26.0</td>\n      <td>13.0</td>\n      <td>...</td>\n      <td>0.0</td>\n      <td>1.0</td>\n      <td>2.0</td>\n      <td>0.0</td>\n      <td>28.0</td>\n      <td>10.0</td>\n      <td>14.000000</td>\n      <td>5.000000</td>\n      <td>1.500000</td>\n      <td>0.0</td>\n    </tr>\n    <tr>\n      <th>585049</th>\n      <td>1274</td>\n      <td>1.0</td>\n      <td>3.0</td>\n      <td>194.0</td>\n      <td>1966.0</td>\n      <td>1.0</td>\n      <td>7.0</td>\n      <td>Substitution</td>\n      <td>26.0</td>\n      <td>13.0</td>\n      <td>...</td>\n      <td>0.0</td>\n      <td>1.0</td>\n      <td>2.0</td>\n      <td>0.0</td>\n      <td>28.0</td>\n      <td>10.0</td>\n      <td>14.000000</td>\n      <td>5.000000</td>\n      <td>1.500000</td>\n      <td>0.0</td>\n    </tr>\n  </tbody>\n</table>\n<p>585050 rows × 326 columns</p>\n</div>"
     },
     "metadata": {},
     "execution_count": 19
    }
   ],
   "source": [
    "data_2016_path = Path(\"../../data/nba/aws-win-prob-data/2016.csv\")\n",
    "df_2016 = pd.read_csv(data_2016_path)\n",
    "df_2016"
   ]
  },
  {
   "cell_type": "code",
   "execution_count": null,
   "metadata": {},
   "outputs": [],
   "source": []
  }
 ]
}