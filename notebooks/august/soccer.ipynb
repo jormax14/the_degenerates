{
 "metadata": {
  "language_info": {
   "codemirror_mode": {
    "name": "ipython",
    "version": 3
   },
   "file_extension": ".py",
   "mimetype": "text/x-python",
   "name": "python",
   "nbconvert_exporter": "python",
   "pygments_lexer": "ipython3",
   "version": "3.7.9-final"
  },
  "orig_nbformat": 2,
  "kernelspec": {
   "name": "python3",
   "display_name": "Python 3",
   "language": "python"
  }
 },
 "nbformat": 4,
 "nbformat_minor": 2,
 "cells": [
  {
   "cell_type": "code",
   "execution_count": 16,
   "metadata": {},
   "outputs": [],
   "source": [
    "import pandas as pd \n",
    "import numpy as np \n",
    "import requests, json\n",
    "from pathlib import Path \n",
    "from os import listdir\n",
    "from os.path import isfile, join"
   ]
  },
  {
   "cell_type": "code",
   "execution_count": 2,
   "metadata": {},
   "outputs": [],
   "source": [
    "teamIDs_path = Path(\"../../data/premier_league/teamIDs.csv\")\n",
    "leagueIDs_path = Path(\"../../data/premier_league/leagueIDs.csv\")"
   ]
  },
  {
   "cell_type": "code",
   "execution_count": 3,
   "metadata": {},
   "outputs": [],
   "source": [
    "teamIDs_df = pd.read_csv(teamIDs_path)\n",
    "leagueIDs_df = pd.read_csv(leagueIDs_path)\n",
    "eplIDs_df = leagueIDs_df[leagueIDs_df.League == \"Premier League\"]"
   ]
  },
  {
   "cell_type": "code",
   "execution_count": 4,
   "metadata": {},
   "outputs": [
    {
     "output_type": "execute_result",
     "data": {
      "text/plain": [
       "      Season          League\n",
       "ID                          \n",
       "700     2011  Premier League\n",
       "699     2012  Premier League\n",
       "698     2013  Premier League\n",
       "697     2014  Premier League\n",
       "696     2015  Premier League\n",
       "56      2016  Premier League\n",
       "37      2017  Premier League\n",
       "2       2018  Premier League\n",
       "524     2019  Premier League\n",
       "2790    2020  Premier League"
      ],
      "text/html": "<div>\n<style scoped>\n    .dataframe tbody tr th:only-of-type {\n        vertical-align: middle;\n    }\n\n    .dataframe tbody tr th {\n        vertical-align: top;\n    }\n\n    .dataframe thead th {\n        text-align: right;\n    }\n</style>\n<table border=\"1\" class=\"dataframe\">\n  <thead>\n    <tr style=\"text-align: right;\">\n      <th></th>\n      <th>Season</th>\n      <th>League</th>\n    </tr>\n    <tr>\n      <th>ID</th>\n      <th></th>\n      <th></th>\n    </tr>\n  </thead>\n  <tbody>\n    <tr>\n      <th>700</th>\n      <td>2011</td>\n      <td>Premier League</td>\n    </tr>\n    <tr>\n      <th>699</th>\n      <td>2012</td>\n      <td>Premier League</td>\n    </tr>\n    <tr>\n      <th>698</th>\n      <td>2013</td>\n      <td>Premier League</td>\n    </tr>\n    <tr>\n      <th>697</th>\n      <td>2014</td>\n      <td>Premier League</td>\n    </tr>\n    <tr>\n      <th>696</th>\n      <td>2015</td>\n      <td>Premier League</td>\n    </tr>\n    <tr>\n      <th>56</th>\n      <td>2016</td>\n      <td>Premier League</td>\n    </tr>\n    <tr>\n      <th>37</th>\n      <td>2017</td>\n      <td>Premier League</td>\n    </tr>\n    <tr>\n      <th>2</th>\n      <td>2018</td>\n      <td>Premier League</td>\n    </tr>\n    <tr>\n      <th>524</th>\n      <td>2019</td>\n      <td>Premier League</td>\n    </tr>\n    <tr>\n      <th>2790</th>\n      <td>2020</td>\n      <td>Premier League</td>\n    </tr>\n  </tbody>\n</table>\n</div>"
     },
     "metadata": {},
     "execution_count": 4
    }
   ],
   "source": [
    "eplIDs_df.set_index(\"ID\", drop=True, inplace=True)\n",
    "eplIDs_df"
   ]
  },
  {
   "cell_type": "code",
   "execution_count": 5,
   "metadata": {},
   "outputs": [
    {
     "output_type": "execute_result",
     "data": {
      "text/plain": [
       "                   Team\n",
       "ID                     \n",
       "33    Manchester United\n",
       "34            Newcastle\n",
       "35          Bournemouth\n",
       "36               Fulham\n",
       "37         Huddersfield\n",
       "38              Watford\n",
       "39               Wolves\n",
       "40            Liverpool\n",
       "41          Southampton\n",
       "42              Arsenal\n",
       "43              Cardiff\n",
       "44              Burnley\n",
       "45              Everton\n",
       "46            Leicester\n",
       "47            Tottenham\n",
       "48             West Ham\n",
       "49              Chelsea\n",
       "50      Manchester City\n",
       "51             Brighton\n",
       "52       Crystal Palace\n",
       "53              Reading\n",
       "60            West Brom\n",
       "61                Wigan\n",
       "62        Sheffield Utd\n",
       "63                Leeds\n",
       "64            Hull City\n",
       "66          Aston Villa\n",
       "68               Bolton\n",
       "70        Middlesbrough\n",
       "71              Norwich\n",
       "72                  QPR\n",
       "75           Stoke City\n",
       "76              Swansea\n",
       "746          Sunderland\n",
       "1356          Blackpool"
      ],
      "text/html": "<div>\n<style scoped>\n    .dataframe tbody tr th:only-of-type {\n        vertical-align: middle;\n    }\n\n    .dataframe tbody tr th {\n        vertical-align: top;\n    }\n\n    .dataframe thead th {\n        text-align: right;\n    }\n</style>\n<table border=\"1\" class=\"dataframe\">\n  <thead>\n    <tr style=\"text-align: right;\">\n      <th></th>\n      <th>Team</th>\n    </tr>\n    <tr>\n      <th>ID</th>\n      <th></th>\n    </tr>\n  </thead>\n  <tbody>\n    <tr>\n      <th>33</th>\n      <td>Manchester United</td>\n    </tr>\n    <tr>\n      <th>34</th>\n      <td>Newcastle</td>\n    </tr>\n    <tr>\n      <th>35</th>\n      <td>Bournemouth</td>\n    </tr>\n    <tr>\n      <th>36</th>\n      <td>Fulham</td>\n    </tr>\n    <tr>\n      <th>37</th>\n      <td>Huddersfield</td>\n    </tr>\n    <tr>\n      <th>38</th>\n      <td>Watford</td>\n    </tr>\n    <tr>\n      <th>39</th>\n      <td>Wolves</td>\n    </tr>\n    <tr>\n      <th>40</th>\n      <td>Liverpool</td>\n    </tr>\n    <tr>\n      <th>41</th>\n      <td>Southampton</td>\n    </tr>\n    <tr>\n      <th>42</th>\n      <td>Arsenal</td>\n    </tr>\n    <tr>\n      <th>43</th>\n      <td>Cardiff</td>\n    </tr>\n    <tr>\n      <th>44</th>\n      <td>Burnley</td>\n    </tr>\n    <tr>\n      <th>45</th>\n      <td>Everton</td>\n    </tr>\n    <tr>\n      <th>46</th>\n      <td>Leicester</td>\n    </tr>\n    <tr>\n      <th>47</th>\n      <td>Tottenham</td>\n    </tr>\n    <tr>\n      <th>48</th>\n      <td>West Ham</td>\n    </tr>\n    <tr>\n      <th>49</th>\n      <td>Chelsea</td>\n    </tr>\n    <tr>\n      <th>50</th>\n      <td>Manchester City</td>\n    </tr>\n    <tr>\n      <th>51</th>\n      <td>Brighton</td>\n    </tr>\n    <tr>\n      <th>52</th>\n      <td>Crystal Palace</td>\n    </tr>\n    <tr>\n      <th>53</th>\n      <td>Reading</td>\n    </tr>\n    <tr>\n      <th>60</th>\n      <td>West Brom</td>\n    </tr>\n    <tr>\n      <th>61</th>\n      <td>Wigan</td>\n    </tr>\n    <tr>\n      <th>62</th>\n      <td>Sheffield Utd</td>\n    </tr>\n    <tr>\n      <th>63</th>\n      <td>Leeds</td>\n    </tr>\n    <tr>\n      <th>64</th>\n      <td>Hull City</td>\n    </tr>\n    <tr>\n      <th>66</th>\n      <td>Aston Villa</td>\n    </tr>\n    <tr>\n      <th>68</th>\n      <td>Bolton</td>\n    </tr>\n    <tr>\n      <th>70</th>\n      <td>Middlesbrough</td>\n    </tr>\n    <tr>\n      <th>71</th>\n      <td>Norwich</td>\n    </tr>\n    <tr>\n      <th>72</th>\n      <td>QPR</td>\n    </tr>\n    <tr>\n      <th>75</th>\n      <td>Stoke City</td>\n    </tr>\n    <tr>\n      <th>76</th>\n      <td>Swansea</td>\n    </tr>\n    <tr>\n      <th>746</th>\n      <td>Sunderland</td>\n    </tr>\n    <tr>\n      <th>1356</th>\n      <td>Blackpool</td>\n    </tr>\n  </tbody>\n</table>\n</div>"
     },
     "metadata": {},
     "execution_count": 5
    }
   ],
   "source": [
    "teamIDs_df.set_index(\"ID\", drop=True, inplace=True)\n",
    "teamIDs_df"
   ]
  },
  {
   "cell_type": "code",
   "execution_count": 13,
   "metadata": {},
   "outputs": [],
   "source": [
    "for x in teamIDs_df.index:\n",
    "    dump_path = Path(f\"../../data/premier_league/team_fixtures_2016/{x}_2016.csv\")\n",
    "    url_addr = f\"https://api-football-v1.p.rapidapi.com/v2/fixtures/team/{x}/56\"\n",
    "    headers = {\n",
    "        'x-rapidapi-key': \"3e890f9c4fmshbac87f967184a81p162525jsn1b11c02653ba\",\n",
    "        'x-rapidapi-host': \"api-football-v1.p.rapidapi.com\"\n",
    "    }\n",
    "    raw_data = requests.request(\"GET\", url_addr, headers=headers)\n",
    "    r_json = raw_data.json()\n",
    "    if r_json['api']['results'] != 0:\n",
    "        game_df = pd.DataFrame(r_json['api']['fixtures'])\n",
    "        game_df.to_csv(dump_path)"
   ]
  },
  {
   "cell_type": "code",
   "execution_count": 71,
   "metadata": {},
   "outputs": [],
   "source": [
    "thfc_2016_fixtures_path = Path(\"../../data/premier_league/team_fixtures_2016/47_2016.csv\")\n",
    "thfc_fixtures_df = pd.read_csv(thfc_2016_fixtures_path)\n",
    "ht_scores = []\n",
    "ft_scores = []\n",
    "for x in thfc_fixtures_df.index:\n",
    "    thfc_fixtures_df.league[x] = json.loads(thfc_fixtures_df.league[x].replace(\"\\'\", \"\\\"\"))['name']\n",
    "    thfc_fixtures_df.homeTeam[x] = json.loads(thfc_fixtures_df.homeTeam[x].replace(\"\\'\", \"\\\"\"))['team_id']\n",
    "    thfc_fixtures_df.awayTeam[x] = json.loads(thfc_fixtures_df.awayTeam[x].replace(\"\\'\", \"\\\"\"))['team_id']"
   ]
  },
  {
   "cell_type": "code",
   "execution_count": 138,
   "metadata": {},
   "outputs": [
    {
     "output_type": "execute_result",
     "data": {
      "text/plain": [
       "['\"halftime\": \"0-0\"',\n",
       " ' \"fulltime\": \"1-0\"',\n",
       " ' \"extratime\": None',\n",
       " ' \"penalty\": None']"
      ]
     },
     "metadata": {},
     "execution_count": 138
    }
   ],
   "source": [
    "vl = thfc_fixtures_df.score[1].replace(\"\\'\", \"\\\"\").strip('{,}').split(',')\n",
    "vl"
   ]
  },
  {
   "cell_type": "code",
   "execution_count": 20,
   "metadata": {},
   "outputs": [
    {
     "output_type": "execute_result",
     "data": {
      "text/plain": [
       "['33_2016.csv',\n",
       " '35_2016.csv',\n",
       " '38_2016.csv',\n",
       " '40_2016.csv',\n",
       " '41_2016.csv',\n",
       " '42_2016.csv',\n",
       " '44_2016.csv',\n",
       " '45_2016.csv',\n",
       " '46_2016.csv',\n",
       " '47_2016.csv',\n",
       " '48_2016.csv',\n",
       " '49_2016.csv',\n",
       " '50_2016.csv',\n",
       " '52_2016.csv',\n",
       " '60_2016.csv',\n",
       " '64_2016.csv',\n",
       " '70_2016.csv',\n",
       " '746_2016.csv',\n",
       " '75_2016.csv',\n",
       " '76_2016.csv']"
      ]
     },
     "metadata": {},
     "execution_count": 20
    }
   ],
   "source": [
    "fixture_path = Path(\"../../data/premier_league/team_fixtures_2016\")\n",
    "onlyfiles = [f for f in listdir(fixture_path) if isfile(join(fixture_path, f))]\n",
    "onlyfiles"
   ]
  },
  {
   "cell_type": "code",
   "execution_count": null,
   "metadata": {},
   "outputs": [],
   "source": []
  }
 ]
}