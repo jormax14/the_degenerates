{
 "metadata": {
  "language_info": {
   "codemirror_mode": {
    "name": "ipython",
    "version": 3
   },
   "file_extension": ".py",
   "mimetype": "text/x-python",
   "name": "python",
   "nbconvert_exporter": "python",
   "pygments_lexer": "ipython3",
   "version": "3.7.9-final"
  },
  "orig_nbformat": 2,
  "kernelspec": {
   "name": "python3",
   "display_name": "Python 3",
   "language": "python"
  }
 },
 "nbformat": 4,
 "nbformat_minor": 2,
 "cells": [
  {
   "cell_type": "code",
   "execution_count": 19,
   "metadata": {},
   "outputs": [],
   "source": [
    "import pandas as pd \n",
    "import numpy as np \n",
    "import requests, json\n",
    "from pathlib import Path \n",
    "from os import listdir\n",
    "from os.path import isfile, join"
   ]
  },
  {
   "cell_type": "code",
   "execution_count": 20,
   "metadata": {},
   "outputs": [],
   "source": [
    "teamIDs_path = Path(\"../../data/premier_league/teamIDs.csv\")\n",
    "leagueIDs_path = Path(\"../../data/premier_league/leagueIDs.csv\")"
   ]
  },
  {
   "cell_type": "code",
   "execution_count": 21,
   "metadata": {},
   "outputs": [],
   "source": [
    "teamIDs_df = pd.read_csv(teamIDs_path)\n",
    "leagueIDs_df = pd.read_csv(leagueIDs_path)\n",
    "eplIDs_df = leagueIDs_df[leagueIDs_df.League == \"Premier League\"]"
   ]
  },
  {
   "cell_type": "code",
   "execution_count": 22,
   "metadata": {},
   "outputs": [
    {
     "output_type": "execute_result",
     "data": {
      "text/plain": [
       "      Season          League\n",
       "ID                          \n",
       "700     2011  Premier League\n",
       "699     2012  Premier League\n",
       "698     2013  Premier League\n",
       "697     2014  Premier League\n",
       "696     2015  Premier League\n",
       "56      2016  Premier League\n",
       "37      2017  Premier League\n",
       "2       2018  Premier League\n",
       "524     2019  Premier League\n",
       "2790    2020  Premier League"
      ],
      "text/html": "<div>\n<style scoped>\n    .dataframe tbody tr th:only-of-type {\n        vertical-align: middle;\n    }\n\n    .dataframe tbody tr th {\n        vertical-align: top;\n    }\n\n    .dataframe thead th {\n        text-align: right;\n    }\n</style>\n<table border=\"1\" class=\"dataframe\">\n  <thead>\n    <tr style=\"text-align: right;\">\n      <th></th>\n      <th>Season</th>\n      <th>League</th>\n    </tr>\n    <tr>\n      <th>ID</th>\n      <th></th>\n      <th></th>\n    </tr>\n  </thead>\n  <tbody>\n    <tr>\n      <th>700</th>\n      <td>2011</td>\n      <td>Premier League</td>\n    </tr>\n    <tr>\n      <th>699</th>\n      <td>2012</td>\n      <td>Premier League</td>\n    </tr>\n    <tr>\n      <th>698</th>\n      <td>2013</td>\n      <td>Premier League</td>\n    </tr>\n    <tr>\n      <th>697</th>\n      <td>2014</td>\n      <td>Premier League</td>\n    </tr>\n    <tr>\n      <th>696</th>\n      <td>2015</td>\n      <td>Premier League</td>\n    </tr>\n    <tr>\n      <th>56</th>\n      <td>2016</td>\n      <td>Premier League</td>\n    </tr>\n    <tr>\n      <th>37</th>\n      <td>2017</td>\n      <td>Premier League</td>\n    </tr>\n    <tr>\n      <th>2</th>\n      <td>2018</td>\n      <td>Premier League</td>\n    </tr>\n    <tr>\n      <th>524</th>\n      <td>2019</td>\n      <td>Premier League</td>\n    </tr>\n    <tr>\n      <th>2790</th>\n      <td>2020</td>\n      <td>Premier League</td>\n    </tr>\n  </tbody>\n</table>\n</div>"
     },
     "metadata": {},
     "execution_count": 22
    }
   ],
   "source": [
    "eplIDs_df.set_index(\"ID\", drop=True, inplace=True)\n",
    "eplIDs_df"
   ]
  },
  {
   "cell_type": "code",
   "execution_count": 23,
   "metadata": {},
   "outputs": [
    {
     "output_type": "execute_result",
     "data": {
      "text/plain": [
       "                   Team\n",
       "ID                     \n",
       "33    Manchester United\n",
       "34            Newcastle\n",
       "35          Bournemouth\n",
       "36               Fulham\n",
       "37         Huddersfield\n",
       "38              Watford\n",
       "39               Wolves\n",
       "40            Liverpool\n",
       "41          Southampton\n",
       "42              Arsenal\n",
       "43              Cardiff\n",
       "44              Burnley\n",
       "45              Everton\n",
       "46            Leicester\n",
       "47            Tottenham\n",
       "48             West Ham\n",
       "49              Chelsea\n",
       "50      Manchester City\n",
       "51             Brighton\n",
       "52       Crystal Palace\n",
       "53              Reading\n",
       "60            West Brom\n",
       "61                Wigan\n",
       "62        Sheffield Utd\n",
       "63                Leeds\n",
       "64            Hull City\n",
       "66          Aston Villa\n",
       "68               Bolton\n",
       "70        Middlesbrough\n",
       "71              Norwich\n",
       "72                  QPR\n",
       "75           Stoke City\n",
       "76              Swansea\n",
       "746          Sunderland\n",
       "1356          Blackpool"
      ],
      "text/html": "<div>\n<style scoped>\n    .dataframe tbody tr th:only-of-type {\n        vertical-align: middle;\n    }\n\n    .dataframe tbody tr th {\n        vertical-align: top;\n    }\n\n    .dataframe thead th {\n        text-align: right;\n    }\n</style>\n<table border=\"1\" class=\"dataframe\">\n  <thead>\n    <tr style=\"text-align: right;\">\n      <th></th>\n      <th>Team</th>\n    </tr>\n    <tr>\n      <th>ID</th>\n      <th></th>\n    </tr>\n  </thead>\n  <tbody>\n    <tr>\n      <th>33</th>\n      <td>Manchester United</td>\n    </tr>\n    <tr>\n      <th>34</th>\n      <td>Newcastle</td>\n    </tr>\n    <tr>\n      <th>35</th>\n      <td>Bournemouth</td>\n    </tr>\n    <tr>\n      <th>36</th>\n      <td>Fulham</td>\n    </tr>\n    <tr>\n      <th>37</th>\n      <td>Huddersfield</td>\n    </tr>\n    <tr>\n      <th>38</th>\n      <td>Watford</td>\n    </tr>\n    <tr>\n      <th>39</th>\n      <td>Wolves</td>\n    </tr>\n    <tr>\n      <th>40</th>\n      <td>Liverpool</td>\n    </tr>\n    <tr>\n      <th>41</th>\n      <td>Southampton</td>\n    </tr>\n    <tr>\n      <th>42</th>\n      <td>Arsenal</td>\n    </tr>\n    <tr>\n      <th>43</th>\n      <td>Cardiff</td>\n    </tr>\n    <tr>\n      <th>44</th>\n      <td>Burnley</td>\n    </tr>\n    <tr>\n      <th>45</th>\n      <td>Everton</td>\n    </tr>\n    <tr>\n      <th>46</th>\n      <td>Leicester</td>\n    </tr>\n    <tr>\n      <th>47</th>\n      <td>Tottenham</td>\n    </tr>\n    <tr>\n      <th>48</th>\n      <td>West Ham</td>\n    </tr>\n    <tr>\n      <th>49</th>\n      <td>Chelsea</td>\n    </tr>\n    <tr>\n      <th>50</th>\n      <td>Manchester City</td>\n    </tr>\n    <tr>\n      <th>51</th>\n      <td>Brighton</td>\n    </tr>\n    <tr>\n      <th>52</th>\n      <td>Crystal Palace</td>\n    </tr>\n    <tr>\n      <th>53</th>\n      <td>Reading</td>\n    </tr>\n    <tr>\n      <th>60</th>\n      <td>West Brom</td>\n    </tr>\n    <tr>\n      <th>61</th>\n      <td>Wigan</td>\n    </tr>\n    <tr>\n      <th>62</th>\n      <td>Sheffield Utd</td>\n    </tr>\n    <tr>\n      <th>63</th>\n      <td>Leeds</td>\n    </tr>\n    <tr>\n      <th>64</th>\n      <td>Hull City</td>\n    </tr>\n    <tr>\n      <th>66</th>\n      <td>Aston Villa</td>\n    </tr>\n    <tr>\n      <th>68</th>\n      <td>Bolton</td>\n    </tr>\n    <tr>\n      <th>70</th>\n      <td>Middlesbrough</td>\n    </tr>\n    <tr>\n      <th>71</th>\n      <td>Norwich</td>\n    </tr>\n    <tr>\n      <th>72</th>\n      <td>QPR</td>\n    </tr>\n    <tr>\n      <th>75</th>\n      <td>Stoke City</td>\n    </tr>\n    <tr>\n      <th>76</th>\n      <td>Swansea</td>\n    </tr>\n    <tr>\n      <th>746</th>\n      <td>Sunderland</td>\n    </tr>\n    <tr>\n      <th>1356</th>\n      <td>Blackpool</td>\n    </tr>\n  </tbody>\n</table>\n</div>"
     },
     "metadata": {},
     "execution_count": 23
    }
   ],
   "source": [
    "teamIDs_df.set_index(\"ID\", drop=True, inplace=True)\n",
    "teamIDs_df"
   ]
  },
  {
   "cell_type": "code",
   "execution_count": 24,
   "metadata": {},
   "outputs": [],
   "source": [
    "fixture_columns = [\n",
    "    'fixture_id',\n",
    "    'h_result', \n",
    "    'event_date', \n",
    "    'venue', \n",
    "    'h_team', \n",
    "    'a_team', \n",
    "    'h_halftime_score', \n",
    "    'a_haftime_score', \n",
    "    'h_fulltime_score', \n",
    "    'a_fulltime_score',\n",
    "    'h_shot_on_goal',\n",
    "    'a_shot_on_goal',\n",
    "    'h_shot_off_goal',\n",
    "    'a_shot_off_goal',\n",
    "    'h_total_shots',\n",
    "    'a_total_shots',\n",
    "    'h_blocked_shots',\n",
    "    'a_blocked_shots',\n",
    "    'h_shots_inside_box',\n",
    "    'a_shots_inside_box',\n",
    "    'h_shots_outside_box',\n",
    "    'a_shots_outside_box',\n",
    "    'h_fouls',\n",
    "    'a_fouls',\n",
    "    'h_corner_kicks',\n",
    "    'a_corner_kicks',\n",
    "    'h_offsides',\n",
    "    'a_offsides',\n",
    "    'h_ball_possession',\n",
    "    'a_ball_possession',\n",
    "    'h_yellow_cards',\n",
    "    'a_yellow_cards',\n",
    "    'h_red_cards',\n",
    "    'a_red_cards',\n",
    "    'h_goalkeeper_saves',\n",
    "    'a_goalkeeper_saves',\n",
    "    'h_total_passes',\n",
    "    'a_total_passes',\n",
    "    'h_accurate_passes',\n",
    "    'a_accurate_passes',\n",
    "    'h_pass_percentage',\n",
    "    'a_pass_percentage'\n",
    "]"
   ]
  },
  {
   "cell_type": "code",
   "execution_count": 25,
   "metadata": {},
   "outputs": [],
   "source": [
    "fixtures_df = pd.DataFrame(columns=fixture_columns)"
   ]
  },
  {
   "source": [
    "In the cell below I am getting the API results for a single team and constructing the DataFrame. </br>\n",
    "I was doing this for practice to implement later on to get all team data for each season."
   ],
   "cell_type": "markdown",
   "metadata": {}
  },
  {
   "cell_type": "code",
   "execution_count": 35,
   "metadata": {},
   "outputs": [],
   "source": [
    "url = \"https://api-football-v1.p.rapidapi.com/v2/fixtures/team/47/56\"\n",
    "headers = {\n",
    "    'x-rapidapi-key': \"3e890f9c4fmshbac87f967184a81p162525jsn1b11c02653ba\",\n",
    "    'x-rapidapi-host': \"api-football-v1.p.rapidapi.com\"\n",
    "}\n",
    "res = requests.request(\"GET\", url, headers=headers)\n",
    "jres = res.json()\n",
    "if jres['api']['results'] != 0:\n",
    "    for x in range(jres['api']['results']):\n",
    "        #just take each item you want and convert it as you need now from json to the dataframe\n",
    "        tdf = {\n",
    "            'fixture_id': jres['api']['fixtures'][x]['fixture_id'],\n",
    "            'event_date': jres['api']['fixtures'][x]['event_date'],\n",
    "            'venue': jres['api']['fixtures'][x]['venue'],\n",
    "            'home_team': jres['api']['fixtures'][x]['homeTeam']['team_id'],\n",
    "            'away_team': jres['api']['fixtures'][x]['awayTeam']['team_id'],\n",
    "            'home_halftime_score': jres['api']['fixtures'][x]['score']['halftime'].split('-')[0],\n",
    "            'away_haftime_score': jres['api']['fixtures'][x]['score']['halftime'].split('-')[1],\n",
    "            'home_fulltime_score': jres['api']['fixtures'][x]['score']['fulltime'].split('-')[0],\n",
    "            'away_fulltime_score': jres['api']['fixtures'][x]['score']['fulltime'].split('-')[1]\n",
    "        }\n",
    "        fixtures_df = fixtures_df.append(tdf, ignore_index=True)"
   ]
  },
  {
   "cell_type": "code",
   "execution_count": 36,
   "metadata": {},
   "outputs": [
    {
     "output_type": "execute_result",
     "data": {
      "text/plain": [
       "   fixture_id                 event_date               venue home_team  \\\n",
       "0       17693  2016-08-13T14:00:00+00:00       Goodison Park        45   \n",
       "1       17682  2016-08-20T14:00:00+00:00     White Hart Lane        47   \n",
       "2       17676  2016-08-27T11:30:00+00:00     White Hart Lane        47   \n",
       "3       17664  2016-09-10T14:00:00+00:00      bet365 Stadium        75   \n",
       "4       17647  2016-09-18T15:30:00+00:00     White Hart Lane        47   \n",
       "5       17642  2016-09-24T14:00:00+00:00           Riverside        70   \n",
       "6       17629  2016-10-02T13:15:00+00:00     White Hart Lane        47   \n",
       "7       17625  2016-10-15T14:00:00+00:00       The Hawthorns        60   \n",
       "8       17616  2016-10-22T11:30:00+00:00    Vitality Stadium        35   \n",
       "9       17603  2016-10-29T14:00:00+00:00     White Hart Lane        47   \n",
       "10      17591  2016-11-06T12:00:00+00:00    Emirates Stadium        42   \n",
       "11      17579  2016-11-19T17:30:00+00:00     White Hart Lane        47   \n",
       "12      17571  2016-11-26T17:30:00+00:00     Stamford Bridge        49   \n",
       "13      17564  2016-12-03T15:00:00+00:00     White Hart Lane        47   \n",
       "14      17548  2016-12-11T14:15:00+00:00        Old Trafford        33   \n",
       "15      17540  2016-12-14T20:00:00+00:00     White Hart Lane        47   \n",
       "16      17529  2016-12-18T16:00:00+00:00     White Hart Lane        47   \n",
       "17      17517  2016-12-28T19:45:00+00:00  St. Mary's Stadium        41   \n",
       "18      17508  2017-01-01T13:30:00+00:00       Vicarage Road        38   \n",
       "19      17497  2017-01-04T20:00:00+00:00     White Hart Lane        47   \n",
       "20      17496  2017-01-14T12:30:00+00:00     White Hart Lane        47   \n",
       "21      17480  2017-01-21T17:30:00+00:00      Etihad Stadium        50   \n",
       "22      17475  2017-01-31T19:45:00+00:00    Stadium of Light       746   \n",
       "23      17459  2017-02-04T17:30:00+00:00     White Hart Lane        47   \n",
       "24      17450  2017-02-11T17:30:00+00:00             Anfield        40   \n",
       "25      17440  2017-02-26T13:30:00+00:00     White Hart Lane        47   \n",
       "26      17431  2017-03-05T13:30:00+00:00     White Hart Lane        47   \n",
       "27      17415  2017-03-19T14:15:00+00:00     White Hart Lane        47   \n",
       "28      17407  2017-04-01T14:00:00+00:00           Turf Moor        44   \n",
       "29      17399  2017-04-05T18:45:00+00:00     Liberty Stadium        76   \n",
       "30      17393  2017-04-08T11:30:00+00:00     White Hart Lane        47   \n",
       "31      17383  2017-04-15T11:30:00+00:00     White Hart Lane        47   \n",
       "32      17364  2017-04-26T19:00:00+00:00       Selhurst Park        52   \n",
       "33      17354  2017-04-30T15:30:00+00:00     White Hart Lane        47   \n",
       "34      17352  2017-05-05T19:00:00+00:00      London Stadium        48   \n",
       "35      17332  2017-05-14T15:30:00+00:00     White Hart Lane        47   \n",
       "36      17327  2017-05-18T18:45:00+00:00  King Power Stadium        46   \n",
       "37      17320  2017-05-21T14:00:00+00:00        KCOM Stadium        64   \n",
       "\n",
       "   away_team home_halftime_score away_haftime_score home_fulltime_score  \\\n",
       "0         47                   1                  0                   1   \n",
       "1         52                   0                  0                   1   \n",
       "2         40                   0                  1                   1   \n",
       "3         47                   0                  1                   0   \n",
       "4        746                   0                  0                   1   \n",
       "5         47                   0                  2                   1   \n",
       "6         50                   2                  0                   2   \n",
       "7         47                   0                  0                   1   \n",
       "8         47                   0                  0                   0   \n",
       "9         46                   1                  0                   1   \n",
       "10        47                   1                  0                   1   \n",
       "11        48                   0                  1                   3   \n",
       "12        47                   1                  1                   2   \n",
       "13        76                   2                  0                   5   \n",
       "14        47                   1                  0                   1   \n",
       "15        64                   1                  0                   3   \n",
       "16        44                   1                  1                   2   \n",
       "17        47                   1                  1                   1   \n",
       "18        47                   0                  3                   1   \n",
       "19        49                   1                  0                   2   \n",
       "20        60                   2                  0                   4   \n",
       "21        47                   0                  0                   2   \n",
       "22        47                   0                  0                   0   \n",
       "23        70                   0                  0                   1   \n",
       "24        47                   2                  0                   2   \n",
       "25        75                   4                  0                   4   \n",
       "26        45                   1                  0                   3   \n",
       "27        41                   2                  0                   2   \n",
       "28        47                   0                  0                   0   \n",
       "29        47                   1                  0                   1   \n",
       "30        38                   3                  0                   4   \n",
       "31        35                   2                  0                   4   \n",
       "32        47                   0                  0                   0   \n",
       "33        42                   0                  0                   2   \n",
       "34        47                   0                  0                   1   \n",
       "35        33                   1                  0                   2   \n",
       "36        47                   0                  2                   1   \n",
       "37        47                   0                  3                   1   \n",
       "\n",
       "   away_fulltime_score  \n",
       "0                    1  \n",
       "1                    0  \n",
       "2                    1  \n",
       "3                    4  \n",
       "4                    0  \n",
       "5                    2  \n",
       "6                    0  \n",
       "7                    1  \n",
       "8                    0  \n",
       "9                    1  \n",
       "10                   1  \n",
       "11                   2  \n",
       "12                   1  \n",
       "13                   0  \n",
       "14                   0  \n",
       "15                   0  \n",
       "16                   1  \n",
       "17                   4  \n",
       "18                   4  \n",
       "19                   0  \n",
       "20                   0  \n",
       "21                   2  \n",
       "22                   0  \n",
       "23                   0  \n",
       "24                   0  \n",
       "25                   0  \n",
       "26                   2  \n",
       "27                   1  \n",
       "28                   2  \n",
       "29                   3  \n",
       "30                   0  \n",
       "31                   0  \n",
       "32                   1  \n",
       "33                   0  \n",
       "34                   0  \n",
       "35                   1  \n",
       "36                   6  \n",
       "37                   7  "
      ],
      "text/html": "<div>\n<style scoped>\n    .dataframe tbody tr th:only-of-type {\n        vertical-align: middle;\n    }\n\n    .dataframe tbody tr th {\n        vertical-align: top;\n    }\n\n    .dataframe thead th {\n        text-align: right;\n    }\n</style>\n<table border=\"1\" class=\"dataframe\">\n  <thead>\n    <tr style=\"text-align: right;\">\n      <th></th>\n      <th>fixture_id</th>\n      <th>event_date</th>\n      <th>venue</th>\n      <th>home_team</th>\n      <th>away_team</th>\n      <th>home_halftime_score</th>\n      <th>away_haftime_score</th>\n      <th>home_fulltime_score</th>\n      <th>away_fulltime_score</th>\n    </tr>\n  </thead>\n  <tbody>\n    <tr>\n      <th>0</th>\n      <td>17693</td>\n      <td>2016-08-13T14:00:00+00:00</td>\n      <td>Goodison Park</td>\n      <td>45</td>\n      <td>47</td>\n      <td>1</td>\n      <td>0</td>\n      <td>1</td>\n      <td>1</td>\n    </tr>\n    <tr>\n      <th>1</th>\n      <td>17682</td>\n      <td>2016-08-20T14:00:00+00:00</td>\n      <td>White Hart Lane</td>\n      <td>47</td>\n      <td>52</td>\n      <td>0</td>\n      <td>0</td>\n      <td>1</td>\n      <td>0</td>\n    </tr>\n    <tr>\n      <th>2</th>\n      <td>17676</td>\n      <td>2016-08-27T11:30:00+00:00</td>\n      <td>White Hart Lane</td>\n      <td>47</td>\n      <td>40</td>\n      <td>0</td>\n      <td>1</td>\n      <td>1</td>\n      <td>1</td>\n    </tr>\n    <tr>\n      <th>3</th>\n      <td>17664</td>\n      <td>2016-09-10T14:00:00+00:00</td>\n      <td>bet365 Stadium</td>\n      <td>75</td>\n      <td>47</td>\n      <td>0</td>\n      <td>1</td>\n      <td>0</td>\n      <td>4</td>\n    </tr>\n    <tr>\n      <th>4</th>\n      <td>17647</td>\n      <td>2016-09-18T15:30:00+00:00</td>\n      <td>White Hart Lane</td>\n      <td>47</td>\n      <td>746</td>\n      <td>0</td>\n      <td>0</td>\n      <td>1</td>\n      <td>0</td>\n    </tr>\n    <tr>\n      <th>5</th>\n      <td>17642</td>\n      <td>2016-09-24T14:00:00+00:00</td>\n      <td>Riverside</td>\n      <td>70</td>\n      <td>47</td>\n      <td>0</td>\n      <td>2</td>\n      <td>1</td>\n      <td>2</td>\n    </tr>\n    <tr>\n      <th>6</th>\n      <td>17629</td>\n      <td>2016-10-02T13:15:00+00:00</td>\n      <td>White Hart Lane</td>\n      <td>47</td>\n      <td>50</td>\n      <td>2</td>\n      <td>0</td>\n      <td>2</td>\n      <td>0</td>\n    </tr>\n    <tr>\n      <th>7</th>\n      <td>17625</td>\n      <td>2016-10-15T14:00:00+00:00</td>\n      <td>The Hawthorns</td>\n      <td>60</td>\n      <td>47</td>\n      <td>0</td>\n      <td>0</td>\n      <td>1</td>\n      <td>1</td>\n    </tr>\n    <tr>\n      <th>8</th>\n      <td>17616</td>\n      <td>2016-10-22T11:30:00+00:00</td>\n      <td>Vitality Stadium</td>\n      <td>35</td>\n      <td>47</td>\n      <td>0</td>\n      <td>0</td>\n      <td>0</td>\n      <td>0</td>\n    </tr>\n    <tr>\n      <th>9</th>\n      <td>17603</td>\n      <td>2016-10-29T14:00:00+00:00</td>\n      <td>White Hart Lane</td>\n      <td>47</td>\n      <td>46</td>\n      <td>1</td>\n      <td>0</td>\n      <td>1</td>\n      <td>1</td>\n    </tr>\n    <tr>\n      <th>10</th>\n      <td>17591</td>\n      <td>2016-11-06T12:00:00+00:00</td>\n      <td>Emirates Stadium</td>\n      <td>42</td>\n      <td>47</td>\n      <td>1</td>\n      <td>0</td>\n      <td>1</td>\n      <td>1</td>\n    </tr>\n    <tr>\n      <th>11</th>\n      <td>17579</td>\n      <td>2016-11-19T17:30:00+00:00</td>\n      <td>White Hart Lane</td>\n      <td>47</td>\n      <td>48</td>\n      <td>0</td>\n      <td>1</td>\n      <td>3</td>\n      <td>2</td>\n    </tr>\n    <tr>\n      <th>12</th>\n      <td>17571</td>\n      <td>2016-11-26T17:30:00+00:00</td>\n      <td>Stamford Bridge</td>\n      <td>49</td>\n      <td>47</td>\n      <td>1</td>\n      <td>1</td>\n      <td>2</td>\n      <td>1</td>\n    </tr>\n    <tr>\n      <th>13</th>\n      <td>17564</td>\n      <td>2016-12-03T15:00:00+00:00</td>\n      <td>White Hart Lane</td>\n      <td>47</td>\n      <td>76</td>\n      <td>2</td>\n      <td>0</td>\n      <td>5</td>\n      <td>0</td>\n    </tr>\n    <tr>\n      <th>14</th>\n      <td>17548</td>\n      <td>2016-12-11T14:15:00+00:00</td>\n      <td>Old Trafford</td>\n      <td>33</td>\n      <td>47</td>\n      <td>1</td>\n      <td>0</td>\n      <td>1</td>\n      <td>0</td>\n    </tr>\n    <tr>\n      <th>15</th>\n      <td>17540</td>\n      <td>2016-12-14T20:00:00+00:00</td>\n      <td>White Hart Lane</td>\n      <td>47</td>\n      <td>64</td>\n      <td>1</td>\n      <td>0</td>\n      <td>3</td>\n      <td>0</td>\n    </tr>\n    <tr>\n      <th>16</th>\n      <td>17529</td>\n      <td>2016-12-18T16:00:00+00:00</td>\n      <td>White Hart Lane</td>\n      <td>47</td>\n      <td>44</td>\n      <td>1</td>\n      <td>1</td>\n      <td>2</td>\n      <td>1</td>\n    </tr>\n    <tr>\n      <th>17</th>\n      <td>17517</td>\n      <td>2016-12-28T19:45:00+00:00</td>\n      <td>St. Mary's Stadium</td>\n      <td>41</td>\n      <td>47</td>\n      <td>1</td>\n      <td>1</td>\n      <td>1</td>\n      <td>4</td>\n    </tr>\n    <tr>\n      <th>18</th>\n      <td>17508</td>\n      <td>2017-01-01T13:30:00+00:00</td>\n      <td>Vicarage Road</td>\n      <td>38</td>\n      <td>47</td>\n      <td>0</td>\n      <td>3</td>\n      <td>1</td>\n      <td>4</td>\n    </tr>\n    <tr>\n      <th>19</th>\n      <td>17497</td>\n      <td>2017-01-04T20:00:00+00:00</td>\n      <td>White Hart Lane</td>\n      <td>47</td>\n      <td>49</td>\n      <td>1</td>\n      <td>0</td>\n      <td>2</td>\n      <td>0</td>\n    </tr>\n    <tr>\n      <th>20</th>\n      <td>17496</td>\n      <td>2017-01-14T12:30:00+00:00</td>\n      <td>White Hart Lane</td>\n      <td>47</td>\n      <td>60</td>\n      <td>2</td>\n      <td>0</td>\n      <td>4</td>\n      <td>0</td>\n    </tr>\n    <tr>\n      <th>21</th>\n      <td>17480</td>\n      <td>2017-01-21T17:30:00+00:00</td>\n      <td>Etihad Stadium</td>\n      <td>50</td>\n      <td>47</td>\n      <td>0</td>\n      <td>0</td>\n      <td>2</td>\n      <td>2</td>\n    </tr>\n    <tr>\n      <th>22</th>\n      <td>17475</td>\n      <td>2017-01-31T19:45:00+00:00</td>\n      <td>Stadium of Light</td>\n      <td>746</td>\n      <td>47</td>\n      <td>0</td>\n      <td>0</td>\n      <td>0</td>\n      <td>0</td>\n    </tr>\n    <tr>\n      <th>23</th>\n      <td>17459</td>\n      <td>2017-02-04T17:30:00+00:00</td>\n      <td>White Hart Lane</td>\n      <td>47</td>\n      <td>70</td>\n      <td>0</td>\n      <td>0</td>\n      <td>1</td>\n      <td>0</td>\n    </tr>\n    <tr>\n      <th>24</th>\n      <td>17450</td>\n      <td>2017-02-11T17:30:00+00:00</td>\n      <td>Anfield</td>\n      <td>40</td>\n      <td>47</td>\n      <td>2</td>\n      <td>0</td>\n      <td>2</td>\n      <td>0</td>\n    </tr>\n    <tr>\n      <th>25</th>\n      <td>17440</td>\n      <td>2017-02-26T13:30:00+00:00</td>\n      <td>White Hart Lane</td>\n      <td>47</td>\n      <td>75</td>\n      <td>4</td>\n      <td>0</td>\n      <td>4</td>\n      <td>0</td>\n    </tr>\n    <tr>\n      <th>26</th>\n      <td>17431</td>\n      <td>2017-03-05T13:30:00+00:00</td>\n      <td>White Hart Lane</td>\n      <td>47</td>\n      <td>45</td>\n      <td>1</td>\n      <td>0</td>\n      <td>3</td>\n      <td>2</td>\n    </tr>\n    <tr>\n      <th>27</th>\n      <td>17415</td>\n      <td>2017-03-19T14:15:00+00:00</td>\n      <td>White Hart Lane</td>\n      <td>47</td>\n      <td>41</td>\n      <td>2</td>\n      <td>0</td>\n      <td>2</td>\n      <td>1</td>\n    </tr>\n    <tr>\n      <th>28</th>\n      <td>17407</td>\n      <td>2017-04-01T14:00:00+00:00</td>\n      <td>Turf Moor</td>\n      <td>44</td>\n      <td>47</td>\n      <td>0</td>\n      <td>0</td>\n      <td>0</td>\n      <td>2</td>\n    </tr>\n    <tr>\n      <th>29</th>\n      <td>17399</td>\n      <td>2017-04-05T18:45:00+00:00</td>\n      <td>Liberty Stadium</td>\n      <td>76</td>\n      <td>47</td>\n      <td>1</td>\n      <td>0</td>\n      <td>1</td>\n      <td>3</td>\n    </tr>\n    <tr>\n      <th>30</th>\n      <td>17393</td>\n      <td>2017-04-08T11:30:00+00:00</td>\n      <td>White Hart Lane</td>\n      <td>47</td>\n      <td>38</td>\n      <td>3</td>\n      <td>0</td>\n      <td>4</td>\n      <td>0</td>\n    </tr>\n    <tr>\n      <th>31</th>\n      <td>17383</td>\n      <td>2017-04-15T11:30:00+00:00</td>\n      <td>White Hart Lane</td>\n      <td>47</td>\n      <td>35</td>\n      <td>2</td>\n      <td>0</td>\n      <td>4</td>\n      <td>0</td>\n    </tr>\n    <tr>\n      <th>32</th>\n      <td>17364</td>\n      <td>2017-04-26T19:00:00+00:00</td>\n      <td>Selhurst Park</td>\n      <td>52</td>\n      <td>47</td>\n      <td>0</td>\n      <td>0</td>\n      <td>0</td>\n      <td>1</td>\n    </tr>\n    <tr>\n      <th>33</th>\n      <td>17354</td>\n      <td>2017-04-30T15:30:00+00:00</td>\n      <td>White Hart Lane</td>\n      <td>47</td>\n      <td>42</td>\n      <td>0</td>\n      <td>0</td>\n      <td>2</td>\n      <td>0</td>\n    </tr>\n    <tr>\n      <th>34</th>\n      <td>17352</td>\n      <td>2017-05-05T19:00:00+00:00</td>\n      <td>London Stadium</td>\n      <td>48</td>\n      <td>47</td>\n      <td>0</td>\n      <td>0</td>\n      <td>1</td>\n      <td>0</td>\n    </tr>\n    <tr>\n      <th>35</th>\n      <td>17332</td>\n      <td>2017-05-14T15:30:00+00:00</td>\n      <td>White Hart Lane</td>\n      <td>47</td>\n      <td>33</td>\n      <td>1</td>\n      <td>0</td>\n      <td>2</td>\n      <td>1</td>\n    </tr>\n    <tr>\n      <th>36</th>\n      <td>17327</td>\n      <td>2017-05-18T18:45:00+00:00</td>\n      <td>King Power Stadium</td>\n      <td>46</td>\n      <td>47</td>\n      <td>0</td>\n      <td>2</td>\n      <td>1</td>\n      <td>6</td>\n    </tr>\n    <tr>\n      <th>37</th>\n      <td>17320</td>\n      <td>2017-05-21T14:00:00+00:00</td>\n      <td>KCOM Stadium</td>\n      <td>64</td>\n      <td>47</td>\n      <td>0</td>\n      <td>3</td>\n      <td>1</td>\n      <td>7</td>\n    </tr>\n  </tbody>\n</table>\n</div>"
     },
     "metadata": {},
     "execution_count": 36
    }
   ],
   "source": [
    "fixtures_df"
   ]
  },
  {
   "cell_type": "code",
   "execution_count": 26,
   "metadata": {},
   "outputs": [],
   "source": [
    "def determineIfWinner(home, away):\n",
    "    if home > away:\n",
    "        return 2\n",
    "    elif home == away:\n",
    "        return 1\n",
    "    else:\n",
    "        return 0"
   ]
  },
  {
   "source": [
    "In the cell below I am getting the fixture data for each team for a particular season and creating a dataframe out of it before putting it into a CSV file"
   ],
   "cell_type": "markdown",
   "metadata": {}
  },
  {
   "cell_type": "code",
   "execution_count": 28,
   "metadata": {},
   "outputs": [],
   "source": [
    "for x in teamIDs_df.index:\n",
    "    dump_path = Path(f\"../../data/premier_league/team_fixtures_2018/{x}_2018.csv\")\n",
    "    url_addr = f\"https://api-football-v1.p.rapidapi.com/v2/fixtures/team/{x}/2\"\n",
    "    headers = {\n",
    "        'x-rapidapi-key': \"3e890f9c4fmshbac87f967184a81p162525jsn1b11c02653ba\",\n",
    "        'x-rapidapi-host': \"api-football-v1.p.rapidapi.com\"\n",
    "    }\n",
    "    raw_data = requests.request(\"GET\", url_addr, headers=headers)\n",
    "    r_json = raw_data.json()\n",
    "    fixtures_df = pd.DataFrame(columns=fixture_columns)\n",
    "    if r_json['api']['results'] != 0:\n",
    "        for x in range(r_json['api']['results']):\n",
    "        #just take each item you want and convert it as you need now from json to the dataframe\n",
    "            fixture_id = r_json['api']['fixtures'][x]['fixture_id']\n",
    "            h_ft_score = int(r_json['api']['fixtures'][x]['score']['fulltime'].split('-')[0])\n",
    "            a_ft_score = int(r_json['api']['fixtures'][x]['score']['fulltime'].split('-')[1])\n",
    "            url_stats = f\"https://api-football-v1.p.rapidapi.com/v2/statistics/fixture/{fixture_id}\"\n",
    "            stat_data = requests.request(\"GET\", url_stats, headers=headers)\n",
    "            stat_json = stat_data.json()\n",
    "            tdf = {\n",
    "                'fixture_id': fixture_id,\n",
    "                'h_result': determineIfWinner(h_ft_score, a_ft_score),\n",
    "                'event_date': r_json['api']['fixtures'][x]['event_date'],\n",
    "                'venue': r_json['api']['fixtures'][x]['venue'],\n",
    "                'h_team': r_json['api']['fixtures'][x]['homeTeam']['team_id'],\n",
    "                'a_team': r_json['api']['fixtures'][x]['awayTeam']['team_id'],\n",
    "                'h_halftime_score': r_json['api']['fixtures'][x]['score']['halftime'].split('-')[0],\n",
    "                'a_haftime_score': r_json['api']['fixtures'][x]['score']['halftime'].split('-')[1],\n",
    "                'h_fulltime_score': r_json['api']['fixtures'][x]['score']['fulltime'].split('-')[0],\n",
    "                'a_fulltime_score': r_json['api']['fixtures'][x]['score']['fulltime'].split('-')[1],\n",
    "                'h_shot_on_goal': stat_json['api']['statistics']['Shots on Goal']['home'],\n",
    "                'a_shot_on_goal': stat_json['api']['statistics']['Shots on Goal']['away'],\n",
    "                'h_shot_off_goal': stat_json['api']['statistics']['Shots off Goal']['home'],\n",
    "                'a_shot_off_goal': stat_json['api']['statistics']['Shots off Goal']['away'],\n",
    "                'h_total_shots': stat_json['api']['statistics']['Total Shots']['home'],\n",
    "                'a_total_shots': stat_json['api']['statistics']['Total Shots']['away'],\n",
    "                'h_blocked_shots': stat_json['api']['statistics']['Blocked Shots']['home'],\n",
    "                'a_blocked_shots': stat_json['api']['statistics']['Blocked Shots']['away'],\n",
    "                'h_shots_inside_box': stat_json['api']['statistics']['Shots insidebox']['home'],\n",
    "                'a_shots_inside_box': stat_json['api']['statistics']['Shots insidebox']['away'],\n",
    "                'h_shots_outside_box': stat_json['api']['statistics']['Shots outsidebox']['home'],\n",
    "                'a_shots_outside_box': stat_json['api']['statistics']['Shots outsidebox']['away'],\n",
    "                'h_fouls': stat_json['api']['statistics']['Fouls']['home'],\n",
    "                'a_fouls': stat_json['api']['statistics']['Fouls']['away'],\n",
    "                'h_corner_kicks': stat_json['api']['statistics']['Corner Kicks']['home'],\n",
    "                'a_corner_kicks': stat_json['api']['statistics']['Corner Kicks']['away'],\n",
    "                'h_offsides': stat_json['api']['statistics']['Offsides']['home'],\n",
    "                'a_offsides': stat_json['api']['statistics']['Offsides']['away'],\n",
    "                'h_ball_possession': stat_json['api']['statistics']['Ball Possession']['home'],\n",
    "                'a_ball_possession': stat_json['api']['statistics']['Ball Possession']['away'],\n",
    "                'h_yellow_cards': stat_json['api']['statistics']['Yellow Cards']['home'],\n",
    "                'a_yellow_cards': stat_json['api']['statistics']['Yellow Cards']['away'],\n",
    "                'h_red_cards': stat_json['api']['statistics']['Red Cards']['home'],\n",
    "                'a_red_cards': stat_json['api']['statistics']['Red Cards']['away'],\n",
    "                'h_goalkeeper_saves': stat_json['api']['statistics']['Goalkeeper Saves']['home'],\n",
    "                'a_goalkeeper_saves': stat_json['api']['statistics']['Goalkeeper Saves']['away'],\n",
    "                'h_total_passes': stat_json['api']['statistics']['Total passes']['home'],\n",
    "                'a_total_passes': stat_json['api']['statistics']['Total passes']['away'],\n",
    "                'h_accurate_passes': stat_json['api']['statistics']['Passes accurate']['home'],\n",
    "                'a_accurate_passes': stat_json['api']['statistics']['Passes accurate']['away'],\n",
    "                'h_pass_percentage': stat_json['api']['statistics']['Passes %']['home'],\n",
    "                'a_pass_percentage': stat_json['api']['statistics']['Passes %']['away']\n",
    "            }\n",
    "            fixtures_df = fixtures_df.append(tdf, ignore_index=True)\n",
    "        fixtures_df.to_csv(dump_path)"
   ]
  },
  {
   "cell_type": "code",
   "execution_count": 60,
   "metadata": {},
   "outputs": [
    {
     "output_type": "execute_result",
     "data": {
      "text/plain": [
       "['33_2016.csv',\n",
       " '35_2016.csv',\n",
       " '38_2016.csv',\n",
       " '40_2016.csv',\n",
       " '41_2016.csv',\n",
       " '42_2016.csv',\n",
       " '44_2016.csv',\n",
       " '45_2016.csv',\n",
       " '46_2016.csv',\n",
       " '47_2016.csv',\n",
       " '48_2016.csv',\n",
       " '49_2016.csv',\n",
       " '50_2016.csv',\n",
       " '52_2016.csv',\n",
       " '60_2016.csv',\n",
       " '64_2016.csv',\n",
       " '70_2016.csv',\n",
       " '746_2016.csv',\n",
       " '75_2016.csv',\n",
       " '76_2016.csv']"
      ]
     },
     "metadata": {},
     "execution_count": 60
    }
   ],
   "source": [
    "fixture_path = Path(\"../../data/premier_league/team_fixtures_2016\")\n",
    "onlyfiles = [f for f in listdir(fixture_path) if isfile(join(fixture_path, f))]\n",
    "onlyfiles"
   ]
  },
  {
   "cell_type": "code",
   "execution_count": 10,
   "metadata": {},
   "outputs": [],
   "source": [
    "url_stats = f\"https://api-football-v1.p.rapidapi.com/v2/statistics/fixture/67\"\n",
    "headers = {\n",
    "    'x-rapidapi-key': \"3e890f9c4fmshbac87f967184a81p162525jsn1b11c02653ba\",\n",
    "    'x-rapidapi-host': \"api-football-v1.p.rapidapi.com\"\n",
    "}\n",
    "stat_data = requests.request(\"GET\", url_stats, headers=headers)\n",
    "stat_json = stat_data.json()"
   ]
  },
  {
   "cell_type": "code",
   "execution_count": 13,
   "metadata": {},
   "outputs": [
    {
     "output_type": "execute_result",
     "data": {
      "text/plain": [
       "'1'"
      ]
     },
     "metadata": {},
     "execution_count": 13
    }
   ],
   "source": [
    "stat_json['api']['statistics']['Shots on Goal']['away']"
   ]
  },
  {
   "cell_type": "code",
   "execution_count": null,
   "metadata": {},
   "outputs": [],
   "source": []
  }
 ]
}