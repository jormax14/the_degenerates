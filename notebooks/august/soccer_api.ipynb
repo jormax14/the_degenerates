{
 "metadata": {
  "language_info": {
   "codemirror_mode": {
    "name": "ipython",
    "version": 3
   },
   "file_extension": ".py",
   "mimetype": "text/x-python",
   "name": "python",
   "nbconvert_exporter": "python",
   "pygments_lexer": "ipython3",
   "version": "3.8.3-final"
  },
  "orig_nbformat": 2,
  "kernelspec": {
   "name": "python3",
   "display_name": "Python 3.8.3 64-bit (conda)",
   "metadata": {
    "interpreter": {
     "hash": "9032458e503ab28519db53568226f597adad35e1b11ccc360aee2243f83ff687"
    }
   }
  }
 },
 "nbformat": 4,
 "nbformat_minor": 2,
 "cells": [
  {
   "cell_type": "code",
   "execution_count": 1,
   "metadata": {},
   "outputs": [],
   "source": [
    "import pandas as pd \n",
    "import numpy as np \n",
    "import requests, json\n",
    "from pathlib import Path \n",
    "from os import listdir\n",
    "from os.path import isfile, join"
   ]
  },
  {
   "cell_type": "code",
   "execution_count": 3,
   "metadata": {},
   "outputs": [],
   "source": [
    "teamIDs_path = Path(\"../../data/premier_league/teamIDs.csv\")\n",
    "leagueIDs_path = Path(\"../../data/premier_league/leagueIDs.csv\")"
   ]
  },
  {
   "cell_type": "code",
   "execution_count": 4,
   "metadata": {},
   "outputs": [],
   "source": [
    "teamIDs_df = pd.read_csv(teamIDs_path)\n",
    "leagueIDs_df = pd.read_csv(leagueIDs_path)\n",
    "eplIDs_df = leagueIDs_df[leagueIDs_df.League == \"Premier League\"]"
   ]
  },
  {
   "cell_type": "code",
   "execution_count": 5,
   "metadata": {},
   "outputs": [
    {
     "output_type": "execute_result",
     "data": {
      "text/plain": [
       "      Season          League Country\n",
       "ID                                  \n",
       "700     2011  Premier League      UK\n",
       "699     2012  Premier League      UK\n",
       "698     2013  Premier League      UK\n",
       "697     2014  Premier League      UK\n",
       "696     2015  Premier League      UK\n",
       "56      2016  Premier League      UK\n",
       "37      2017  Premier League      UK\n",
       "2       2018  Premier League      UK\n",
       "524     2019  Premier League      UK\n",
       "2790    2020  Premier League      UK"
      ],
      "text/html": "<div>\n<style scoped>\n    .dataframe tbody tr th:only-of-type {\n        vertical-align: middle;\n    }\n\n    .dataframe tbody tr th {\n        vertical-align: top;\n    }\n\n    .dataframe thead th {\n        text-align: right;\n    }\n</style>\n<table border=\"1\" class=\"dataframe\">\n  <thead>\n    <tr style=\"text-align: right;\">\n      <th></th>\n      <th>Season</th>\n      <th>League</th>\n      <th>Country</th>\n    </tr>\n    <tr>\n      <th>ID</th>\n      <th></th>\n      <th></th>\n      <th></th>\n    </tr>\n  </thead>\n  <tbody>\n    <tr>\n      <th>700</th>\n      <td>2011</td>\n      <td>Premier League</td>\n      <td>UK</td>\n    </tr>\n    <tr>\n      <th>699</th>\n      <td>2012</td>\n      <td>Premier League</td>\n      <td>UK</td>\n    </tr>\n    <tr>\n      <th>698</th>\n      <td>2013</td>\n      <td>Premier League</td>\n      <td>UK</td>\n    </tr>\n    <tr>\n      <th>697</th>\n      <td>2014</td>\n      <td>Premier League</td>\n      <td>UK</td>\n    </tr>\n    <tr>\n      <th>696</th>\n      <td>2015</td>\n      <td>Premier League</td>\n      <td>UK</td>\n    </tr>\n    <tr>\n      <th>56</th>\n      <td>2016</td>\n      <td>Premier League</td>\n      <td>UK</td>\n    </tr>\n    <tr>\n      <th>37</th>\n      <td>2017</td>\n      <td>Premier League</td>\n      <td>UK</td>\n    </tr>\n    <tr>\n      <th>2</th>\n      <td>2018</td>\n      <td>Premier League</td>\n      <td>UK</td>\n    </tr>\n    <tr>\n      <th>524</th>\n      <td>2019</td>\n      <td>Premier League</td>\n      <td>UK</td>\n    </tr>\n    <tr>\n      <th>2790</th>\n      <td>2020</td>\n      <td>Premier League</td>\n      <td>UK</td>\n    </tr>\n  </tbody>\n</table>\n</div>"
     },
     "metadata": {},
     "execution_count": 5
    }
   ],
   "source": [
    "eplIDs_df.set_index(\"ID\", drop=True, inplace=True)\n",
    "eplIDs_df"
   ]
  },
  {
   "cell_type": "code",
   "execution_count": 6,
   "metadata": {},
   "outputs": [
    {
     "output_type": "execute_result",
     "data": {
      "text/plain": [
       "                   Team\n",
       "ID                     \n",
       "33    Manchester United\n",
       "34            Newcastle\n",
       "35          Bournemouth\n",
       "36               Fulham\n",
       "37         Huddersfield\n",
       "38              Watford\n",
       "39               Wolves\n",
       "40            Liverpool\n",
       "41          Southampton\n",
       "42              Arsenal\n",
       "43              Cardiff\n",
       "44              Burnley\n",
       "45              Everton\n",
       "46            Leicester\n",
       "47            Tottenham\n",
       "48             West Ham\n",
       "49              Chelsea\n",
       "50      Manchester City\n",
       "51             Brighton\n",
       "52       Crystal Palace\n",
       "53              Reading\n",
       "60            West Brom\n",
       "61                Wigan\n",
       "62        Sheffield Utd\n",
       "63                Leeds\n",
       "64            Hull City\n",
       "66          Aston Villa\n",
       "68               Bolton\n",
       "70        Middlesbrough\n",
       "71              Norwich\n",
       "72                  QPR\n",
       "75           Stoke City\n",
       "76              Swansea\n",
       "746          Sunderland\n",
       "1356          Blackpool"
      ],
      "text/html": "<div>\n<style scoped>\n    .dataframe tbody tr th:only-of-type {\n        vertical-align: middle;\n    }\n\n    .dataframe tbody tr th {\n        vertical-align: top;\n    }\n\n    .dataframe thead th {\n        text-align: right;\n    }\n</style>\n<table border=\"1\" class=\"dataframe\">\n  <thead>\n    <tr style=\"text-align: right;\">\n      <th></th>\n      <th>Team</th>\n    </tr>\n    <tr>\n      <th>ID</th>\n      <th></th>\n    </tr>\n  </thead>\n  <tbody>\n    <tr>\n      <th>33</th>\n      <td>Manchester United</td>\n    </tr>\n    <tr>\n      <th>34</th>\n      <td>Newcastle</td>\n    </tr>\n    <tr>\n      <th>35</th>\n      <td>Bournemouth</td>\n    </tr>\n    <tr>\n      <th>36</th>\n      <td>Fulham</td>\n    </tr>\n    <tr>\n      <th>37</th>\n      <td>Huddersfield</td>\n    </tr>\n    <tr>\n      <th>38</th>\n      <td>Watford</td>\n    </tr>\n    <tr>\n      <th>39</th>\n      <td>Wolves</td>\n    </tr>\n    <tr>\n      <th>40</th>\n      <td>Liverpool</td>\n    </tr>\n    <tr>\n      <th>41</th>\n      <td>Southampton</td>\n    </tr>\n    <tr>\n      <th>42</th>\n      <td>Arsenal</td>\n    </tr>\n    <tr>\n      <th>43</th>\n      <td>Cardiff</td>\n    </tr>\n    <tr>\n      <th>44</th>\n      <td>Burnley</td>\n    </tr>\n    <tr>\n      <th>45</th>\n      <td>Everton</td>\n    </tr>\n    <tr>\n      <th>46</th>\n      <td>Leicester</td>\n    </tr>\n    <tr>\n      <th>47</th>\n      <td>Tottenham</td>\n    </tr>\n    <tr>\n      <th>48</th>\n      <td>West Ham</td>\n    </tr>\n    <tr>\n      <th>49</th>\n      <td>Chelsea</td>\n    </tr>\n    <tr>\n      <th>50</th>\n      <td>Manchester City</td>\n    </tr>\n    <tr>\n      <th>51</th>\n      <td>Brighton</td>\n    </tr>\n    <tr>\n      <th>52</th>\n      <td>Crystal Palace</td>\n    </tr>\n    <tr>\n      <th>53</th>\n      <td>Reading</td>\n    </tr>\n    <tr>\n      <th>60</th>\n      <td>West Brom</td>\n    </tr>\n    <tr>\n      <th>61</th>\n      <td>Wigan</td>\n    </tr>\n    <tr>\n      <th>62</th>\n      <td>Sheffield Utd</td>\n    </tr>\n    <tr>\n      <th>63</th>\n      <td>Leeds</td>\n    </tr>\n    <tr>\n      <th>64</th>\n      <td>Hull City</td>\n    </tr>\n    <tr>\n      <th>66</th>\n      <td>Aston Villa</td>\n    </tr>\n    <tr>\n      <th>68</th>\n      <td>Bolton</td>\n    </tr>\n    <tr>\n      <th>70</th>\n      <td>Middlesbrough</td>\n    </tr>\n    <tr>\n      <th>71</th>\n      <td>Norwich</td>\n    </tr>\n    <tr>\n      <th>72</th>\n      <td>QPR</td>\n    </tr>\n    <tr>\n      <th>75</th>\n      <td>Stoke City</td>\n    </tr>\n    <tr>\n      <th>76</th>\n      <td>Swansea</td>\n    </tr>\n    <tr>\n      <th>746</th>\n      <td>Sunderland</td>\n    </tr>\n    <tr>\n      <th>1356</th>\n      <td>Blackpool</td>\n    </tr>\n  </tbody>\n</table>\n</div>"
     },
     "metadata": {},
     "execution_count": 6
    }
   ],
   "source": [
    "teamIDs_df.set_index(\"ID\", drop=True, inplace=True)\n",
    "teamIDs_df"
   ]
  },
  {
   "cell_type": "code",
   "execution_count": 7,
   "metadata": {},
   "outputs": [],
   "source": [
    "fixture_columns = [\n",
    "    'fixture_id',\n",
    "    'h_result', \n",
    "    'event_date', \n",
    "    'venue', \n",
    "    'h_team', \n",
    "    'a_team', \n",
    "    'h_halftime_score', \n",
    "    'a_haftime_score', \n",
    "    'h_fulltime_score', \n",
    "    'a_fulltime_score',\n",
    "    'h_shot_on_goal',\n",
    "    'a_shot_on_goal',\n",
    "    'h_shot_off_goal',\n",
    "    'a_shot_off_goal',\n",
    "    'h_total_shots',\n",
    "    'a_total_shots',\n",
    "    'h_blocked_shots',\n",
    "    'a_blocked_shots',\n",
    "    'h_shots_inside_box',\n",
    "    'a_shots_inside_box',\n",
    "    'h_shots_outside_box',\n",
    "    'a_shots_outside_box',\n",
    "    'h_fouls',\n",
    "    'a_fouls',\n",
    "    'h_corner_kicks',\n",
    "    'a_corner_kicks',\n",
    "    'h_offsides',\n",
    "    'a_offsides',\n",
    "    'h_ball_possession',\n",
    "    'a_ball_possession',\n",
    "    'h_yellow_cards',\n",
    "    'a_yellow_cards',\n",
    "    'h_red_cards',\n",
    "    'a_red_cards',\n",
    "    'h_goalkeeper_saves',\n",
    "    'a_goalkeeper_saves',\n",
    "    'h_total_passes',\n",
    "    'a_total_passes',\n",
    "    'h_accurate_passes',\n",
    "    'a_accurate_passes',\n",
    "    'h_pass_percentage',\n",
    "    'a_pass_percentage'\n",
    "]"
   ]
  },
  {
   "cell_type": "code",
   "execution_count": 8,
   "metadata": {},
   "outputs": [],
   "source": [
    "fixtures_df = pd.DataFrame(columns=fixture_columns)"
   ]
  },
  {
   "source": [
    "In the cell below I am getting the API results for a single team and constructing the DataFrame. </br>\n",
    "I was doing this for practice to implement later on to get all team data for each season."
   ],
   "cell_type": "markdown",
   "metadata": {}
  },
  {
   "cell_type": "code",
   "execution_count": 9,
   "metadata": {},
   "outputs": [],
   "source": [
    "url = \"https://api-football-v1.p.rapidapi.com/v2/fixtures/team/47/56\"\n",
    "headers = {\n",
    "    'x-rapidapi-key': \"3e890f9c4fmshbac87f967184a81p162525jsn1b11c02653ba\",\n",
    "    'x-rapidapi-host': \"api-football-v1.p.rapidapi.com\"\n",
    "}\n",
    "res = requests.request(\"GET\", url, headers=headers)\n",
    "jres = res.json()\n",
    "if jres['api']['results'] != 0:\n",
    "    for x in range(jres['api']['results']):\n",
    "        #just take each item you want and convert it as you need now from json to the dataframe\n",
    "        tdf = {\n",
    "            'fixture_id': jres['api']['fixtures'][x]['fixture_id'],\n",
    "            'event_date': jres['api']['fixtures'][x]['event_date'],\n",
    "            'venue': jres['api']['fixtures'][x]['venue'],\n",
    "            'home_team': jres['api']['fixtures'][x]['homeTeam']['team_id'],\n",
    "            'away_team': jres['api']['fixtures'][x]['awayTeam']['team_id'],\n",
    "            'home_halftime_score': jres['api']['fixtures'][x]['score']['halftime'].split('-')[0],\n",
    "            'away_haftime_score': jres['api']['fixtures'][x]['score']['halftime'].split('-')[1],\n",
    "            'home_fulltime_score': jres['api']['fixtures'][x]['score']['fulltime'].split('-')[0],\n",
    "            'away_fulltime_score': jres['api']['fixtures'][x]['score']['fulltime'].split('-')[1]\n",
    "        }\n",
    "        fixtures_df = fixtures_df.append(tdf, ignore_index=True)"
   ]
  },
  {
   "cell_type": "code",
   "execution_count": 10,
   "metadata": {},
   "outputs": [
    {
     "output_type": "execute_result",
     "data": {
      "text/plain": [
       "   fixture_id h_result                 event_date               venue h_team  \\\n",
       "0       17693      NaN  2016-08-13T14:00:00+00:00       Goodison Park    NaN   \n",
       "1       17682      NaN  2016-08-20T14:00:00+00:00     White Hart Lane    NaN   \n",
       "2       17676      NaN  2016-08-27T11:30:00+00:00     White Hart Lane    NaN   \n",
       "3       17664      NaN  2016-09-10T14:00:00+00:00      bet365 Stadium    NaN   \n",
       "4       17647      NaN  2016-09-18T15:30:00+00:00     White Hart Lane    NaN   \n",
       "5       17642      NaN  2016-09-24T14:00:00+00:00           Riverside    NaN   \n",
       "6       17629      NaN  2016-10-02T13:15:00+00:00     White Hart Lane    NaN   \n",
       "7       17625      NaN  2016-10-15T14:00:00+00:00       The Hawthorns    NaN   \n",
       "8       17616      NaN  2016-10-22T11:30:00+00:00    Vitality Stadium    NaN   \n",
       "9       17603      NaN  2016-10-29T14:00:00+00:00     White Hart Lane    NaN   \n",
       "10      17591      NaN  2016-11-06T12:00:00+00:00    Emirates Stadium    NaN   \n",
       "11      17579      NaN  2016-11-19T17:30:00+00:00     White Hart Lane    NaN   \n",
       "12      17571      NaN  2016-11-26T17:30:00+00:00     Stamford Bridge    NaN   \n",
       "13      17564      NaN  2016-12-03T15:00:00+00:00     White Hart Lane    NaN   \n",
       "14      17548      NaN  2016-12-11T14:15:00+00:00        Old Trafford    NaN   \n",
       "15      17540      NaN  2016-12-14T20:00:00+00:00     White Hart Lane    NaN   \n",
       "16      17529      NaN  2016-12-18T16:00:00+00:00     White Hart Lane    NaN   \n",
       "17      17517      NaN  2016-12-28T19:45:00+00:00  St. Mary's Stadium    NaN   \n",
       "18      17508      NaN  2017-01-01T13:30:00+00:00       Vicarage Road    NaN   \n",
       "19      17497      NaN  2017-01-04T20:00:00+00:00     White Hart Lane    NaN   \n",
       "20      17496      NaN  2017-01-14T12:30:00+00:00     White Hart Lane    NaN   \n",
       "21      17480      NaN  2017-01-21T17:30:00+00:00      Etihad Stadium    NaN   \n",
       "22      17475      NaN  2017-01-31T19:45:00+00:00    Stadium of Light    NaN   \n",
       "23      17459      NaN  2017-02-04T17:30:00+00:00     White Hart Lane    NaN   \n",
       "24      17450      NaN  2017-02-11T17:30:00+00:00             Anfield    NaN   \n",
       "25      17440      NaN  2017-02-26T13:30:00+00:00     White Hart Lane    NaN   \n",
       "26      17431      NaN  2017-03-05T13:30:00+00:00     White Hart Lane    NaN   \n",
       "27      17415      NaN  2017-03-19T14:15:00+00:00     White Hart Lane    NaN   \n",
       "28      17407      NaN  2017-04-01T14:00:00+00:00           Turf Moor    NaN   \n",
       "29      17399      NaN  2017-04-05T18:45:00+00:00     Liberty Stadium    NaN   \n",
       "30      17393      NaN  2017-04-08T11:30:00+00:00     White Hart Lane    NaN   \n",
       "31      17383      NaN  2017-04-15T11:30:00+00:00     White Hart Lane    NaN   \n",
       "32      17364      NaN  2017-04-26T19:00:00+00:00       Selhurst Park    NaN   \n",
       "33      17354      NaN  2017-04-30T15:30:00+00:00     White Hart Lane    NaN   \n",
       "34      17352      NaN  2017-05-05T19:00:00+00:00      London Stadium    NaN   \n",
       "35      17332      NaN  2017-05-14T15:30:00+00:00     White Hart Lane    NaN   \n",
       "36      17327      NaN  2017-05-18T18:45:00+00:00  King Power Stadium    NaN   \n",
       "37      17320      NaN  2017-05-21T14:00:00+00:00        KCOM Stadium    NaN   \n",
       "\n",
       "   a_team h_halftime_score a_haftime_score h_fulltime_score a_fulltime_score  \\\n",
       "0     NaN              NaN             NaN              NaN              NaN   \n",
       "1     NaN              NaN             NaN              NaN              NaN   \n",
       "2     NaN              NaN             NaN              NaN              NaN   \n",
       "3     NaN              NaN             NaN              NaN              NaN   \n",
       "4     NaN              NaN             NaN              NaN              NaN   \n",
       "5     NaN              NaN             NaN              NaN              NaN   \n",
       "6     NaN              NaN             NaN              NaN              NaN   \n",
       "7     NaN              NaN             NaN              NaN              NaN   \n",
       "8     NaN              NaN             NaN              NaN              NaN   \n",
       "9     NaN              NaN             NaN              NaN              NaN   \n",
       "10    NaN              NaN             NaN              NaN              NaN   \n",
       "11    NaN              NaN             NaN              NaN              NaN   \n",
       "12    NaN              NaN             NaN              NaN              NaN   \n",
       "13    NaN              NaN             NaN              NaN              NaN   \n",
       "14    NaN              NaN             NaN              NaN              NaN   \n",
       "15    NaN              NaN             NaN              NaN              NaN   \n",
       "16    NaN              NaN             NaN              NaN              NaN   \n",
       "17    NaN              NaN             NaN              NaN              NaN   \n",
       "18    NaN              NaN             NaN              NaN              NaN   \n",
       "19    NaN              NaN             NaN              NaN              NaN   \n",
       "20    NaN              NaN             NaN              NaN              NaN   \n",
       "21    NaN              NaN             NaN              NaN              NaN   \n",
       "22    NaN              NaN             NaN              NaN              NaN   \n",
       "23    NaN              NaN             NaN              NaN              NaN   \n",
       "24    NaN              NaN             NaN              NaN              NaN   \n",
       "25    NaN              NaN             NaN              NaN              NaN   \n",
       "26    NaN              NaN             NaN              NaN              NaN   \n",
       "27    NaN              NaN             NaN              NaN              NaN   \n",
       "28    NaN              NaN             NaN              NaN              NaN   \n",
       "29    NaN              NaN             NaN              NaN              NaN   \n",
       "30    NaN              NaN             NaN              NaN              NaN   \n",
       "31    NaN              NaN             NaN              NaN              NaN   \n",
       "32    NaN              NaN             NaN              NaN              NaN   \n",
       "33    NaN              NaN             NaN              NaN              NaN   \n",
       "34    NaN              NaN             NaN              NaN              NaN   \n",
       "35    NaN              NaN             NaN              NaN              NaN   \n",
       "36    NaN              NaN             NaN              NaN              NaN   \n",
       "37    NaN              NaN             NaN              NaN              NaN   \n",
       "\n",
       "    ... h_accurate_passes a_accurate_passes h_pass_percentage  \\\n",
       "0   ...               NaN               NaN               NaN   \n",
       "1   ...               NaN               NaN               NaN   \n",
       "2   ...               NaN               NaN               NaN   \n",
       "3   ...               NaN               NaN               NaN   \n",
       "4   ...               NaN               NaN               NaN   \n",
       "5   ...               NaN               NaN               NaN   \n",
       "6   ...               NaN               NaN               NaN   \n",
       "7   ...               NaN               NaN               NaN   \n",
       "8   ...               NaN               NaN               NaN   \n",
       "9   ...               NaN               NaN               NaN   \n",
       "10  ...               NaN               NaN               NaN   \n",
       "11  ...               NaN               NaN               NaN   \n",
       "12  ...               NaN               NaN               NaN   \n",
       "13  ...               NaN               NaN               NaN   \n",
       "14  ...               NaN               NaN               NaN   \n",
       "15  ...               NaN               NaN               NaN   \n",
       "16  ...               NaN               NaN               NaN   \n",
       "17  ...               NaN               NaN               NaN   \n",
       "18  ...               NaN               NaN               NaN   \n",
       "19  ...               NaN               NaN               NaN   \n",
       "20  ...               NaN               NaN               NaN   \n",
       "21  ...               NaN               NaN               NaN   \n",
       "22  ...               NaN               NaN               NaN   \n",
       "23  ...               NaN               NaN               NaN   \n",
       "24  ...               NaN               NaN               NaN   \n",
       "25  ...               NaN               NaN               NaN   \n",
       "26  ...               NaN               NaN               NaN   \n",
       "27  ...               NaN               NaN               NaN   \n",
       "28  ...               NaN               NaN               NaN   \n",
       "29  ...               NaN               NaN               NaN   \n",
       "30  ...               NaN               NaN               NaN   \n",
       "31  ...               NaN               NaN               NaN   \n",
       "32  ...               NaN               NaN               NaN   \n",
       "33  ...               NaN               NaN               NaN   \n",
       "34  ...               NaN               NaN               NaN   \n",
       "35  ...               NaN               NaN               NaN   \n",
       "36  ...               NaN               NaN               NaN   \n",
       "37  ...               NaN               NaN               NaN   \n",
       "\n",
       "   a_pass_percentage away_fulltime_score away_haftime_score away_team  \\\n",
       "0                NaN                   1                  0      47.0   \n",
       "1                NaN                   0                  0      52.0   \n",
       "2                NaN                   1                  1      40.0   \n",
       "3                NaN                   4                  1      47.0   \n",
       "4                NaN                   0                  0     746.0   \n",
       "5                NaN                   2                  2      47.0   \n",
       "6                NaN                   0                  0      50.0   \n",
       "7                NaN                   1                  0      47.0   \n",
       "8                NaN                   0                  0      47.0   \n",
       "9                NaN                   1                  0      46.0   \n",
       "10               NaN                   1                  0      47.0   \n",
       "11               NaN                   2                  1      48.0   \n",
       "12               NaN                   1                  1      47.0   \n",
       "13               NaN                   0                  0      76.0   \n",
       "14               NaN                   0                  0      47.0   \n",
       "15               NaN                   0                  0      64.0   \n",
       "16               NaN                   1                  1      44.0   \n",
       "17               NaN                   4                  1      47.0   \n",
       "18               NaN                   4                  3      47.0   \n",
       "19               NaN                   0                  0      49.0   \n",
       "20               NaN                   0                  0      60.0   \n",
       "21               NaN                   2                  0      47.0   \n",
       "22               NaN                   0                  0      47.0   \n",
       "23               NaN                   0                  0      70.0   \n",
       "24               NaN                   0                  0      47.0   \n",
       "25               NaN                   0                  0      75.0   \n",
       "26               NaN                   2                  0      45.0   \n",
       "27               NaN                   1                  0      41.0   \n",
       "28               NaN                   2                  0      47.0   \n",
       "29               NaN                   3                  0      47.0   \n",
       "30               NaN                   0                  0      38.0   \n",
       "31               NaN                   0                  0      35.0   \n",
       "32               NaN                   1                  0      47.0   \n",
       "33               NaN                   0                  0      42.0   \n",
       "34               NaN                   0                  0      47.0   \n",
       "35               NaN                   1                  0      33.0   \n",
       "36               NaN                   6                  2      47.0   \n",
       "37               NaN                   7                  3      47.0   \n",
       "\n",
       "   home_fulltime_score home_halftime_score home_team  \n",
       "0                    1                   1      45.0  \n",
       "1                    1                   0      47.0  \n",
       "2                    1                   0      47.0  \n",
       "3                    0                   0      75.0  \n",
       "4                    1                   0      47.0  \n",
       "5                    1                   0      70.0  \n",
       "6                    2                   2      47.0  \n",
       "7                    1                   0      60.0  \n",
       "8                    0                   0      35.0  \n",
       "9                    1                   1      47.0  \n",
       "10                   1                   1      42.0  \n",
       "11                   3                   0      47.0  \n",
       "12                   2                   1      49.0  \n",
       "13                   5                   2      47.0  \n",
       "14                   1                   1      33.0  \n",
       "15                   3                   1      47.0  \n",
       "16                   2                   1      47.0  \n",
       "17                   1                   1      41.0  \n",
       "18                   1                   0      38.0  \n",
       "19                   2                   1      47.0  \n",
       "20                   4                   2      47.0  \n",
       "21                   2                   0      50.0  \n",
       "22                   0                   0     746.0  \n",
       "23                   1                   0      47.0  \n",
       "24                   2                   2      40.0  \n",
       "25                   4                   4      47.0  \n",
       "26                   3                   1      47.0  \n",
       "27                   2                   2      47.0  \n",
       "28                   0                   0      44.0  \n",
       "29                   1                   1      76.0  \n",
       "30                   4                   3      47.0  \n",
       "31                   4                   2      47.0  \n",
       "32                   0                   0      52.0  \n",
       "33                   2                   0      47.0  \n",
       "34                   1                   0      48.0  \n",
       "35                   2                   1      47.0  \n",
       "36                   1                   0      46.0  \n",
       "37                   1                   0      64.0  \n",
       "\n",
       "[38 rows x 48 columns]"
      ],
      "text/html": "<div>\n<style scoped>\n    .dataframe tbody tr th:only-of-type {\n        vertical-align: middle;\n    }\n\n    .dataframe tbody tr th {\n        vertical-align: top;\n    }\n\n    .dataframe thead th {\n        text-align: right;\n    }\n</style>\n<table border=\"1\" class=\"dataframe\">\n  <thead>\n    <tr style=\"text-align: right;\">\n      <th></th>\n      <th>fixture_id</th>\n      <th>h_result</th>\n      <th>event_date</th>\n      <th>venue</th>\n      <th>h_team</th>\n      <th>a_team</th>\n      <th>h_halftime_score</th>\n      <th>a_haftime_score</th>\n      <th>h_fulltime_score</th>\n      <th>a_fulltime_score</th>\n      <th>...</th>\n      <th>h_accurate_passes</th>\n      <th>a_accurate_passes</th>\n      <th>h_pass_percentage</th>\n      <th>a_pass_percentage</th>\n      <th>away_fulltime_score</th>\n      <th>away_haftime_score</th>\n      <th>away_team</th>\n      <th>home_fulltime_score</th>\n      <th>home_halftime_score</th>\n      <th>home_team</th>\n    </tr>\n  </thead>\n  <tbody>\n    <tr>\n      <th>0</th>\n      <td>17693</td>\n      <td>NaN</td>\n      <td>2016-08-13T14:00:00+00:00</td>\n      <td>Goodison Park</td>\n      <td>NaN</td>\n      <td>NaN</td>\n      <td>NaN</td>\n      <td>NaN</td>\n      <td>NaN</td>\n      <td>NaN</td>\n      <td>...</td>\n      <td>NaN</td>\n      <td>NaN</td>\n      <td>NaN</td>\n      <td>NaN</td>\n      <td>1</td>\n      <td>0</td>\n      <td>47.0</td>\n      <td>1</td>\n      <td>1</td>\n      <td>45.0</td>\n    </tr>\n    <tr>\n      <th>1</th>\n      <td>17682</td>\n      <td>NaN</td>\n      <td>2016-08-20T14:00:00+00:00</td>\n      <td>White Hart Lane</td>\n      <td>NaN</td>\n      <td>NaN</td>\n      <td>NaN</td>\n      <td>NaN</td>\n      <td>NaN</td>\n      <td>NaN</td>\n      <td>...</td>\n      <td>NaN</td>\n      <td>NaN</td>\n      <td>NaN</td>\n      <td>NaN</td>\n      <td>0</td>\n      <td>0</td>\n      <td>52.0</td>\n      <td>1</td>\n      <td>0</td>\n      <td>47.0</td>\n    </tr>\n    <tr>\n      <th>2</th>\n      <td>17676</td>\n      <td>NaN</td>\n      <td>2016-08-27T11:30:00+00:00</td>\n      <td>White Hart Lane</td>\n      <td>NaN</td>\n      <td>NaN</td>\n      <td>NaN</td>\n      <td>NaN</td>\n      <td>NaN</td>\n      <td>NaN</td>\n      <td>...</td>\n      <td>NaN</td>\n      <td>NaN</td>\n      <td>NaN</td>\n      <td>NaN</td>\n      <td>1</td>\n      <td>1</td>\n      <td>40.0</td>\n      <td>1</td>\n      <td>0</td>\n      <td>47.0</td>\n    </tr>\n    <tr>\n      <th>3</th>\n      <td>17664</td>\n      <td>NaN</td>\n      <td>2016-09-10T14:00:00+00:00</td>\n      <td>bet365 Stadium</td>\n      <td>NaN</td>\n      <td>NaN</td>\n      <td>NaN</td>\n      <td>NaN</td>\n      <td>NaN</td>\n      <td>NaN</td>\n      <td>...</td>\n      <td>NaN</td>\n      <td>NaN</td>\n      <td>NaN</td>\n      <td>NaN</td>\n      <td>4</td>\n      <td>1</td>\n      <td>47.0</td>\n      <td>0</td>\n      <td>0</td>\n      <td>75.0</td>\n    </tr>\n    <tr>\n      <th>4</th>\n      <td>17647</td>\n      <td>NaN</td>\n      <td>2016-09-18T15:30:00+00:00</td>\n      <td>White Hart Lane</td>\n      <td>NaN</td>\n      <td>NaN</td>\n      <td>NaN</td>\n      <td>NaN</td>\n      <td>NaN</td>\n      <td>NaN</td>\n      <td>...</td>\n      <td>NaN</td>\n      <td>NaN</td>\n      <td>NaN</td>\n      <td>NaN</td>\n      <td>0</td>\n      <td>0</td>\n      <td>746.0</td>\n      <td>1</td>\n      <td>0</td>\n      <td>47.0</td>\n    </tr>\n    <tr>\n      <th>5</th>\n      <td>17642</td>\n      <td>NaN</td>\n      <td>2016-09-24T14:00:00+00:00</td>\n      <td>Riverside</td>\n      <td>NaN</td>\n      <td>NaN</td>\n      <td>NaN</td>\n      <td>NaN</td>\n      <td>NaN</td>\n      <td>NaN</td>\n      <td>...</td>\n      <td>NaN</td>\n      <td>NaN</td>\n      <td>NaN</td>\n      <td>NaN</td>\n      <td>2</td>\n      <td>2</td>\n      <td>47.0</td>\n      <td>1</td>\n      <td>0</td>\n      <td>70.0</td>\n    </tr>\n    <tr>\n      <th>6</th>\n      <td>17629</td>\n      <td>NaN</td>\n      <td>2016-10-02T13:15:00+00:00</td>\n      <td>White Hart Lane</td>\n      <td>NaN</td>\n      <td>NaN</td>\n      <td>NaN</td>\n      <td>NaN</td>\n      <td>NaN</td>\n      <td>NaN</td>\n      <td>...</td>\n      <td>NaN</td>\n      <td>NaN</td>\n      <td>NaN</td>\n      <td>NaN</td>\n      <td>0</td>\n      <td>0</td>\n      <td>50.0</td>\n      <td>2</td>\n      <td>2</td>\n      <td>47.0</td>\n    </tr>\n    <tr>\n      <th>7</th>\n      <td>17625</td>\n      <td>NaN</td>\n      <td>2016-10-15T14:00:00+00:00</td>\n      <td>The Hawthorns</td>\n      <td>NaN</td>\n      <td>NaN</td>\n      <td>NaN</td>\n      <td>NaN</td>\n      <td>NaN</td>\n      <td>NaN</td>\n      <td>...</td>\n      <td>NaN</td>\n      <td>NaN</td>\n      <td>NaN</td>\n      <td>NaN</td>\n      <td>1</td>\n      <td>0</td>\n      <td>47.0</td>\n      <td>1</td>\n      <td>0</td>\n      <td>60.0</td>\n    </tr>\n    <tr>\n      <th>8</th>\n      <td>17616</td>\n      <td>NaN</td>\n      <td>2016-10-22T11:30:00+00:00</td>\n      <td>Vitality Stadium</td>\n      <td>NaN</td>\n      <td>NaN</td>\n      <td>NaN</td>\n      <td>NaN</td>\n      <td>NaN</td>\n      <td>NaN</td>\n      <td>...</td>\n      <td>NaN</td>\n      <td>NaN</td>\n      <td>NaN</td>\n      <td>NaN</td>\n      <td>0</td>\n      <td>0</td>\n      <td>47.0</td>\n      <td>0</td>\n      <td>0</td>\n      <td>35.0</td>\n    </tr>\n    <tr>\n      <th>9</th>\n      <td>17603</td>\n      <td>NaN</td>\n      <td>2016-10-29T14:00:00+00:00</td>\n      <td>White Hart Lane</td>\n      <td>NaN</td>\n      <td>NaN</td>\n      <td>NaN</td>\n      <td>NaN</td>\n      <td>NaN</td>\n      <td>NaN</td>\n      <td>...</td>\n      <td>NaN</td>\n      <td>NaN</td>\n      <td>NaN</td>\n      <td>NaN</td>\n      <td>1</td>\n      <td>0</td>\n      <td>46.0</td>\n      <td>1</td>\n      <td>1</td>\n      <td>47.0</td>\n    </tr>\n    <tr>\n      <th>10</th>\n      <td>17591</td>\n      <td>NaN</td>\n      <td>2016-11-06T12:00:00+00:00</td>\n      <td>Emirates Stadium</td>\n      <td>NaN</td>\n      <td>NaN</td>\n      <td>NaN</td>\n      <td>NaN</td>\n      <td>NaN</td>\n      <td>NaN</td>\n      <td>...</td>\n      <td>NaN</td>\n      <td>NaN</td>\n      <td>NaN</td>\n      <td>NaN</td>\n      <td>1</td>\n      <td>0</td>\n      <td>47.0</td>\n      <td>1</td>\n      <td>1</td>\n      <td>42.0</td>\n    </tr>\n    <tr>\n      <th>11</th>\n      <td>17579</td>\n      <td>NaN</td>\n      <td>2016-11-19T17:30:00+00:00</td>\n      <td>White Hart Lane</td>\n      <td>NaN</td>\n      <td>NaN</td>\n      <td>NaN</td>\n      <td>NaN</td>\n      <td>NaN</td>\n      <td>NaN</td>\n      <td>...</td>\n      <td>NaN</td>\n      <td>NaN</td>\n      <td>NaN</td>\n      <td>NaN</td>\n      <td>2</td>\n      <td>1</td>\n      <td>48.0</td>\n      <td>3</td>\n      <td>0</td>\n      <td>47.0</td>\n    </tr>\n    <tr>\n      <th>12</th>\n      <td>17571</td>\n      <td>NaN</td>\n      <td>2016-11-26T17:30:00+00:00</td>\n      <td>Stamford Bridge</td>\n      <td>NaN</td>\n      <td>NaN</td>\n      <td>NaN</td>\n      <td>NaN</td>\n      <td>NaN</td>\n      <td>NaN</td>\n      <td>...</td>\n      <td>NaN</td>\n      <td>NaN</td>\n      <td>NaN</td>\n      <td>NaN</td>\n      <td>1</td>\n      <td>1</td>\n      <td>47.0</td>\n      <td>2</td>\n      <td>1</td>\n      <td>49.0</td>\n    </tr>\n    <tr>\n      <th>13</th>\n      <td>17564</td>\n      <td>NaN</td>\n      <td>2016-12-03T15:00:00+00:00</td>\n      <td>White Hart Lane</td>\n      <td>NaN</td>\n      <td>NaN</td>\n      <td>NaN</td>\n      <td>NaN</td>\n      <td>NaN</td>\n      <td>NaN</td>\n      <td>...</td>\n      <td>NaN</td>\n      <td>NaN</td>\n      <td>NaN</td>\n      <td>NaN</td>\n      <td>0</td>\n      <td>0</td>\n      <td>76.0</td>\n      <td>5</td>\n      <td>2</td>\n      <td>47.0</td>\n    </tr>\n    <tr>\n      <th>14</th>\n      <td>17548</td>\n      <td>NaN</td>\n      <td>2016-12-11T14:15:00+00:00</td>\n      <td>Old Trafford</td>\n      <td>NaN</td>\n      <td>NaN</td>\n      <td>NaN</td>\n      <td>NaN</td>\n      <td>NaN</td>\n      <td>NaN</td>\n      <td>...</td>\n      <td>NaN</td>\n      <td>NaN</td>\n      <td>NaN</td>\n      <td>NaN</td>\n      <td>0</td>\n      <td>0</td>\n      <td>47.0</td>\n      <td>1</td>\n      <td>1</td>\n      <td>33.0</td>\n    </tr>\n    <tr>\n      <th>15</th>\n      <td>17540</td>\n      <td>NaN</td>\n      <td>2016-12-14T20:00:00+00:00</td>\n      <td>White Hart Lane</td>\n      <td>NaN</td>\n      <td>NaN</td>\n      <td>NaN</td>\n      <td>NaN</td>\n      <td>NaN</td>\n      <td>NaN</td>\n      <td>...</td>\n      <td>NaN</td>\n      <td>NaN</td>\n      <td>NaN</td>\n      <td>NaN</td>\n      <td>0</td>\n      <td>0</td>\n      <td>64.0</td>\n      <td>3</td>\n      <td>1</td>\n      <td>47.0</td>\n    </tr>\n    <tr>\n      <th>16</th>\n      <td>17529</td>\n      <td>NaN</td>\n      <td>2016-12-18T16:00:00+00:00</td>\n      <td>White Hart Lane</td>\n      <td>NaN</td>\n      <td>NaN</td>\n      <td>NaN</td>\n      <td>NaN</td>\n      <td>NaN</td>\n      <td>NaN</td>\n      <td>...</td>\n      <td>NaN</td>\n      <td>NaN</td>\n      <td>NaN</td>\n      <td>NaN</td>\n      <td>1</td>\n      <td>1</td>\n      <td>44.0</td>\n      <td>2</td>\n      <td>1</td>\n      <td>47.0</td>\n    </tr>\n    <tr>\n      <th>17</th>\n      <td>17517</td>\n      <td>NaN</td>\n      <td>2016-12-28T19:45:00+00:00</td>\n      <td>St. Mary's Stadium</td>\n      <td>NaN</td>\n      <td>NaN</td>\n      <td>NaN</td>\n      <td>NaN</td>\n      <td>NaN</td>\n      <td>NaN</td>\n      <td>...</td>\n      <td>NaN</td>\n      <td>NaN</td>\n      <td>NaN</td>\n      <td>NaN</td>\n      <td>4</td>\n      <td>1</td>\n      <td>47.0</td>\n      <td>1</td>\n      <td>1</td>\n      <td>41.0</td>\n    </tr>\n    <tr>\n      <th>18</th>\n      <td>17508</td>\n      <td>NaN</td>\n      <td>2017-01-01T13:30:00+00:00</td>\n      <td>Vicarage Road</td>\n      <td>NaN</td>\n      <td>NaN</td>\n      <td>NaN</td>\n      <td>NaN</td>\n      <td>NaN</td>\n      <td>NaN</td>\n      <td>...</td>\n      <td>NaN</td>\n      <td>NaN</td>\n      <td>NaN</td>\n      <td>NaN</td>\n      <td>4</td>\n      <td>3</td>\n      <td>47.0</td>\n      <td>1</td>\n      <td>0</td>\n      <td>38.0</td>\n    </tr>\n    <tr>\n      <th>19</th>\n      <td>17497</td>\n      <td>NaN</td>\n      <td>2017-01-04T20:00:00+00:00</td>\n      <td>White Hart Lane</td>\n      <td>NaN</td>\n      <td>NaN</td>\n      <td>NaN</td>\n      <td>NaN</td>\n      <td>NaN</td>\n      <td>NaN</td>\n      <td>...</td>\n      <td>NaN</td>\n      <td>NaN</td>\n      <td>NaN</td>\n      <td>NaN</td>\n      <td>0</td>\n      <td>0</td>\n      <td>49.0</td>\n      <td>2</td>\n      <td>1</td>\n      <td>47.0</td>\n    </tr>\n    <tr>\n      <th>20</th>\n      <td>17496</td>\n      <td>NaN</td>\n      <td>2017-01-14T12:30:00+00:00</td>\n      <td>White Hart Lane</td>\n      <td>NaN</td>\n      <td>NaN</td>\n      <td>NaN</td>\n      <td>NaN</td>\n      <td>NaN</td>\n      <td>NaN</td>\n      <td>...</td>\n      <td>NaN</td>\n      <td>NaN</td>\n      <td>NaN</td>\n      <td>NaN</td>\n      <td>0</td>\n      <td>0</td>\n      <td>60.0</td>\n      <td>4</td>\n      <td>2</td>\n      <td>47.0</td>\n    </tr>\n    <tr>\n      <th>21</th>\n      <td>17480</td>\n      <td>NaN</td>\n      <td>2017-01-21T17:30:00+00:00</td>\n      <td>Etihad Stadium</td>\n      <td>NaN</td>\n      <td>NaN</td>\n      <td>NaN</td>\n      <td>NaN</td>\n      <td>NaN</td>\n      <td>NaN</td>\n      <td>...</td>\n      <td>NaN</td>\n      <td>NaN</td>\n      <td>NaN</td>\n      <td>NaN</td>\n      <td>2</td>\n      <td>0</td>\n      <td>47.0</td>\n      <td>2</td>\n      <td>0</td>\n      <td>50.0</td>\n    </tr>\n    <tr>\n      <th>22</th>\n      <td>17475</td>\n      <td>NaN</td>\n      <td>2017-01-31T19:45:00+00:00</td>\n      <td>Stadium of Light</td>\n      <td>NaN</td>\n      <td>NaN</td>\n      <td>NaN</td>\n      <td>NaN</td>\n      <td>NaN</td>\n      <td>NaN</td>\n      <td>...</td>\n      <td>NaN</td>\n      <td>NaN</td>\n      <td>NaN</td>\n      <td>NaN</td>\n      <td>0</td>\n      <td>0</td>\n      <td>47.0</td>\n      <td>0</td>\n      <td>0</td>\n      <td>746.0</td>\n    </tr>\n    <tr>\n      <th>23</th>\n      <td>17459</td>\n      <td>NaN</td>\n      <td>2017-02-04T17:30:00+00:00</td>\n      <td>White Hart Lane</td>\n      <td>NaN</td>\n      <td>NaN</td>\n      <td>NaN</td>\n      <td>NaN</td>\n      <td>NaN</td>\n      <td>NaN</td>\n      <td>...</td>\n      <td>NaN</td>\n      <td>NaN</td>\n      <td>NaN</td>\n      <td>NaN</td>\n      <td>0</td>\n      <td>0</td>\n      <td>70.0</td>\n      <td>1</td>\n      <td>0</td>\n      <td>47.0</td>\n    </tr>\n    <tr>\n      <th>24</th>\n      <td>17450</td>\n      <td>NaN</td>\n      <td>2017-02-11T17:30:00+00:00</td>\n      <td>Anfield</td>\n      <td>NaN</td>\n      <td>NaN</td>\n      <td>NaN</td>\n      <td>NaN</td>\n      <td>NaN</td>\n      <td>NaN</td>\n      <td>...</td>\n      <td>NaN</td>\n      <td>NaN</td>\n      <td>NaN</td>\n      <td>NaN</td>\n      <td>0</td>\n      <td>0</td>\n      <td>47.0</td>\n      <td>2</td>\n      <td>2</td>\n      <td>40.0</td>\n    </tr>\n    <tr>\n      <th>25</th>\n      <td>17440</td>\n      <td>NaN</td>\n      <td>2017-02-26T13:30:00+00:00</td>\n      <td>White Hart Lane</td>\n      <td>NaN</td>\n      <td>NaN</td>\n      <td>NaN</td>\n      <td>NaN</td>\n      <td>NaN</td>\n      <td>NaN</td>\n      <td>...</td>\n      <td>NaN</td>\n      <td>NaN</td>\n      <td>NaN</td>\n      <td>NaN</td>\n      <td>0</td>\n      <td>0</td>\n      <td>75.0</td>\n      <td>4</td>\n      <td>4</td>\n      <td>47.0</td>\n    </tr>\n    <tr>\n      <th>26</th>\n      <td>17431</td>\n      <td>NaN</td>\n      <td>2017-03-05T13:30:00+00:00</td>\n      <td>White Hart Lane</td>\n      <td>NaN</td>\n      <td>NaN</td>\n      <td>NaN</td>\n      <td>NaN</td>\n      <td>NaN</td>\n      <td>NaN</td>\n      <td>...</td>\n      <td>NaN</td>\n      <td>NaN</td>\n      <td>NaN</td>\n      <td>NaN</td>\n      <td>2</td>\n      <td>0</td>\n      <td>45.0</td>\n      <td>3</td>\n      <td>1</td>\n      <td>47.0</td>\n    </tr>\n    <tr>\n      <th>27</th>\n      <td>17415</td>\n      <td>NaN</td>\n      <td>2017-03-19T14:15:00+00:00</td>\n      <td>White Hart Lane</td>\n      <td>NaN</td>\n      <td>NaN</td>\n      <td>NaN</td>\n      <td>NaN</td>\n      <td>NaN</td>\n      <td>NaN</td>\n      <td>...</td>\n      <td>NaN</td>\n      <td>NaN</td>\n      <td>NaN</td>\n      <td>NaN</td>\n      <td>1</td>\n      <td>0</td>\n      <td>41.0</td>\n      <td>2</td>\n      <td>2</td>\n      <td>47.0</td>\n    </tr>\n    <tr>\n      <th>28</th>\n      <td>17407</td>\n      <td>NaN</td>\n      <td>2017-04-01T14:00:00+00:00</td>\n      <td>Turf Moor</td>\n      <td>NaN</td>\n      <td>NaN</td>\n      <td>NaN</td>\n      <td>NaN</td>\n      <td>NaN</td>\n      <td>NaN</td>\n      <td>...</td>\n      <td>NaN</td>\n      <td>NaN</td>\n      <td>NaN</td>\n      <td>NaN</td>\n      <td>2</td>\n      <td>0</td>\n      <td>47.0</td>\n      <td>0</td>\n      <td>0</td>\n      <td>44.0</td>\n    </tr>\n    <tr>\n      <th>29</th>\n      <td>17399</td>\n      <td>NaN</td>\n      <td>2017-04-05T18:45:00+00:00</td>\n      <td>Liberty Stadium</td>\n      <td>NaN</td>\n      <td>NaN</td>\n      <td>NaN</td>\n      <td>NaN</td>\n      <td>NaN</td>\n      <td>NaN</td>\n      <td>...</td>\n      <td>NaN</td>\n      <td>NaN</td>\n      <td>NaN</td>\n      <td>NaN</td>\n      <td>3</td>\n      <td>0</td>\n      <td>47.0</td>\n      <td>1</td>\n      <td>1</td>\n      <td>76.0</td>\n    </tr>\n    <tr>\n      <th>30</th>\n      <td>17393</td>\n      <td>NaN</td>\n      <td>2017-04-08T11:30:00+00:00</td>\n      <td>White Hart Lane</td>\n      <td>NaN</td>\n      <td>NaN</td>\n      <td>NaN</td>\n      <td>NaN</td>\n      <td>NaN</td>\n      <td>NaN</td>\n      <td>...</td>\n      <td>NaN</td>\n      <td>NaN</td>\n      <td>NaN</td>\n      <td>NaN</td>\n      <td>0</td>\n      <td>0</td>\n      <td>38.0</td>\n      <td>4</td>\n      <td>3</td>\n      <td>47.0</td>\n    </tr>\n    <tr>\n      <th>31</th>\n      <td>17383</td>\n      <td>NaN</td>\n      <td>2017-04-15T11:30:00+00:00</td>\n      <td>White Hart Lane</td>\n      <td>NaN</td>\n      <td>NaN</td>\n      <td>NaN</td>\n      <td>NaN</td>\n      <td>NaN</td>\n      <td>NaN</td>\n      <td>...</td>\n      <td>NaN</td>\n      <td>NaN</td>\n      <td>NaN</td>\n      <td>NaN</td>\n      <td>0</td>\n      <td>0</td>\n      <td>35.0</td>\n      <td>4</td>\n      <td>2</td>\n      <td>47.0</td>\n    </tr>\n    <tr>\n      <th>32</th>\n      <td>17364</td>\n      <td>NaN</td>\n      <td>2017-04-26T19:00:00+00:00</td>\n      <td>Selhurst Park</td>\n      <td>NaN</td>\n      <td>NaN</td>\n      <td>NaN</td>\n      <td>NaN</td>\n      <td>NaN</td>\n      <td>NaN</td>\n      <td>...</td>\n      <td>NaN</td>\n      <td>NaN</td>\n      <td>NaN</td>\n      <td>NaN</td>\n      <td>1</td>\n      <td>0</td>\n      <td>47.0</td>\n      <td>0</td>\n      <td>0</td>\n      <td>52.0</td>\n    </tr>\n    <tr>\n      <th>33</th>\n      <td>17354</td>\n      <td>NaN</td>\n      <td>2017-04-30T15:30:00+00:00</td>\n      <td>White Hart Lane</td>\n      <td>NaN</td>\n      <td>NaN</td>\n      <td>NaN</td>\n      <td>NaN</td>\n      <td>NaN</td>\n      <td>NaN</td>\n      <td>...</td>\n      <td>NaN</td>\n      <td>NaN</td>\n      <td>NaN</td>\n      <td>NaN</td>\n      <td>0</td>\n      <td>0</td>\n      <td>42.0</td>\n      <td>2</td>\n      <td>0</td>\n      <td>47.0</td>\n    </tr>\n    <tr>\n      <th>34</th>\n      <td>17352</td>\n      <td>NaN</td>\n      <td>2017-05-05T19:00:00+00:00</td>\n      <td>London Stadium</td>\n      <td>NaN</td>\n      <td>NaN</td>\n      <td>NaN</td>\n      <td>NaN</td>\n      <td>NaN</td>\n      <td>NaN</td>\n      <td>...</td>\n      <td>NaN</td>\n      <td>NaN</td>\n      <td>NaN</td>\n      <td>NaN</td>\n      <td>0</td>\n      <td>0</td>\n      <td>47.0</td>\n      <td>1</td>\n      <td>0</td>\n      <td>48.0</td>\n    </tr>\n    <tr>\n      <th>35</th>\n      <td>17332</td>\n      <td>NaN</td>\n      <td>2017-05-14T15:30:00+00:00</td>\n      <td>White Hart Lane</td>\n      <td>NaN</td>\n      <td>NaN</td>\n      <td>NaN</td>\n      <td>NaN</td>\n      <td>NaN</td>\n      <td>NaN</td>\n      <td>...</td>\n      <td>NaN</td>\n      <td>NaN</td>\n      <td>NaN</td>\n      <td>NaN</td>\n      <td>1</td>\n      <td>0</td>\n      <td>33.0</td>\n      <td>2</td>\n      <td>1</td>\n      <td>47.0</td>\n    </tr>\n    <tr>\n      <th>36</th>\n      <td>17327</td>\n      <td>NaN</td>\n      <td>2017-05-18T18:45:00+00:00</td>\n      <td>King Power Stadium</td>\n      <td>NaN</td>\n      <td>NaN</td>\n      <td>NaN</td>\n      <td>NaN</td>\n      <td>NaN</td>\n      <td>NaN</td>\n      <td>...</td>\n      <td>NaN</td>\n      <td>NaN</td>\n      <td>NaN</td>\n      <td>NaN</td>\n      <td>6</td>\n      <td>2</td>\n      <td>47.0</td>\n      <td>1</td>\n      <td>0</td>\n      <td>46.0</td>\n    </tr>\n    <tr>\n      <th>37</th>\n      <td>17320</td>\n      <td>NaN</td>\n      <td>2017-05-21T14:00:00+00:00</td>\n      <td>KCOM Stadium</td>\n      <td>NaN</td>\n      <td>NaN</td>\n      <td>NaN</td>\n      <td>NaN</td>\n      <td>NaN</td>\n      <td>NaN</td>\n      <td>...</td>\n      <td>NaN</td>\n      <td>NaN</td>\n      <td>NaN</td>\n      <td>NaN</td>\n      <td>7</td>\n      <td>3</td>\n      <td>47.0</td>\n      <td>1</td>\n      <td>0</td>\n      <td>64.0</td>\n    </tr>\n  </tbody>\n</table>\n<p>38 rows × 48 columns</p>\n</div>"
     },
     "metadata": {},
     "execution_count": 10
    }
   ],
   "source": [
    "fixtures_df"
   ]
  },
  {
   "cell_type": "code",
   "execution_count": 11,
   "metadata": {},
   "outputs": [],
   "source": [
    "def determineIfWinner(home, away):\n",
    "    if home > away:\n",
    "        return 2\n",
    "    elif home == away:\n",
    "        return 1\n",
    "    else:\n",
    "        return 0"
   ]
  },
  {
   "source": [
    "In the cell below I am getting the fixture data for each team for a particular season and creating a dataframe out of it before putting it into a CSV file"
   ],
   "cell_type": "markdown",
   "metadata": {}
  },
  {
   "cell_type": "code",
   "execution_count": 12,
   "metadata": {},
   "outputs": [
    {
     "output_type": "error",
     "ename": "AttributeError",
     "evalue": "'NoneType' object has no attribute 'split'",
     "traceback": [
      "\u001b[1;31m---------------------------------------------------------------------------\u001b[0m",
      "\u001b[1;31mAttributeError\u001b[0m                            Traceback (most recent call last)",
      "\u001b[1;32m<ipython-input-12-238427d61d03>\u001b[0m in \u001b[0;36m<module>\u001b[1;34m\u001b[0m\n\u001b[0;32m     13\u001b[0m         \u001b[1;31m#just take each item you want and convert it as you need now from json to the dataframe\u001b[0m\u001b[1;33m\u001b[0m\u001b[1;33m\u001b[0m\u001b[1;33m\u001b[0m\u001b[0m\n\u001b[0;32m     14\u001b[0m             \u001b[0mfixture_id\u001b[0m \u001b[1;33m=\u001b[0m \u001b[0mr_json\u001b[0m\u001b[1;33m[\u001b[0m\u001b[1;34m'api'\u001b[0m\u001b[1;33m]\u001b[0m\u001b[1;33m[\u001b[0m\u001b[1;34m'fixtures'\u001b[0m\u001b[1;33m]\u001b[0m\u001b[1;33m[\u001b[0m\u001b[0mx\u001b[0m\u001b[1;33m]\u001b[0m\u001b[1;33m[\u001b[0m\u001b[1;34m'fixture_id'\u001b[0m\u001b[1;33m]\u001b[0m\u001b[1;33m\u001b[0m\u001b[1;33m\u001b[0m\u001b[0m\n\u001b[1;32m---> 15\u001b[1;33m             \u001b[0mh_ft_score\u001b[0m \u001b[1;33m=\u001b[0m \u001b[0mint\u001b[0m\u001b[1;33m(\u001b[0m\u001b[0mr_json\u001b[0m\u001b[1;33m[\u001b[0m\u001b[1;34m'api'\u001b[0m\u001b[1;33m]\u001b[0m\u001b[1;33m[\u001b[0m\u001b[1;34m'fixtures'\u001b[0m\u001b[1;33m]\u001b[0m\u001b[1;33m[\u001b[0m\u001b[0mx\u001b[0m\u001b[1;33m]\u001b[0m\u001b[1;33m[\u001b[0m\u001b[1;34m'score'\u001b[0m\u001b[1;33m]\u001b[0m\u001b[1;33m[\u001b[0m\u001b[1;34m'fulltime'\u001b[0m\u001b[1;33m]\u001b[0m\u001b[1;33m.\u001b[0m\u001b[0msplit\u001b[0m\u001b[1;33m(\u001b[0m\u001b[1;34m'-'\u001b[0m\u001b[1;33m)\u001b[0m\u001b[1;33m[\u001b[0m\u001b[1;36m0\u001b[0m\u001b[1;33m]\u001b[0m\u001b[1;33m)\u001b[0m\u001b[1;33m\u001b[0m\u001b[1;33m\u001b[0m\u001b[0m\n\u001b[0m\u001b[0;32m     16\u001b[0m             \u001b[0ma_ft_score\u001b[0m \u001b[1;33m=\u001b[0m \u001b[0mint\u001b[0m\u001b[1;33m(\u001b[0m\u001b[0mr_json\u001b[0m\u001b[1;33m[\u001b[0m\u001b[1;34m'api'\u001b[0m\u001b[1;33m]\u001b[0m\u001b[1;33m[\u001b[0m\u001b[1;34m'fixtures'\u001b[0m\u001b[1;33m]\u001b[0m\u001b[1;33m[\u001b[0m\u001b[0mx\u001b[0m\u001b[1;33m]\u001b[0m\u001b[1;33m[\u001b[0m\u001b[1;34m'score'\u001b[0m\u001b[1;33m]\u001b[0m\u001b[1;33m[\u001b[0m\u001b[1;34m'fulltime'\u001b[0m\u001b[1;33m]\u001b[0m\u001b[1;33m.\u001b[0m\u001b[0msplit\u001b[0m\u001b[1;33m(\u001b[0m\u001b[1;34m'-'\u001b[0m\u001b[1;33m)\u001b[0m\u001b[1;33m[\u001b[0m\u001b[1;36m1\u001b[0m\u001b[1;33m]\u001b[0m\u001b[1;33m)\u001b[0m\u001b[1;33m\u001b[0m\u001b[1;33m\u001b[0m\u001b[0m\n\u001b[0;32m     17\u001b[0m             \u001b[0murl_stats\u001b[0m \u001b[1;33m=\u001b[0m \u001b[1;34mf\"https://api-football-v1.p.rapidapi.com/v2/statistics/fixture/{fixture_id}\"\u001b[0m\u001b[1;33m\u001b[0m\u001b[1;33m\u001b[0m\u001b[0m\n",
      "\u001b[1;31mAttributeError\u001b[0m: 'NoneType' object has no attribute 'split'"
     ]
    }
   ],
   "source": [
    "for x in teamIDs_df.index:\n",
    "    dump_path = Path(f\"../../data/premier_league/team_fixtures_2020/{x}_2020.csv\")\n",
    "    url_addr = f\"https://api-football-v1.p.rapidapi.com/v2/fixtures/team/{x}/2790\"\n",
    "    headers = {\n",
    "        'x-rapidapi-key': \"3e890f9c4fmshbac87f967184a81p162525jsn1b11c02653ba\",\n",
    "        'x-rapidapi-host': \"api-football-v1.p.rapidapi.com\"\n",
    "    }\n",
    "    raw_data = requests.request(\"GET\", url_addr, headers=headers)\n",
    "    r_json = raw_data.json()\n",
    "    fixtures_df = pd.DataFrame(columns=fixture_columns)\n",
    "    if r_json['api']['results'] != 0:\n",
    "        for x in range(r_json['api']['results']):\n",
    "        #just take each item you want and convert it as you need now from json to the dataframe\n",
    "            fixture_id = r_json['api']['fixtures'][x]['fixture_id']\n",
    "            h_ft_score = int(r_json['api']['fixtures'][x]['score']['fulltime'].split('-')[0])\n",
    "            a_ft_score = int(r_json['api']['fixtures'][x]['score']['fulltime'].split('-')[1])\n",
    "            url_stats = f\"https://api-football-v1.p.rapidapi.com/v2/statistics/fixture/{fixture_id}\"\n",
    "            stat_data = requests.request(\"GET\", url_stats, headers=headers)\n",
    "            stat_json = stat_data.json()\n",
    "            tdf = {\n",
    "                'fixture_id': fixture_id,\n",
    "                'h_result': determineIfWinner(h_ft_score, a_ft_score),\n",
    "                'event_date': r_json['api']['fixtures'][x]['event_date'],\n",
    "                'venue': r_json['api']['fixtures'][x]['venue'],\n",
    "                'h_team': r_json['api']['fixtures'][x]['homeTeam']['team_id'],\n",
    "                'a_team': r_json['api']['fixtures'][x]['awayTeam']['team_id'],\n",
    "                'h_halftime_score': r_json['api']['fixtures'][x]['score']['halftime'].split('-')[0],\n",
    "                'a_haftime_score': r_json['api']['fixtures'][x]['score']['halftime'].split('-')[1],\n",
    "                'h_fulltime_score': r_json['api']['fixtures'][x]['score']['fulltime'].split('-')[0],\n",
    "                'a_fulltime_score': r_json['api']['fixtures'][x]['score']['fulltime'].split('-')[1],\n",
    "                'h_shot_on_goal': stat_json['api']['statistics']['Shots on Goal']['home'],\n",
    "                'a_shot_on_goal': stat_json['api']['statistics']['Shots on Goal']['away'],\n",
    "                'h_shot_off_goal': stat_json['api']['statistics']['Shots off Goal']['home'],\n",
    "                'a_shot_off_goal': stat_json['api']['statistics']['Shots off Goal']['away'],\n",
    "                'h_total_shots': stat_json['api']['statistics']['Total Shots']['home'],\n",
    "                'a_total_shots': stat_json['api']['statistics']['Total Shots']['away'],\n",
    "                'h_blocked_shots': stat_json['api']['statistics']['Blocked Shots']['home'],\n",
    "                'a_blocked_shots': stat_json['api']['statistics']['Blocked Shots']['away'],\n",
    "                'h_shots_inside_box': stat_json['api']['statistics']['Shots insidebox']['home'],\n",
    "                'a_shots_inside_box': stat_json['api']['statistics']['Shots insidebox']['away'],\n",
    "                'h_shots_outside_box': stat_json['api']['statistics']['Shots outsidebox']['home'],\n",
    "                'a_shots_outside_box': stat_json['api']['statistics']['Shots outsidebox']['away'],\n",
    "                'h_fouls': stat_json['api']['statistics']['Fouls']['home'],\n",
    "                'a_fouls': stat_json['api']['statistics']['Fouls']['away'],\n",
    "                'h_corner_kicks': stat_json['api']['statistics']['Corner Kicks']['home'],\n",
    "                'a_corner_kicks': stat_json['api']['statistics']['Corner Kicks']['away'],\n",
    "                'h_offsides': stat_json['api']['statistics']['Offsides']['home'],\n",
    "                'a_offsides': stat_json['api']['statistics']['Offsides']['away'],\n",
    "                'h_ball_possession': stat_json['api']['statistics']['Ball Possession']['home'],\n",
    "                'a_ball_possession': stat_json['api']['statistics']['Ball Possession']['away'],\n",
    "                'h_yellow_cards': stat_json['api']['statistics']['Yellow Cards']['home'],\n",
    "                'a_yellow_cards': stat_json['api']['statistics']['Yellow Cards']['away'],\n",
    "                'h_red_cards': stat_json['api']['statistics']['Red Cards']['home'],\n",
    "                'a_red_cards': stat_json['api']['statistics']['Red Cards']['away'],\n",
    "                'h_goalkeeper_saves': stat_json['api']['statistics']['Goalkeeper Saves']['home'],\n",
    "                'a_goalkeeper_saves': stat_json['api']['statistics']['Goalkeeper Saves']['away'],\n",
    "                'h_total_passes': stat_json['api']['statistics']['Total passes']['home'],\n",
    "                'a_total_passes': stat_json['api']['statistics']['Total passes']['away'],\n",
    "                'h_accurate_passes': stat_json['api']['statistics']['Passes accurate']['home'],\n",
    "                'a_accurate_passes': stat_json['api']['statistics']['Passes accurate']['away'],\n",
    "                'h_pass_percentage': stat_json['api']['statistics']['Passes %']['home'],\n",
    "                'a_pass_percentage': stat_json['api']['statistics']['Passes %']['away']\n",
    "            }\n",
    "            fixtures_df = fixtures_df.append(tdf, ignore_index=True)\n",
    "        fixtures_df.to_csv(dump_path)"
   ]
  },
  {
   "cell_type": "code",
   "execution_count": 95,
   "metadata": {},
   "outputs": [
    {
     "output_type": "execute_result",
     "data": {
      "text/plain": [
       "['1396_2020.csv',\n",
       " '1397_2020.csv',\n",
       " '2652_2020.csv',\n",
       " '2664_2020.csv',\n",
       " '2743_2020.csv',\n",
       " '2755_2020.csv',\n",
       " '2790_2020.csv',\n",
       " '2794_2020.csv',\n",
       " '2833_2020.csv',\n",
       " '2857_2020.csv',\n",
       " '2946_2020.csv',\n",
       " '3023_2020.csv',\n",
       " '3052_2020.csv']"
      ]
     },
     "metadata": {},
     "execution_count": 95
    }
   ],
   "source": [
    "fixture_path = Path(\"../../data/premier_league/team_fixtures_2020\")\n",
    "onlyfiles = [f for f in listdir(fixture_path) if isfile(join(fixture_path, f))]\n",
    "onlyfiles"
   ]
  },
  {
   "cell_type": "code",
   "execution_count": 10,
   "metadata": {},
   "outputs": [],
   "source": [
    "url_stats = f\"https://api-football-v1.p.rapidapi.com/v2/statistics/fixture/67\"\n",
    "headers = {\n",
    "    'x-rapidapi-key': \"3e890f9c4fmshbac87f967184a81p162525jsn1b11c02653ba\",\n",
    "    'x-rapidapi-host': \"api-football-v1.p.rapidapi.com\"\n",
    "}\n",
    "stat_data = requests.request(\"GET\", url_stats, headers=headers)\n",
    "stat_json = stat_data.json()"
   ]
  },
  {
   "cell_type": "code",
   "execution_count": 13,
   "metadata": {},
   "outputs": [
    {
     "output_type": "execute_result",
     "data": {
      "text/plain": [
       "'1'"
      ]
     },
     "metadata": {},
     "execution_count": 13
    }
   ],
   "source": [
    "stat_json['api']['statistics']['Shots on Goal']['away']"
   ]
  },
  {
   "source": [
    "# Getting fixtures for odds"
   ],
   "cell_type": "markdown",
   "metadata": {}
  },
  {
   "cell_type": "code",
   "execution_count": 81,
   "metadata": {},
   "outputs": [],
   "source": [
    "leagues = ['2790', '2794', '2833', '2652', '2664', '2857', '2946', '2743', '2755', '1396', '1397', '3023', '3052']\n",
    "# '2652',"
   ]
  },
  {
   "cell_type": "code",
   "execution_count": 90,
   "metadata": {},
   "outputs": [],
   "source": [
    "columns2 = ['fixture_id', 'event_date', 'home_team', 'away_team', 'home_team_id', 'away_team_id', 'h_halftime_score', 'a_halftime_score', 'h_fulltime_score', 'a_fulltime_score']\n",
    "fixtures_2020_df = pd.DataFrame(columns=columns2)"
   ]
  },
  {
   "cell_type": "code",
   "execution_count": 91,
   "metadata": {},
   "outputs": [],
   "source": [
    "def leagueFixtures(league):\n",
    "    url = f\"https://api-football-v1.p.rapidapi.com/v2/fixtures/league/{league}\"\n",
    "\n",
    "    payload={}\n",
    "    headers = {\n",
    "    'x-rapidapi-key': '3e890f9c4fmshbac87f967184a81p162525jsn1b11c02653ba'\n",
    "    }\n",
    "\n",
    "    response = requests.request(\"GET\", url, headers=headers, data=payload)\n",
    "    raw_json = response.json()\n",
    "    return raw_json['api']['fixtures']"
   ]
  },
  {
   "cell_type": "code",
   "execution_count": 92,
   "metadata": {},
   "outputs": [],
   "source": [
    "def buildFixtureDF(league, raw_data, fixtures_df):\n",
    "    dump_path = Path(f\"../../data/premier_league/team_fixtures_2020/{league}_2020.csv\")\n",
    "    for x in raw_data:\n",
    "        if x['score']['fulltime'] and x['score']['halftime'] != None:\n",
    "            fdf = {\n",
    "                'fixture_id': x['fixture_id'],\n",
    "                'event_date': x['event_date'],\n",
    "                'home_team': x['homeTeam']['team_name'],\n",
    "                'away_team': x['awayTeam']['team_name'],\n",
    "                'home_team_id': x['homeTeam']['team_id'],\n",
    "                'away_team_id': x['awayTeam']['team_id'],\n",
    "                'h_halftime_score': x['score']['halftime'].split('-')[0],\n",
    "                'a_halftime_score': x['score']['halftime'].split('-')[1],\n",
    "                'h_fulltime_score': x['score']['fulltime'].split('-')[0],\n",
    "                'a_fulltime_score': x['score']['fulltime'].split('-')[1]\n",
    "            }\n",
    "            fixtures_df = fixtures_df.append(fdf, ignore_index=True)\n",
    "        else:\n",
    "            fdf = {\n",
    "                'fixture_id': x['fixture_id'],\n",
    "                'event_date': x['event_date'],\n",
    "                'home_team': x['homeTeam']['team_name'],\n",
    "                'away_team': x['awayTeam']['team_name'],\n",
    "                'home_team_id': x['homeTeam']['team_id'],\n",
    "                'away_team_id': x['awayTeam']['team_id'],\n",
    "            }\n",
    "            fixtures_df = fixtures_df.append(fdf, ignore_index=True)\n",
    "    fixtures_df.set_index('fixture_id', drop=True, inplace=True)\n",
    "    fixtures_df.to_csv(dump_path)"
   ]
  },
  {
   "cell_type": "code",
   "execution_count": 93,
   "metadata": {},
   "outputs": [],
   "source": [
    "for x in leagues:\n",
    "    fixtures_2020_df = pd.DataFrame(columns=columns2)\n",
    "    buildFixtureDF(x, leagueFixtures(x), fixtures_2020_df)\n"
   ]
  },
  {
   "cell_type": "code",
   "execution_count": 85,
   "metadata": {},
   "outputs": [],
   "source": [
    "uk1_odds_fixtures = ['592316','592318','592141','592320','592299','592312','592311','592330','592324','592329','592323','592325','592322','592328','592326','592327','592321','592317','592315','592314','592313','592145','592319'] # 2790\n",
    "uk2_odds_fixtures = ['593146','593119','593144','593162','593155','593157','593158','593159','593160','593161','593163','593164','593165','593166','593156','593168','593171','593167','593170','593169','606504','593176','593173','593174','593175','593177','593172'] # 2794\n",
    "es1_odds_fixtures = ['605233','605084','605236','605242','605235','605238','605241','605240','605237','605243','605244','605239','605099','605074','605250','605253','605245','605249','605247','605254','605252','605248'] # 2833\n",
    "fr1_odds_fixtures = ['568253','568254','568255','568256','568257','568258','568259','568260','568261','568262','568264','568265','568266','568267','568268','568269','568270','568271','568263','568272','568279','568280','568273','568274','568275','568276','568277','568278','568281','568282'] # 2652\n",
    "fr2_odds_fixtures = ['571643','571645','571647','571650','571651','571642','571644','571646','571648','571649','571652','571653','571654','571655','571656','571657','571658','571659','571660','571661','571670','571667','571665','571664','571662','571668','571669','571671','571663','571666','571552'] # 2664\n",
    "it1_odds_fixtures = ['608687','608685','608686','608688','608689','608692','608693','608694','608691','608690','608695','608697','608699','608701','608700','608703','608704','608696','608698','608702','608710','608706','608714','608712','608711','608708','608713','608705','608709','608707','608633'] # 2857\n",
    "it2_odds_fixtures = ['628142','628148','628145','628140','628143','628144','628146','628147','628149','628141','628026','628150','628153','628151','628154','628156','628157','628158','628155','628152','628159','628054'] # 2946\n",
    "de1_odds_fixtures = ['585180','585170','585191','585195','585193','585194','585196','585189','585190','585192','585197','585203','585206','585200','585201','585202','585198','585204','585205','585199'] # 2743\n",
    "de2_odds_fixtures = ['587303','587304','587305','587306','587307','587308','587302','587309','587310','587316','587312','587313','587314','587317','587318','587319','587311','587315','587321','587322','587324','587326','587325','587320','587323','587327','587328'] # 2755\n",
    "br1_odds_fixtures = ['328261','328262','328263','328264','328255','328257','328260','328256','328267','328272','328270','328268','328273','328271','328274','328266','328269','328265','328280','328281','328282','328276','328277','328284','328278','328283','328259','328275','328294','328292','328289','328285','328286','328290','328287','328288','328293'] # 1396\n",
    "br2_odds_fixtures = ['328680','328683','328688','328694','328691','328687','328690','328692','328686','328693','328685','328689','328698','328697','328703','328699','328700','328701','328702','328704','328696','328695','328710','328714','328706','328713','328705','328707','328711','328709','328708','328712','328721','328716','328717','328719','328723','328720','328718','328722','328715','328724'] # 1397\n",
    "ar1_odds_fixtures = ['654113','654109','654083','654084','654080','654114','654082','654115','654116','654118','654120','654085','654087','654086','654088','654089','654090','654119','654117','656995'] # 3023 not a good testing set but okay for training - only last game hasn't happened\n",
    "ar2_odds_fixtures = ['647845','647847','647906','647846','647827','647852','647853','647854','647855','647908','647909','647910','647911','647856','647857','647858','647859','647912','647913','647914','647915','656831'] # 3052 not a good testing set but okay for training - only last game hasn't happened"
   ]
  },
  {
   "cell_type": "code",
   "execution_count": 86,
   "metadata": {},
   "outputs": [],
   "source": [
    "def getOdds(fixture):\n",
    "    url = f\"https://api-football-v1.p.rapidapi.com/v2/odds/fixture/{fixture}\"\n",
    "\n",
    "    payload={}\n",
    "    headers = {\n",
    "    'x-rapidapi-key': '3e890f9c4fmshbac87f967184a81p162525jsn1b11c02653ba'\n",
    "    }\n",
    "\n",
    "    response = requests.request(\"GET\", url, headers=headers, data=payload)\n",
    "    odds_raw = response.json()\n",
    "    return odds_raw['api']['odds']"
   ]
  },
  {
   "cell_type": "code",
   "execution_count": null,
   "metadata": {},
   "outputs": [],
   "source": [
    "def buildOddsDF(odds_data):\n",
    "    for x in odds_data[0]['bookmakers'][0]['bets']:\n",
    "        if x['label_name'] == 'Match Winner':"
   ]
  },
  {
   "cell_type": "code",
   "execution_count": 88,
   "metadata": {},
   "outputs": [
    {
     "output_type": "stream",
     "name": "stdout",
     "text": [
      "{'value': 'Home', 'odd': '2.50'}\n{'value': 'Draw', 'odd': '3.15'}\n{'value': 'Away', 'odd': '3.25'}\n"
     ]
    }
   ],
   "source": [
    "all_odds = odds_raw['api']['odds']\n",
    "for x in all_odds[0]['bookmakers'][0]['bets']:\n",
    "    if x['label_name'] == 'Match Winner':\n",
    "        for y in x['values']:\n",
    "            print(y)"
   ]
  },
  {
   "cell_type": "code",
   "execution_count": null,
   "metadata": {},
   "outputs": [],
   "source": []
  }
 ]
}