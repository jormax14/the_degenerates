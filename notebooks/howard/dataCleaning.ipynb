{
 "metadata": {
  "language_info": {
   "codemirror_mode": {
    "name": "ipython",
    "version": 3
   },
   "file_extension": ".py",
   "mimetype": "text/x-python",
   "name": "python",
   "nbconvert_exporter": "python",
   "pygments_lexer": "ipython3",
   "version": "3.8.3-final"
  },
  "orig_nbformat": 2,
  "kernelspec": {
   "name": "python3",
   "display_name": "Python 3",
   "language": "python"
  }
 },
 "nbformat": 4,
 "nbformat_minor": 2,
 "cells": [
  {
   "cell_type": "code",
   "execution_count": 1,
   "metadata": {},
   "outputs": [],
   "source": [
    "import pandas as pd \n",
    "import numpy as np \n",
    "import os\n",
    "from datetime import datetime\n",
    "from pathlib import Path"
   ]
  },
  {
   "cell_type": "code",
   "execution_count": 9,
   "metadata": {},
   "outputs": [],
   "source": [
    "#load csv and create dataframe\n",
    "\n",
    "team_df = pd.read_csv(\"../../data/sports_io/TeamGame.2020.csv\", usecols=['Team','Day','Wins','HomeOrAway'])\n",
    "pp_df = pd.read_csv(\"../../data/sports_io/PlayerGameProjection.2020.csv\", usecols=['Team','Opponent','Day','HomeOrAway','Games'])"
   ]
  },
  {
   "cell_type": "code",
   "execution_count": 10,
   "metadata": {},
   "outputs": [
    {
     "output_type": "stream",
     "name": "stdout",
     "text": [
      "     Team  Wins                     Day HomeOrAway\n0     HOU     1   10/3/2019 12:00:00 AM       AWAY\n1     LAC     0   10/3/2019 12:00:00 AM       HOME\n2     IND     1   10/4/2019 12:00:00 AM       AWAY\n3     SAC     0   10/4/2019 12:00:00 AM       HOME\n4     IND     1   10/5/2019 12:00:00 AM       HOME\n...   ...   ...                     ...        ...\n2451  LAL     1   10/6/2020 12:00:00 AM       AWAY\n2452  MIA     1   10/9/2020 12:00:00 AM       AWAY\n2453  LAL     0   10/9/2020 12:00:00 AM       HOME\n2454  MIA     0  10/11/2020 12:00:00 AM       HOME\n2455  LAL     1  10/11/2020 12:00:00 AM       AWAY\n\n[2456 rows x 4 columns]\n"
     ]
    }
   ],
   "source": [
    "print(team_df)"
   ]
  },
  {
   "cell_type": "code",
   "execution_count": 16,
   "metadata": {},
   "outputs": [
    {
     "output_type": "execute_result",
     "data": {
      "text/plain": [
       "      Team Opponent                    Day HomeOrAway  Games\n",
       "20081  ORL      WAS   1/1/2020 12:00:00 AM       AWAY      1\n",
       "20181  MIN      MIL   1/1/2020 12:00:00 AM       AWAY      1\n",
       "20165  MIL      MIN   1/1/2020 12:00:00 AM       HOME      0\n",
       "20183  LAL      PHO   1/1/2020 12:00:00 AM       HOME      1\n",
       "20215  PHO      LAL   1/1/2020 12:00:00 AM       AWAY      0\n",
       "20148  POR       NY   1/1/2020 12:00:00 AM       AWAY      1\n",
       "20112  WAS      ORL   1/1/2020 12:00:00 AM       HOME      0\n",
       "20116   NY      POR   1/1/2020 12:00:00 AM       HOME      1\n",
       "22438  CHA      UTA  1/10/2020 12:00:00 AM       AWAY      1\n",
       "22370  DAL      LAL  1/10/2020 12:00:00 AM       HOME      1\n",
       "22512  LAC       GS  1/10/2020 12:00:00 AM       HOME      1\n",
       "22446  UTA      CHA  1/10/2020 12:00:00 AM       HOME      0\n",
       "22506   GS      LAC  1/10/2020 12:00:00 AM       AWAY      1\n",
       "22495  SAC      MIL  1/10/2020 12:00:00 AM       HOME      1\n",
       "22361   SA      MEM  1/10/2020 12:00:00 AM       AWAY      1\n",
       "22252  MIA      BKN  1/10/2020 12:00:00 AM       AWAY      1\n",
       "22243  BKN      MIA  1/10/2020 12:00:00 AM       HOME      1\n",
       "22273  CHI      IND  1/10/2020 12:00:00 AM       HOME      1\n",
       "22209  ATL      WAS  1/10/2020 12:00:00 AM       AWAY      1\n",
       "22277  IND      CHI  1/10/2020 12:00:00 AM       AWAY      1\n",
       "22336  MEM       SA  1/10/2020 12:00:00 AM       HOME      1\n",
       "22294   NO       NY  1/10/2020 12:00:00 AM       AWAY      0\n",
       "22679  PHI      DAL  1/11/2020 12:00:00 AM       AWAY      1\n",
       "22697  CLE      DEN  1/11/2020 12:00:00 AM       AWAY      1\n",
       "22657  OKC      LAL  1/11/2020 12:00:00 AM       HOME      1\n",
       "22713  DEN      CLE  1/11/2020 12:00:00 AM       HOME      1\n",
       "22561  BOS       NO  1/11/2020 12:00:00 AM       HOME      1\n",
       "22529  HOU      MIN  1/11/2020 12:00:00 AM       HOME      1\n",
       "22618  DET      CHI  1/11/2020 12:00:00 AM       HOME      0\n",
       "22881  TOR       SA  1/12/2020 12:00:00 AM       HOME      1\n",
       "30690  LEB      GIA  2/16/2020 12:00:00 AM       AWAY      1\n",
       "30676  GIA      LEB  2/16/2020 12:00:00 AM       HOME      1"
      ],
      "text/html": "<div>\n<style scoped>\n    .dataframe tbody tr th:only-of-type {\n        vertical-align: middle;\n    }\n\n    .dataframe tbody tr th {\n        vertical-align: top;\n    }\n\n    .dataframe thead th {\n        text-align: right;\n    }\n</style>\n<table border=\"1\" class=\"dataframe\">\n  <thead>\n    <tr style=\"text-align: right;\">\n      <th></th>\n      <th>Team</th>\n      <th>Opponent</th>\n      <th>Day</th>\n      <th>HomeOrAway</th>\n      <th>Games</th>\n    </tr>\n  </thead>\n  <tbody>\n    <tr>\n      <th>20081</th>\n      <td>ORL</td>\n      <td>WAS</td>\n      <td>1/1/2020 12:00:00 AM</td>\n      <td>AWAY</td>\n      <td>1</td>\n    </tr>\n    <tr>\n      <th>20181</th>\n      <td>MIN</td>\n      <td>MIL</td>\n      <td>1/1/2020 12:00:00 AM</td>\n      <td>AWAY</td>\n      <td>1</td>\n    </tr>\n    <tr>\n      <th>20165</th>\n      <td>MIL</td>\n      <td>MIN</td>\n      <td>1/1/2020 12:00:00 AM</td>\n      <td>HOME</td>\n      <td>0</td>\n    </tr>\n    <tr>\n      <th>20183</th>\n      <td>LAL</td>\n      <td>PHO</td>\n      <td>1/1/2020 12:00:00 AM</td>\n      <td>HOME</td>\n      <td>1</td>\n    </tr>\n    <tr>\n      <th>20215</th>\n      <td>PHO</td>\n      <td>LAL</td>\n      <td>1/1/2020 12:00:00 AM</td>\n      <td>AWAY</td>\n      <td>0</td>\n    </tr>\n    <tr>\n      <th>20148</th>\n      <td>POR</td>\n      <td>NY</td>\n      <td>1/1/2020 12:00:00 AM</td>\n      <td>AWAY</td>\n      <td>1</td>\n    </tr>\n    <tr>\n      <th>20112</th>\n      <td>WAS</td>\n      <td>ORL</td>\n      <td>1/1/2020 12:00:00 AM</td>\n      <td>HOME</td>\n      <td>0</td>\n    </tr>\n    <tr>\n      <th>20116</th>\n      <td>NY</td>\n      <td>POR</td>\n      <td>1/1/2020 12:00:00 AM</td>\n      <td>HOME</td>\n      <td>1</td>\n    </tr>\n    <tr>\n      <th>22438</th>\n      <td>CHA</td>\n      <td>UTA</td>\n      <td>1/10/2020 12:00:00 AM</td>\n      <td>AWAY</td>\n      <td>1</td>\n    </tr>\n    <tr>\n      <th>22370</th>\n      <td>DAL</td>\n      <td>LAL</td>\n      <td>1/10/2020 12:00:00 AM</td>\n      <td>HOME</td>\n      <td>1</td>\n    </tr>\n    <tr>\n      <th>22512</th>\n      <td>LAC</td>\n      <td>GS</td>\n      <td>1/10/2020 12:00:00 AM</td>\n      <td>HOME</td>\n      <td>1</td>\n    </tr>\n    <tr>\n      <th>22446</th>\n      <td>UTA</td>\n      <td>CHA</td>\n      <td>1/10/2020 12:00:00 AM</td>\n      <td>HOME</td>\n      <td>0</td>\n    </tr>\n    <tr>\n      <th>22506</th>\n      <td>GS</td>\n      <td>LAC</td>\n      <td>1/10/2020 12:00:00 AM</td>\n      <td>AWAY</td>\n      <td>1</td>\n    </tr>\n    <tr>\n      <th>22495</th>\n      <td>SAC</td>\n      <td>MIL</td>\n      <td>1/10/2020 12:00:00 AM</td>\n      <td>HOME</td>\n      <td>1</td>\n    </tr>\n    <tr>\n      <th>22361</th>\n      <td>SA</td>\n      <td>MEM</td>\n      <td>1/10/2020 12:00:00 AM</td>\n      <td>AWAY</td>\n      <td>1</td>\n    </tr>\n    <tr>\n      <th>22252</th>\n      <td>MIA</td>\n      <td>BKN</td>\n      <td>1/10/2020 12:00:00 AM</td>\n      <td>AWAY</td>\n      <td>1</td>\n    </tr>\n    <tr>\n      <th>22243</th>\n      <td>BKN</td>\n      <td>MIA</td>\n      <td>1/10/2020 12:00:00 AM</td>\n      <td>HOME</td>\n      <td>1</td>\n    </tr>\n    <tr>\n      <th>22273</th>\n      <td>CHI</td>\n      <td>IND</td>\n      <td>1/10/2020 12:00:00 AM</td>\n      <td>HOME</td>\n      <td>1</td>\n    </tr>\n    <tr>\n      <th>22209</th>\n      <td>ATL</td>\n      <td>WAS</td>\n      <td>1/10/2020 12:00:00 AM</td>\n      <td>AWAY</td>\n      <td>1</td>\n    </tr>\n    <tr>\n      <th>22277</th>\n      <td>IND</td>\n      <td>CHI</td>\n      <td>1/10/2020 12:00:00 AM</td>\n      <td>AWAY</td>\n      <td>1</td>\n    </tr>\n    <tr>\n      <th>22336</th>\n      <td>MEM</td>\n      <td>SA</td>\n      <td>1/10/2020 12:00:00 AM</td>\n      <td>HOME</td>\n      <td>1</td>\n    </tr>\n    <tr>\n      <th>22294</th>\n      <td>NO</td>\n      <td>NY</td>\n      <td>1/10/2020 12:00:00 AM</td>\n      <td>AWAY</td>\n      <td>0</td>\n    </tr>\n    <tr>\n      <th>22679</th>\n      <td>PHI</td>\n      <td>DAL</td>\n      <td>1/11/2020 12:00:00 AM</td>\n      <td>AWAY</td>\n      <td>1</td>\n    </tr>\n    <tr>\n      <th>22697</th>\n      <td>CLE</td>\n      <td>DEN</td>\n      <td>1/11/2020 12:00:00 AM</td>\n      <td>AWAY</td>\n      <td>1</td>\n    </tr>\n    <tr>\n      <th>22657</th>\n      <td>OKC</td>\n      <td>LAL</td>\n      <td>1/11/2020 12:00:00 AM</td>\n      <td>HOME</td>\n      <td>1</td>\n    </tr>\n    <tr>\n      <th>22713</th>\n      <td>DEN</td>\n      <td>CLE</td>\n      <td>1/11/2020 12:00:00 AM</td>\n      <td>HOME</td>\n      <td>1</td>\n    </tr>\n    <tr>\n      <th>22561</th>\n      <td>BOS</td>\n      <td>NO</td>\n      <td>1/11/2020 12:00:00 AM</td>\n      <td>HOME</td>\n      <td>1</td>\n    </tr>\n    <tr>\n      <th>22529</th>\n      <td>HOU</td>\n      <td>MIN</td>\n      <td>1/11/2020 12:00:00 AM</td>\n      <td>HOME</td>\n      <td>1</td>\n    </tr>\n    <tr>\n      <th>22618</th>\n      <td>DET</td>\n      <td>CHI</td>\n      <td>1/11/2020 12:00:00 AM</td>\n      <td>HOME</td>\n      <td>0</td>\n    </tr>\n    <tr>\n      <th>22881</th>\n      <td>TOR</td>\n      <td>SA</td>\n      <td>1/12/2020 12:00:00 AM</td>\n      <td>HOME</td>\n      <td>1</td>\n    </tr>\n    <tr>\n      <th>30690</th>\n      <td>LEB</td>\n      <td>GIA</td>\n      <td>2/16/2020 12:00:00 AM</td>\n      <td>AWAY</td>\n      <td>1</td>\n    </tr>\n    <tr>\n      <th>30676</th>\n      <td>GIA</td>\n      <td>LEB</td>\n      <td>2/16/2020 12:00:00 AM</td>\n      <td>HOME</td>\n      <td>1</td>\n    </tr>\n  </tbody>\n</table>\n</div>"
     },
     "metadata": {},
     "execution_count": 16
    }
   ],
   "source": [
    "df2 = pp_df.sort_values('Day').drop_duplicates(subset=['Team'])\n",
    "\n",
    "df2"
   ]
  },
  {
   "cell_type": "code",
   "execution_count": 13,
   "metadata": {},
   "outputs": [],
   "source": [
    "# drop duplicates based on Day columns\n",
    "#pp_df2 = pp_df.drop_duplicates(subset=['Day'])"
   ]
  },
  {
   "cell_type": "code",
   "execution_count": null,
   "metadata": {},
   "outputs": [],
   "source": []
  }
 ]
}