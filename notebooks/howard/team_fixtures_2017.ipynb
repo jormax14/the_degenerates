{
 "metadata": {
  "language_info": {
   "codemirror_mode": {
    "name": "ipython",
    "version": 3
   },
   "file_extension": ".py",
   "mimetype": "text/x-python",
   "name": "python",
   "nbconvert_exporter": "python",
   "pygments_lexer": "ipython3",
   "version": "3.8.3-final"
  },
  "orig_nbformat": 2,
  "kernelspec": {
   "name": "python3",
   "display_name": "Python 3",
   "language": "python"
  }
 },
 "nbformat": 4,
 "nbformat_minor": 2,
 "cells": [
  {
   "cell_type": "code",
   "execution_count": 1,
   "metadata": {},
   "outputs": [],
   "source": [
    "# Initial imports\n",
    "import pandas as pd\n",
    "from pathlib import Path\n",
    "from sklearn.ensemble import RandomForestClassifier\n",
    "from sklearn.preprocessing import StandardScaler\n",
    "from sklearn.model_selection import train_test_split\n",
    "from sklearn.metrics import confusion_matrix, accuracy_score, classification_report\n",
    "%matplotlib inline\n",
    "\n",
    "import os\n",
    "import glob\n",
    "os.chdir(\"c://Users/howar/Documents/BootcampProjects/the_degenerates/data/premier_league/team_fixtures_2017\")\n",
    "\n",
    "# Needed for decision tree visualization\n",
    "import pydotplus\n",
    "from IPython.display import Image"
   ]
  },
  {
   "cell_type": "code",
   "execution_count": 2,
   "metadata": {},
   "outputs": [],
   "source": [
    "extension = 'csv'\n",
    "all_filenames = [i for i in glob.glob('*.{}'.format(extension))]"
   ]
  },
  {
   "cell_type": "code",
   "execution_count": 3,
   "metadata": {},
   "outputs": [],
   "source": [
    "\n",
    "#combine all files in the list\n",
    "combined_2017 = pd.concat([pd.read_csv(f) for f in all_filenames])\n",
    "#export to csv\n",
    "combined_2017.to_csv(\"combined_2017.csv\", index=False)"
   ]
  },
  {
   "cell_type": "code",
   "execution_count": 4,
   "metadata": {},
   "outputs": [],
   "source": [
    "# read combine csv to dataframe\n",
    "df_2017 = pd.read_csv('combined_2017.csv')"
   ]
  },
  {
   "cell_type": "code",
   "execution_count": 5,
   "metadata": {},
   "outputs": [
    {
     "output_type": "execute_result",
     "data": {
      "text/plain": [
       "   Unnamed: 0  fixture_id  h_result                 event_date  \\\n",
       "0           0       11902         2  2017-08-13T15:00:00+00:00   \n",
       "1           1       11901         0  2017-08-19T11:30:00+00:00   \n",
       "2           2       11886         2  2017-08-26T16:30:00+00:00   \n",
       "3           3       11875         1  2017-09-09T16:30:00+00:00   \n",
       "4           4       11862         2  2017-09-17T15:00:00+00:00   \n",
       "\n",
       "             venue  h_team  a_team  h_halftime_score  a_haftime_score  \\\n",
       "0     Old Trafford      33      48                 1                0   \n",
       "1  Liberty Stadium      76      33                 0                1   \n",
       "2     Old Trafford      33      46                 0                0   \n",
       "3   bet365 Stadium      75      33                 1                1   \n",
       "4     Old Trafford      33      45                 1                0   \n",
       "\n",
       "   h_fulltime_score  ...  h_red_cards  a_red_cards  h_goalkeeper_saves  \\\n",
       "0                 4  ...          NaN          NaN                 1.0   \n",
       "1                 0  ...          NaN          NaN                 4.0   \n",
       "2                 2  ...          NaN          NaN                 4.0   \n",
       "3                 2  ...          NaN          NaN                 7.0   \n",
       "4                 4  ...          NaN          NaN                 3.0   \n",
       "\n",
       "   a_goalkeeper_saves  h_total_passes  a_total_passes  h_accurate_passes  \\\n",
       "0                 1.0             493             397                417   \n",
       "1                 0.0             406             601                315   \n",
       "2                 5.0             662             300                576   \n",
       "3                 3.0             332             564                252   \n",
       "4                 3.0             476             510                403   \n",
       "\n",
       "   a_accurate_passes  h_pass_percentage  a_pass_percentage  \n",
       "0                316                85%                80%  \n",
       "1                523                78%                87%  \n",
       "2                208                87%                69%  \n",
       "3                490                76%                87%  \n",
       "4                415                85%                81%  \n",
       "\n",
       "[5 rows x 43 columns]"
      ],
      "text/html": "<div>\n<style scoped>\n    .dataframe tbody tr th:only-of-type {\n        vertical-align: middle;\n    }\n\n    .dataframe tbody tr th {\n        vertical-align: top;\n    }\n\n    .dataframe thead th {\n        text-align: right;\n    }\n</style>\n<table border=\"1\" class=\"dataframe\">\n  <thead>\n    <tr style=\"text-align: right;\">\n      <th></th>\n      <th>Unnamed: 0</th>\n      <th>fixture_id</th>\n      <th>h_result</th>\n      <th>event_date</th>\n      <th>venue</th>\n      <th>h_team</th>\n      <th>a_team</th>\n      <th>h_halftime_score</th>\n      <th>a_haftime_score</th>\n      <th>h_fulltime_score</th>\n      <th>...</th>\n      <th>h_red_cards</th>\n      <th>a_red_cards</th>\n      <th>h_goalkeeper_saves</th>\n      <th>a_goalkeeper_saves</th>\n      <th>h_total_passes</th>\n      <th>a_total_passes</th>\n      <th>h_accurate_passes</th>\n      <th>a_accurate_passes</th>\n      <th>h_pass_percentage</th>\n      <th>a_pass_percentage</th>\n    </tr>\n  </thead>\n  <tbody>\n    <tr>\n      <th>0</th>\n      <td>0</td>\n      <td>11902</td>\n      <td>2</td>\n      <td>2017-08-13T15:00:00+00:00</td>\n      <td>Old Trafford</td>\n      <td>33</td>\n      <td>48</td>\n      <td>1</td>\n      <td>0</td>\n      <td>4</td>\n      <td>...</td>\n      <td>NaN</td>\n      <td>NaN</td>\n      <td>1.0</td>\n      <td>1.0</td>\n      <td>493</td>\n      <td>397</td>\n      <td>417</td>\n      <td>316</td>\n      <td>85%</td>\n      <td>80%</td>\n    </tr>\n    <tr>\n      <th>1</th>\n      <td>1</td>\n      <td>11901</td>\n      <td>0</td>\n      <td>2017-08-19T11:30:00+00:00</td>\n      <td>Liberty Stadium</td>\n      <td>76</td>\n      <td>33</td>\n      <td>0</td>\n      <td>1</td>\n      <td>0</td>\n      <td>...</td>\n      <td>NaN</td>\n      <td>NaN</td>\n      <td>4.0</td>\n      <td>0.0</td>\n      <td>406</td>\n      <td>601</td>\n      <td>315</td>\n      <td>523</td>\n      <td>78%</td>\n      <td>87%</td>\n    </tr>\n    <tr>\n      <th>2</th>\n      <td>2</td>\n      <td>11886</td>\n      <td>2</td>\n      <td>2017-08-26T16:30:00+00:00</td>\n      <td>Old Trafford</td>\n      <td>33</td>\n      <td>46</td>\n      <td>0</td>\n      <td>0</td>\n      <td>2</td>\n      <td>...</td>\n      <td>NaN</td>\n      <td>NaN</td>\n      <td>4.0</td>\n      <td>5.0</td>\n      <td>662</td>\n      <td>300</td>\n      <td>576</td>\n      <td>208</td>\n      <td>87%</td>\n      <td>69%</td>\n    </tr>\n    <tr>\n      <th>3</th>\n      <td>3</td>\n      <td>11875</td>\n      <td>1</td>\n      <td>2017-09-09T16:30:00+00:00</td>\n      <td>bet365 Stadium</td>\n      <td>75</td>\n      <td>33</td>\n      <td>1</td>\n      <td>1</td>\n      <td>2</td>\n      <td>...</td>\n      <td>NaN</td>\n      <td>NaN</td>\n      <td>7.0</td>\n      <td>3.0</td>\n      <td>332</td>\n      <td>564</td>\n      <td>252</td>\n      <td>490</td>\n      <td>76%</td>\n      <td>87%</td>\n    </tr>\n    <tr>\n      <th>4</th>\n      <td>4</td>\n      <td>11862</td>\n      <td>2</td>\n      <td>2017-09-17T15:00:00+00:00</td>\n      <td>Old Trafford</td>\n      <td>33</td>\n      <td>45</td>\n      <td>1</td>\n      <td>0</td>\n      <td>4</td>\n      <td>...</td>\n      <td>NaN</td>\n      <td>NaN</td>\n      <td>3.0</td>\n      <td>3.0</td>\n      <td>476</td>\n      <td>510</td>\n      <td>403</td>\n      <td>415</td>\n      <td>85%</td>\n      <td>81%</td>\n    </tr>\n  </tbody>\n</table>\n<p>5 rows × 43 columns</p>\n</div>"
     },
     "metadata": {},
     "execution_count": 5
    }
   ],
   "source": [
    "df_2017.head()"
   ]
  },
  {
   "cell_type": "code",
   "execution_count": 10,
   "metadata": {},
   "outputs": [
    {
     "output_type": "execute_result",
     "data": {
      "text/plain": [
       "Unnamed: 0             0\n",
       "fixture_id             0\n",
       "h_result               0\n",
       "event_date             0\n",
       "venue                  0\n",
       "h_team                 0\n",
       "a_team                 0\n",
       "h_halftime_score       0\n",
       "a_haftime_score        0\n",
       "h_fulltime_score       0\n",
       "a_fulltime_score       0\n",
       "h_shot_on_goal         0\n",
       "a_shot_on_goal         0\n",
       "h_shot_off_goal        0\n",
       "a_shot_off_goal        0\n",
       "h_total_shots          0\n",
       "a_total_shots          0\n",
       "h_blocked_shots        0\n",
       "a_blocked_shots        0\n",
       "h_shots_inside_box     0\n",
       "a_shots_inside_box     0\n",
       "h_shots_outside_box    0\n",
       "a_shots_outside_box    0\n",
       "h_fouls                0\n",
       "a_fouls                0\n",
       "h_corner_kicks         0\n",
       "a_corner_kicks         0\n",
       "h_offsides             0\n",
       "a_offsides             0\n",
       "h_ball_possession      0\n",
       "a_ball_possession      0\n",
       "h_yellow_cards         0\n",
       "a_yellow_cards         0\n",
       "h_red_cards            0\n",
       "a_red_cards            0\n",
       "h_goalkeeper_saves     0\n",
       "a_goalkeeper_saves     0\n",
       "h_total_passes         0\n",
       "a_total_passes         0\n",
       "h_accurate_passes      0\n",
       "a_accurate_passes      0\n",
       "h_pass_percentage      0\n",
       "a_pass_percentage      0\n",
       "dtype: int64"
      ]
     },
     "metadata": {},
     "execution_count": 10
    }
   ],
   "source": [
    "# convert nan to 0 values\n",
    "df_2017=df_2017.fillna(0)\n",
    "df_2017.isnull().sum()"
   ]
  },
  {
   "cell_type": "code",
   "execution_count": 11,
   "metadata": {},
   "outputs": [
    {
     "output_type": "execute_result",
     "data": {
      "text/plain": [
       "   Unnamed: 0  h_result  h_team  a_team  h_halftime_score  a_haftime_score  \\\n",
       "0           0         2      33      48                 1                0   \n",
       "1           1         0      76      33                 0                1   \n",
       "2           2         2      33      46                 0                0   \n",
       "3           3         1      75      33                 1                1   \n",
       "4           4         2      33      45                 1                0   \n",
       "\n",
       "   h_fulltime_score  a_fulltime_score  h_shot_on_goal  a_shot_on_goal  ...  \\\n",
       "0                 4                 0               5               1  ...   \n",
       "1                 0                 4               0               8  ...   \n",
       "2                 2                 0               7               4  ...   \n",
       "3                 2                 2               5               8  ...   \n",
       "4                 4                 0               7               3  ...   \n",
       "\n",
       "   h_red_cards  a_red_cards  h_goalkeeper_saves  a_goalkeeper_saves  \\\n",
       "0          0.0          0.0                 1.0                 1.0   \n",
       "1          0.0          0.0                 4.0                 0.0   \n",
       "2          0.0          0.0                 4.0                 5.0   \n",
       "3          0.0          0.0                 7.0                 3.0   \n",
       "4          0.0          0.0                 3.0                 3.0   \n",
       "\n",
       "   h_total_passes  a_total_passes  h_accurate_passes  a_accurate_passes  \\\n",
       "0             493             397                417                316   \n",
       "1             406             601                315                523   \n",
       "2             662             300                576                208   \n",
       "3             332             564                252                490   \n",
       "4             476             510                403                415   \n",
       "\n",
       "   h_pass_percentage  a_pass_percentage  \n",
       "0                85%                80%  \n",
       "1                78%                87%  \n",
       "2                87%                69%  \n",
       "3                76%                87%  \n",
       "4                85%                81%  \n",
       "\n",
       "[5 rows x 40 columns]"
      ],
      "text/html": "<div>\n<style scoped>\n    .dataframe tbody tr th:only-of-type {\n        vertical-align: middle;\n    }\n\n    .dataframe tbody tr th {\n        vertical-align: top;\n    }\n\n    .dataframe thead th {\n        text-align: right;\n    }\n</style>\n<table border=\"1\" class=\"dataframe\">\n  <thead>\n    <tr style=\"text-align: right;\">\n      <th></th>\n      <th>Unnamed: 0</th>\n      <th>h_result</th>\n      <th>h_team</th>\n      <th>a_team</th>\n      <th>h_halftime_score</th>\n      <th>a_haftime_score</th>\n      <th>h_fulltime_score</th>\n      <th>a_fulltime_score</th>\n      <th>h_shot_on_goal</th>\n      <th>a_shot_on_goal</th>\n      <th>...</th>\n      <th>h_red_cards</th>\n      <th>a_red_cards</th>\n      <th>h_goalkeeper_saves</th>\n      <th>a_goalkeeper_saves</th>\n      <th>h_total_passes</th>\n      <th>a_total_passes</th>\n      <th>h_accurate_passes</th>\n      <th>a_accurate_passes</th>\n      <th>h_pass_percentage</th>\n      <th>a_pass_percentage</th>\n    </tr>\n  </thead>\n  <tbody>\n    <tr>\n      <th>0</th>\n      <td>0</td>\n      <td>2</td>\n      <td>33</td>\n      <td>48</td>\n      <td>1</td>\n      <td>0</td>\n      <td>4</td>\n      <td>0</td>\n      <td>5</td>\n      <td>1</td>\n      <td>...</td>\n      <td>0.0</td>\n      <td>0.0</td>\n      <td>1.0</td>\n      <td>1.0</td>\n      <td>493</td>\n      <td>397</td>\n      <td>417</td>\n      <td>316</td>\n      <td>85%</td>\n      <td>80%</td>\n    </tr>\n    <tr>\n      <th>1</th>\n      <td>1</td>\n      <td>0</td>\n      <td>76</td>\n      <td>33</td>\n      <td>0</td>\n      <td>1</td>\n      <td>0</td>\n      <td>4</td>\n      <td>0</td>\n      <td>8</td>\n      <td>...</td>\n      <td>0.0</td>\n      <td>0.0</td>\n      <td>4.0</td>\n      <td>0.0</td>\n      <td>406</td>\n      <td>601</td>\n      <td>315</td>\n      <td>523</td>\n      <td>78%</td>\n      <td>87%</td>\n    </tr>\n    <tr>\n      <th>2</th>\n      <td>2</td>\n      <td>2</td>\n      <td>33</td>\n      <td>46</td>\n      <td>0</td>\n      <td>0</td>\n      <td>2</td>\n      <td>0</td>\n      <td>7</td>\n      <td>4</td>\n      <td>...</td>\n      <td>0.0</td>\n      <td>0.0</td>\n      <td>4.0</td>\n      <td>5.0</td>\n      <td>662</td>\n      <td>300</td>\n      <td>576</td>\n      <td>208</td>\n      <td>87%</td>\n      <td>69%</td>\n    </tr>\n    <tr>\n      <th>3</th>\n      <td>3</td>\n      <td>1</td>\n      <td>75</td>\n      <td>33</td>\n      <td>1</td>\n      <td>1</td>\n      <td>2</td>\n      <td>2</td>\n      <td>5</td>\n      <td>8</td>\n      <td>...</td>\n      <td>0.0</td>\n      <td>0.0</td>\n      <td>7.0</td>\n      <td>3.0</td>\n      <td>332</td>\n      <td>564</td>\n      <td>252</td>\n      <td>490</td>\n      <td>76%</td>\n      <td>87%</td>\n    </tr>\n    <tr>\n      <th>4</th>\n      <td>4</td>\n      <td>2</td>\n      <td>33</td>\n      <td>45</td>\n      <td>1</td>\n      <td>0</td>\n      <td>4</td>\n      <td>0</td>\n      <td>7</td>\n      <td>3</td>\n      <td>...</td>\n      <td>0.0</td>\n      <td>0.0</td>\n      <td>3.0</td>\n      <td>3.0</td>\n      <td>476</td>\n      <td>510</td>\n      <td>403</td>\n      <td>415</td>\n      <td>85%</td>\n      <td>81%</td>\n    </tr>\n  </tbody>\n</table>\n<p>5 rows × 40 columns</p>\n</div>"
     },
     "metadata": {},
     "execution_count": 11
    }
   ],
   "source": [
    "#define feature sets\n",
    "X = df_2017.copy()\n",
    "X.drop(columns=[\"venue\",\"event_date\",\"fixture_id\"], inplace=True)\n",
    "X.head()"
   ]
  },
  {
   "cell_type": "code",
   "execution_count": 22,
   "metadata": {},
   "outputs": [
    {
     "output_type": "error",
     "ename": "NameError",
     "evalue": "name 'y' is not defined",
     "traceback": [
      "\u001b[1;31m---------------------------------------------------------------------------\u001b[0m",
      "\u001b[1;31mNameError\u001b[0m                                 Traceback (most recent call last)",
      "\u001b[1;32m<ipython-input-22-d2a419de616b>\u001b[0m in \u001b[0;36m<module>\u001b[1;34m\u001b[0m\n\u001b[1;32m----> 1\u001b[1;33m \u001b[0mX_train\u001b[0m\u001b[1;33m,\u001b[0m \u001b[0mX_test\u001b[0m\u001b[1;33m,\u001b[0m \u001b[0my_train\u001b[0m\u001b[1;33m,\u001b[0m \u001b[0my_test\u001b[0m \u001b[1;33m=\u001b[0m \u001b[0mtrain_test_split\u001b[0m\u001b[1;33m(\u001b[0m\u001b[0mX\u001b[0m\u001b[1;33m,\u001b[0m \u001b[0my\u001b[0m\u001b[1;33m,\u001b[0m \u001b[0mrandom_state\u001b[0m\u001b[1;33m=\u001b[0m\u001b[1;36m5\u001b[0m\u001b[1;33m)\u001b[0m\u001b[1;33m\u001b[0m\u001b[1;33m\u001b[0m\u001b[0m\n\u001b[0m",
      "\u001b[1;31mNameError\u001b[0m: name 'y' is not defined"
     ]
    }
   ],
   "source": [
    "y= \n",
    "X_train, X_test, y_train, y_test = train_test_split(X, y, random_state=5)"
   ]
  },
  {
   "cell_type": "code",
   "execution_count": null,
   "metadata": {},
   "outputs": [],
   "source": []
  }
 ]
}