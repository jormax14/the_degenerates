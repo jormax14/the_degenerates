{
 "metadata": {
  "language_info": {
   "codemirror_mode": {
    "name": "ipython",
    "version": 3
   },
   "file_extension": ".py",
   "mimetype": "text/x-python",
   "name": "python",
   "nbconvert_exporter": "python",
   "pygments_lexer": "ipython3",
   "version": "3.8.5-final"
  },
  "orig_nbformat": 2,
  "kernelspec": {
   "name": "python3",
   "display_name": "Python 3",
   "language": "python"
  }
 },
 "nbformat": 4,
 "nbformat_minor": 2,
 "cells": [
  {
   "cell_type": "code",
   "execution_count": 1,
   "metadata": {},
   "outputs": [],
   "source": [
    "import pandas as pd\n",
    "import numpy as np\n",
    "import os\n",
    "from dotenv import load_dotenv\n",
    "import requests\n",
    "import json\n",
    "from pprint import pprint\n",
    "from datetime import datetime\n",
    "from pathlib import Path"
   ]
  },
  {
   "cell_type": "code",
   "execution_count": 2,
   "metadata": {},
   "outputs": [],
   "source": [
    "# #csv sports_io data pull if the api is not utilized\n",
    "\n",
    "# data_dict = {}\n",
    "# csv_path = f'../data/sports_io/'\n",
    "\n",
    "# for i in os.listdir(csv_path):\n",
    "#     data_df = pd.read_csv(csv_path + i)\n",
    "    \n",
    "#     data_dict[i.split('.')[0]] = data_df\n",
    "\n",
    "# print(data_dict.keys())"
   ]
  },
  {
   "cell_type": "code",
   "execution_count": 5,
   "metadata": {},
   "outputs": [],
   "source": [
    "#sports_io nba documentation link:  https://fantasydata.com/api/api-documentation/nba#\n",
    "#data_set_list = ['GamesByDate', 'GameOddsByDate', 'GameOddsLineMovement', 'Schedules', 'Stadiums', 'TeamGameStatsByDate', 'TeamSeasonStats']\n",
    "#odds_data_set_dict = {'GamesByDate' : 'YYYY-MM-DD', 'GameOddsByDate' : 'YYYY-MM-DD', 'GameOddsLineMovement' : 'GameID', 'Schedules' : 'Season', 'Stadiums' : NaN, 'TeamGameStatsByDate' : 'YYYY-MM-DD', 'TeamSeasonStats' : 'Season'}\n",
    "\n",
    "#assign sports_io api key\n",
    "load_dotenv()\n",
    "sports_io_api_key = os.getenv('sports_io_api_key')\n",
    "\n",
    "\n",
    "#assign sports_io url to variable that can be pulled with different parameters\n",
    "def sports_io_api_pull(data_set, data_set_parameter, sports_io_api_key):\n",
    "    sports_io_odds_url = f\"https://api.sportsdata.io/api/nba/odds/json/{data_set}/{data_set_parameter}?key={sports_io_api_key}\"\n",
    "\n",
    "    response_data = pd.read_json(sports_io_odds_url)\n",
    "\n",
    "    # response_df = pd.DataFrame(response_data)\n",
    "\n",
    "    return response_data"
   ]
  },
  {
   "cell_type": "code",
   "execution_count": 6,
   "metadata": {},
   "outputs": [],
   "source": [
    "data_set = 'GamesByDate'\n",
    "date_list = pd.date_range(start = '1/2/2020', periods = 5).strftime(('%Y-%m-%d'))\n",
    "\n",
    "nba_odds_list = []\n",
    "\n",
    "for i in date_list:\n",
    "\n",
    "    nba_odds_data = sports_io_api_pull(data_set, i, sports_io_api_key)\n",
    "    nba_odds_list.append(nba_odds_data)\n",
    "\n",
    "nba_odds_df = pd.concat(nba_odds_list, axis = 0).drop(columns = 'Quarters')"
   ]
  },
  {
   "cell_type": "code",
   "execution_count": 7,
   "metadata": {},
   "outputs": [
    {
     "output_type": "execute_result",
     "data": {
      "text/plain": [
       "   GameID  Season  SeasonType Status                  Day            DateTime  \\\n",
       "0   14411    2020           1  Final  2020-01-02T00:00:00 2020-01-02 19:00:00   \n",
       "1   14412    2020           1  Final  2020-01-02T00:00:00 2020-01-02 19:00:00   \n",
       "2   14413    2020           1  Final  2020-01-02T00:00:00 2020-01-02 19:30:00   \n",
       "3   14414    2020           1  Final  2020-01-02T00:00:00 2020-01-02 20:00:00   \n",
       "4   14415    2020           1  Final  2020-01-02T00:00:00 2020-01-02 20:00:00   \n",
       "\n",
       "  AwayTeam HomeTeam  AwayTeamID  HomeTeamID  StadiumID  AwayTeamScore  \\\n",
       "0      CHA      CLE           2          12         12            109   \n",
       "1      DEN      IND          20          13         13            124   \n",
       "2      TOR      MIA          10           4          4             76   \n",
       "3      UTA      CHI          17          11         11            102   \n",
       "4       GS      MIN          26          16         16             84   \n",
       "\n",
       "   HomeTeamScore  PointSpread  OverUnder  AwayTeamMoneyLine  \\\n",
       "0            106         -1.5      212.5                105   \n",
       "1            116          1.0      208.5               -113   \n",
       "2             84         -5.5      214.5                177   \n",
       "3             98          3.0      209.0               -155   \n",
       "4             99         -3.0      212.0                126   \n",
       "\n",
       "   HomeTeamMoneyLine  HomeRotationNumber  AwayRotationNumber  NeutralVenue  \n",
       "0               -125               546.0               545.0         False  \n",
       "1               -107               548.0               547.0         False  \n",
       "2               -217               550.0               549.0         False  \n",
       "3                130                 NaN                 NaN         False  \n",
       "4               -150               552.0               551.0         False  "
      ],
      "text/html": "<div>\n<style scoped>\n    .dataframe tbody tr th:only-of-type {\n        vertical-align: middle;\n    }\n\n    .dataframe tbody tr th {\n        vertical-align: top;\n    }\n\n    .dataframe thead th {\n        text-align: right;\n    }\n</style>\n<table border=\"1\" class=\"dataframe\">\n  <thead>\n    <tr style=\"text-align: right;\">\n      <th></th>\n      <th>GameID</th>\n      <th>Season</th>\n      <th>SeasonType</th>\n      <th>Status</th>\n      <th>Day</th>\n      <th>DateTime</th>\n      <th>AwayTeam</th>\n      <th>HomeTeam</th>\n      <th>AwayTeamID</th>\n      <th>HomeTeamID</th>\n      <th>StadiumID</th>\n      <th>AwayTeamScore</th>\n      <th>HomeTeamScore</th>\n      <th>PointSpread</th>\n      <th>OverUnder</th>\n      <th>AwayTeamMoneyLine</th>\n      <th>HomeTeamMoneyLine</th>\n      <th>HomeRotationNumber</th>\n      <th>AwayRotationNumber</th>\n      <th>NeutralVenue</th>\n    </tr>\n  </thead>\n  <tbody>\n    <tr>\n      <th>0</th>\n      <td>14411</td>\n      <td>2020</td>\n      <td>1</td>\n      <td>Final</td>\n      <td>2020-01-02T00:00:00</td>\n      <td>2020-01-02 19:00:00</td>\n      <td>CHA</td>\n      <td>CLE</td>\n      <td>2</td>\n      <td>12</td>\n      <td>12</td>\n      <td>109</td>\n      <td>106</td>\n      <td>-1.5</td>\n      <td>212.5</td>\n      <td>105</td>\n      <td>-125</td>\n      <td>546.0</td>\n      <td>545.0</td>\n      <td>False</td>\n    </tr>\n    <tr>\n      <th>1</th>\n      <td>14412</td>\n      <td>2020</td>\n      <td>1</td>\n      <td>Final</td>\n      <td>2020-01-02T00:00:00</td>\n      <td>2020-01-02 19:00:00</td>\n      <td>DEN</td>\n      <td>IND</td>\n      <td>20</td>\n      <td>13</td>\n      <td>13</td>\n      <td>124</td>\n      <td>116</td>\n      <td>1.0</td>\n      <td>208.5</td>\n      <td>-113</td>\n      <td>-107</td>\n      <td>548.0</td>\n      <td>547.0</td>\n      <td>False</td>\n    </tr>\n    <tr>\n      <th>2</th>\n      <td>14413</td>\n      <td>2020</td>\n      <td>1</td>\n      <td>Final</td>\n      <td>2020-01-02T00:00:00</td>\n      <td>2020-01-02 19:30:00</td>\n      <td>TOR</td>\n      <td>MIA</td>\n      <td>10</td>\n      <td>4</td>\n      <td>4</td>\n      <td>76</td>\n      <td>84</td>\n      <td>-5.5</td>\n      <td>214.5</td>\n      <td>177</td>\n      <td>-217</td>\n      <td>550.0</td>\n      <td>549.0</td>\n      <td>False</td>\n    </tr>\n    <tr>\n      <th>3</th>\n      <td>14414</td>\n      <td>2020</td>\n      <td>1</td>\n      <td>Final</td>\n      <td>2020-01-02T00:00:00</td>\n      <td>2020-01-02 20:00:00</td>\n      <td>UTA</td>\n      <td>CHI</td>\n      <td>17</td>\n      <td>11</td>\n      <td>11</td>\n      <td>102</td>\n      <td>98</td>\n      <td>3.0</td>\n      <td>209.0</td>\n      <td>-155</td>\n      <td>130</td>\n      <td>NaN</td>\n      <td>NaN</td>\n      <td>False</td>\n    </tr>\n    <tr>\n      <th>4</th>\n      <td>14415</td>\n      <td>2020</td>\n      <td>1</td>\n      <td>Final</td>\n      <td>2020-01-02T00:00:00</td>\n      <td>2020-01-02 20:00:00</td>\n      <td>GS</td>\n      <td>MIN</td>\n      <td>26</td>\n      <td>16</td>\n      <td>16</td>\n      <td>84</td>\n      <td>99</td>\n      <td>-3.0</td>\n      <td>212.0</td>\n      <td>126</td>\n      <td>-150</td>\n      <td>552.0</td>\n      <td>551.0</td>\n      <td>False</td>\n    </tr>\n  </tbody>\n</table>\n</div>"
     },
     "metadata": {},
     "execution_count": 7
    }
   ],
   "source": [
    "nba_odds_df.head()"
   ]
  },
  {
   "cell_type": "code",
   "execution_count": 6,
   "metadata": {},
   "outputs": [],
   "source": [
    "data_set_ii = 'GameOddsLineMovement'\n",
    "game_list = list(nba_odds_df['GameID'])\n",
    "\n",
    "opening_lines_list = []\n",
    "\n",
    "for i in game_list:\n",
    "\n",
    "    line_movement_data = sports_io_api_pull(data_set_ii, i, sports_io_api_key)\n",
    "\n",
    "    line_movement_data['PregameOdds'] = line_movement_data['PregameOdds'].apply(pd.DataFrame)\n",
    "    line_movement_data['opening_lines_home'] = line_movement_data['PregameOdds'].apply(lambda x: x.loc[x['Created'] == x['Created'].min(), 'HomePointSpread'])\n",
    "    line_movement_data = line_movement_data[['GameId', 'opening_lines_home']]\n",
    "\n",
    "    opening_lines_list.append(line_movement_data)\n",
    "\n",
    "opening_lines_df = pd.concat(opening_lines_list).reset_index(drop = True)"
   ]
  },
  {
   "cell_type": "code",
   "execution_count": 8,
   "metadata": {},
   "outputs": [
    {
     "output_type": "execute_result",
     "data": {
      "text/plain": [
       "   GameID  Season  SeasonType Status                  Day  \\\n",
       "0   14411    2020           1  Final  2020-01-02T00:00:00   \n",
       "1   14412    2020           1  Final  2020-01-02T00:00:00   \n",
       "2   14413    2020           1  Final  2020-01-02T00:00:00   \n",
       "3   14414    2020           1  Final  2020-01-02T00:00:00   \n",
       "4   14415    2020           1  Final  2020-01-02T00:00:00   \n",
       "\n",
       "              DateTime AwayTeam HomeTeam  AwayTeamID  HomeTeamID  StadiumID  \\\n",
       "0  2020-01-02T19:00:00      CHA      CLE           2          12         12   \n",
       "1  2020-01-02T19:00:00      DEN      IND          20          13         13   \n",
       "2  2020-01-02T19:30:00      TOR      MIA          10           4          4   \n",
       "3  2020-01-02T20:00:00      UTA      CHI          17          11         11   \n",
       "4  2020-01-02T20:00:00       GS      MIN          26          16         16   \n",
       "\n",
       "   AwayTeamScore  HomeTeamScore  PointSpread  OverUnder  AwayTeamMoneyLine  \\\n",
       "0            109            106         -1.5      212.5                105   \n",
       "1            124            116          1.0      208.5               -113   \n",
       "2             76             84         -5.5      214.5                177   \n",
       "3            102             98          3.0      209.0               -155   \n",
       "4             84             99         -3.0      212.0                126   \n",
       "\n",
       "   HomeTeamMoneyLine  HomeRotationNumber  AwayRotationNumber  NeutralVenue  \n",
       "0               -125               546.0               545.0         False  \n",
       "1               -107               548.0               547.0         False  \n",
       "2               -217               550.0               549.0         False  \n",
       "3                130                 NaN                 NaN         False  \n",
       "4               -150               552.0               551.0         False  "
      ],
      "text/html": "<div>\n<style scoped>\n    .dataframe tbody tr th:only-of-type {\n        vertical-align: middle;\n    }\n\n    .dataframe tbody tr th {\n        vertical-align: top;\n    }\n\n    .dataframe thead th {\n        text-align: right;\n    }\n</style>\n<table border=\"1\" class=\"dataframe\">\n  <thead>\n    <tr style=\"text-align: right;\">\n      <th></th>\n      <th>GameID</th>\n      <th>Season</th>\n      <th>SeasonType</th>\n      <th>Status</th>\n      <th>Day</th>\n      <th>DateTime</th>\n      <th>AwayTeam</th>\n      <th>HomeTeam</th>\n      <th>AwayTeamID</th>\n      <th>HomeTeamID</th>\n      <th>StadiumID</th>\n      <th>AwayTeamScore</th>\n      <th>HomeTeamScore</th>\n      <th>PointSpread</th>\n      <th>OverUnder</th>\n      <th>AwayTeamMoneyLine</th>\n      <th>HomeTeamMoneyLine</th>\n      <th>HomeRotationNumber</th>\n      <th>AwayRotationNumber</th>\n      <th>NeutralVenue</th>\n    </tr>\n  </thead>\n  <tbody>\n    <tr>\n      <th>0</th>\n      <td>14411</td>\n      <td>2020</td>\n      <td>1</td>\n      <td>Final</td>\n      <td>2020-01-02T00:00:00</td>\n      <td>2020-01-02T19:00:00</td>\n      <td>CHA</td>\n      <td>CLE</td>\n      <td>2</td>\n      <td>12</td>\n      <td>12</td>\n      <td>109</td>\n      <td>106</td>\n      <td>-1.5</td>\n      <td>212.5</td>\n      <td>105</td>\n      <td>-125</td>\n      <td>546.0</td>\n      <td>545.0</td>\n      <td>False</td>\n    </tr>\n    <tr>\n      <th>1</th>\n      <td>14412</td>\n      <td>2020</td>\n      <td>1</td>\n      <td>Final</td>\n      <td>2020-01-02T00:00:00</td>\n      <td>2020-01-02T19:00:00</td>\n      <td>DEN</td>\n      <td>IND</td>\n      <td>20</td>\n      <td>13</td>\n      <td>13</td>\n      <td>124</td>\n      <td>116</td>\n      <td>1.0</td>\n      <td>208.5</td>\n      <td>-113</td>\n      <td>-107</td>\n      <td>548.0</td>\n      <td>547.0</td>\n      <td>False</td>\n    </tr>\n    <tr>\n      <th>2</th>\n      <td>14413</td>\n      <td>2020</td>\n      <td>1</td>\n      <td>Final</td>\n      <td>2020-01-02T00:00:00</td>\n      <td>2020-01-02T19:30:00</td>\n      <td>TOR</td>\n      <td>MIA</td>\n      <td>10</td>\n      <td>4</td>\n      <td>4</td>\n      <td>76</td>\n      <td>84</td>\n      <td>-5.5</td>\n      <td>214.5</td>\n      <td>177</td>\n      <td>-217</td>\n      <td>550.0</td>\n      <td>549.0</td>\n      <td>False</td>\n    </tr>\n    <tr>\n      <th>3</th>\n      <td>14414</td>\n      <td>2020</td>\n      <td>1</td>\n      <td>Final</td>\n      <td>2020-01-02T00:00:00</td>\n      <td>2020-01-02T20:00:00</td>\n      <td>UTA</td>\n      <td>CHI</td>\n      <td>17</td>\n      <td>11</td>\n      <td>11</td>\n      <td>102</td>\n      <td>98</td>\n      <td>3.0</td>\n      <td>209.0</td>\n      <td>-155</td>\n      <td>130</td>\n      <td>NaN</td>\n      <td>NaN</td>\n      <td>False</td>\n    </tr>\n    <tr>\n      <th>4</th>\n      <td>14415</td>\n      <td>2020</td>\n      <td>1</td>\n      <td>Final</td>\n      <td>2020-01-02T00:00:00</td>\n      <td>2020-01-02T20:00:00</td>\n      <td>GS</td>\n      <td>MIN</td>\n      <td>26</td>\n      <td>16</td>\n      <td>16</td>\n      <td>84</td>\n      <td>99</td>\n      <td>-3.0</td>\n      <td>212.0</td>\n      <td>126</td>\n      <td>-150</td>\n      <td>552.0</td>\n      <td>551.0</td>\n      <td>False</td>\n    </tr>\n  </tbody>\n</table>\n</div>"
     },
     "metadata": {},
     "execution_count": 8
    }
   ],
   "source": [
    "nba_odds_df.head()"
   ]
  }
 ]
}