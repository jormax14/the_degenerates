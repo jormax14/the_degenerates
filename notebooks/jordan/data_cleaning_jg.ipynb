{
 "metadata": {
  "language_info": {
   "codemirror_mode": {
    "name": "ipython",
    "version": 3
   },
   "file_extension": ".py",
   "mimetype": "text/x-python",
   "name": "python",
   "nbconvert_exporter": "python",
   "pygments_lexer": "ipython3",
   "version": "3.8.5-final"
  },
  "orig_nbformat": 2,
  "kernelspec": {
   "name": "python3",
   "display_name": "Python 3",
   "language": "python"
  }
 },
 "nbformat": 4,
 "nbformat_minor": 2,
 "cells": [
  {
   "cell_type": "code",
   "execution_count": 1,
   "metadata": {},
   "outputs": [],
   "source": [
    "import pandas as pd\n",
    "import numpy as np\n",
    "import os\n",
    "from dotenv import load_dotenv\n",
    "import requests\n",
    "import json\n",
    "from pprint import pprint\n",
    "from datetime import datetime\n",
    "from pathlib import Path"
   ]
  },
  {
   "cell_type": "code",
   "execution_count": 2,
   "metadata": {},
   "outputs": [],
   "source": [
    "# #csv sports_io data pull if the api is not utilized\n",
    "\n",
    "# data_dict = {}\n",
    "# csv_path = f'../data/sports_io/'\n",
    "\n",
    "# for i in os.listdir(csv_path):\n",
    "#     data_df = pd.read_csv(csv_path + i)\n",
    "    \n",
    "#     data_dict[i.split('.')[0]] = data_df\n",
    "\n",
    "# print(data_dict.keys())"
   ]
  },
  {
   "cell_type": "code",
   "execution_count": 20,
   "metadata": {},
   "outputs": [],
   "source": [
    "#sports_io nba documentation link:  https://fantasydata.com/api/api-documentation/nba#\n",
    "#data_set_list = ['GamesByDate', 'GameOddsByDate', 'GameOddsLineMovement', 'Schedules', 'Stadiums', 'TeamGameStatsByDate', 'TeamSeasonStats']\n",
    "#odds_data_set_dict = {'GamesByDate' : 'YYYY-MM-DD', 'GameOddsByDate' : 'YYYY-MM-DD', 'GameOddsLineMovement' : 'GameID', 'Schedules' : 'Season', 'Stadiums' : NaN, 'TeamGameStatsByDate' : 'YYYY-MM-DD', 'TeamSeasonStats' : 'Season'}\n",
    "\n",
    "#assign sports_io api key\n",
    "load_dotenv()\n",
    "sports_io_api_key = os.getenv('sports_io_api_key')\n",
    "\n",
    "\n",
    "#assign sports_io url to variable that can be pulled with different parameters\n",
    "def sports_io_api_pull(data_set, data_set_parameter, sports_io_api_key):\n",
    "    sports_io_odds_url = f\"https://api.sportsdata.io/api/nba/odds/json/{data_set}/{data_set_parameter}?key={sports_io_api_key}\"\n",
    "\n",
    "    response_data = requests.get(sports_io_odds_url).json()\n",
    "\n",
    "    response_df = pd.DataFrame(response_data)\n",
    "\n",
    "    return response_df"
   ]
  },
  {
   "cell_type": "code",
   "execution_count": 18,
   "metadata": {},
   "outputs": [
    {
     "output_type": "execute_result",
     "data": {
      "text/plain": [
       "Index(['2020-01-02', '2020-01-03', '2020-01-04', '2020-01-05', '2020-01-06'], dtype='object')"
      ]
     },
     "metadata": {},
     "execution_count": 18
    }
   ],
   "source": [
    "date_list = pd.date_range(start = '1/2/2020', periods = 5).strftime(('%Y-%m-%d'))\n",
    "date_list"
   ]
  },
  {
   "cell_type": "code",
   "execution_count": 53,
   "metadata": {},
   "outputs": [],
   "source": [
    "data_set = 'GamesByDate'\n",
    "date_list = pd.date_range(start = '1/2/2020', periods = 5).strftime(('%Y-%m-%d'))\n",
    "\n",
    "nba_odds_list = []\n",
    "\n",
    "for i in date_list:\n",
    "\n",
    "    nba_odds_data = sports_io_api_pull(data_set, i, sports_io_api_key)\n",
    "    nba_odds_list.append(nba_odds_data)\n",
    "\n",
    "nba_odds_df = pd.concat(nba_odds_list, axis = 0)"
   ]
  },
  {
   "cell_type": "code",
   "execution_count": 54,
   "metadata": {},
   "outputs": [
    {
     "output_type": "execute_result",
     "data": {
      "text/plain": [
       "   GameID  Season  SeasonType Status                  Day  \\\n",
       "0   14411    2020           1  Final  2020-01-02T00:00:00   \n",
       "1   14412    2020           1  Final  2020-01-02T00:00:00   \n",
       "2   14413    2020           1  Final  2020-01-02T00:00:00   \n",
       "3   14414    2020           1  Final  2020-01-02T00:00:00   \n",
       "4   14415    2020           1  Final  2020-01-02T00:00:00   \n",
       "\n",
       "              DateTime AwayTeam HomeTeam  AwayTeamID  HomeTeamID  StadiumID  \\\n",
       "0  2020-01-02T19:00:00      CHA      CLE           2          12         12   \n",
       "1  2020-01-02T19:00:00      DEN      IND          20          13         13   \n",
       "2  2020-01-02T19:30:00      TOR      MIA          10           4          4   \n",
       "3  2020-01-02T20:00:00      UTA      CHI          17          11         11   \n",
       "4  2020-01-02T20:00:00       GS      MIN          26          16         16   \n",
       "\n",
       "   AwayTeamScore  HomeTeamScore  PointSpread  OverUnder  AwayTeamMoneyLine  \\\n",
       "0            109            106         -1.5      212.5                105   \n",
       "1            124            116          1.0      208.5               -113   \n",
       "2             76             84         -5.5      214.5                177   \n",
       "3            102             98          3.0      209.0               -155   \n",
       "4             84             99         -3.0      212.0                126   \n",
       "\n",
       "   HomeTeamMoneyLine  HomeRotationNumber  AwayRotationNumber  NeutralVenue  \n",
       "0               -125               546.0               545.0         False  \n",
       "1               -107               548.0               547.0         False  \n",
       "2               -217               550.0               549.0         False  \n",
       "3                130                 NaN                 NaN         False  \n",
       "4               -150               552.0               551.0         False  "
      ],
      "text/html": "<div>\n<style scoped>\n    .dataframe tbody tr th:only-of-type {\n        vertical-align: middle;\n    }\n\n    .dataframe tbody tr th {\n        vertical-align: top;\n    }\n\n    .dataframe thead th {\n        text-align: right;\n    }\n</style>\n<table border=\"1\" class=\"dataframe\">\n  <thead>\n    <tr style=\"text-align: right;\">\n      <th></th>\n      <th>GameID</th>\n      <th>Season</th>\n      <th>SeasonType</th>\n      <th>Status</th>\n      <th>Day</th>\n      <th>DateTime</th>\n      <th>AwayTeam</th>\n      <th>HomeTeam</th>\n      <th>AwayTeamID</th>\n      <th>HomeTeamID</th>\n      <th>StadiumID</th>\n      <th>AwayTeamScore</th>\n      <th>HomeTeamScore</th>\n      <th>PointSpread</th>\n      <th>OverUnder</th>\n      <th>AwayTeamMoneyLine</th>\n      <th>HomeTeamMoneyLine</th>\n      <th>HomeRotationNumber</th>\n      <th>AwayRotationNumber</th>\n      <th>NeutralVenue</th>\n    </tr>\n  </thead>\n  <tbody>\n    <tr>\n      <th>0</th>\n      <td>14411</td>\n      <td>2020</td>\n      <td>1</td>\n      <td>Final</td>\n      <td>2020-01-02T00:00:00</td>\n      <td>2020-01-02T19:00:00</td>\n      <td>CHA</td>\n      <td>CLE</td>\n      <td>2</td>\n      <td>12</td>\n      <td>12</td>\n      <td>109</td>\n      <td>106</td>\n      <td>-1.5</td>\n      <td>212.5</td>\n      <td>105</td>\n      <td>-125</td>\n      <td>546.0</td>\n      <td>545.0</td>\n      <td>False</td>\n    </tr>\n    <tr>\n      <th>1</th>\n      <td>14412</td>\n      <td>2020</td>\n      <td>1</td>\n      <td>Final</td>\n      <td>2020-01-02T00:00:00</td>\n      <td>2020-01-02T19:00:00</td>\n      <td>DEN</td>\n      <td>IND</td>\n      <td>20</td>\n      <td>13</td>\n      <td>13</td>\n      <td>124</td>\n      <td>116</td>\n      <td>1.0</td>\n      <td>208.5</td>\n      <td>-113</td>\n      <td>-107</td>\n      <td>548.0</td>\n      <td>547.0</td>\n      <td>False</td>\n    </tr>\n    <tr>\n      <th>2</th>\n      <td>14413</td>\n      <td>2020</td>\n      <td>1</td>\n      <td>Final</td>\n      <td>2020-01-02T00:00:00</td>\n      <td>2020-01-02T19:30:00</td>\n      <td>TOR</td>\n      <td>MIA</td>\n      <td>10</td>\n      <td>4</td>\n      <td>4</td>\n      <td>76</td>\n      <td>84</td>\n      <td>-5.5</td>\n      <td>214.5</td>\n      <td>177</td>\n      <td>-217</td>\n      <td>550.0</td>\n      <td>549.0</td>\n      <td>False</td>\n    </tr>\n    <tr>\n      <th>3</th>\n      <td>14414</td>\n      <td>2020</td>\n      <td>1</td>\n      <td>Final</td>\n      <td>2020-01-02T00:00:00</td>\n      <td>2020-01-02T20:00:00</td>\n      <td>UTA</td>\n      <td>CHI</td>\n      <td>17</td>\n      <td>11</td>\n      <td>11</td>\n      <td>102</td>\n      <td>98</td>\n      <td>3.0</td>\n      <td>209.0</td>\n      <td>-155</td>\n      <td>130</td>\n      <td>NaN</td>\n      <td>NaN</td>\n      <td>False</td>\n    </tr>\n    <tr>\n      <th>4</th>\n      <td>14415</td>\n      <td>2020</td>\n      <td>1</td>\n      <td>Final</td>\n      <td>2020-01-02T00:00:00</td>\n      <td>2020-01-02T20:00:00</td>\n      <td>GS</td>\n      <td>MIN</td>\n      <td>26</td>\n      <td>16</td>\n      <td>16</td>\n      <td>84</td>\n      <td>99</td>\n      <td>-3.0</td>\n      <td>212.0</td>\n      <td>126</td>\n      <td>-150</td>\n      <td>552.0</td>\n      <td>551.0</td>\n      <td>False</td>\n    </tr>\n  </tbody>\n</table>\n</div>"
     },
     "metadata": {},
     "execution_count": 54
    }
   ],
   "source": [
    "nba_odds_df_clean = nba_odds_df.drop(columns = 'Quarters')\n",
    "\n",
    "nba_odds_df_clean.head()"
   ]
  },
  {
   "cell_type": "code",
   "execution_count": 55,
   "metadata": {},
   "outputs": [
    {
     "output_type": "execute_result",
     "data": {
      "text/plain": [
       "Index(['GameID', 'Season', 'SeasonType', 'Status', 'Day', 'DateTime',\n",
       "       'AwayTeam', 'HomeTeam', 'AwayTeamID', 'HomeTeamID', 'StadiumID',\n",
       "       'AwayTeamScore', 'HomeTeamScore', 'PointSpread', 'OverUnder',\n",
       "       'AwayTeamMoneyLine', 'HomeTeamMoneyLine', 'HomeRotationNumber',\n",
       "       'AwayRotationNumber', 'NeutralVenue'],\n",
       "      dtype='object')"
      ]
     },
     "metadata": {},
     "execution_count": 55
    }
   ],
   "source": [
    "nba_odds_df_clean.columns"
   ]
  },
  {
   "cell_type": "code",
   "execution_count": 159,
   "metadata": {},
   "outputs": [
    {
     "output_type": "execute_result",
     "data": {
      "text/plain": [
       "   GameId  opening_lines\n",
       "0   14411           -2.5"
      ],
      "text/html": "<div>\n<style scoped>\n    .dataframe tbody tr th:only-of-type {\n        vertical-align: middle;\n    }\n\n    .dataframe tbody tr th {\n        vertical-align: top;\n    }\n\n    .dataframe thead th {\n        text-align: right;\n    }\n</style>\n<table border=\"1\" class=\"dataframe\">\n  <thead>\n    <tr style=\"text-align: right;\">\n      <th></th>\n      <th>GameId</th>\n      <th>opening_lines</th>\n    </tr>\n  </thead>\n  <tbody>\n    <tr>\n      <th>0</th>\n      <td>14411</td>\n      <td>-2.5</td>\n    </tr>\n  </tbody>\n</table>\n</div>"
     },
     "metadata": {},
     "execution_count": 159
    }
   ],
   "source": [
    "data_set_ii = 'GameOddsLineMovement'\n",
    "game_list = list(nba_odds_df_clean['GameID'])\n",
    "\n",
    "opening_lines_list = []\n",
    "\n",
    "for i in game_list:\n",
    "\n",
    "    line_movement_data = sports_io_api_pull(data_set_ii, i, sports_io_api_key)\n",
    "\n",
    "    line_movement_data['PregameOdds'] = line_movement_data['PregameOdds'].apply(pd.DataFrame)\n",
    "    line_movement_data['opening_lines'] = line_movement_data['PregameOdds'].apply(lambda x: x.loc[x['Created'] == x['Created'].min(), 'HomePointSpread'])\n",
    "    line_movement_data = line_movement_df[['GameId', 'opening_lines']]\n",
    "\n",
    "    opening_lines_list.appending(line_movement_data)\n",
    "\n",
    "opening_lines_df = opening_lines_df"
   ]
  },
  {
   "cell_type": "code",
   "execution_count": 154,
   "metadata": {},
   "outputs": [],
   "source": [
    "line_movement_df['PregameOdds'] = line_movement_df['PregameOdds'].apply(pd.DataFrame)\n",
    "line_movement_df['opening_lines'] = line_movement_df['PregameOdds'].apply(lambda x: x.loc[x['Created'] == x['Created'].min(), 'HomePointSpread'])\n",
    "# line_movement_df['opening_line'] = line_movement_df['PregameOdds'].apply(lambda x: x.loc[x['Created'] == x['Created'].min(), x['HomePointSpread']])\n",
    "\n",
    "# line_movement_df['opening_line'] = line_movement_df['PregameOdds'].apply(lambda x: x.loc[x['Created'] == x['Created'].min(), :])\n"
   ]
  },
  {
   "cell_type": "code",
   "execution_count": 157,
   "metadata": {},
   "outputs": [],
   "source": [
    "line_movement_df['opening_lines'] = line_movement_df['PregameOdds'].apply(lambda x: x.loc[x['Created'] == x['Created'].min(), 'HomePointSpread'])"
   ]
  },
  {
   "cell_type": "code",
   "execution_count": 158,
   "metadata": {},
   "outputs": [
    {
     "output_type": "execute_result",
     "data": {
      "text/plain": [
       "   GameId  Season  SeasonType                  Day             DateTime  \\\n",
       "0   14411    2020           1  2020-01-02T00:00:00  2020-01-02T19:00:00   \n",
       "\n",
       "  Status  AwayTeamId  HomeTeamId AwayTeamName HomeTeamName  HomeTeamScore  \\\n",
       "0  Final           2          12          CHA          CLE            106   \n",
       "\n",
       "   AwayTeamScore  TotalScore  HomeRotationNumber  AwayRotationNumber  \\\n",
       "0            109         215                 546                 545   \n",
       "\n",
       "                                         PregameOdds  opening_lines  \n",
       "0      GameOddId Sportsbook  GameId              ...           -2.5  "
      ],
      "text/html": "<div>\n<style scoped>\n    .dataframe tbody tr th:only-of-type {\n        vertical-align: middle;\n    }\n\n    .dataframe tbody tr th {\n        vertical-align: top;\n    }\n\n    .dataframe thead th {\n        text-align: right;\n    }\n</style>\n<table border=\"1\" class=\"dataframe\">\n  <thead>\n    <tr style=\"text-align: right;\">\n      <th></th>\n      <th>GameId</th>\n      <th>Season</th>\n      <th>SeasonType</th>\n      <th>Day</th>\n      <th>DateTime</th>\n      <th>Status</th>\n      <th>AwayTeamId</th>\n      <th>HomeTeamId</th>\n      <th>AwayTeamName</th>\n      <th>HomeTeamName</th>\n      <th>HomeTeamScore</th>\n      <th>AwayTeamScore</th>\n      <th>TotalScore</th>\n      <th>HomeRotationNumber</th>\n      <th>AwayRotationNumber</th>\n      <th>PregameOdds</th>\n      <th>opening_lines</th>\n    </tr>\n  </thead>\n  <tbody>\n    <tr>\n      <th>0</th>\n      <td>14411</td>\n      <td>2020</td>\n      <td>1</td>\n      <td>2020-01-02T00:00:00</td>\n      <td>2020-01-02T19:00:00</td>\n      <td>Final</td>\n      <td>2</td>\n      <td>12</td>\n      <td>CHA</td>\n      <td>CLE</td>\n      <td>106</td>\n      <td>109</td>\n      <td>215</td>\n      <td>546</td>\n      <td>545</td>\n      <td>GameOddId Sportsbook  GameId              ...</td>\n      <td>-2.5</td>\n    </tr>\n  </tbody>\n</table>\n</div>"
     },
     "metadata": {},
     "execution_count": 158
    }
   ],
   "source": [
    "line_movement_df.head()"
   ]
  },
  {
   "cell_type": "code",
   "execution_count": 145,
   "metadata": {},
   "outputs": [],
   "source": [
    "test = pd.concat(list(line_movement_df['PregameOdds']))"
   ]
  },
  {
   "cell_type": "code",
   "execution_count": 152,
   "metadata": {},
   "outputs": [
    {
     "output_type": "execute_result",
     "data": {
      "text/plain": [
       "38   -2.5\n",
       "Name: HomePointSpread, dtype: float64"
      ]
     },
     "metadata": {},
     "execution_count": 152
    }
   ],
   "source": [
    "test = line_movement_df['PregameOdds'][0]\n",
    "test = test.loc[test['Created'] == test['Created'].min(), 'HomePointSpread']\n",
    "test"
   ]
  },
  {
   "cell_type": "code",
   "execution_count": 107,
   "metadata": {},
   "outputs": [
    {
     "output_type": "execute_result",
     "data": {
      "text/plain": [
       "   GameOddId Sportsbook  GameId              Created              Updated  \\\n",
       "0    1502546       None   14411  2020-01-02T18:02:24  2020-01-02T18:59:52   \n",
       "1    1502542       None   14411  2020-01-02T17:57:14  2020-01-02T18:01:50   \n",
       "2    1502525       None   14411  2020-01-02T17:54:13  2020-01-02T17:56:13   \n",
       "3    1502522       None   14411  2020-01-02T17:52:18  2020-01-02T17:53:54   \n",
       "4    1502521       None   14411  2020-01-02T17:48:46  2020-01-02T17:51:45   \n",
       "\n",
       "   HomeMoneyLine  AwayMoneyLine  HomePointSpread  AwayPointSpread  \\\n",
       "0         -130.0          110.0             -2.0              2.0   \n",
       "1         -125.0          105.0             -2.0              2.0   \n",
       "2         -125.0          105.0             -1.5              1.5   \n",
       "3         -125.0          105.0             -1.5              1.5   \n",
       "4         -125.0          105.0             -2.0              2.0   \n",
       "\n",
       "   HomePointSpreadPayout  AwayPointSpreadPayout  OverUnder  OverPayout  \\\n",
       "0                   -105                   -105      212.0        -110   \n",
       "1                   -105                   -105      212.0        -110   \n",
       "2                   -110                    100      212.0        -110   \n",
       "3                   -110                    100      211.5        -110   \n",
       "4                   -105                   -105      211.5        -110   \n",
       "\n",
       "   UnderPayout SportsbookId  \n",
       "0         -110         None  \n",
       "1         -110         None  \n",
       "2         -110         None  \n",
       "3         -110         None  \n",
       "4         -110         None  "
      ],
      "text/html": "<div>\n<style scoped>\n    .dataframe tbody tr th:only-of-type {\n        vertical-align: middle;\n    }\n\n    .dataframe tbody tr th {\n        vertical-align: top;\n    }\n\n    .dataframe thead th {\n        text-align: right;\n    }\n</style>\n<table border=\"1\" class=\"dataframe\">\n  <thead>\n    <tr style=\"text-align: right;\">\n      <th></th>\n      <th>GameOddId</th>\n      <th>Sportsbook</th>\n      <th>GameId</th>\n      <th>Created</th>\n      <th>Updated</th>\n      <th>HomeMoneyLine</th>\n      <th>AwayMoneyLine</th>\n      <th>HomePointSpread</th>\n      <th>AwayPointSpread</th>\n      <th>HomePointSpreadPayout</th>\n      <th>AwayPointSpreadPayout</th>\n      <th>OverUnder</th>\n      <th>OverPayout</th>\n      <th>UnderPayout</th>\n      <th>SportsbookId</th>\n    </tr>\n  </thead>\n  <tbody>\n    <tr>\n      <th>0</th>\n      <td>1502546</td>\n      <td>None</td>\n      <td>14411</td>\n      <td>2020-01-02T18:02:24</td>\n      <td>2020-01-02T18:59:52</td>\n      <td>-130.0</td>\n      <td>110.0</td>\n      <td>-2.0</td>\n      <td>2.0</td>\n      <td>-105</td>\n      <td>-105</td>\n      <td>212.0</td>\n      <td>-110</td>\n      <td>-110</td>\n      <td>None</td>\n    </tr>\n    <tr>\n      <th>1</th>\n      <td>1502542</td>\n      <td>None</td>\n      <td>14411</td>\n      <td>2020-01-02T17:57:14</td>\n      <td>2020-01-02T18:01:50</td>\n      <td>-125.0</td>\n      <td>105.0</td>\n      <td>-2.0</td>\n      <td>2.0</td>\n      <td>-105</td>\n      <td>-105</td>\n      <td>212.0</td>\n      <td>-110</td>\n      <td>-110</td>\n      <td>None</td>\n    </tr>\n    <tr>\n      <th>2</th>\n      <td>1502525</td>\n      <td>None</td>\n      <td>14411</td>\n      <td>2020-01-02T17:54:13</td>\n      <td>2020-01-02T17:56:13</td>\n      <td>-125.0</td>\n      <td>105.0</td>\n      <td>-1.5</td>\n      <td>1.5</td>\n      <td>-110</td>\n      <td>100</td>\n      <td>212.0</td>\n      <td>-110</td>\n      <td>-110</td>\n      <td>None</td>\n    </tr>\n    <tr>\n      <th>3</th>\n      <td>1502522</td>\n      <td>None</td>\n      <td>14411</td>\n      <td>2020-01-02T17:52:18</td>\n      <td>2020-01-02T17:53:54</td>\n      <td>-125.0</td>\n      <td>105.0</td>\n      <td>-1.5</td>\n      <td>1.5</td>\n      <td>-110</td>\n      <td>100</td>\n      <td>211.5</td>\n      <td>-110</td>\n      <td>-110</td>\n      <td>None</td>\n    </tr>\n    <tr>\n      <th>4</th>\n      <td>1502521</td>\n      <td>None</td>\n      <td>14411</td>\n      <td>2020-01-02T17:48:46</td>\n      <td>2020-01-02T17:51:45</td>\n      <td>-125.0</td>\n      <td>105.0</td>\n      <td>-2.0</td>\n      <td>2.0</td>\n      <td>-105</td>\n      <td>-105</td>\n      <td>211.5</td>\n      <td>-110</td>\n      <td>-110</td>\n      <td>None</td>\n    </tr>\n  </tbody>\n</table>\n</div>"
     },
     "metadata": {},
     "execution_count": 107
    }
   ],
   "source": [
    "test = line_movement_df.loc[0, 'PregameOdds']\n",
    "\n",
    "test.head()"
   ]
  },
  {
   "cell_type": "code",
   "execution_count": 114,
   "metadata": {},
   "outputs": [
    {
     "output_type": "execute_result",
     "data": {
      "text/plain": [
       "pandas.core.frame.DataFrame"
      ]
     },
     "metadata": {},
     "execution_count": 114
    }
   ],
   "source": [
    "test['Created'].min()\n",
    "\n",
    "# type(test)"
   ]
  },
  {
   "cell_type": "code",
   "execution_count": 115,
   "metadata": {},
   "outputs": [
    {
     "output_type": "execute_result",
     "data": {
      "text/plain": [
       "    HomePointSpread\n",
       "38             -2.5"
      ],
      "text/html": "<div>\n<style scoped>\n    .dataframe tbody tr th:only-of-type {\n        vertical-align: middle;\n    }\n\n    .dataframe tbody tr th {\n        vertical-align: top;\n    }\n\n    .dataframe thead th {\n        text-align: right;\n    }\n</style>\n<table border=\"1\" class=\"dataframe\">\n  <thead>\n    <tr style=\"text-align: right;\">\n      <th></th>\n      <th>HomePointSpread</th>\n    </tr>\n  </thead>\n  <tbody>\n    <tr>\n      <th>38</th>\n      <td>-2.5</td>\n    </tr>\n  </tbody>\n</table>\n</div>"
     },
     "metadata": {},
     "execution_count": 115
    }
   ],
   "source": [
    "test = line_movement_df.loc[0, 'PregameOdds']\n",
    "\n",
    "test.loc[test['Created'] == test['Created'].min(), ['HomePointSpread']]\n",
    "\n",
    "# test.head()"
   ]
  },
  {
   "cell_type": "code",
   "execution_count": 85,
   "metadata": {},
   "outputs": [
    {
     "output_type": "execute_result",
     "data": {
      "text/plain": [
       "   GameId  Season  SeasonType                  Day             DateTime  \\\n",
       "0   14411    2020           1  2020-01-02T00:00:00  2020-01-02T19:00:00   \n",
       "\n",
       "  Status  AwayTeamId  HomeTeamId AwayTeamName HomeTeamName  HomeTeamScore  \\\n",
       "0  Final           2          12          CHA          CLE            106   \n",
       "\n",
       "   AwayTeamScore  TotalScore  HomeRotationNumber  AwayRotationNumber  \\\n",
       "0            109         215                 546                 545   \n",
       "\n",
       "                                         PregameOdds  \n",
       "0      GameOddId Sportsbook  GameId              ...  "
      ],
      "text/html": "<div>\n<style scoped>\n    .dataframe tbody tr th:only-of-type {\n        vertical-align: middle;\n    }\n\n    .dataframe tbody tr th {\n        vertical-align: top;\n    }\n\n    .dataframe thead th {\n        text-align: right;\n    }\n</style>\n<table border=\"1\" class=\"dataframe\">\n  <thead>\n    <tr style=\"text-align: right;\">\n      <th></th>\n      <th>GameId</th>\n      <th>Season</th>\n      <th>SeasonType</th>\n      <th>Day</th>\n      <th>DateTime</th>\n      <th>Status</th>\n      <th>AwayTeamId</th>\n      <th>HomeTeamId</th>\n      <th>AwayTeamName</th>\n      <th>HomeTeamName</th>\n      <th>HomeTeamScore</th>\n      <th>AwayTeamScore</th>\n      <th>TotalScore</th>\n      <th>HomeRotationNumber</th>\n      <th>AwayRotationNumber</th>\n      <th>PregameOdds</th>\n    </tr>\n  </thead>\n  <tbody>\n    <tr>\n      <th>0</th>\n      <td>14411</td>\n      <td>2020</td>\n      <td>1</td>\n      <td>2020-01-02T00:00:00</td>\n      <td>2020-01-02T19:00:00</td>\n      <td>Final</td>\n      <td>2</td>\n      <td>12</td>\n      <td>CHA</td>\n      <td>CLE</td>\n      <td>106</td>\n      <td>109</td>\n      <td>215</td>\n      <td>546</td>\n      <td>545</td>\n      <td>GameOddId Sportsbook  GameId              ...</td>\n    </tr>\n  </tbody>\n</table>\n</div>"
     },
     "metadata": {},
     "execution_count": 85
    }
   ],
   "source": [
    "line_movement_df['PregameOdds'] = line_movement_df['PregameOdds'].apply(pd.DataFrame)\n",
    "\n",
    "line_movement_df.head()"
   ]
  }
 ]
}