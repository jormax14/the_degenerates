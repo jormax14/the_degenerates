{
 "metadata": {
  "language_info": {
   "codemirror_mode": {
    "name": "ipython",
    "version": 3
   },
   "file_extension": ".py",
   "mimetype": "text/x-python",
   "name": "python",
   "nbconvert_exporter": "python",
   "pygments_lexer": "ipython3",
   "version": "3.7.9-final"
  },
  "orig_nbformat": 2,
  "kernelspec": {
   "name": "python3",
   "display_name": "Python 3",
   "language": "python"
  }
 },
 "nbformat": 4,
 "nbformat_minor": 2,
 "cells": [
  {
   "cell_type": "code",
   "execution_count": 1,
   "metadata": {},
   "outputs": [],
   "source": [
    "import pandas as pd\n",
    "import numpy as np\n",
    "# import os\n",
    "from dotenv import load_dotenv\n",
    "from datetime import datetime"
   ]
  },
  {
   "cell_type": "code",
   "execution_count": 2,
   "metadata": {},
   "outputs": [],
   "source": [
    "# #csv sports_io data pull if the api is not utilized\n",
    "\n",
    "# data_dict = {}\n",
    "# csv_path = f'../data/sports_io/'\n",
    "\n",
    "# for i in os.listdir(csv_path):\n",
    "#     data_df = pd.read_csv(csv_path + i)\n",
    "    \n",
    "#     data_dict[i.split('.')[0]] = data_df\n",
    "\n",
    "# print(data_dict.keys())"
   ]
  },
  {
   "cell_type": "code",
   "execution_count": 3,
   "metadata": {},
   "outputs": [],
   "source": [
    "#sports_io nba documentation link:  https://fantasydata.com/api/api-documentation/nba#\n",
    "#data_set_list = ['GamesByDate', 'GameOddsByDate', 'GameOddsLineMovement', 'Schedules', 'Stadiums', 'TeamGameStatsByDate', 'TeamSeasonStats']\n",
    "#odds_data_set_dict = {'GamesByDate' : 'YYYY-MM-DD', 'GameOddsByDate' : 'YYYY-MM-DD', 'GameOddsLineMovement' : 'GameID', 'Schedules' : 'Season', 'Stadiums' : NaN, 'TeamGameStatsByDate' : 'YYYY-MM-DD', 'TeamSeasonStats' : 'Season'}\n",
    "\n",
    "#assign sports_io api key\n",
    "load_dotenv()\n",
    "sports_io_api_key = os.getenv('sports_io_api_key')\n",
    "\n",
    "\n",
    "#assign sports_io url to variable that can be pulled with different parameters\n",
    "def sports_io_api_pull(data_set, data_set_parameter, sports_io_api_key):\n",
    "    sports_io_odds_url = f\"https://api.sportsdata.io/api/nba/odds/json/{data_set}/{data_set_parameter}?key={sports_io_api_key}\"\n",
    "\n",
    "    response_data = pd.read_json(sports_io_odds_url)\n",
    "\n",
    "    return response_data"
   ]
  },
  {
   "cell_type": "code",
   "execution_count": 4,
   "metadata": {},
   "outputs": [],
   "source": [
    "# date_list = pd.date_range(start = '1/2/2020', periods = 1).strftime(('%Y-%m-%d'))\n",
    "\n",
    "# odds_data_set = 'GamesByDate'\n",
    "# odds_list = []\n",
    "\n",
    "# for i in date_list:\n",
    "\n",
    "#     odds_data = sports_io_api_pull(odds_data_set, i, sports_io_api_key)\n",
    "#     odds_list.append(odds_data)\n",
    "\n",
    "# odds_df = pd.concat(odds_list, axis = 0)\n",
    "# odds_df = odds_df.loc[(odds_df['SeasonType'] != 2), :]\n",
    "# odds_df = schedules_df.loc[(schedules_df['Status'] == 'Final') | (schedules_df['Status'] == 'F/OT')]\n",
    "\n",
    "# odds_df = odds_df[['GameID', 'Day', 'HomeTeam', 'HomeTeamID', 'AwayTeam', 'AwayTeamID', 'HomeTeamScore', 'AwayTeamScore', 'PointSpread', 'OverUnder']]\n",
    "# odds_df['Day'] = pd.to_datetime(odds_df['Day'])"
   ]
  },
  {
   "cell_type": "code",
   "execution_count": 5,
   "metadata": {},
   "outputs": [],
   "source": [
    "odds_data_set = 'Games'\n",
    "season_list = [*range(2020, 2021, 1)]\n",
    "\n",
    "odds_list = []\n",
    "\n",
    "for i in season_list:\n",
    "    odds_data = sports_io_api_pull(odds_data_set, i, sports_io_api_key)\n",
    "    odds_list.append(odds_data)\n",
    "\n",
    "odds_df = pd.concat(odds_list, axis = 0)\n",
    "odds_df = odds_df.loc[(odds_df['SeasonType'] != 2), :]\n",
    "odds_df = odds_df.loc[(odds_df['Status'] == 'Final') | (odds_df['Status'] == 'F/OT')]\n",
    "\n",
    "odds_df = odds_df[['GameID', 'Day', 'HomeTeam', 'HomeTeamID', 'AwayTeam', 'AwayTeamID', 'HomeTeamScore', 'AwayTeamScore', 'PointSpread', 'OverUnder']]\n",
    "odds_df['Day'] = pd.to_datetime(odds_df['Day'])"
   ]
  },
  {
   "cell_type": "code",
   "execution_count": 6,
   "metadata": {},
   "outputs": [],
   "source": [
    "move_data_set = 'GameOddsLineMovement'\n",
    "game_list = list(odds_df['GameID'])\n",
    "\n",
    "move_list = []\n",
    "\n",
    "for i in game_list:\n",
    "\n",
    "    move_data = sports_io_api_pull(move_data_set, i, sports_io_api_key)\n",
    "\n",
    "    move_data['PregameOdds'] = move_data['PregameOdds'].apply(pd.DataFrame)\n",
    "    move_data['Opening_PointSpread'] = move_data['PregameOdds'].apply(lambda x: x.loc[x['Created'] == x['Created'].min(), 'HomePointSpread'])\n",
    "    move_data['Opening_OverUnder'] = move_data['PregameOdds'].apply(lambda x: x.loc[x['Created'] == x['Created'].min(), 'OverUnder'])\n",
    "    move_data = move_data[['GameId', 'Opening_PointSpread', 'Opening_OverUnder']]\n",
    "\n",
    "    move_list.append(move_data)\n",
    "\n",
    "move_df = pd.concat(move_list).reset_index(drop = True)\n",
    "move_df = move_df.rename(columns = {'GameId' : 'GameID'})"
   ]
  },
  {
   "cell_type": "code",
   "execution_count": 11,
   "metadata": {},
   "outputs": [
    {
     "output_type": "execute_result",
     "data": {
      "text/plain": [
       "    GameID        Day HomeTeam  HomeTeamID AwayTeam  AwayTeamID  \\\n",
       "25   13929 2019-10-26      MIL          15      MIA           4   \n",
       "27   13931 2019-10-26      ATL           3      ORL           5   \n",
       "28   13932 2019-10-26       NY           6      BOS           9   \n",
       "29   13933 2019-10-26      CHI          11      TOR          10   \n",
       "30   13934 2019-10-26      CLE          12      IND          13   \n",
       "\n",
       "    HomeTeamScore  AwayTeamScore  PointSpread  OverUnder  Opening_PointSpread  \\\n",
       "25          126.0          131.0        -11.5      223.0                 -9.5   \n",
       "27          103.0           99.0          2.5      216.5                  0.0   \n",
       "28           95.0          118.0          5.5      218.5                 -1.0   \n",
       "29           84.0          108.0          3.0      219.0                  3.5   \n",
       "30          110.0           99.0          4.5      213.5                  5.5   \n",
       "\n",
       "    Opening_OverUnder  \n",
       "25              226.5  \n",
       "27              219.0  \n",
       "28              211.0  \n",
       "29              223.0  \n",
       "30              214.0  "
      ],
      "text/html": "<div>\n<style scoped>\n    .dataframe tbody tr th:only-of-type {\n        vertical-align: middle;\n    }\n\n    .dataframe tbody tr th {\n        vertical-align: top;\n    }\n\n    .dataframe thead th {\n        text-align: right;\n    }\n</style>\n<table border=\"1\" class=\"dataframe\">\n  <thead>\n    <tr style=\"text-align: right;\">\n      <th></th>\n      <th>GameID</th>\n      <th>Day</th>\n      <th>HomeTeam</th>\n      <th>HomeTeamID</th>\n      <th>AwayTeam</th>\n      <th>AwayTeamID</th>\n      <th>HomeTeamScore</th>\n      <th>AwayTeamScore</th>\n      <th>PointSpread</th>\n      <th>OverUnder</th>\n      <th>Opening_PointSpread</th>\n      <th>Opening_OverUnder</th>\n    </tr>\n  </thead>\n  <tbody>\n    <tr>\n      <th>25</th>\n      <td>13929</td>\n      <td>2019-10-26</td>\n      <td>MIL</td>\n      <td>15</td>\n      <td>MIA</td>\n      <td>4</td>\n      <td>126.0</td>\n      <td>131.0</td>\n      <td>-11.5</td>\n      <td>223.0</td>\n      <td>-9.5</td>\n      <td>226.5</td>\n    </tr>\n    <tr>\n      <th>27</th>\n      <td>13931</td>\n      <td>2019-10-26</td>\n      <td>ATL</td>\n      <td>3</td>\n      <td>ORL</td>\n      <td>5</td>\n      <td>103.0</td>\n      <td>99.0</td>\n      <td>2.5</td>\n      <td>216.5</td>\n      <td>0.0</td>\n      <td>219.0</td>\n    </tr>\n    <tr>\n      <th>28</th>\n      <td>13932</td>\n      <td>2019-10-26</td>\n      <td>NY</td>\n      <td>6</td>\n      <td>BOS</td>\n      <td>9</td>\n      <td>95.0</td>\n      <td>118.0</td>\n      <td>5.5</td>\n      <td>218.5</td>\n      <td>-1.0</td>\n      <td>211.0</td>\n    </tr>\n    <tr>\n      <th>29</th>\n      <td>13933</td>\n      <td>2019-10-26</td>\n      <td>CHI</td>\n      <td>11</td>\n      <td>TOR</td>\n      <td>10</td>\n      <td>84.0</td>\n      <td>108.0</td>\n      <td>3.0</td>\n      <td>219.0</td>\n      <td>3.5</td>\n      <td>223.0</td>\n    </tr>\n    <tr>\n      <th>30</th>\n      <td>13934</td>\n      <td>2019-10-26</td>\n      <td>CLE</td>\n      <td>12</td>\n      <td>IND</td>\n      <td>13</td>\n      <td>110.0</td>\n      <td>99.0</td>\n      <td>4.5</td>\n      <td>213.5</td>\n      <td>5.5</td>\n      <td>214.0</td>\n    </tr>\n  </tbody>\n</table>\n</div>"
     },
     "metadata": {},
     "execution_count": 11
    }
   ],
   "source": [
    "lines_df = odds_df.merge(move_df, how = 'inner', on = 'GameID')\n",
    "\n",
    "lines_df = lines_df.dropna()\n",
    "\n",
    "lines_df.head()"
   ]
  },
  {
   "cell_type": "code",
   "execution_count": 12,
   "metadata": {},
   "outputs": [],
   "source": [
    "old_col = lines_df.columns\n",
    "\n",
    "home_col = ['game_id', 'day', 'team', 'team_id', 'opp', 'opp_id', 'team_score', 'opp_score', 'spread', 'o/u', 'opening_spread', 'opening_o/u']\n",
    "home_col_dict = dict(zip(old_col, home_col))\n",
    "\n",
    "home_df = lines_df.rename(columns = home_col_dict)\n",
    "home_df['home'] = 1\n",
    "\n",
    "away_col = ['game_id', 'day', 'opp', 'opp_id', 'team', 'team_id', 'opp_score', 'team_score', 'spread', 'o/u', 'opening_spread', 'opening_o/u']\n",
    "away_col_dict = dict(zip(old_col, away_col))\n",
    "\n",
    "away_df = lines_df.rename(columns = away_col_dict)\n",
    "away_df['home'] = 0\n",
    "away_df['spread'] = away_df['spread'] * -1\n",
    "away_df['opening_spread'] = away_df['opening_spread'] * -1"
   ]
  },
  {
   "cell_type": "code",
   "execution_count": 15,
   "metadata": {},
   "outputs": [
    {
     "output_type": "execute_result",
     "data": {
      "text/plain": [
       "   game_id        day team  team_id  opp  opp_id  home  favored_spread  \\\n",
       "0    13931 2019-10-26  ATL        3  ORL       5     1               0   \n",
       "1    13955 2019-10-29  ATL        3  MIA       4     0               0   \n",
       "2    13969 2019-10-31  ATL        3  MIA       4     1               0   \n",
       "3    14022 2019-11-08  ATL        3  SAC      30     1               0   \n",
       "4    14041 2019-11-10  ATL        3  POR      19     0               0   \n",
       "\n",
       "   opening_spread  spread  move_spread  move_spread_direction  cover_spread  \\\n",
       "0             0.0     2.5          2.5                      0             1   \n",
       "1             7.5     8.5          1.0                      0             0   \n",
       "2             6.5     6.5          0.0                      1             0   \n",
       "3            -1.0     2.5          3.5                      0             0   \n",
       "4             8.5     9.0          0.5                      0             0   \n",
       "\n",
       "   opening_o/u    o/u  move_o/u  move_o/u_direction  cover_o/u  \\\n",
       "0        219.0  216.5      -2.5                   0          0   \n",
       "1        224.5  223.5      -1.0                   0          0   \n",
       "2        216.5  215.0      -1.5                   0          0   \n",
       "3        219.5  225.5       6.0                   1          1   \n",
       "4        228.0  226.5      -1.5                   0          1   \n",
       "\n",
       "   days_between_games  travel_between_games  \n",
       "0                 5.0                     0  \n",
       "1                 3.0                     1  \n",
       "2                 2.0                     1  \n",
       "3                 8.0                     0  \n",
       "4                 2.0                     1  "
      ],
      "text/html": "<div>\n<style scoped>\n    .dataframe tbody tr th:only-of-type {\n        vertical-align: middle;\n    }\n\n    .dataframe tbody tr th {\n        vertical-align: top;\n    }\n\n    .dataframe thead th {\n        text-align: right;\n    }\n</style>\n<table border=\"1\" class=\"dataframe\">\n  <thead>\n    <tr style=\"text-align: right;\">\n      <th></th>\n      <th>game_id</th>\n      <th>day</th>\n      <th>team</th>\n      <th>team_id</th>\n      <th>opp</th>\n      <th>opp_id</th>\n      <th>home</th>\n      <th>favored_spread</th>\n      <th>opening_spread</th>\n      <th>spread</th>\n      <th>move_spread</th>\n      <th>move_spread_direction</th>\n      <th>cover_spread</th>\n      <th>opening_o/u</th>\n      <th>o/u</th>\n      <th>move_o/u</th>\n      <th>move_o/u_direction</th>\n      <th>cover_o/u</th>\n      <th>days_between_games</th>\n      <th>travel_between_games</th>\n    </tr>\n  </thead>\n  <tbody>\n    <tr>\n      <th>0</th>\n      <td>13931</td>\n      <td>2019-10-26</td>\n      <td>ATL</td>\n      <td>3</td>\n      <td>ORL</td>\n      <td>5</td>\n      <td>1</td>\n      <td>0</td>\n      <td>0.0</td>\n      <td>2.5</td>\n      <td>2.5</td>\n      <td>0</td>\n      <td>1</td>\n      <td>219.0</td>\n      <td>216.5</td>\n      <td>-2.5</td>\n      <td>0</td>\n      <td>0</td>\n      <td>5.0</td>\n      <td>0</td>\n    </tr>\n    <tr>\n      <th>1</th>\n      <td>13955</td>\n      <td>2019-10-29</td>\n      <td>ATL</td>\n      <td>3</td>\n      <td>MIA</td>\n      <td>4</td>\n      <td>0</td>\n      <td>0</td>\n      <td>7.5</td>\n      <td>8.5</td>\n      <td>1.0</td>\n      <td>0</td>\n      <td>0</td>\n      <td>224.5</td>\n      <td>223.5</td>\n      <td>-1.0</td>\n      <td>0</td>\n      <td>0</td>\n      <td>3.0</td>\n      <td>1</td>\n    </tr>\n    <tr>\n      <th>2</th>\n      <td>13969</td>\n      <td>2019-10-31</td>\n      <td>ATL</td>\n      <td>3</td>\n      <td>MIA</td>\n      <td>4</td>\n      <td>1</td>\n      <td>0</td>\n      <td>6.5</td>\n      <td>6.5</td>\n      <td>0.0</td>\n      <td>1</td>\n      <td>0</td>\n      <td>216.5</td>\n      <td>215.0</td>\n      <td>-1.5</td>\n      <td>0</td>\n      <td>0</td>\n      <td>2.0</td>\n      <td>1</td>\n    </tr>\n    <tr>\n      <th>3</th>\n      <td>14022</td>\n      <td>2019-11-08</td>\n      <td>ATL</td>\n      <td>3</td>\n      <td>SAC</td>\n      <td>30</td>\n      <td>1</td>\n      <td>0</td>\n      <td>-1.0</td>\n      <td>2.5</td>\n      <td>3.5</td>\n      <td>0</td>\n      <td>0</td>\n      <td>219.5</td>\n      <td>225.5</td>\n      <td>6.0</td>\n      <td>1</td>\n      <td>1</td>\n      <td>8.0</td>\n      <td>0</td>\n    </tr>\n    <tr>\n      <th>4</th>\n      <td>14041</td>\n      <td>2019-11-10</td>\n      <td>ATL</td>\n      <td>3</td>\n      <td>POR</td>\n      <td>19</td>\n      <td>0</td>\n      <td>0</td>\n      <td>8.5</td>\n      <td>9.0</td>\n      <td>0.5</td>\n      <td>0</td>\n      <td>0</td>\n      <td>228.0</td>\n      <td>226.5</td>\n      <td>-1.5</td>\n      <td>0</td>\n      <td>1</td>\n      <td>2.0</td>\n      <td>1</td>\n    </tr>\n  </tbody>\n</table>\n</div>"
     },
     "metadata": {},
     "execution_count": 15
    }
   ],
   "source": [
    "games_df = pd.concat([home_df, away_df])\n",
    "\n",
    "games_df['favored_spread'] = np.where(games_df['spread'] <= 0, 1, 0)\n",
    "\n",
    "games_df['score_spread'] = games_df['team_score'] - games_df['opp_score']\n",
    "games_df['cover_spread'] = np.where(-games_df['score_spread'] < games_df['spread'], 1, 0)\n",
    "\n",
    "games_df['score_o/u'] = games_df['team_score'] + games_df['opp_score']\n",
    "games_df['cover_o/u'] = np.where(games_df['score_o/u'] > games_df['o/u'], 1, 0)\n",
    "\n",
    "games_df['move_spread'] = games_df['spread'] - games_df['opening_spread']\n",
    "games_df['move_spread_direction'] = np.where(games_df['move_spread'] <= 0, 1, 0)\n",
    "\n",
    "games_df['move_o/u'] = games_df['o/u'] - games_df['opening_o/u']\n",
    "games_df['move_o/u_direction'] = np.where(games_df['move_o/u'] >= 0, 1, 0)\n",
    "\n",
    "games_df = games_df[['game_id', 'day', 'team', 'team_id', 'opp', 'opp_id', 'home', 'favored_spread', 'opening_spread', 'spread', 'move_spread', 'move_spread_direction', 'cover_spread', 'opening_o/u', 'o/u', 'move_o/u', 'move_o/u_direction', 'cover_o/u']]\n",
    "\n",
    "games_df = games_df.sort_values(by = ['team', 'day'])\n",
    "\n",
    "mask_team = games_df.duplicated(['team'])\n",
    "games_df['days_between_games'] = np.where(mask_team, pd.to_numeric(games_df['day'].diff().dt.days, downcast = 'integer'), 5)\n",
    "\n",
    "games_df['travel_between_games'] = np.where(mask_team, games_df['home'] != games_df['home'].shift(), np.where(games_df['home'] == 1, 0, 1))\n",
    "\n",
    "games_df = games_df.reset_index(drop = True)\n",
    "\n",
    "games_df.head()"
   ]
  },
  {
   "cell_type": "code",
   "execution_count": 16,
   "metadata": {},
   "outputs": [],
   "source": [
    "games_df.to_csv(f'../../data/sports_io/api_data_pull/nba_odds_data_clean.csv', index = False)"
   ]
  }
 ]
}