{
 "metadata": {
  "language_info": {
   "codemirror_mode": {
    "name": "ipython",
    "version": 3
   },
   "file_extension": ".py",
   "mimetype": "text/x-python",
   "name": "python",
   "nbconvert_exporter": "python",
   "pygments_lexer": "ipython3",
   "version": "3.7.9-final"
  },
  "orig_nbformat": 2,
  "kernelspec": {
   "name": "python3",
   "display_name": "Python 3.7.9 64-bit ('pyvizenv': conda)",
   "metadata": {
    "interpreter": {
     "hash": "9be927682df18e024b31f8a6032aa300e5bdaed52c088f47ccb180e7ed241520"
    }
   }
  }
 },
 "nbformat": 4,
 "nbformat_minor": 2,
 "cells": [
  {
   "cell_type": "code",
   "execution_count": 1,
   "metadata": {},
   "outputs": [],
   "source": [
    "import pandas as pd\n",
    "import numpy as np\n",
    "\n",
    "from sklearn.ensemble import RandomForestClassifier\n",
    "from sklearn.preprocessing import StandardScaler\n",
    "from sklearn.model_selection import train_test_split\n",
    "from sklearn.metrics import confusion_matrix, accuracy_score, classification_report"
   ]
  },
  {
   "cell_type": "code",
   "execution_count": 2,
   "metadata": {},
   "outputs": [
    {
     "output_type": "execute_result",
     "data": {
      "text/plain": [
       "   Unnamed: 0  fixture_id  h_result                 event_date  \\\n",
       "0           0      157024         1  2019-08-11T15:30:00+00:00   \n",
       "1           1      157034         0  2019-08-19T19:00:00+00:00   \n",
       "2           2      157039         0  2019-08-24T14:00:00+00:00   \n",
       "3           3      157053         0  2019-08-31T11:30:00+00:00   \n",
       "4           4      157059         1  2019-09-14T14:00:00+00:00   \n",
       "\n",
       "                venue  h_team  a_team  h_halftime_score  a_haftime_score  \\\n",
       "0        Old Trafford      33      49                 1                0   \n",
       "1    Molineux Stadium      39      33                 0                1   \n",
       "2        Old Trafford      33      52                 0                1   \n",
       "3  St. Mary's Stadium      41      33                 0                1   \n",
       "4        Old Trafford      33      46                 1                0   \n",
       "\n",
       "   h_fulltime_score  ...  h_red_cards  a_red_cards  h_goalkeeper_saves  \\\n",
       "0                 4  ...          0.0          0.0                 7.0   \n",
       "1                 1  ...          0.0          0.0                 1.0   \n",
       "2                 1  ...          0.0          0.0                 1.0   \n",
       "3                 1  ...          1.0          0.0                 7.0   \n",
       "4                 1  ...          0.0          0.0                 3.0   \n",
       "\n",
       "   a_goalkeeper_saves  h_total_passes  a_total_passes  h_accurate_passes  \\\n",
       "0                 1.0             449             523                363   \n",
       "1                 1.0             350             668                263   \n",
       "2                 2.0             562             231                481   \n",
       "3                 1.0             375             537                276   \n",
       "4                 4.0             345             471                258   \n",
       "\n",
       "   a_accurate_passes  h_pass_percentage  a_pass_percentage  \n",
       "0                442                 81                 85  \n",
       "1                579                 75                 87  \n",
       "2                141                 86                 61  \n",
       "3                427                 74                 80  \n",
       "4                373                 75                 79  \n",
       "\n",
       "[5 rows x 43 columns]"
      ],
      "text/html": "<div>\n<style scoped>\n    .dataframe tbody tr th:only-of-type {\n        vertical-align: middle;\n    }\n\n    .dataframe tbody tr th {\n        vertical-align: top;\n    }\n\n    .dataframe thead th {\n        text-align: right;\n    }\n</style>\n<table border=\"1\" class=\"dataframe\">\n  <thead>\n    <tr style=\"text-align: right;\">\n      <th></th>\n      <th>Unnamed: 0</th>\n      <th>fixture_id</th>\n      <th>h_result</th>\n      <th>event_date</th>\n      <th>venue</th>\n      <th>h_team</th>\n      <th>a_team</th>\n      <th>h_halftime_score</th>\n      <th>a_haftime_score</th>\n      <th>h_fulltime_score</th>\n      <th>...</th>\n      <th>h_red_cards</th>\n      <th>a_red_cards</th>\n      <th>h_goalkeeper_saves</th>\n      <th>a_goalkeeper_saves</th>\n      <th>h_total_passes</th>\n      <th>a_total_passes</th>\n      <th>h_accurate_passes</th>\n      <th>a_accurate_passes</th>\n      <th>h_pass_percentage</th>\n      <th>a_pass_percentage</th>\n    </tr>\n  </thead>\n  <tbody>\n    <tr>\n      <th>0</th>\n      <td>0</td>\n      <td>157024</td>\n      <td>1</td>\n      <td>2019-08-11T15:30:00+00:00</td>\n      <td>Old Trafford</td>\n      <td>33</td>\n      <td>49</td>\n      <td>1</td>\n      <td>0</td>\n      <td>4</td>\n      <td>...</td>\n      <td>0.0</td>\n      <td>0.0</td>\n      <td>7.0</td>\n      <td>1.0</td>\n      <td>449</td>\n      <td>523</td>\n      <td>363</td>\n      <td>442</td>\n      <td>81</td>\n      <td>85</td>\n    </tr>\n    <tr>\n      <th>1</th>\n      <td>1</td>\n      <td>157034</td>\n      <td>0</td>\n      <td>2019-08-19T19:00:00+00:00</td>\n      <td>Molineux Stadium</td>\n      <td>39</td>\n      <td>33</td>\n      <td>0</td>\n      <td>1</td>\n      <td>1</td>\n      <td>...</td>\n      <td>0.0</td>\n      <td>0.0</td>\n      <td>1.0</td>\n      <td>1.0</td>\n      <td>350</td>\n      <td>668</td>\n      <td>263</td>\n      <td>579</td>\n      <td>75</td>\n      <td>87</td>\n    </tr>\n    <tr>\n      <th>2</th>\n      <td>2</td>\n      <td>157039</td>\n      <td>0</td>\n      <td>2019-08-24T14:00:00+00:00</td>\n      <td>Old Trafford</td>\n      <td>33</td>\n      <td>52</td>\n      <td>0</td>\n      <td>1</td>\n      <td>1</td>\n      <td>...</td>\n      <td>0.0</td>\n      <td>0.0</td>\n      <td>1.0</td>\n      <td>2.0</td>\n      <td>562</td>\n      <td>231</td>\n      <td>481</td>\n      <td>141</td>\n      <td>86</td>\n      <td>61</td>\n    </tr>\n    <tr>\n      <th>3</th>\n      <td>3</td>\n      <td>157053</td>\n      <td>0</td>\n      <td>2019-08-31T11:30:00+00:00</td>\n      <td>St. Mary's Stadium</td>\n      <td>41</td>\n      <td>33</td>\n      <td>0</td>\n      <td>1</td>\n      <td>1</td>\n      <td>...</td>\n      <td>1.0</td>\n      <td>0.0</td>\n      <td>7.0</td>\n      <td>1.0</td>\n      <td>375</td>\n      <td>537</td>\n      <td>276</td>\n      <td>427</td>\n      <td>74</td>\n      <td>80</td>\n    </tr>\n    <tr>\n      <th>4</th>\n      <td>4</td>\n      <td>157059</td>\n      <td>1</td>\n      <td>2019-09-14T14:00:00+00:00</td>\n      <td>Old Trafford</td>\n      <td>33</td>\n      <td>46</td>\n      <td>1</td>\n      <td>0</td>\n      <td>1</td>\n      <td>...</td>\n      <td>0.0</td>\n      <td>0.0</td>\n      <td>3.0</td>\n      <td>4.0</td>\n      <td>345</td>\n      <td>471</td>\n      <td>258</td>\n      <td>373</td>\n      <td>75</td>\n      <td>79</td>\n    </tr>\n  </tbody>\n</table>\n<p>5 rows × 43 columns</p>\n</div>"
     },
     "metadata": {},
     "execution_count": 2
    }
   ],
   "source": [
    "csv_path = f'../../data/premier_league/team_fixtures_2019/'\n",
    "data_list = []\n",
    "\n",
    "for i in os.listdir(csv_path):\n",
    "    data = pd.read_csv(csv_path + i)\n",
    "    data_list.append(data)\n",
    "\n",
    "data_df = pd.concat(data_list).reset_index(drop = True)\n",
    "data_df = data_df.replace({'%' : ''}, regex = True)\n",
    "data_df = data_df.fillna(0)\n",
    "data_df['h_result'] = np.where(data_df['h_result'] == 2, 1, np.where(data_df['h_result'] == 1, 0, 0))\n",
    "\n",
    "data_df.head()"
   ]
  },
  {
   "cell_type": "code",
   "execution_count": 3,
   "metadata": {},
   "outputs": [],
   "source": [
    "X = data_df.loc[: , 'h_shot_on_goal' : ]\n",
    "X = X.astype('float')\n",
    "y = data_df[['h_result']].values.reshape(-1,1)"
   ]
  },
  {
   "cell_type": "code",
   "execution_count": 4,
   "metadata": {},
   "outputs": [],
   "source": [
    "X_train, X_test, y_train, y_test = train_test_split(X, y, random_state = 14)"
   ]
  },
  {
   "cell_type": "code",
   "execution_count": 5,
   "metadata": {},
   "outputs": [],
   "source": [
    "scaler = StandardScaler()"
   ]
  },
  {
   "cell_type": "code",
   "execution_count": 6,
   "metadata": {},
   "outputs": [],
   "source": [
    "X_scaler = scaler.fit(X_train)"
   ]
  },
  {
   "cell_type": "code",
   "execution_count": 7,
   "metadata": {},
   "outputs": [],
   "source": [
    "X_train_scaled = X_scaler.transform(X_train)\n",
    "X_test_scaled = X_scaler.transform(X_test)"
   ]
  },
  {
   "cell_type": "code",
   "execution_count": 8,
   "metadata": {},
   "outputs": [],
   "source": [
    "rf_model = RandomForestClassifier(n_estimators = 500, random_state = 14)"
   ]
  },
  {
   "cell_type": "code",
   "execution_count": 9,
   "metadata": {},
   "outputs": [],
   "source": [
    "rf_model = rf_model.fit(X_train_scaled, y_train)"
   ]
  },
  {
   "cell_type": "code",
   "execution_count": 10,
   "metadata": {},
   "outputs": [],
   "source": [
    "predictions = rf_model.predict(X_test_scaled)"
   ]
  },
  {
   "cell_type": "code",
   "execution_count": 11,
   "metadata": {},
   "outputs": [],
   "source": [
    "cm = confusion_matrix(y_test, predictions)\n",
    "cm_df = pd.DataFrame(cm, index = ['actual_0', 'actual_1'], columns = ['predicted_0', 'predicted_1'])\n",
    "\n",
    "acc_score = accuracy_score(y_test, predictions)"
   ]
  },
  {
   "cell_type": "code",
   "execution_count": 12,
   "metadata": {},
   "outputs": [
    {
     "output_type": "stream",
     "name": "stdout",
     "text": [
      "Confusion Matrix\n"
     ]
    },
    {
     "output_type": "display_data",
     "data": {
      "text/plain": "          predicted_0  predicted_1\nactual_0           97            0\nactual_1           10           83",
      "text/html": "<div>\n<style scoped>\n    .dataframe tbody tr th:only-of-type {\n        vertical-align: middle;\n    }\n\n    .dataframe tbody tr th {\n        vertical-align: top;\n    }\n\n    .dataframe thead th {\n        text-align: right;\n    }\n</style>\n<table border=\"1\" class=\"dataframe\">\n  <thead>\n    <tr style=\"text-align: right;\">\n      <th></th>\n      <th>predicted_0</th>\n      <th>predicted_1</th>\n    </tr>\n  </thead>\n  <tbody>\n    <tr>\n      <th>actual_0</th>\n      <td>97</td>\n      <td>0</td>\n    </tr>\n    <tr>\n      <th>actual_1</th>\n      <td>10</td>\n      <td>83</td>\n    </tr>\n  </tbody>\n</table>\n</div>"
     },
     "metadata": {}
    },
    {
     "output_type": "stream",
     "name": "stdout",
     "text": [
      "Accuracy Score : 0.9473684210526315\nClassification Report\n              precision    recall  f1-score   support\n\n           0       0.91      1.00      0.95        97\n           1       1.00      0.89      0.94        93\n\n    accuracy                           0.95       190\n   macro avg       0.95      0.95      0.95       190\nweighted avg       0.95      0.95      0.95       190\n\n"
     ]
    }
   ],
   "source": [
    "print(\"Confusion Matrix\")\n",
    "display(cm_df)\n",
    "print(f\"Accuracy Score : {acc_score}\")\n",
    "print(\"Classification Report\")\n",
    "print(classification_report(y_test, predictions))"
   ]
  },
  {
   "cell_type": "code",
   "execution_count": 13,
   "metadata": {},
   "outputs": [],
   "source": [
    "importances = rf_model.feature_importances_"
   ]
  },
  {
   "cell_type": "code",
   "execution_count": 14,
   "metadata": {},
   "outputs": [
    {
     "output_type": "execute_result",
     "data": {
      "text/plain": [
       "[(0.13128510158409712, 'h_shot_on_goal'),\n",
       " (0.05362871520681309, 'a_shots_inside_box'),\n",
       " (0.04456273309753901, 'a_shot_on_goal'),\n",
       " (0.04135934507588262, 'h_accurate_passes'),\n",
       " (0.04110151079097716, 'a_total_shots'),\n",
       " (0.03958981917582995, 'h_shot_off_goal'),\n",
       " (0.03763742901884969, 'h_total_passes'),\n",
       " (0.03586232255048431, 'a_goalkeeper_saves'),\n",
       " (0.035167919648324254, 'h_total_shots'),\n",
       " (0.03487393306477662, 'a_accurate_passes')]"
      ]
     },
     "metadata": {},
     "execution_count": 14
    }
   ],
   "source": [
    "importances_sorted = sorted(zip(rf_model.feature_importances_, X.columns), reverse=True)\n",
    "importances_sorted[:10]"
   ]
  }
 ]
}